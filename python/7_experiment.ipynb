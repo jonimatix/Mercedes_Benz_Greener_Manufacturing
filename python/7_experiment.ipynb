{
 "cells": [
  {
   "cell_type": "code",
   "execution_count": 1,
   "metadata": {
    "collapsed": true
   },
   "outputs": [],
   "source": [
    "import pandas as pd\n",
    "import xgboost as xgb\n",
    "import numpy as np\n",
    "from scipy.stats import uniform as sp_rand\n",
    "from scipy.stats import randint as sp_randint\n",
    "import random\n",
    "from sklearn.metrics import r2_score, make_scorer\n",
    "from sklearn.model_selection import StratifiedKFold, GroupKFold, KFold, train_test_split\n",
    "from sklearn.model_selection import GridSearchCV, RandomizedSearchCV\n",
    "import matplotlib.pyplot as plt\n",
    "import pickle"
   ]
  },
  {
   "cell_type": "markdown",
   "metadata": {},
   "source": [
    "## 7. Experiment"
   ]
  },
  {
   "cell_type": "code",
   "execution_count": 2,
   "metadata": {
    "collapsed": true
   },
   "outputs": [],
   "source": [
    "# data\n",
    "dt_model = pd.read_csv(\"../../data/Mercedes_Benz_Greener_Manufacturing/data/dt_all_preprocess.csv\")\n",
    "params_xgb = pickle.load(open(\"../../data/Mercedes_Benz_Greener_Manufacturing/data/params_xgb_05.pkl\", \"rb\"))\n",
    "cols_raw = pickle.load(open(\"../../data/Mercedes_Benz_Greener_Manufacturing/data/cols_raw.pkl\", \"rb\"))"
   ]
  },
  {
   "cell_type": "code",
   "execution_count": 3,
   "metadata": {},
   "outputs": [
    {
     "data": {
      "text/plain": [
       "(8418, 1575)"
      ]
     },
     "execution_count": 3,
     "metadata": {},
     "output_type": "execute_result"
    }
   ],
   "source": [
    "dt_model.shape"
   ]
  },
  {
   "cell_type": "code",
   "execution_count": 7,
   "metadata": {},
   "outputs": [],
   "source": [
    "params_xgb = {'booster': 'dart',\n",
    " 'colsample_bylevel': 0.8,\n",
    " 'colsample_bytree': 0.8,\n",
    " 'gamma': 0.1,\n",
    " 'learning_rate': 0.002,\n",
    " 'max_depth': 2,\n",
    " 'min_child_weight': 1,\n",
    " 'n_estimators': 3000,\n",
    " 'reg_alpha': 0.01,\n",
    " 'reg_lambda': 0.01,\n",
    " 'subsample': 0.88}"
   ]
  },
  {
   "cell_type": "code",
   "execution_count": 8,
   "metadata": {
    "collapsed": true
   },
   "outputs": [],
   "source": [
    "# r_2 for xgboost\n",
    "def r_2(preds, dtrain):\n",
    "    labels = dtrain.get_label()\n",
    "    return 'score', r2_score(labels, preds)\n",
    "\n",
    "# make scorer_r2\n",
    "scorer_r2 = make_scorer(r2_score)"
   ]
  },
  {
   "cell_type": "markdown",
   "metadata": {},
   "source": [
    "### Feature set selection"
   ]
  },
  {
   "cell_type": "code",
   "execution_count": null,
   "metadata": {
    "collapsed": true
   },
   "outputs": [],
   "source": [
    "# feature set select\n",
    "list_cols = [\"single_train\", \"single_test\", \"dup_train\", \"dup_test\", \"Is\"\n",
    "             , \"Encode_ohe\", \"Encode_TargetMean\", \"Encode_Freq\", \"Encode_Binary\", \"Encode_Ordinal\"\n",
    "             , \"FeatEng_OutlierMarker\", \"FeatEng_SumBin\"\n",
    "             , \"DR_PCA_Raw_Bin\", \"DR_PCA_Encoded_Cat\", \"DR_PCA_FeatEng\", \"DR_PCA_All\"\n",
    "             , \"DR_ICA_Raw_Bin\", \"DR_ICA_Encoded\", \"DR_ICA_FeatEng\", \"DR_ICA_All\"\n",
    "             , \"DR_SVD_Raw_Bin\", \"DR_SVD_Encoded\", \"DR_SVD_FeatEng\", \"DR_SVD_All\"\n",
    "             , \"DR_FA_Raw_Bin\", \"DR_FA_Encoded\", \"DR_FA_FeatEng\", \"DR_FA_All\"\n",
    "             , \"DR_TSNE_Raw_Bin\", \"DR_TSNE_Encoded\", \"DR_TSNE_FeatEng\", \"DR_TSNE_All\"\n",
    "             , \"DR_GRP_Raw_Bin\", \"DR_GRP_Encoded\", \"DR_GRP_FeatEng\", \"DR_GRP_All\"\n",
    "             , \"DR_SRP_Raw_Bin\", \"DR_SRP_Encoded\", \"DR_SRP_FeatEng\", \"DR_SRP_All\"]"
   ]
  },
  {
   "cell_type": "code",
   "execution_count": null,
   "metadata": {
    "collapsed": true
   },
   "outputs": [],
   "source": [
    "cols_core = dt_model[[\"ID\", \"y\", \"IsTrainTest\"]].join(dt_model[cols_raw]).columns.values\n",
    "dt_model_core = dt_model[cols_core]\n",
    "dt_model_nonCore = dt_model.drop(cols_core, axis = 1)"
   ]
  },
  {
   "cell_type": "code",
   "execution_count": null,
   "metadata": {
    "scrolled": true
   },
   "outputs": [],
   "source": [
    "list_featureSelect = []\n",
    "for i in range(0, 100):\n",
    "    # random sample\n",
    "    rand_sample = sp_randint(round(len(list_cols) / 2), len(list_cols) + 1).rvs(1)[0]\n",
    "    list_cols_random = random.sample(list_cols, rand_sample)\n",
    "    print(\"list_cols_random\", list_cols_random)\n",
    "    regex_cols_random = \"|\".join(list_cols_random)\n",
    "    dt_model_nonCore_sample = dt_model_nonCore.filter(regex = regex_cols_random)\n",
    "    # join with random sample\n",
    "    dt_model_sample = dt_model_core.join(dt_model_nonCore_sample)\n",
    "    print(\"shape\", dt_model_sample.shape)\n",
    "    # X, y, ID\n",
    "    X_train_all = dt_model_sample.loc[dt_model_sample[\"IsTrainTest\"] == \"train\"].drop([\"y\", \"IsTrainTest\"], axis = 1)\n",
    "    X_test = dt_model_sample.loc[dt_model_sample[\"IsTrainTest\"] == \"test\"].drop([\"y\", \"IsTrainTest\"], axis = 1)\n",
    "    y_train_all = dt_model_sample.loc[dt_model_sample[\"IsTrainTest\"] == \"train\"].y.values\n",
    "    y_test = dt_model_sample.loc[dt_model_sample[\"IsTrainTest\"] == \"test\"].y.values\n",
    "    ID_train_all = dt_model_sample.loc[dt_model_sample[\"IsTrainTest\"] == \"train\"].ID.values\n",
    "    ID_test = dt_model_sample.loc[dt_model_sample[\"IsTrainTest\"] == \"test\"].ID.values\n",
    "    # xgbDmatrix\n",
    "    dmx_train_all = xgb.DMatrix(X_train_all, label = y_train_all)\n",
    "    dmx_test = xgb.DMatrix(X_test)\n",
    "    # base_score\n",
    "    params_xgb[\"base_score\"] = np.mean(y_train_all)\n",
    "    # cv\n",
    "    cv_xgb = xgb.cv(params_xgb, dmx_train_all\n",
    "                    , num_boost_round = 2000\n",
    "                    , nfold = 10\n",
    "                    , feval = r_2, maximize = True, early_stopping_rounds = 50\n",
    "                    , show_stdv = True, verbose_eval = 50)\n",
    "    # record\n",
    "    score = cv_xgb[\"test-score-mean\"][cv_xgb.shape[0] - 1]\n",
    "    sd = cv_xgb[\"test-score-std\"][cv_xgb.shape[0] - 1]\n",
    "    dict_featureSelect = {\"score\": score\n",
    "                         , \"sd\": sd\n",
    "                         , \"nonCoreFeatures\": list_cols_random}\n",
    "    list_featureSelect.append(dict_featureSelect)"
   ]
  },
  {
   "cell_type": "code",
   "execution_count": null,
   "metadata": {
    "collapsed": true
   },
   "outputs": [],
   "source": [
    "score_max = np.max([x[\"score\"] for x in list_featureSelect])\n",
    "cols_nonCore_max = [x[\"nonCoreFeatures\"] for x in list_featureSelect if x[\"score\"] == score_max][0]"
   ]
  },
  {
   "cell_type": "code",
   "execution_count": null,
   "metadata": {
    "collapsed": true
   },
   "outputs": [],
   "source": [
    "regex_cols_nonCore_max = \"|\".join(cols_nonCore_max)"
   ]
  },
  {
   "cell_type": "markdown",
   "metadata": {},
   "source": [
    "### Produce model"
   ]
  },
  {
   "cell_type": "code",
   "execution_count": null,
   "metadata": {},
   "outputs": [],
   "source": [
    "# dt_model_features = dt_model_core.join(dt_model_nonCore.filter(regex = regex_cols_nonCore_max))\n",
    "# dt_model_features.shape"
   ]
  },
  {
   "cell_type": "code",
   "execution_count": null,
   "metadata": {},
   "outputs": [],
   "source": [
    "# remove ohe and targetMean\n",
    "# dt_model_features = dt_model.drop(dt_model.filter(regex = \"Encode_ohe|Encode_Freq|Encode_Binary|FeatEng_SumBin|single_train|dup_train\").columns, axis = 1)\n",
    "# dt_model_features.shape"
   ]
  },
  {
   "cell_type": "code",
   "execution_count": 9,
   "metadata": {},
   "outputs": [
    {
     "data": {
      "text/plain": [
       "(8418, 1364)"
      ]
     },
     "execution_count": 9,
     "metadata": {},
     "output_type": "execute_result"
    }
   ],
   "source": [
    "# remove ohe\n",
    "dt_model_features = dt_model.drop(dt_model.filter(regex = \"Encode_ohe\").columns, axis = 1)\n",
    "dt_model_features.shape"
   ]
  },
  {
   "cell_type": "code",
   "execution_count": 10,
   "metadata": {
    "collapsed": true
   },
   "outputs": [],
   "source": [
    "# X, y, ID\n",
    "X_train_all = dt_model_features.loc[dt_model_features[\"IsTrainTest\"] == \"train\"].drop([\"y\", \"IsTrainTest\"], axis = 1)\n",
    "X_test = dt_model_features.loc[dt_model_features[\"IsTrainTest\"] == \"test\"].drop([\"y\", \"IsTrainTest\"], axis = 1)\n",
    "y_train_all = dt_model_features.loc[dt_model_features[\"IsTrainTest\"] == \"train\"].y.values\n",
    "y_test = dt_model_features.loc[dt_model_features[\"IsTrainTest\"] == \"test\"].y.values\n",
    "ID_train_all = dt_model_features.loc[dt_model_features[\"IsTrainTest\"] == \"train\"].ID.values\n",
    "ID_test = dt_model_features.loc[dt_model_features[\"IsTrainTest\"] == \"test\"].ID.values"
   ]
  },
  {
   "cell_type": "code",
   "execution_count": 11,
   "metadata": {},
   "outputs": [
    {
     "data": {
      "text/plain": [
       "(4209, 1362)"
      ]
     },
     "execution_count": 11,
     "metadata": {},
     "output_type": "execute_result"
    }
   ],
   "source": [
    "X_train_all.shape"
   ]
  },
  {
   "cell_type": "code",
   "execution_count": 12,
   "metadata": {
    "collapsed": true
   },
   "outputs": [],
   "source": [
    "# xgbDmatrix\n",
    "dmx_train_all = xgb.DMatrix(X_train_all, label = y_train_all)\n",
    "dmx_test = xgb.DMatrix(X_test)"
   ]
  },
  {
   "cell_type": "code",
   "execution_count": 13,
   "metadata": {
    "collapsed": true
   },
   "outputs": [],
   "source": [
    "params_xgb[\"base_score\"] = np.mean(y_train_all)"
   ]
  },
  {
   "cell_type": "code",
   "execution_count": null,
   "metadata": {
    "scrolled": true
   },
   "outputs": [],
   "source": [
    "k = 10\n",
    "# bin\n",
    "bin_y = pd.qcut(y_train_all, k, labels = [i for i in range(1, k + 1)]).astype(\"int64\")\n",
    "# stratified kfold\n",
    "skf = StratifiedKFold(n_splits = k, shuffle = True, random_state = 888)\n",
    "\n",
    "score_skf_valid = 0\n",
    "score_skf = 0\n",
    "preds_skf_test = []\n",
    "for i, (ind_train, ind_valid) in enumerate(skf.split(X_train_all, bin_y)):\n",
    "    # X, y\n",
    "    X_train, X_valid = X_train_all.iloc[ind_train], X_train_all.iloc[ind_valid]\n",
    "    y_train, y_valid = y_train_all[ind_train], y_train_all[ind_valid]\n",
    "    # xgb.DMatrix\n",
    "    dmx_train_all = xgb.DMatrix(X_train, label = y_train)\n",
    "    dmx_valid_all = xgb.DMatrix(X_valid, label = y_valid)\n",
    "    ls_watch =  [(dmx_train_all, 'train'), (dmx_valid_all, 'eval')]\n",
    "    \n",
    "    model_xgb = xgb.train(params_xgb, dmx_train_all, evals = ls_watch\n",
    "                          , num_boost_round = 5000\n",
    "                          , feval = r_2, maximize = True, early_stopping_rounds = 50\n",
    "                          , verbose_eval = 50\n",
    "                         )\n",
    "    \n",
    "    preds_valid = model_xgb.predict(dmx_valid_all)\n",
    "    score_skf_valid = r2_score(y_valid, preds_valid)\n",
    "    print('Fold %d: Score %f'%(i, score_skf_valid))\n",
    "\n",
    "    score_skf += score_skf_valid\n",
    "\n",
    "score_skf /= k\n",
    "print('=====================')\n",
    "\n",
    "print( 'Final Score %f'%score_skf)\n",
    "\n",
    "print('=====================')"
   ]
  },
  {
   "cell_type": "code",
   "execution_count": 14,
   "metadata": {
    "scrolled": true
   },
   "outputs": [
    {
     "name": "stdout",
     "output_type": "stream",
     "text": [
      "[0]\ttrain-rmse:12.6576+0.0961838\ttrain-score:0.0022173+4.75774e-05\ttest-rmse:12.6311+0.823434\ttest-score:-0.000621+0.00260034\n",
      "[50]\ttrain-rmse:11.9954+0.103439\ttrain-score:0.103902+0.00228085\ttest-rmse:11.974+0.866461\ttest-score:0.10146+0.0143064\n",
      "[100]\ttrain-rmse:11.4226+0.110398\ttrain-score:0.187442+0.00402342\ttest-rmse:11.4252+0.905444\ttest-score:0.182423+0.0246178\n",
      "[150]\ttrain-rmse:10.926+0.115645\ttrain-score:0.256565+0.00523459\ttest-rmse:10.9549+0.941865\ttest-score:0.248703+0.0330751\n",
      "[200]\ttrain-rmse:10.4968+0.118888\ttrain-score:0.313832+0.00598899\ttest-rmse:10.5495+0.977396\ttest-score:0.303536+0.0403759\n",
      "[250]\ttrain-rmse:10.1268+0.12073\ttrain-score:0.361346+0.0064454\ttest-rmse:10.2036+1.01078\ttest-score:0.348616+0.0465239\n",
      "[300]\ttrain-rmse:9.80864+0.121059\ttrain-score:0.400847+0.00664142\ttest-rmse:9.90759+1.04138\ttest-score:0.385944+0.0517393\n",
      "[350]\ttrain-rmse:9.53609+0.120232\ttrain-score:0.43368+0.00666003\ttest-rmse:9.65642+1.06976\ttest-score:0.416713+0.056189\n",
      "[400]\ttrain-rmse:9.30302+0.118398\ttrain-score:0.461025+0.00654803\ttest-rmse:9.4436+1.0963\ttest-score:0.442128+0.0600873\n",
      "[450]\ttrain-rmse:9.10396+0.116164\ttrain-score:0.483841+0.0063856\ttest-rmse:9.26407+1.11891\ttest-score:0.463099+0.0632486\n",
      "[500]\ttrain-rmse:8.93415+0.113171\ttrain-score:0.502916+0.00614687\ttest-rmse:9.11156+1.1402\ttest-score:0.480566+0.0661254\n",
      "[550]\ttrain-rmse:8.78888+0.109967\ttrain-score:0.518949+0.00589186\ttest-rmse:8.98389+1.15981\ttest-score:0.494945+0.0686631\n",
      "[600]\ttrain-rmse:8.6641+0.106739\ttrain-score:0.53251+0.00563231\ttest-rmse:8.87712+1.17773\ttest-score:0.506792+0.0709281\n",
      "[650]\ttrain-rmse:8.55604+0.103645\ttrain-score:0.544098+0.00540171\ttest-rmse:8.78688+1.19315\ttest-score:0.516679+0.0728564\n",
      "[700]\ttrain-rmse:8.46203+0.100364\ttrain-score:0.554059+0.00516833\ttest-rmse:8.70995+1.20769\ttest-score:0.525014+0.0746342\n",
      "[750]\ttrain-rmse:8.37958+0.0975038\ttrain-score:0.562705+0.00499631\ttest-rmse:8.64446+1.22044\ttest-score:0.532045+0.0761623\n",
      "[800]\ttrain-rmse:8.30775+0.0948498\ttrain-score:0.570169+0.00483609\ttest-rmse:8.58892+1.23208\ttest-score:0.537961+0.0775181\n",
      "[850]\ttrain-rmse:8.245+0.0924383\ttrain-score:0.576637+0.00470219\ttest-rmse:8.54226+1.24256\ttest-score:0.542895+0.0787179\n",
      "[900]\ttrain-rmse:8.19074+0.0905176\ttrain-score:0.58219+0.00458562\ttest-rmse:8.50266+1.2516\ttest-score:0.547056+0.0797649\n",
      "[950]\ttrain-rmse:8.14311+0.0890484\ttrain-score:0.587034+0.00453918\ttest-rmse:8.46857+1.26035\ttest-score:0.550621+0.0807371\n",
      "[1000]\ttrain-rmse:8.10118+0.0877724\ttrain-score:0.591275+0.00449416\ttest-rmse:8.43988+1.26756\ttest-score:0.553609+0.0815403\n",
      "[1050]\ttrain-rmse:8.06411+0.0867661\ttrain-score:0.595006+0.00448027\ttest-rmse:8.41531+1.27367\ttest-score:0.55616+0.082213\n",
      "[1100]\ttrain-rmse:8.03083+0.0859099\ttrain-score:0.598341+0.00445262\ttest-rmse:8.39439+1.27945\ttest-score:0.558323+0.0828409\n",
      "[1150]\ttrain-rmse:8.0009+0.0849174\ttrain-score:0.601329+0.00442949\ttest-rmse:8.37493+1.28486\ttest-score:0.560329+0.083432\n",
      "[1200]\ttrain-rmse:7.97318+0.0842356\ttrain-score:0.604085+0.00441126\ttest-rmse:8.35781+1.28955\ttest-score:0.562091+0.0839371\n",
      "[1250]\ttrain-rmse:7.94759+0.0834997\ttrain-score:0.606622+0.00438848\ttest-rmse:8.34199+1.2946\ttest-score:0.563715+0.0844622\n",
      "[1300]\ttrain-rmse:7.92359+0.0827092\ttrain-score:0.608993+0.00436855\ttest-rmse:8.32806+1.29831\ttest-score:0.565144+0.0848562\n",
      "[1350]\ttrain-rmse:7.90099+0.0822229\ttrain-score:0.61122+0.00437677\ttest-rmse:8.31516+1.30237\ttest-score:0.566459+0.0853\n",
      "[1400]\ttrain-rmse:7.87982+0.0818396\ttrain-score:0.6133+0.00438108\ttest-rmse:8.30371+1.30619\ttest-score:0.567626+0.0857015\n",
      "[1450]\ttrain-rmse:7.85986+0.0814084\ttrain-score:0.615256+0.00437979\ttest-rmse:8.2929+1.3098\ttest-score:0.568724+0.0860886\n",
      "[1500]\ttrain-rmse:7.84076+0.0810355\ttrain-score:0.617123+0.00437465\ttest-rmse:8.28374+1.31329\ttest-score:0.569654+0.0864514\n",
      "[1550]\ttrain-rmse:7.8225+0.0807863\ttrain-score:0.618905+0.00438533\ttest-rmse:8.27599+1.31599\ttest-score:0.570442+0.0867248\n",
      "[1600]\ttrain-rmse:7.80503+0.0805075\ttrain-score:0.620604+0.00439107\ttest-rmse:8.26878+1.31799\ttest-score:0.571175+0.0869303\n",
      "[1650]\ttrain-rmse:7.78838+0.08016\ttrain-score:0.622221+0.00438184\ttest-rmse:8.26218+1.32021\ttest-score:0.571844+0.0871538\n",
      "[1700]\ttrain-rmse:7.7725+0.079915\ttrain-score:0.62376+0.0043952\ttest-rmse:8.25582+1.32282\ttest-score:0.572485+0.0874265\n",
      "[1750]\ttrain-rmse:7.75713+0.0796801\ttrain-score:0.625246+0.00439839\ttest-rmse:8.25066+1.32475\ttest-score:0.573006+0.0876257\n",
      "[1800]\ttrain-rmse:7.74254+0.0796224\ttrain-score:0.626654+0.0044186\ttest-rmse:8.24584+1.32672\ttest-score:0.573492+0.0878313\n",
      "[1850]\ttrain-rmse:7.72819+0.0794104\ttrain-score:0.628035+0.00444169\ttest-rmse:8.24199+1.32916\ttest-score:0.573877+0.0880821\n"
     ]
    },
    {
     "ename": "KeyboardInterrupt",
     "evalue": "",
     "output_type": "error",
     "traceback": [
      "\u001b[0;31m---------------------------------------------------------------------------\u001b[0m",
      "\u001b[0;31mKeyboardInterrupt\u001b[0m                         Traceback (most recent call last)",
      "\u001b[0;32m<ipython-input-14-0bfda6508e39>\u001b[0m in \u001b[0;36m<module>\u001b[0;34m()\u001b[0m\n\u001b[1;32m      4\u001b[0m                 \u001b[0;34m,\u001b[0m \u001b[0mnfold\u001b[0m \u001b[0;34m=\u001b[0m \u001b[0;36m10\u001b[0m\u001b[0;34m\u001b[0m\u001b[0m\n\u001b[1;32m      5\u001b[0m                 \u001b[0;34m,\u001b[0m \u001b[0mfeval\u001b[0m \u001b[0;34m=\u001b[0m \u001b[0mr_2\u001b[0m\u001b[0;34m,\u001b[0m \u001b[0mmaximize\u001b[0m \u001b[0;34m=\u001b[0m \u001b[0;32mTrue\u001b[0m\u001b[0;34m,\u001b[0m \u001b[0mearly_stopping_rounds\u001b[0m \u001b[0;34m=\u001b[0m \u001b[0;36m50\u001b[0m\u001b[0;34m\u001b[0m\u001b[0m\n\u001b[0;32m----> 6\u001b[0;31m                 , show_stdv = True, verbose_eval = 50)\n\u001b[0m",
      "\u001b[0;32m/home/noahhhhhh/Libraries/xgboost/python-package/xgboost/training.py\u001b[0m in \u001b[0;36mcv\u001b[0;34m(params, dtrain, num_boost_round, nfold, stratified, folds, metrics, obj, feval, maximize, early_stopping_rounds, fpreproc, as_pandas, verbose_eval, show_stdv, seed, callbacks, shuffle)\u001b[0m\n\u001b[1;32m    405\u001b[0m                            evaluation_result_list=None))\n\u001b[1;32m    406\u001b[0m         \u001b[0;32mfor\u001b[0m \u001b[0mfold\u001b[0m \u001b[0;32min\u001b[0m \u001b[0mcvfolds\u001b[0m\u001b[0;34m:\u001b[0m\u001b[0;34m\u001b[0m\u001b[0m\n\u001b[0;32m--> 407\u001b[0;31m             \u001b[0mfold\u001b[0m\u001b[0;34m.\u001b[0m\u001b[0mupdate\u001b[0m\u001b[0;34m(\u001b[0m\u001b[0mi\u001b[0m\u001b[0;34m,\u001b[0m \u001b[0mobj\u001b[0m\u001b[0;34m)\u001b[0m\u001b[0;34m\u001b[0m\u001b[0m\n\u001b[0m\u001b[1;32m    408\u001b[0m         \u001b[0mres\u001b[0m \u001b[0;34m=\u001b[0m \u001b[0maggcv\u001b[0m\u001b[0;34m(\u001b[0m\u001b[0;34m[\u001b[0m\u001b[0mf\u001b[0m\u001b[0;34m.\u001b[0m\u001b[0meval\u001b[0m\u001b[0;34m(\u001b[0m\u001b[0mi\u001b[0m\u001b[0;34m,\u001b[0m \u001b[0mfeval\u001b[0m\u001b[0;34m)\u001b[0m \u001b[0;32mfor\u001b[0m \u001b[0mf\u001b[0m \u001b[0;32min\u001b[0m \u001b[0mcvfolds\u001b[0m\u001b[0;34m]\u001b[0m\u001b[0;34m)\u001b[0m\u001b[0;34m\u001b[0m\u001b[0m\n\u001b[1;32m    409\u001b[0m \u001b[0;34m\u001b[0m\u001b[0m\n",
      "\u001b[0;32m/home/noahhhhhh/Libraries/xgboost/python-package/xgboost/training.py\u001b[0m in \u001b[0;36mupdate\u001b[0;34m(self, iteration, fobj)\u001b[0m\n\u001b[1;32m    216\u001b[0m     \u001b[0;32mdef\u001b[0m \u001b[0mupdate\u001b[0m\u001b[0;34m(\u001b[0m\u001b[0mself\u001b[0m\u001b[0;34m,\u001b[0m \u001b[0miteration\u001b[0m\u001b[0;34m,\u001b[0m \u001b[0mfobj\u001b[0m\u001b[0;34m)\u001b[0m\u001b[0;34m:\u001b[0m\u001b[0;34m\u001b[0m\u001b[0m\n\u001b[1;32m    217\u001b[0m         \u001b[0;34m\"\"\"\"Update the boosters for one iteration\"\"\"\u001b[0m\u001b[0;34m\u001b[0m\u001b[0m\n\u001b[0;32m--> 218\u001b[0;31m         \u001b[0mself\u001b[0m\u001b[0;34m.\u001b[0m\u001b[0mbst\u001b[0m\u001b[0;34m.\u001b[0m\u001b[0mupdate\u001b[0m\u001b[0;34m(\u001b[0m\u001b[0mself\u001b[0m\u001b[0;34m.\u001b[0m\u001b[0mdtrain\u001b[0m\u001b[0;34m,\u001b[0m \u001b[0miteration\u001b[0m\u001b[0;34m,\u001b[0m \u001b[0mfobj\u001b[0m\u001b[0;34m)\u001b[0m\u001b[0;34m\u001b[0m\u001b[0m\n\u001b[0m\u001b[1;32m    219\u001b[0m \u001b[0;34m\u001b[0m\u001b[0m\n\u001b[1;32m    220\u001b[0m     \u001b[0;32mdef\u001b[0m \u001b[0meval\u001b[0m\u001b[0;34m(\u001b[0m\u001b[0mself\u001b[0m\u001b[0;34m,\u001b[0m \u001b[0miteration\u001b[0m\u001b[0;34m,\u001b[0m \u001b[0mfeval\u001b[0m\u001b[0;34m)\u001b[0m\u001b[0;34m:\u001b[0m\u001b[0;34m\u001b[0m\u001b[0m\n",
      "\u001b[0;32m/home/noahhhhhh/Libraries/xgboost/python-package/xgboost/core.py\u001b[0m in \u001b[0;36mupdate\u001b[0;34m(self, dtrain, iteration, fobj)\u001b[0m\n\u001b[1;32m    825\u001b[0m         \u001b[0;32mif\u001b[0m \u001b[0mfobj\u001b[0m \u001b[0;32mis\u001b[0m \u001b[0;32mNone\u001b[0m\u001b[0;34m:\u001b[0m\u001b[0;34m\u001b[0m\u001b[0m\n\u001b[1;32m    826\u001b[0m             _check_call(_LIB.XGBoosterUpdateOneIter(self.handle, ctypes.c_int(iteration),\n\u001b[0;32m--> 827\u001b[0;31m                                                     dtrain.handle))\n\u001b[0m\u001b[1;32m    828\u001b[0m         \u001b[0;32melse\u001b[0m\u001b[0;34m:\u001b[0m\u001b[0;34m\u001b[0m\u001b[0m\n\u001b[1;32m    829\u001b[0m             \u001b[0mpred\u001b[0m \u001b[0;34m=\u001b[0m \u001b[0mself\u001b[0m\u001b[0;34m.\u001b[0m\u001b[0mpredict\u001b[0m\u001b[0;34m(\u001b[0m\u001b[0mdtrain\u001b[0m\u001b[0;34m)\u001b[0m\u001b[0;34m\u001b[0m\u001b[0m\n",
      "\u001b[0;31mKeyboardInterrupt\u001b[0m: "
     ]
    }
   ],
   "source": [
    "# cv\n",
    "cv_xgb = xgb.cv(params_xgb, dmx_train_all\n",
    "                , num_boost_round = 5000\n",
    "                , nfold = 10\n",
    "                , feval = r_2, maximize = True, early_stopping_rounds = 50\n",
    "                , show_stdv = True, verbose_eval = 50)"
   ]
  },
  {
   "cell_type": "code",
   "execution_count": null,
   "metadata": {},
   "outputs": [],
   "source": [
    "cv_xgb.tail()"
   ]
  },
  {
   "cell_type": "code",
   "execution_count": null,
   "metadata": {
    "collapsed": true
   },
   "outputs": [],
   "source": [
    "# train\n",
    "model_xgb = xgb.train(params_xgb, dmx_train_all, num_boost_round = cv_xgb.shape[0])"
   ]
  },
  {
   "cell_type": "code",
   "execution_count": null,
   "metadata": {},
   "outputs": [],
   "source": [
    "# importance\n",
    "fig, ax = plt.subplots(figsize = (12,18))\n",
    "xgb.plot_importance(model_xgb, max_num_features = 50, height = 0.8, ax = ax)\n",
    "plt.show()"
   ]
  },
  {
   "cell_type": "markdown",
   "metadata": {},
   "source": [
    "### Submit"
   ]
  },
  {
   "cell_type": "code",
   "execution_count": null,
   "metadata": {},
   "outputs": [],
   "source": [
    "# predict\n",
    "y_test = model_xgb.predict(dmx_test)\n",
    "y_test[:10]"
   ]
  },
  {
   "cell_type": "code",
   "execution_count": null,
   "metadata": {
    "collapsed": true
   },
   "outputs": [],
   "source": [
    "# submit\n",
    "dt_submit = pd.DataFrame({\"ID\": ID_test, \"y\": y_test})"
   ]
  },
  {
   "cell_type": "code",
   "execution_count": null,
   "metadata": {
    "collapsed": true
   },
   "outputs": [],
   "source": [
    "dt_submit.to_csv(\"../../data/Mercedes_Benz_Greener_Manufacturing/submission/15_added_FI_2way_XOR.csv\", index = False)"
   ]
  }
 ],
 "metadata": {
  "kernelspec": {
   "display_name": "Python 3",
   "language": "python",
   "name": "python3"
  },
  "language_info": {
   "codemirror_mode": {
    "name": "ipython",
    "version": 3
   },
   "file_extension": ".py",
   "mimetype": "text/x-python",
   "name": "python",
   "nbconvert_exporter": "python",
   "pygments_lexer": "ipython3",
   "version": "3.5.2"
  }
 },
 "nbformat": 4,
 "nbformat_minor": 2
}
