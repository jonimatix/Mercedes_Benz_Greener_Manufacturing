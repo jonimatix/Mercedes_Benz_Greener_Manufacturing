{
 "cells": [
  {
   "cell_type": "code",
   "execution_count": 39,
   "metadata": {
    "collapsed": true
   },
   "outputs": [],
   "source": [
    "import pandas as pd\n",
    "import xgboost as xgb\n",
    "import numpy as np\n",
    "from scipy.stats import uniform as sp_rand\n",
    "from scipy.stats import randint as sp_randint\n",
    "import random\n",
    "from sklearn.metrics import r2_score, make_scorer\n",
    "from sklearn.model_selection import StratifiedKFold, GroupKFold, KFold, train_test_split\n",
    "from sklearn.model_selection import GridSearchCV, RandomizedSearchCV\n",
    "import matplotlib.pyplot as plt\n",
    "import pickle"
   ]
  },
  {
   "cell_type": "markdown",
   "metadata": {},
   "source": [
    "## 7. Experiment"
   ]
  },
  {
   "cell_type": "code",
   "execution_count": 2,
   "metadata": {
    "collapsed": true
   },
   "outputs": [],
   "source": [
    "# data\n",
    "dt_model = pd.read_csv(\"../../data/Mercedes_Benz_Greener_Manufacturing/data/dt_all_preprocess.csv\")\n",
    "params_xgb = pickle.load(open(\"../../data/Mercedes_Benz_Greener_Manufacturing/data/params_xgb_05.pkl\", \"rb\"))\n",
    "cols_raw = pickle.load(open(\"../../data/Mercedes_Benz_Greener_Manufacturing/data/cols_raw.pkl\", \"rb\"))"
   ]
  },
  {
   "cell_type": "code",
   "execution_count": 3,
   "metadata": {},
   "outputs": [
    {
     "data": {
      "text/plain": [
       "(8418, 1575)"
      ]
     },
     "execution_count": 3,
     "metadata": {},
     "output_type": "execute_result"
    }
   ],
   "source": [
    "dt_model.shape"
   ]
  },
  {
   "cell_type": "code",
   "execution_count": 4,
   "metadata": {},
   "outputs": [
    {
     "data": {
      "text/plain": [
       "{'booster': 'dart',\n",
       " 'colsample_bylevel': 0.86122120778319933,\n",
       " 'colsample_bytree': 0.69012513974818612,\n",
       " 'gamma': 0.5813163481822099,\n",
       " 'learning_rate': 0.0010647577129347552,\n",
       " 'max_depth': 2,\n",
       " 'min_child_weight': 10,\n",
       " 'n_estimators': 2759,\n",
       " 'reg_alpha': 0.67327391298067163,\n",
       " 'reg_lambda': 0.56757397410099453,\n",
       " 'subsample': 0.99415926878695671}"
      ]
     },
     "execution_count": 4,
     "metadata": {},
     "output_type": "execute_result"
    }
   ],
   "source": [
    "params_xgb = {'booster': 'dart',\n",
    " 'colsample_bylevel': 0.9,\n",
    " 'colsample_bytree': 0.7,\n",
    " 'gamma': 0.6,\n",
    " 'learning_rate': 0.01,\n",
    " 'max_depth': 2,\n",
    " 'min_child_weight': 15,\n",
    " 'n_estimators': 3000,\n",
    " 'reg_alpha': 0.25,\n",
    " 'reg_lambda': 0.15,\n",
    " 'subsample': 0.95}"
   ]
  },
  {
   "cell_type": "code",
   "execution_count": 5,
   "metadata": {
    "collapsed": true
   },
   "outputs": [],
   "source": [
    "# r_2 for xgboost\n",
    "def r_2(preds, dtrain):\n",
    "    labels = dtrain.get_label()\n",
    "    return 'score', r2_score(labels, preds)\n",
    "\n",
    "# make scorer_r2\n",
    "scorer_r2 = make_scorer(r2_score)"
   ]
  },
  {
   "cell_type": "markdown",
   "metadata": {},
   "source": [
    "### Feature set selection"
   ]
  },
  {
   "cell_type": "code",
   "execution_count": null,
   "metadata": {
    "collapsed": true
   },
   "outputs": [],
   "source": [
    "# feature set select\n",
    "list_cols = [\"single_train\", \"single_test\", \"dup_train\", \"dup_test\", \"Is\"\n",
    "             , \"Encode_ohe\", \"Encode_TargetMean\", \"Encode_Freq\", \"Encode_Binary\", \"Encode_Ordinal\"\n",
    "             , \"FeatEng_OutlierMarker\", \"FeatEng_SumBin\"\n",
    "             , \"DR_PCA_Raw_Bin\", \"DR_PCA_Encoded_Cat\", \"DR_PCA_FeatEng\", \"DR_PCA_All\"\n",
    "             , \"DR_ICA_Raw_Bin\", \"DR_ICA_Encoded\", \"DR_ICA_FeatEng\", \"DR_ICA_All\"\n",
    "             , \"DR_SVD_Raw_Bin\", \"DR_SVD_Encoded\", \"DR_SVD_FeatEng\", \"DR_SVD_All\"\n",
    "             , \"DR_FA_Raw_Bin\", \"DR_FA_Encoded\", \"DR_FA_FeatEng\", \"DR_FA_All\"\n",
    "             , \"DR_TSNE_Raw_Bin\", \"DR_TSNE_Encoded\", \"DR_TSNE_FeatEng\", \"DR_TSNE_All\"\n",
    "             , \"DR_GRP_Raw_Bin\", \"DR_GRP_Encoded\", \"DR_GRP_FeatEng\", \"DR_GRP_All\"\n",
    "             , \"DR_SRP_Raw_Bin\", \"DR_SRP_Encoded\", \"DR_SRP_FeatEng\", \"DR_SRP_All\"]"
   ]
  },
  {
   "cell_type": "code",
   "execution_count": null,
   "metadata": {
    "collapsed": true
   },
   "outputs": [],
   "source": [
    "cols_core = dt_model[[\"ID\", \"y\", \"IsTrainTest\"]].join(dt_model[cols_raw]).columns.values\n",
    "dt_model_core = dt_model[cols_core]\n",
    "dt_model_nonCore = dt_model.drop(cols_core, axis = 1)"
   ]
  },
  {
   "cell_type": "code",
   "execution_count": null,
   "metadata": {
    "scrolled": true
   },
   "outputs": [],
   "source": [
    "list_featureSelect = []\n",
    "for i in range(0, 100):\n",
    "    # random sample\n",
    "    rand_sample = sp_randint(round(len(list_cols) / 2), len(list_cols) + 1).rvs(1)[0]\n",
    "    list_cols_random = random.sample(list_cols, rand_sample)\n",
    "    print(\"list_cols_random\", list_cols_random)\n",
    "    regex_cols_random = \"|\".join(list_cols_random)\n",
    "    dt_model_nonCore_sample = dt_model_nonCore.filter(regex = regex_cols_random)\n",
    "    # join with random sample\n",
    "    dt_model_sample = dt_model_core.join(dt_model_nonCore_sample)\n",
    "    print(\"shape\", dt_model_sample.shape)\n",
    "    # X, y, ID\n",
    "    X_train_all = dt_model_sample.loc[dt_model_sample[\"IsTrainTest\"] == \"train\"].drop([\"y\", \"IsTrainTest\"], axis = 1)\n",
    "    X_test = dt_model_sample.loc[dt_model_sample[\"IsTrainTest\"] == \"test\"].drop([\"y\", \"IsTrainTest\"], axis = 1)\n",
    "    y_train_all = dt_model_sample.loc[dt_model_sample[\"IsTrainTest\"] == \"train\"].y.values\n",
    "    y_test = dt_model_sample.loc[dt_model_sample[\"IsTrainTest\"] == \"test\"].y.values\n",
    "    ID_train_all = dt_model_sample.loc[dt_model_sample[\"IsTrainTest\"] == \"train\"].ID.values\n",
    "    ID_test = dt_model_sample.loc[dt_model_sample[\"IsTrainTest\"] == \"test\"].ID.values\n",
    "    # xgbDmatrix\n",
    "    dmx_train_all = xgb.DMatrix(X_train_all, label = y_train_all)\n",
    "    dmx_test = xgb.DMatrix(X_test)\n",
    "    # base_score\n",
    "    params_xgb[\"base_score\"] = np.mean(y_train_all)\n",
    "    # cv\n",
    "    cv_xgb = xgb.cv(params_xgb, dmx_train_all\n",
    "                    , num_boost_round = 2000\n",
    "                    , nfold = 10\n",
    "                    , feval = r_2, maximize = True, early_stopping_rounds = 50\n",
    "                    , show_stdv = True, verbose_eval = 50)\n",
    "    # record\n",
    "    score = cv_xgb[\"test-score-mean\"][cv_xgb.shape[0] - 1]\n",
    "    sd = cv_xgb[\"test-score-std\"][cv_xgb.shape[0] - 1]\n",
    "    dict_featureSelect = {\"score\": score\n",
    "                         , \"sd\": sd\n",
    "                         , \"nonCoreFeatures\": list_cols_random}\n",
    "    list_featureSelect.append(dict_featureSelect)"
   ]
  },
  {
   "cell_type": "code",
   "execution_count": null,
   "metadata": {
    "collapsed": true
   },
   "outputs": [],
   "source": [
    "score_max = np.max([x[\"score\"] for x in list_featureSelect])\n",
    "cols_nonCore_max = [x[\"nonCoreFeatures\"] for x in list_featureSelect if x[\"score\"] == score_max][0]"
   ]
  },
  {
   "cell_type": "code",
   "execution_count": null,
   "metadata": {
    "collapsed": true
   },
   "outputs": [],
   "source": [
    "regex_cols_nonCore_max = \"|\".join(cols_nonCore_max)"
   ]
  },
  {
   "cell_type": "markdown",
   "metadata": {},
   "source": [
    "### Produce model"
   ]
  },
  {
   "cell_type": "code",
   "execution_count": null,
   "metadata": {},
   "outputs": [],
   "source": [
    "# dt_model_features = dt_model_core.join(dt_model_nonCore.filter(regex = regex_cols_nonCore_max))\n",
    "# dt_model_features.shape"
   ]
  },
  {
   "cell_type": "code",
   "execution_count": null,
   "metadata": {},
   "outputs": [],
   "source": [
    "# remove ohe and targetMean\n",
    "# dt_model_features = dt_model.drop(dt_model.filter(regex = \"Encode_ohe|Encode_Freq|Encode_Binary|FeatEng_SumBin|single_train|dup_train\").columns, axis = 1)\n",
    "# dt_model_features.shape"
   ]
  },
  {
   "cell_type": "code",
   "execution_count": 6,
   "metadata": {},
   "outputs": [
    {
     "data": {
      "text/plain": [
       "(8418, 1364)"
      ]
     },
     "execution_count": 6,
     "metadata": {},
     "output_type": "execute_result"
    }
   ],
   "source": [
    "# remove ohe\n",
    "dt_model_features = dt_model.drop(dt_model.filter(regex = \"Encode_ohe\").columns, axis = 1)\n",
    "dt_model_features.shape"
   ]
  },
  {
   "cell_type": "code",
   "execution_count": 7,
   "metadata": {
    "collapsed": true
   },
   "outputs": [],
   "source": [
    "# X, y, ID\n",
    "X_train_all = dt_model_features.loc[dt_model_features[\"IsTrainTest\"] == \"train\"].drop([\"y\", \"IsTrainTest\"], axis = 1)\n",
    "X_test = dt_model_features.loc[dt_model_features[\"IsTrainTest\"] == \"test\"].drop([\"y\", \"IsTrainTest\"], axis = 1)\n",
    "y_train_all = dt_model_features.loc[dt_model_features[\"IsTrainTest\"] == \"train\"].y.values\n",
    "y_test = dt_model_features.loc[dt_model_features[\"IsTrainTest\"] == \"test\"].y.values\n",
    "ID_train_all = dt_model_features.loc[dt_model_features[\"IsTrainTest\"] == \"train\"].ID.values\n",
    "ID_test = dt_model_features.loc[dt_model_features[\"IsTrainTest\"] == \"test\"].ID.values"
   ]
  },
  {
   "cell_type": "code",
   "execution_count": 8,
   "metadata": {},
   "outputs": [
    {
     "data": {
      "text/plain": [
       "(4209, 1362)"
      ]
     },
     "execution_count": 8,
     "metadata": {},
     "output_type": "execute_result"
    }
   ],
   "source": [
    "X_train_all.shape"
   ]
  },
  {
   "cell_type": "code",
   "execution_count": 9,
   "metadata": {
    "collapsed": true
   },
   "outputs": [],
   "source": [
    "# xgbDmatrix\n",
    "dmx_train_all = xgb.DMatrix(X_train_all, label = y_train_all)\n",
    "dmx_test = xgb.DMatrix(X_test)"
   ]
  },
  {
   "cell_type": "code",
   "execution_count": 40,
   "metadata": {
    "collapsed": true
   },
   "outputs": [],
   "source": [
    "params_xgb = {'booster': 'dart',\n",
    " 'colsample_bylevel': 0.9,\n",
    " 'colsample_bytree': 0.7,\n",
    " 'gamma': 0.6,\n",
    " 'learning_rate': 0.0025,\n",
    " 'max_depth': 2,\n",
    " 'min_child_weight': 15,\n",
    " 'n_estimators': 3000,\n",
    " 'reg_alpha': 0.25,\n",
    " 'reg_lambda': 0.15,\n",
    " 'subsample': 0.95}"
   ]
  },
  {
   "cell_type": "code",
   "execution_count": 41,
   "metadata": {
    "collapsed": true
   },
   "outputs": [],
   "source": [
    "params_xgb[\"base_score\"] = np.mean(y_train_all)"
   ]
  },
  {
   "cell_type": "code",
   "execution_count": 42,
   "metadata": {
    "scrolled": true
   },
   "outputs": [
    {
     "name": "stdout",
     "output_type": "stream",
     "text": [
      "[0]\ttrain-rmse:12.6479\teval-rmse:12.7666\ttrain-score:0.002839\teval-score:0.002657\n",
      "Multiple eval metrics have been passed: 'eval-score' will be used for early stopping.\n",
      "\n",
      "Will train until eval-score hasn't improved in 50 rounds.\n",
      "[50]\ttrain-rmse:11.8265\teval-rmse:11.9904\ttrain-score:0.128153\teval-score:0.120249\n",
      "[100]\ttrain-rmse:11.1449\teval-rmse:11.352\ttrain-score:0.225755\teval-score:0.211436\n",
      "[150]\ttrain-rmse:10.5843\teval-rmse:10.8319\ttrain-score:0.301689\teval-score:0.282039\n",
      "[200]\ttrain-rmse:10.1252\teval-rmse:10.4109\ttrain-score:0.360949\teval-score:0.336757\n",
      "[250]\ttrain-rmse:9.753\teval-rmse:10.0734\ttrain-score:0.407069\teval-score:0.37907\n",
      "[300]\ttrain-rmse:9.4523\teval-rmse:9.80417\ttrain-score:0.443068\teval-score:0.411813\n",
      "[350]\ttrain-rmse:9.21119\teval-rmse:9.5908\ttrain-score:0.471118\teval-score:0.437137\n",
      "[400]\ttrain-rmse:9.0188\teval-rmse:9.42308\ttrain-score:0.49298\teval-score:0.456651\n",
      "[450]\ttrain-rmse:8.86609\teval-rmse:9.29187\ttrain-score:0.510005\teval-score:0.471676\n",
      "[500]\ttrain-rmse:8.7445\teval-rmse:9.19043\ttrain-score:0.523352\teval-score:0.483149\n",
      "[550]\ttrain-rmse:8.64695\teval-rmse:9.11372\ttrain-score:0.533928\teval-score:0.491742\n",
      "[600]\ttrain-rmse:8.56737\teval-rmse:9.05625\ttrain-score:0.542467\teval-score:0.498132\n",
      "[650]\ttrain-rmse:8.50231\teval-rmse:9.00975\ttrain-score:0.549389\teval-score:0.503272\n",
      "[700]\ttrain-rmse:8.4479\teval-rmse:8.97232\ttrain-score:0.555138\teval-score:0.50739\n",
      "[750]\ttrain-rmse:8.40204\teval-rmse:8.94343\ttrain-score:0.559955\teval-score:0.510557\n",
      "[800]\ttrain-rmse:8.36356\teval-rmse:8.91899\ttrain-score:0.563977\teval-score:0.513229\n",
      "[850]\ttrain-rmse:8.32976\teval-rmse:8.90087\ttrain-score:0.567494\teval-score:0.515204\n",
      "[900]\ttrain-rmse:8.30055\teval-rmse:8.88615\ttrain-score:0.570521\teval-score:0.516807\n",
      "[950]\ttrain-rmse:8.27384\teval-rmse:8.87281\ttrain-score:0.573281\teval-score:0.518256\n",
      "[1000]\ttrain-rmse:8.24997\teval-rmse:8.8636\ttrain-score:0.57574\teval-score:0.519255\n",
      "[1050]\ttrain-rmse:8.22851\teval-rmse:8.85195\ttrain-score:0.577944\teval-score:0.520519\n",
      "[1100]\ttrain-rmse:8.20851\teval-rmse:8.84331\ttrain-score:0.579994\teval-score:0.521454\n",
      "[1150]\ttrain-rmse:8.18973\teval-rmse:8.83282\ttrain-score:0.581913\teval-score:0.52259\n",
      "[1200]\ttrain-rmse:8.17263\teval-rmse:8.82429\ttrain-score:0.583657\teval-score:0.523511\n",
      "[1250]\ttrain-rmse:8.15642\teval-rmse:8.81432\ttrain-score:0.585307\teval-score:0.524587\n",
      "[1300]\ttrain-rmse:8.14076\teval-rmse:8.80912\ttrain-score:0.586898\teval-score:0.525147\n",
      "[1350]\ttrain-rmse:8.12568\teval-rmse:8.80266\ttrain-score:0.588427\teval-score:0.525844\n",
      "[1400]\ttrain-rmse:8.11219\teval-rmse:8.79751\ttrain-score:0.589793\teval-score:0.526399\n",
      "[1450]\ttrain-rmse:8.09933\teval-rmse:8.79308\ttrain-score:0.591092\teval-score:0.526875\n",
      "[1500]\ttrain-rmse:8.08733\teval-rmse:8.79126\ttrain-score:0.592303\teval-score:0.527071\n",
      "[1550]\ttrain-rmse:8.07563\teval-rmse:8.78956\ttrain-score:0.593481\teval-score:0.527254\n",
      "[1600]\ttrain-rmse:8.06454\teval-rmse:8.78854\ttrain-score:0.594597\teval-score:0.527363\n",
      "[1650]\ttrain-rmse:8.05397\teval-rmse:8.78786\ttrain-score:0.595659\teval-score:0.527437\n",
      "[1700]\ttrain-rmse:8.04459\teval-rmse:8.78869\ttrain-score:0.5966\teval-score:0.527348\n",
      "Stopping. Best iteration:\n",
      "[1671]\ttrain-rmse:8.04978\teval-rmse:8.78734\ttrain-score:0.59608\teval-score:0.527492\n",
      "\n",
      "Fold 0: Score 0.527337\n",
      "[0]\ttrain-rmse:12.7408\teval-rmse:11.9132\ttrain-score:0.002784\teval-score:0.003046\n",
      "Multiple eval metrics have been passed: 'eval-score' will be used for early stopping.\n",
      "\n",
      "Will train until eval-score hasn't improved in 50 rounds.\n",
      "[50]\ttrain-rmse:11.9312\teval-rmse:11.0803\ttrain-score:0.125484\teval-score:0.137584\n",
      "[100]\ttrain-rmse:11.2603\teval-rmse:10.3822\ttrain-score:0.221079\teval-score:0.242825\n",
      "[150]\ttrain-rmse:10.7078\teval-rmse:9.80077\ttrain-score:0.295637\teval-score:0.325263\n",
      "[200]\ttrain-rmse:10.2577\teval-rmse:9.32109\ttrain-score:0.353607\teval-score:0.389693\n",
      "[250]\ttrain-rmse:9.89322\teval-rmse:8.92796\ttrain-score:0.398726\teval-score:0.440089\n",
      "[300]\ttrain-rmse:9.59877\teval-rmse:8.60571\ttrain-score:0.433985\teval-score:0.479779\n",
      "[350]\ttrain-rmse:9.36336\teval-rmse:8.34454\ttrain-score:0.461408\teval-score:0.510876\n",
      "[400]\ttrain-rmse:9.17533\teval-rmse:8.13359\ttrain-score:0.482822\teval-score:0.535294\n",
      "[450]\ttrain-rmse:9.02602\teval-rmse:7.96333\ttrain-score:0.499517\teval-score:0.554544\n",
      "[500]\ttrain-rmse:8.90694\teval-rmse:7.82404\ttrain-score:0.512636\teval-score:0.569992\n",
      "[550]\ttrain-rmse:8.81196\teval-rmse:7.71244\ttrain-score:0.522974\teval-score:0.582171\n",
      "[600]\ttrain-rmse:8.73522\teval-rmse:7.62349\ttrain-score:0.531247\teval-score:0.591753\n",
      "[650]\ttrain-rmse:8.67254\teval-rmse:7.55129\ttrain-score:0.53795\teval-score:0.59945\n",
      "[700]\ttrain-rmse:8.6205\teval-rmse:7.49538\ttrain-score:0.543478\teval-score:0.605359\n",
      "[750]\ttrain-rmse:8.57698\teval-rmse:7.44868\ttrain-score:0.548076\teval-score:0.610261\n",
      "[800]\ttrain-rmse:8.53934\teval-rmse:7.40756\ttrain-score:0.552034\teval-score:0.614553\n",
      "[850]\ttrain-rmse:8.50661\teval-rmse:7.36951\ttrain-score:0.555461\teval-score:0.618502\n",
      "[900]\ttrain-rmse:8.47766\teval-rmse:7.34224\ttrain-score:0.558482\teval-score:0.62132\n",
      "[950]\ttrain-rmse:8.45133\teval-rmse:7.31342\ttrain-score:0.56122\teval-score:0.624288\n",
      "[1000]\ttrain-rmse:8.42809\teval-rmse:7.28848\ttrain-score:0.56363\teval-score:0.626845\n",
      "[1050]\ttrain-rmse:8.40677\teval-rmse:7.26914\ttrain-score:0.565835\teval-score:0.628824\n",
      "[1100]\ttrain-rmse:8.38738\teval-rmse:7.24924\ttrain-score:0.567836\teval-score:0.630853\n",
      "[1150]\ttrain-rmse:8.36882\teval-rmse:7.23411\ttrain-score:0.569746\teval-score:0.632392\n",
      "[1200]\ttrain-rmse:8.34979\teval-rmse:7.22161\ttrain-score:0.571701\teval-score:0.633661\n",
      "[1250]\ttrain-rmse:8.33384\teval-rmse:7.21096\ttrain-score:0.573335\teval-score:0.634741\n",
      "[1300]\ttrain-rmse:8.31707\teval-rmse:7.20247\ttrain-score:0.57505\teval-score:0.635601\n",
      "[1350]\ttrain-rmse:8.30173\teval-rmse:7.19362\ttrain-score:0.576617\teval-score:0.636496\n",
      "[1400]\ttrain-rmse:8.28716\teval-rmse:7.18917\ttrain-score:0.578101\teval-score:0.636945\n",
      "[1450]\ttrain-rmse:8.27321\teval-rmse:7.1859\ttrain-score:0.57952\teval-score:0.637276\n",
      "[1500]\ttrain-rmse:8.25974\teval-rmse:7.17949\ttrain-score:0.580889\teval-score:0.637922\n",
      "[1550]\ttrain-rmse:8.24738\teval-rmse:7.17635\ttrain-score:0.582142\teval-score:0.638239\n",
      "[1600]\ttrain-rmse:8.23606\teval-rmse:7.17307\ttrain-score:0.583288\teval-score:0.638569\n",
      "[1650]\ttrain-rmse:8.22543\teval-rmse:7.17235\ttrain-score:0.584364\teval-score:0.638642\n",
      "[1700]\ttrain-rmse:8.21476\teval-rmse:7.17188\ttrain-score:0.585441\teval-score:0.63869\n",
      "Stopping. Best iteration:\n",
      "[1697]\ttrain-rmse:8.21535\teval-rmse:7.17131\ttrain-score:0.585382\teval-score:0.638747\n",
      "\n",
      "Fold 1: Score 0.638596\n",
      "[0]\ttrain-rmse:12.6686\teval-rmse:12.5832\ttrain-score:0.002763\teval-score:0.002624\n",
      "Multiple eval metrics have been passed: 'eval-score' will be used for early stopping.\n",
      "\n",
      "Will train until eval-score hasn't improved in 50 rounds.\n",
      "[50]\ttrain-rmse:11.8652\teval-rmse:11.6804\ttrain-score:0.125233\teval-score:0.140607\n",
      "[100]\ttrain-rmse:11.1994\teval-rmse:10.9219\ttrain-score:0.220647\teval-score:0.248601\n",
      "[150]\ttrain-rmse:10.6525\teval-rmse:10.2921\ttrain-score:0.294902\teval-score:0.33276\n",
      "[200]\ttrain-rmse:10.2061\teval-rmse:9.7729\ttrain-score:0.352767\teval-score:0.398377\n",
      "[250]\ttrain-rmse:9.84482\teval-rmse:9.34882\ttrain-score:0.397776\teval-score:0.449456\n",
      "[300]\ttrain-rmse:9.55441\teval-rmse:9.00418\ttrain-score:0.432781\teval-score:0.4893\n",
      "[350]\ttrain-rmse:9.32115\teval-rmse:8.7239\ttrain-score:0.460139\teval-score:0.520599\n",
      "[400]\ttrain-rmse:9.1351\teval-rmse:8.50146\ttrain-score:0.481475\teval-score:0.544734\n",
      "[450]\ttrain-rmse:8.98701\teval-rmse:8.32236\ttrain-score:0.498151\teval-score:0.563714\n",
      "[500]\ttrain-rmse:8.86951\teval-rmse:8.17898\ttrain-score:0.511188\teval-score:0.578618\n",
      "[550]\ttrain-rmse:8.77561\teval-rmse:8.066\ttrain-score:0.521483\teval-score:0.590179\n",
      "[600]\ttrain-rmse:8.69953\teval-rmse:7.97966\ttrain-score:0.529744\teval-score:0.598906\n",
      "[650]\ttrain-rmse:8.63692\teval-rmse:7.90855\ttrain-score:0.536488\teval-score:0.606023\n",
      "[700]\ttrain-rmse:8.58503\teval-rmse:7.85336\ttrain-score:0.542041\teval-score:0.611502\n",
      "[750]\ttrain-rmse:8.54126\teval-rmse:7.80806\ttrain-score:0.546699\teval-score:0.615971\n",
      "[800]\ttrain-rmse:8.50351\teval-rmse:7.7691\ttrain-score:0.550697\teval-score:0.619794\n",
      "[850]\ttrain-rmse:8.47091\teval-rmse:7.73946\ttrain-score:0.554135\teval-score:0.62269\n",
      "[900]\ttrain-rmse:8.44211\teval-rmse:7.71259\ttrain-score:0.557162\teval-score:0.625305\n",
      "[950]\ttrain-rmse:8.41628\teval-rmse:7.68865\ttrain-score:0.559868\teval-score:0.627627\n"
     ]
    },
    {
     "name": "stdout",
     "output_type": "stream",
     "text": [
      "[1000]\ttrain-rmse:8.39334\teval-rmse:7.66878\ttrain-score:0.562264\teval-score:0.629549\n",
      "[1050]\ttrain-rmse:8.37165\teval-rmse:7.65305\ttrain-score:0.564523\teval-score:0.631068\n",
      "[1100]\ttrain-rmse:8.35198\teval-rmse:7.63992\ttrain-score:0.566567\teval-score:0.632333\n",
      "[1150]\ttrain-rmse:8.3335\teval-rmse:7.62804\ttrain-score:0.568483\teval-score:0.633475\n",
      "[1200]\ttrain-rmse:8.31656\teval-rmse:7.61701\ttrain-score:0.570235\teval-score:0.634534\n",
      "[1250]\ttrain-rmse:8.30048\teval-rmse:7.60744\ttrain-score:0.571896\teval-score:0.635452\n",
      "[1300]\ttrain-rmse:8.28521\teval-rmse:7.59951\ttrain-score:0.57347\teval-score:0.636212\n",
      "[1350]\ttrain-rmse:8.27053\teval-rmse:7.59364\ttrain-score:0.57498\teval-score:0.636773\n",
      "[1400]\ttrain-rmse:8.25654\teval-rmse:7.58733\ttrain-score:0.576416\teval-score:0.637377\n",
      "[1450]\ttrain-rmse:8.24226\teval-rmse:7.58322\ttrain-score:0.57788\teval-score:0.63777\n",
      "[1500]\ttrain-rmse:8.22928\teval-rmse:7.57817\ttrain-score:0.579209\teval-score:0.638252\n",
      "[1550]\ttrain-rmse:8.21789\teval-rmse:7.57257\ttrain-score:0.580373\teval-score:0.638786\n",
      "[1600]\ttrain-rmse:8.2056\teval-rmse:7.56952\ttrain-score:0.581627\teval-score:0.639077\n",
      "[1650]\ttrain-rmse:8.19507\teval-rmse:7.56454\ttrain-score:0.5827\teval-score:0.639552\n",
      "[1700]\ttrain-rmse:8.18412\teval-rmse:7.56167\ttrain-score:0.583815\teval-score:0.639825\n",
      "[1750]\ttrain-rmse:8.17431\teval-rmse:7.55672\ttrain-score:0.584811\teval-score:0.640297\n",
      "[1800]\ttrain-rmse:8.16437\teval-rmse:7.5533\ttrain-score:0.585821\teval-score:0.640622\n",
      "[1850]\ttrain-rmse:8.15499\teval-rmse:7.5502\ttrain-score:0.586772\teval-score:0.640918\n",
      "[1900]\ttrain-rmse:8.14577\teval-rmse:7.54694\ttrain-score:0.587706\teval-score:0.641228\n",
      "[1950]\ttrain-rmse:8.13684\teval-rmse:7.54315\ttrain-score:0.588609\teval-score:0.641587\n",
      "[2000]\ttrain-rmse:8.12855\teval-rmse:7.53969\ttrain-score:0.589448\teval-score:0.641916\n",
      "[2050]\ttrain-rmse:8.11962\teval-rmse:7.53817\ttrain-score:0.590349\teval-score:0.642061\n",
      "[2100]\ttrain-rmse:8.11089\teval-rmse:7.53708\ttrain-score:0.591229\teval-score:0.642164\n",
      "[2150]\ttrain-rmse:8.1025\teval-rmse:7.53512\ttrain-score:0.592075\teval-score:0.64235\n",
      "[2200]\ttrain-rmse:8.09533\teval-rmse:7.53321\ttrain-score:0.592796\teval-score:0.642532\n",
      "[2250]\ttrain-rmse:8.08768\teval-rmse:7.5329\ttrain-score:0.593566\teval-score:0.64256\n",
      "[2300]\ttrain-rmse:8.08036\teval-rmse:7.53078\ttrain-score:0.594301\teval-score:0.642762\n",
      "[2350]\ttrain-rmse:8.07269\teval-rmse:7.53015\ttrain-score:0.59507\teval-score:0.642822\n",
      "Stopping. Best iteration:\n",
      "[2326]\ttrain-rmse:8.07652\teval-rmse:7.52974\ttrain-score:0.594687\teval-score:0.642861\n",
      "\n",
      "Fold 2: Score 0.642860\n",
      "[0]\ttrain-rmse:12.6293\teval-rmse:12.9354\ttrain-score:0.002769\teval-score:0.002779\n",
      "Multiple eval metrics have been passed: 'eval-score' will be used for early stopping.\n",
      "\n",
      "Will train until eval-score hasn't improved in 50 rounds.\n",
      "[50]\ttrain-rmse:11.8257\teval-rmse:12.0503\ttrain-score:0.125632\teval-score:0.134579\n",
      "[100]\ttrain-rmse:11.1608\teval-rmse:11.3132\ttrain-score:0.221188\teval-score:0.23722\n",
      "[150]\ttrain-rmse:10.6143\teval-rmse:10.7039\ttrain-score:0.295593\teval-score:0.317165\n",
      "[200]\ttrain-rmse:10.167\teval-rmse:10.1998\ttrain-score:0.353715\teval-score:0.379961\n",
      "[250]\ttrain-rmse:9.80413\teval-rmse:9.78618\ttrain-score:0.399025\teval-score:0.429234\n",
      "[300]\ttrain-rmse:9.51145\teval-rmse:9.4499\ttrain-score:0.434371\teval-score:0.467786\n",
      "[350]\ttrain-rmse:9.27627\teval-rmse:9.17747\ttrain-score:0.461997\teval-score:0.49803\n",
      "[400]\ttrain-rmse:9.0897\teval-rmse:8.95997\ttrain-score:0.48342\teval-score:0.52154\n",
      "[450]\ttrain-rmse:8.94038\teval-rmse:8.78777\ttrain-score:0.500253\teval-score:0.539755\n",
      "[500]\ttrain-rmse:8.82044\teval-rmse:8.65355\ttrain-score:0.513572\teval-score:0.553706\n",
      "[550]\ttrain-rmse:8.7241\teval-rmse:8.54684\ttrain-score:0.52414\teval-score:0.564645\n",
      "[600]\ttrain-rmse:8.64585\teval-rmse:8.46319\ttrain-score:0.532638\teval-score:0.573125\n",
      "[650]\ttrain-rmse:8.58159\teval-rmse:8.39722\ttrain-score:0.53956\teval-score:0.579755\n",
      "[700]\ttrain-rmse:8.52801\teval-rmse:8.34428\ttrain-score:0.545291\teval-score:0.585037\n",
      "[750]\ttrain-rmse:8.4825\teval-rmse:8.29981\ttrain-score:0.550131\teval-score:0.589448\n",
      "[800]\ttrain-rmse:8.44383\teval-rmse:8.26434\ttrain-score:0.554224\teval-score:0.592949\n",
      "[850]\ttrain-rmse:8.41073\teval-rmse:8.23427\ttrain-score:0.557712\teval-score:0.595906\n",
      "[900]\ttrain-rmse:8.38158\teval-rmse:8.20826\ttrain-score:0.560772\teval-score:0.598455\n",
      "[950]\ttrain-rmse:8.35562\teval-rmse:8.18568\ttrain-score:0.563489\teval-score:0.600661\n",
      "[1000]\ttrain-rmse:8.33241\teval-rmse:8.16822\ttrain-score:0.56591\teval-score:0.602363\n",
      "[1050]\ttrain-rmse:8.31048\teval-rmse:8.1537\ttrain-score:0.568192\teval-score:0.603775\n",
      "[1100]\ttrain-rmse:8.29043\teval-rmse:8.14146\ttrain-score:0.570274\teval-score:0.604964\n",
      "[1150]\ttrain-rmse:8.27186\teval-rmse:8.13224\ttrain-score:0.572196\teval-score:0.605858\n",
      "[1200]\ttrain-rmse:8.25451\teval-rmse:8.12688\ttrain-score:0.573989\teval-score:0.606378\n",
      "[1250]\ttrain-rmse:8.23706\teval-rmse:8.12306\ttrain-score:0.575788\teval-score:0.606748\n",
      "[1300]\ttrain-rmse:8.2204\teval-rmse:8.11944\ttrain-score:0.577502\teval-score:0.607098\n",
      "[1350]\ttrain-rmse:8.20464\teval-rmse:8.11606\ttrain-score:0.57912\teval-score:0.607425\n",
      "[1400]\ttrain-rmse:8.18963\teval-rmse:8.11411\ttrain-score:0.580659\teval-score:0.607614\n",
      "[1450]\ttrain-rmse:8.17587\teval-rmse:8.11135\ttrain-score:0.582068\teval-score:0.607881\n",
      "[1500]\ttrain-rmse:8.16218\teval-rmse:8.11057\ttrain-score:0.583465\teval-score:0.607956\n",
      "[1550]\ttrain-rmse:8.1501\teval-rmse:8.10945\ttrain-score:0.584698\teval-score:0.608064\n",
      "[1600]\ttrain-rmse:8.13908\teval-rmse:8.10758\ttrain-score:0.58582\teval-score:0.608245\n",
      "[1650]\ttrain-rmse:8.12807\teval-rmse:8.10823\ttrain-score:0.58694\teval-score:0.608182\n",
      "Stopping. Best iteration:\n",
      "[1610]\ttrain-rmse:8.13722\teval-rmse:8.10733\ttrain-score:0.586009\teval-score:0.60827\n",
      "\n",
      "Fold 3: Score 0.608187\n",
      "[0]\ttrain-rmse:12.6846\teval-rmse:12.4365\ttrain-score:0.00282\teval-score:0.002769\n",
      "Multiple eval metrics have been passed: 'eval-score' will be used for early stopping.\n",
      "\n",
      "Will train until eval-score hasn't improved in 50 rounds.\n",
      "[50]\ttrain-rmse:11.8677\teval-rmse:11.6494\ttrain-score:0.127113\teval-score:0.124993\n",
      "[100]\ttrain-rmse:11.1898\teval-rmse:10.9984\ttrain-score:0.223984\teval-score:0.220059\n",
      "[150]\ttrain-rmse:10.6311\teval-rmse:10.4622\ttrain-score:0.299544\teval-score:0.29425\n",
      "[200]\ttrain-rmse:10.1748\teval-rmse:10.0255\ttrain-score:0.358384\teval-score:0.351945\n",
      "[250]\ttrain-rmse:9.80478\teval-rmse:9.67202\ttrain-score:0.404202\teval-score:0.396836\n",
      "[300]\ttrain-rmse:9.50638\teval-rmse:9.38701\ttrain-score:0.439916\teval-score:0.43186\n",
      "[350]\ttrain-rmse:9.26694\teval-rmse:9.15839\ttrain-score:0.467775\teval-score:0.459197\n",
      "[400]\ttrain-rmse:9.07645\teval-rmse:8.97749\ttrain-score:0.48943\teval-score:0.480349\n",
      "[450]\ttrain-rmse:8.92489\teval-rmse:8.83394\ttrain-score:0.506339\teval-score:0.496834\n",
      "[500]\ttrain-rmse:8.80367\teval-rmse:8.71743\ttrain-score:0.519658\teval-score:0.51002\n",
      "[550]\ttrain-rmse:8.70644\teval-rmse:8.62632\ttrain-score:0.53021\teval-score:0.520209\n",
      "[600]\ttrain-rmse:8.62752\teval-rmse:8.55749\ttrain-score:0.538688\teval-score:0.527834\n",
      "[650]\ttrain-rmse:8.56235\teval-rmse:8.50159\ttrain-score:0.545631\teval-score:0.533983\n",
      "[700]\ttrain-rmse:8.50783\teval-rmse:8.458\ttrain-score:0.551398\teval-score:0.53875\n",
      "[750]\ttrain-rmse:8.46146\teval-rmse:8.42376\ttrain-score:0.556275\teval-score:0.542477\n",
      "[800]\ttrain-rmse:8.42161\teval-rmse:8.39696\ttrain-score:0.560445\teval-score:0.545383\n",
      "[850]\ttrain-rmse:8.38712\teval-rmse:8.37597\ttrain-score:0.564038\teval-score:0.547653\n",
      "[900]\ttrain-rmse:8.357\teval-rmse:8.3582\ttrain-score:0.567164\teval-score:0.54957\n",
      "[950]\ttrain-rmse:8.33036\teval-rmse:8.34583\ttrain-score:0.569919\teval-score:0.550903\n",
      "[1000]\ttrain-rmse:8.3069\teval-rmse:8.33388\ttrain-score:0.572338\teval-score:0.552188\n",
      "[1050]\ttrain-rmse:8.28529\teval-rmse:8.32412\ttrain-score:0.57456\teval-score:0.553236\n",
      "[1100]\ttrain-rmse:8.26499\teval-rmse:8.31591\ttrain-score:0.576642\teval-score:0.554117\n",
      "[1150]\ttrain-rmse:8.24627\teval-rmse:8.30773\ttrain-score:0.578558\teval-score:0.554994\n",
      "[1200]\ttrain-rmse:8.22899\teval-rmse:8.30033\ttrain-score:0.580322\teval-score:0.555786\n",
      "[1250]\ttrain-rmse:8.21236\teval-rmse:8.29434\ttrain-score:0.582017\teval-score:0.556427\n",
      "[1300]\ttrain-rmse:8.19658\teval-rmse:8.28897\ttrain-score:0.583621\teval-score:0.557002\n",
      "[1350]\ttrain-rmse:8.18186\teval-rmse:8.28506\ttrain-score:0.585116\teval-score:0.557419\n",
      "[1400]\ttrain-rmse:8.16745\teval-rmse:8.28187\ttrain-score:0.586576\teval-score:0.55776\n"
     ]
    },
    {
     "name": "stdout",
     "output_type": "stream",
     "text": [
      "[1450]\ttrain-rmse:8.15389\teval-rmse:8.27858\ttrain-score:0.587947\teval-score:0.558111\n",
      "[1500]\ttrain-rmse:8.14099\teval-rmse:8.27672\ttrain-score:0.58925\teval-score:0.558309\n",
      "[1550]\ttrain-rmse:8.12878\teval-rmse:8.27575\ttrain-score:0.590481\teval-score:0.558413\n",
      "Stopping. Best iteration:\n",
      "[1526]\ttrain-rmse:8.13465\teval-rmse:8.2756\ttrain-score:0.589889\teval-score:0.558429\n",
      "\n",
      "Fold 4: Score 0.558363\n",
      "[0]\ttrain-rmse:12.4423\teval-rmse:14.4752\ttrain-score:0.002949\teval-score:0.001924\n",
      "Multiple eval metrics have been passed: 'eval-score' will be used for early stopping.\n",
      "\n",
      "Will train until eval-score hasn't improved in 50 rounds.\n",
      "[50]\ttrain-rmse:11.6046\teval-rmse:13.7928\ttrain-score:0.132689\teval-score:0.093809\n",
      "[100]\ttrain-rmse:10.9076\teval-rmse:13.2428\ttrain-score:0.233752\teval-score:0.164636\n",
      "[150]\ttrain-rmse:10.3315\teval-rmse:12.803\ttrain-score:0.31255\teval-score:0.219203\n",
      "[200]\ttrain-rmse:9.85916\teval-rmse:12.4536\ttrain-score:0.373973\teval-score:0.261231\n",
      "[250]\ttrain-rmse:9.47506\teval-rmse:12.1796\ttrain-score:0.421802\teval-score:0.293388\n",
      "[300]\ttrain-rmse:9.16441\teval-rmse:11.9665\ttrain-score:0.459093\teval-score:0.317896\n",
      "[350]\ttrain-rmse:8.91449\teval-rmse:11.8011\ttrain-score:0.488193\teval-score:0.336621\n",
      "[400]\ttrain-rmse:8.71513\teval-rmse:11.6729\ttrain-score:0.510829\teval-score:0.35095\n",
      "[450]\ttrain-rmse:8.5563\teval-rmse:11.5751\ttrain-score:0.528496\teval-score:0.361791\n",
      "[500]\ttrain-rmse:8.42905\teval-rmse:11.5024\ttrain-score:0.542416\teval-score:0.369772\n",
      "[550]\ttrain-rmse:8.32706\teval-rmse:11.4545\ttrain-score:0.553423\teval-score:0.37501\n",
      "[600]\ttrain-rmse:8.24429\teval-rmse:11.4172\ttrain-score:0.562256\teval-score:0.379078\n",
      "[650]\ttrain-rmse:8.17566\teval-rmse:11.3918\ttrain-score:0.569515\teval-score:0.381841\n",
      "[700]\ttrain-rmse:8.11898\teval-rmse:11.3705\ttrain-score:0.575463\teval-score:0.384153\n",
      "[750]\ttrain-rmse:8.07132\teval-rmse:11.3534\ttrain-score:0.580432\teval-score:0.385994\n",
      "[800]\ttrain-rmse:8.03053\teval-rmse:11.3407\ttrain-score:0.584662\teval-score:0.387375\n",
      "[850]\ttrain-rmse:7.99642\teval-rmse:11.3316\ttrain-score:0.588182\teval-score:0.388351\n",
      "[900]\ttrain-rmse:7.96659\teval-rmse:11.3257\ttrain-score:0.591249\teval-score:0.388994\n",
      "[950]\ttrain-rmse:7.94014\teval-rmse:11.3209\ttrain-score:0.59396\teval-score:0.389512\n",
      "[1000]\ttrain-rmse:7.91723\teval-rmse:11.3175\ttrain-score:0.596299\teval-score:0.389871\n",
      "[1050]\ttrain-rmse:7.8966\teval-rmse:11.3143\ttrain-score:0.5984\teval-score:0.39022\n",
      "[1100]\ttrain-rmse:7.87777\teval-rmse:11.3105\ttrain-score:0.600313\teval-score:0.390633\n",
      "[1150]\ttrain-rmse:7.86076\teval-rmse:11.3074\ttrain-score:0.602038\teval-score:0.390959\n",
      "[1200]\ttrain-rmse:7.84493\teval-rmse:11.3046\ttrain-score:0.603639\teval-score:0.391268\n",
      "[1250]\ttrain-rmse:7.83023\teval-rmse:11.3005\ttrain-score:0.605123\teval-score:0.391708\n",
      "[1300]\ttrain-rmse:7.81642\teval-rmse:11.2992\ttrain-score:0.606514\teval-score:0.391843\n",
      "[1350]\ttrain-rmse:7.80283\teval-rmse:11.2973\ttrain-score:0.607882\teval-score:0.392056\n",
      "[1400]\ttrain-rmse:7.79003\teval-rmse:11.2966\ttrain-score:0.609167\teval-score:0.392132\n",
      "[1450]\ttrain-rmse:7.77791\teval-rmse:11.296\ttrain-score:0.610382\teval-score:0.392194\n",
      "[1500]\ttrain-rmse:7.76643\teval-rmse:11.2954\ttrain-score:0.611532\teval-score:0.392258\n",
      "Stopping. Best iteration:\n",
      "[1493]\ttrain-rmse:7.76793\teval-rmse:11.2949\ttrain-score:0.611381\teval-score:0.392307\n",
      "\n",
      "Fold 5: Score 0.392236\n",
      "[0]\ttrain-rmse:12.6853\teval-rmse:12.4295\ttrain-score:0.002828\teval-score:0.002779\n",
      "Multiple eval metrics have been passed: 'eval-score' will be used for early stopping.\n",
      "\n",
      "Will train until eval-score hasn't improved in 50 rounds.\n",
      "[50]\ttrain-rmse:11.8667\teval-rmse:11.6403\ttrain-score:0.127373\teval-score:0.125397\n",
      "[100]\ttrain-rmse:11.1881\teval-rmse:10.9879\ttrain-score:0.224313\teval-score:0.220684\n",
      "[150]\ttrain-rmse:10.6292\teval-rmse:10.4526\ttrain-score:0.29988\teval-score:0.29477\n",
      "[200]\ttrain-rmse:10.173\teval-rmse:10.0176\ttrain-score:0.358682\teval-score:0.352245\n",
      "[250]\ttrain-rmse:9.80289\teval-rmse:9.66576\ttrain-score:0.404503\teval-score:0.396946\n",
      "[300]\ttrain-rmse:9.50382\teval-rmse:9.3837\ttrain-score:0.440284\teval-score:0.431628\n",
      "[350]\ttrain-rmse:9.2639\teval-rmse:9.15887\ttrain-score:0.468186\teval-score:0.458538\n",
      "[400]\ttrain-rmse:9.07363\teval-rmse:8.98374\ttrain-score:0.489808\teval-score:0.479047\n",
      "[450]\ttrain-rmse:8.92117\teval-rmse:8.84824\ttrain-score:0.506808\teval-score:0.494643\n",
      "[500]\ttrain-rmse:8.7988\teval-rmse:8.74627\ttrain-score:0.520246\teval-score:0.506223\n",
      "[550]\ttrain-rmse:8.70081\teval-rmse:8.6676\ttrain-score:0.530873\teval-score:0.515067\n",
      "[600]\ttrain-rmse:8.62162\teval-rmse:8.6079\ttrain-score:0.539373\teval-score:0.521724\n",
      "[650]\ttrain-rmse:8.55671\teval-rmse:8.5624\ttrain-score:0.546283\teval-score:0.526767\n",
      "[700]\ttrain-rmse:8.50256\teval-rmse:8.52354\ttrain-score:0.552007\teval-score:0.531052\n",
      "[750]\ttrain-rmse:8.45671\teval-rmse:8.49459\ttrain-score:0.556825\teval-score:0.534232\n",
      "[800]\ttrain-rmse:8.41759\teval-rmse:8.46551\ttrain-score:0.560916\teval-score:0.537416\n",
      "[850]\ttrain-rmse:8.38382\teval-rmse:8.44605\ttrain-score:0.564432\teval-score:0.53954\n",
      "[900]\ttrain-rmse:8.3546\teval-rmse:8.42638\ttrain-score:0.567463\teval-score:0.541683\n",
      "[950]\ttrain-rmse:8.32841\teval-rmse:8.41263\ttrain-score:0.57017\teval-score:0.543177\n",
      "[1000]\ttrain-rmse:8.30524\teval-rmse:8.39981\ttrain-score:0.572559\teval-score:0.544569\n",
      "[1050]\ttrain-rmse:8.28383\teval-rmse:8.38783\ttrain-score:0.574759\teval-score:0.545866\n",
      "[1100]\ttrain-rmse:8.26427\teval-rmse:8.37905\ttrain-score:0.576765\teval-score:0.546817\n",
      "[1150]\ttrain-rmse:8.24598\teval-rmse:8.36793\ttrain-score:0.578637\teval-score:0.548019\n",
      "[1200]\ttrain-rmse:8.22929\teval-rmse:8.35869\ttrain-score:0.580341\teval-score:0.549017\n",
      "[1250]\ttrain-rmse:8.21227\teval-rmse:8.34925\ttrain-score:0.582075\teval-score:0.550035\n",
      "[1300]\ttrain-rmse:8.19676\teval-rmse:8.34191\ttrain-score:0.583652\teval-score:0.550825\n",
      "[1350]\ttrain-rmse:8.18195\teval-rmse:8.33518\ttrain-score:0.585155\teval-score:0.55155\n",
      "[1400]\ttrain-rmse:8.16725\teval-rmse:8.3301\ttrain-score:0.586644\teval-score:0.552097\n",
      "[1450]\ttrain-rmse:8.15417\teval-rmse:8.32536\ttrain-score:0.587967\teval-score:0.552605\n",
      "[1500]\ttrain-rmse:8.14144\teval-rmse:8.32112\ttrain-score:0.589253\teval-score:0.553061\n",
      "[1550]\ttrain-rmse:8.12927\teval-rmse:8.31704\ttrain-score:0.59048\teval-score:0.5535\n",
      "[1600]\ttrain-rmse:8.11758\teval-rmse:8.31447\ttrain-score:0.591657\teval-score:0.553775\n",
      "[1650]\ttrain-rmse:8.10633\teval-rmse:8.31238\ttrain-score:0.592788\teval-score:0.554\n",
      "[1700]\ttrain-rmse:8.09591\teval-rmse:8.31079\ttrain-score:0.593834\teval-score:0.55417\n",
      "[1750]\ttrain-rmse:8.08563\teval-rmse:8.30771\ttrain-score:0.594865\teval-score:0.554501\n",
      "[1800]\ttrain-rmse:8.07497\teval-rmse:8.30549\ttrain-score:0.595933\teval-score:0.554739\n",
      "[1850]\ttrain-rmse:8.06562\teval-rmse:8.30311\ttrain-score:0.596868\teval-score:0.554994\n",
      "[1900]\ttrain-rmse:8.05579\teval-rmse:8.30204\ttrain-score:0.59785\teval-score:0.555109\n",
      "[1950]\ttrain-rmse:8.04625\teval-rmse:8.30133\ttrain-score:0.598801\teval-score:0.555184\n",
      "[2000]\ttrain-rmse:8.03753\teval-rmse:8.30059\ttrain-score:0.599671\teval-score:0.555263\n",
      "[2050]\ttrain-rmse:8.02834\teval-rmse:8.29983\ttrain-score:0.600586\teval-score:0.555346\n",
      "[2100]\ttrain-rmse:8.01993\teval-rmse:8.29904\ttrain-score:0.601422\teval-score:0.55543\n",
      "[2150]\ttrain-rmse:8.01136\teval-rmse:8.29924\ttrain-score:0.602274\teval-score:0.555409\n",
      "Stopping. Best iteration:\n",
      "[2102]\ttrain-rmse:8.01935\teval-rmse:8.29875\ttrain-score:0.60148\teval-score:0.555462\n",
      "\n",
      "Fold 6: Score 0.555415\n",
      "[0]\ttrain-rmse:12.7334\teval-rmse:11.9776\ttrain-score:0.002802\teval-score:0.002903\n",
      "Multiple eval metrics have been passed: 'eval-score' will be used for early stopping.\n",
      "\n",
      "Will train until eval-score hasn't improved in 50 rounds.\n",
      "[50]\ttrain-rmse:11.9167\teval-rmse:11.1524\ttrain-score:0.126608\teval-score:0.135557\n",
      "[100]\ttrain-rmse:11.2404\teval-rmse:10.47\ttrain-score:0.222932\teval-score:0.238109\n",
      "[150]\ttrain-rmse:10.6851\teval-rmse:9.91155\ttrain-score:0.297813\teval-score:0.317216\n",
      "[200]\ttrain-rmse:10.2311\teval-rmse:9.45708\ttrain-score:0.356221\teval-score:0.378395\n",
      "[250]\ttrain-rmse:9.86206\teval-rmse:9.08897\ttrain-score:0.401822\teval-score:0.425845\n",
      "[300]\ttrain-rmse:9.56456\teval-rmse:8.79438\ttrain-score:0.437367\teval-score:0.46246\n",
      "[350]\ttrain-rmse:9.32554\teval-rmse:8.55897\ttrain-score:0.465136\teval-score:0.490853\n",
      "[400]\ttrain-rmse:9.13539\teval-rmse:8.37526\ttrain-score:0.486726\teval-score:0.512475\n",
      "[450]\ttrain-rmse:8.98357\teval-rmse:8.2314\ttrain-score:0.503645\teval-score:0.52908\n"
     ]
    },
    {
     "name": "stdout",
     "output_type": "stream",
     "text": [
      "[500]\ttrain-rmse:8.86158\teval-rmse:8.12212\ttrain-score:0.517033\teval-score:0.5415\n",
      "[550]\ttrain-rmse:8.76361\teval-rmse:8.03774\ttrain-score:0.527654\teval-score:0.550977\n",
      "[600]\ttrain-rmse:8.68434\teval-rmse:7.97197\ttrain-score:0.53616\teval-score:0.558296\n",
      "[650]\ttrain-rmse:8.61848\teval-rmse:7.92273\ttrain-score:0.543169\teval-score:0.563736\n",
      "[700]\ttrain-rmse:8.56345\teval-rmse:7.88287\ttrain-score:0.548983\teval-score:0.568114\n",
      "[750]\ttrain-rmse:8.51654\teval-rmse:7.85245\ttrain-score:0.553911\teval-score:0.571442\n",
      "[800]\ttrain-rmse:8.47649\teval-rmse:7.82849\ttrain-score:0.558096\teval-score:0.574053\n",
      "[850]\ttrain-rmse:8.44199\teval-rmse:7.81069\ttrain-score:0.561687\teval-score:0.575988\n",
      "[900]\ttrain-rmse:8.41205\teval-rmse:7.79564\ttrain-score:0.56479\teval-score:0.57762\n",
      "[950]\ttrain-rmse:8.38498\teval-rmse:7.78474\ttrain-score:0.567587\teval-score:0.5788\n",
      "[1000]\ttrain-rmse:8.36098\teval-rmse:7.77653\ttrain-score:0.570059\teval-score:0.579688\n",
      "[1050]\ttrain-rmse:8.33903\teval-rmse:7.76956\ttrain-score:0.572313\teval-score:0.580441\n",
      "[1100]\ttrain-rmse:8.3185\teval-rmse:7.76363\ttrain-score:0.574417\teval-score:0.581081\n",
      "[1150]\ttrain-rmse:8.29884\teval-rmse:7.75968\ttrain-score:0.576425\teval-score:0.581508\n",
      "[1200]\ttrain-rmse:8.28107\teval-rmse:7.75487\ttrain-score:0.578238\teval-score:0.582027\n",
      "[1250]\ttrain-rmse:8.26359\teval-rmse:7.75227\ttrain-score:0.580017\teval-score:0.582307\n",
      "[1300]\ttrain-rmse:8.24758\teval-rmse:7.7505\ttrain-score:0.581643\teval-score:0.582497\n",
      "[1350]\ttrain-rmse:8.23162\teval-rmse:7.74847\ttrain-score:0.58326\teval-score:0.582716\n",
      "[1400]\ttrain-rmse:8.21574\teval-rmse:7.74803\ttrain-score:0.584866\teval-score:0.582764\n",
      "[1450]\ttrain-rmse:8.20184\teval-rmse:7.74862\ttrain-score:0.586269\teval-score:0.5827\n",
      "Stopping. Best iteration:\n",
      "[1406]\ttrain-rmse:8.21412\teval-rmse:7.74789\ttrain-score:0.585029\teval-score:0.582778\n",
      "\n",
      "Fold 7: Score 0.582729\n",
      "[0]\ttrain-rmse:12.7642\teval-rmse:11.6774\ttrain-score:0.002796\teval-score:0.002904\n",
      "Multiple eval metrics have been passed: 'eval-score' will be used for early stopping.\n",
      "\n",
      "Will train until eval-score hasn't improved in 50 rounds.\n",
      "[50]\ttrain-rmse:11.9495\teval-rmse:10.8494\ttrain-score:0.126033\teval-score:0.1393\n",
      "[100]\ttrain-rmse:11.2745\teval-rmse:10.1606\ttrain-score:0.221985\teval-score:0.245113\n",
      "[150]\ttrain-rmse:10.7189\teval-rmse:9.59204\ttrain-score:0.29677\teval-score:0.327234\n",
      "[200]\ttrain-rmse:10.2654\teval-rmse:9.12575\ttrain-score:0.355018\teval-score:0.391054\n",
      "[250]\ttrain-rmse:9.89729\teval-rmse:8.74671\ttrain-score:0.400446\teval-score:0.440589\n",
      "[300]\ttrain-rmse:9.60053\teval-rmse:8.44158\ttrain-score:0.435861\teval-score:0.478937\n",
      "[350]\ttrain-rmse:9.3626\teval-rmse:8.19711\ttrain-score:0.463477\teval-score:0.508681\n",
      "[400]\ttrain-rmse:9.17343\teval-rmse:8.00275\ttrain-score:0.484939\teval-score:0.531705\n",
      "[450]\ttrain-rmse:9.02283\teval-rmse:7.84906\ttrain-score:0.501711\teval-score:0.549518\n",
      "[500]\ttrain-rmse:8.90207\teval-rmse:7.72738\ttrain-score:0.51496\teval-score:0.563378\n",
      "[550]\ttrain-rmse:8.80544\teval-rmse:7.6323\ttrain-score:0.525433\teval-score:0.574056\n",
      "[600]\ttrain-rmse:8.72707\teval-rmse:7.55795\ttrain-score:0.533843\teval-score:0.582314\n",
      "[650]\ttrain-rmse:8.66284\teval-rmse:7.50036\ttrain-score:0.540679\teval-score:0.588655\n",
      "[700]\ttrain-rmse:8.60921\teval-rmse:7.45334\ttrain-score:0.546349\teval-score:0.593796\n",
      "[750]\ttrain-rmse:8.56369\teval-rmse:7.41723\ttrain-score:0.551133\teval-score:0.597723\n",
      "[800]\ttrain-rmse:8.5246\teval-rmse:7.38859\ttrain-score:0.555222\teval-score:0.600823\n",
      "[850]\ttrain-rmse:8.49095\teval-rmse:7.36605\ttrain-score:0.558726\teval-score:0.603255\n",
      "[900]\ttrain-rmse:8.46126\teval-rmse:7.34565\ttrain-score:0.561807\teval-score:0.60545\n",
      "[950]\ttrain-rmse:8.43471\teval-rmse:7.32922\ttrain-score:0.564553\teval-score:0.607213\n",
      "[1000]\ttrain-rmse:8.41104\teval-rmse:7.31694\ttrain-score:0.566993\teval-score:0.608528\n",
      "[1050]\ttrain-rmse:8.38901\teval-rmse:7.30496\ttrain-score:0.569259\teval-score:0.609808\n",
      "[1100]\ttrain-rmse:8.36887\teval-rmse:7.29534\ttrain-score:0.571324\teval-score:0.610836\n",
      "[1150]\ttrain-rmse:8.35012\teval-rmse:7.28635\ttrain-score:0.573243\teval-score:0.611794\n",
      "[1200]\ttrain-rmse:8.3326\teval-rmse:7.27846\ttrain-score:0.575032\teval-score:0.612634\n",
      "[1250]\ttrain-rmse:8.31576\teval-rmse:7.27249\ttrain-score:0.576748\teval-score:0.613269\n",
      "[1300]\ttrain-rmse:8.30023\teval-rmse:7.268\ttrain-score:0.578327\teval-score:0.613747\n",
      "[1350]\ttrain-rmse:8.28542\teval-rmse:7.26268\ttrain-score:0.579831\teval-score:0.614312\n",
      "[1400]\ttrain-rmse:8.26981\teval-rmse:7.25889\ttrain-score:0.581412\teval-score:0.614715\n",
      "[1450]\ttrain-rmse:8.25579\teval-rmse:7.25661\ttrain-score:0.58283\teval-score:0.614957\n",
      "[1500]\ttrain-rmse:8.24317\teval-rmse:7.25265\ttrain-score:0.584105\teval-score:0.615376\n",
      "[1550]\ttrain-rmse:8.23115\teval-rmse:7.25053\ttrain-score:0.585317\teval-score:0.615602\n",
      "[1600]\ttrain-rmse:8.21922\teval-rmse:7.2474\ttrain-score:0.586518\teval-score:0.615933\n",
      "[1650]\ttrain-rmse:8.20731\teval-rmse:7.24452\ttrain-score:0.587716\teval-score:0.616239\n",
      "[1700]\ttrain-rmse:8.19678\teval-rmse:7.2442\ttrain-score:0.588773\teval-score:0.616273\n",
      "[1750]\ttrain-rmse:8.18649\teval-rmse:7.2422\ttrain-score:0.589804\teval-score:0.616485\n",
      "[1800]\ttrain-rmse:8.17604\teval-rmse:7.24007\ttrain-score:0.590851\teval-score:0.61671\n",
      "[1850]\ttrain-rmse:8.16652\teval-rmse:7.23863\ttrain-score:0.591803\teval-score:0.616862\n",
      "[1900]\ttrain-rmse:8.15739\teval-rmse:7.23637\ttrain-score:0.592715\teval-score:0.617102\n",
      "[1950]\ttrain-rmse:8.14934\teval-rmse:7.23663\ttrain-score:0.593519\teval-score:0.617074\n",
      "Stopping. Best iteration:\n",
      "[1908]\ttrain-rmse:8.15622\teval-rmse:7.23581\ttrain-score:0.592832\teval-score:0.617161\n",
      "\n",
      "Fold 8: Score 0.617083\n",
      "[0]\ttrain-rmse:12.601\teval-rmse:13.1824\ttrain-score:0.002776\teval-score:0.002538\n",
      "Multiple eval metrics have been passed: 'eval-score' will be used for early stopping.\n",
      "\n",
      "Will train until eval-score hasn't improved in 50 rounds.\n",
      "[50]\ttrain-rmse:11.7988\teval-rmse:12.3233\ttrain-score:0.125707\teval-score:0.128318\n",
      "[100]\ttrain-rmse:11.1343\teval-rmse:11.6039\ttrain-score:0.221408\teval-score:0.227119\n",
      "[150]\ttrain-rmse:10.5871\teval-rmse:11.0038\ttrain-score:0.296058\teval-score:0.304987\n",
      "[200]\ttrain-rmse:10.1406\teval-rmse:10.5066\ttrain-score:0.354179\teval-score:0.366375\n",
      "[250]\ttrain-rmse:9.77899\teval-rmse:10.0973\ttrain-score:0.39942\teval-score:0.414781\n",
      "[300]\ttrain-rmse:9.48735\teval-rmse:9.76135\ttrain-score:0.434708\teval-score:0.453079\n",
      "[350]\ttrain-rmse:9.25307\teval-rmse:9.48588\ttrain-score:0.462282\teval-score:0.483512\n",
      "[400]\ttrain-rmse:9.06706\teval-rmse:9.2616\ttrain-score:0.483684\teval-score:0.507647\n",
      "[450]\ttrain-rmse:8.91892\teval-rmse:9.07868\ttrain-score:0.500417\teval-score:0.526904\n",
      "[500]\ttrain-rmse:8.80097\teval-rmse:8.92753\ttrain-score:0.513543\teval-score:0.542526\n",
      "[550]\ttrain-rmse:8.707\teval-rmse:8.8056\ttrain-score:0.523876\teval-score:0.554936\n",
      "[600]\ttrain-rmse:8.63081\teval-rmse:8.70563\ttrain-score:0.532172\teval-score:0.564985\n",
      "[650]\ttrain-rmse:8.56823\teval-rmse:8.62605\ttrain-score:0.538931\teval-score:0.572901\n",
      "[700]\ttrain-rmse:8.51589\teval-rmse:8.5616\ttrain-score:0.544547\teval-score:0.57926\n",
      "[750]\ttrain-rmse:8.47098\teval-rmse:8.50904\ttrain-score:0.549339\teval-score:0.58441\n",
      "[800]\ttrain-rmse:8.43214\teval-rmse:8.46378\ttrain-score:0.553462\teval-score:0.588819\n",
      "[850]\ttrain-rmse:8.39886\teval-rmse:8.42514\ttrain-score:0.55698\teval-score:0.592565\n",
      "[900]\ttrain-rmse:8.36958\teval-rmse:8.39238\ttrain-score:0.560063\teval-score:0.595727\n",
      "[950]\ttrain-rmse:8.3431\teval-rmse:8.36596\ttrain-score:0.562843\teval-score:0.598269\n",
      "[1000]\ttrain-rmse:8.31946\teval-rmse:8.34361\ttrain-score:0.565316\teval-score:0.600412\n",
      "[1050]\ttrain-rmse:8.29743\teval-rmse:8.3258\ttrain-score:0.567615\teval-score:0.602116\n",
      "[1100]\ttrain-rmse:8.27743\teval-rmse:8.31034\ttrain-score:0.569697\teval-score:0.603592\n",
      "[1150]\ttrain-rmse:8.25844\teval-rmse:8.29665\ttrain-score:0.57167\teval-score:0.604897\n",
      "[1200]\ttrain-rmse:8.24123\teval-rmse:8.28649\ttrain-score:0.573452\teval-score:0.605865\n",
      "[1250]\ttrain-rmse:8.22453\teval-rmse:8.27733\ttrain-score:0.575179\teval-score:0.606735\n",
      "[1300]\ttrain-rmse:8.20885\teval-rmse:8.26886\ttrain-score:0.576798\teval-score:0.60754\n",
      "[1350]\ttrain-rmse:8.19415\teval-rmse:8.26295\ttrain-score:0.578312\teval-score:0.6081\n",
      "[1400]\ttrain-rmse:8.17979\teval-rmse:8.25794\ttrain-score:0.579789\teval-score:0.608575\n",
      "[1450]\ttrain-rmse:8.16669\teval-rmse:8.25318\ttrain-score:0.581134\teval-score:0.609027\n",
      "[1500]\ttrain-rmse:8.15362\teval-rmse:8.24971\ttrain-score:0.582474\teval-score:0.609356\n"
     ]
    },
    {
     "name": "stdout",
     "output_type": "stream",
     "text": [
      "[1550]\ttrain-rmse:8.14185\teval-rmse:8.24606\ttrain-score:0.583678\teval-score:0.609701\n",
      "[1600]\ttrain-rmse:8.13035\teval-rmse:8.24439\ttrain-score:0.584854\teval-score:0.609859\n",
      "[1650]\ttrain-rmse:8.1198\teval-rmse:8.24185\ttrain-score:0.58593\teval-score:0.610099\n",
      "[1700]\ttrain-rmse:8.1094\teval-rmse:8.23906\ttrain-score:0.58699\teval-score:0.610363\n",
      "[1750]\ttrain-rmse:8.09988\teval-rmse:8.23809\ttrain-score:0.58796\teval-score:0.610455\n",
      "[1800]\ttrain-rmse:8.09023\teval-rmse:8.23625\ttrain-score:0.588941\teval-score:0.610629\n",
      "[1850]\ttrain-rmse:8.08087\teval-rmse:8.23424\ttrain-score:0.589891\teval-score:0.610819\n",
      "[1900]\ttrain-rmse:8.07187\teval-rmse:8.23296\ttrain-score:0.590804\teval-score:0.61094\n",
      "[1950]\ttrain-rmse:8.06312\teval-rmse:8.23179\ttrain-score:0.59169\teval-score:0.611051\n",
      "[2000]\ttrain-rmse:8.05497\teval-rmse:8.23149\ttrain-score:0.592515\teval-score:0.611079\n",
      "[2050]\ttrain-rmse:8.04711\teval-rmse:8.23086\ttrain-score:0.59331\teval-score:0.611138\n",
      "[2100]\ttrain-rmse:8.0394\teval-rmse:8.23104\ttrain-score:0.594089\teval-score:0.611121\n",
      "Stopping. Best iteration:\n",
      "[2083]\ttrain-rmse:8.04222\teval-rmse:8.23038\ttrain-score:0.593805\teval-score:0.611184\n",
      "\n",
      "Fold 9: Score 0.611135\n",
      "=====================\n",
      "Final Score 0.573394\n",
      "=====================\n"
     ]
    }
   ],
   "source": [
    "k = 10\n",
    "# bin\n",
    "bin_y = pd.qcut(y_train_all, k, labels = [i for i in range(1, k + 1)]).astype(\"int64\")\n",
    "# stratified kfold\n",
    "skf = StratifiedKFold(n_splits = k, shuffle = True, random_state = 888)\n",
    "\n",
    "score_skf_valid = 0\n",
    "score_skf = 0\n",
    "preds_skf_test = []\n",
    "for i, (ind_train, ind_valid) in enumerate(skf.split(X_train_all, bin_y)):\n",
    "    # X, y\n",
    "    X_train, X_valid = X_train_all.iloc[ind_train], X_train_all.iloc[ind_valid]\n",
    "    y_train, y_valid = y_train_all[ind_train], y_train_all[ind_valid]\n",
    "    # xgb.DMatrix\n",
    "    dmx_train_all = xgb.DMatrix(X_train, label = y_train)\n",
    "    dmx_valid_all = xgb.DMatrix(X_valid, label = y_valid)\n",
    "    ls_watch =  [(dmx_train_all, 'train'), (dmx_valid_all, 'eval')]\n",
    "    \n",
    "    model_xgb = xgb.train(params_xgb, dmx_train_all, evals = ls_watch\n",
    "                          , num_boost_round = 5000\n",
    "                          , feval = r_2, maximize = True, early_stopping_rounds = 50\n",
    "                          , verbose_eval = 50\n",
    "                         )\n",
    "    \n",
    "    preds_valid = model_xgb.predict(dmx_valid_all)\n",
    "    score_skf_valid = r2_score(y_valid, preds_valid)\n",
    "    print('Fold %d: Score %f'%(i, score_skf_valid))\n",
    "\n",
    "    score_skf += score_skf_valid\n",
    "\n",
    "score_skf /= k\n",
    "print('=====================')\n",
    "\n",
    "print( 'Final Score %f'%score_skf)\n",
    "\n",
    "print('=====================')"
   ]
  },
  {
   "cell_type": "code",
   "execution_count": 35,
   "metadata": {
    "scrolled": true
   },
   "outputs": [
    {
     "name": "stdout",
     "output_type": "stream",
     "text": [
      "[0]\ttrain-rmse:11.9709+0.102758\ttrain-score:0.107556+0.00221885\ttest-rmse:11.9406+0.870956\ttest-score:0.106506+0.0154231\n",
      "[50]\ttrain-rmse:8.02038+0.164943\ttrain-score:0.59937+0.0113859\ttest-rmse:8.23394+1.30232\ttest-score:0.574768+0.0854216\n"
     ]
    },
    {
     "ename": "KeyboardInterrupt",
     "evalue": "",
     "output_type": "error",
     "traceback": [
      "\u001b[0;31m---------------------------------------------------------------------------\u001b[0m",
      "\u001b[0;31mKeyboardInterrupt\u001b[0m                         Traceback (most recent call last)",
      "\u001b[0;32m<ipython-input-35-0bfda6508e39>\u001b[0m in \u001b[0;36m<module>\u001b[0;34m()\u001b[0m\n\u001b[1;32m      4\u001b[0m                 \u001b[0;34m,\u001b[0m \u001b[0mnfold\u001b[0m \u001b[0;34m=\u001b[0m \u001b[0;36m10\u001b[0m\u001b[0;34m\u001b[0m\u001b[0m\n\u001b[1;32m      5\u001b[0m                 \u001b[0;34m,\u001b[0m \u001b[0mfeval\u001b[0m \u001b[0;34m=\u001b[0m \u001b[0mr_2\u001b[0m\u001b[0;34m,\u001b[0m \u001b[0mmaximize\u001b[0m \u001b[0;34m=\u001b[0m \u001b[0;32mTrue\u001b[0m\u001b[0;34m,\u001b[0m \u001b[0mearly_stopping_rounds\u001b[0m \u001b[0;34m=\u001b[0m \u001b[0;36m50\u001b[0m\u001b[0;34m\u001b[0m\u001b[0m\n\u001b[0;32m----> 6\u001b[0;31m                 , show_stdv = True, verbose_eval = 50)\n\u001b[0m",
      "\u001b[0;32m/home/noahhhhhh/Libraries/xgboost/python-package/xgboost/training.py\u001b[0m in \u001b[0;36mcv\u001b[0;34m(params, dtrain, num_boost_round, nfold, stratified, folds, metrics, obj, feval, maximize, early_stopping_rounds, fpreproc, as_pandas, verbose_eval, show_stdv, seed, callbacks, shuffle)\u001b[0m\n\u001b[1;32m    405\u001b[0m                            evaluation_result_list=None))\n\u001b[1;32m    406\u001b[0m         \u001b[0;32mfor\u001b[0m \u001b[0mfold\u001b[0m \u001b[0;32min\u001b[0m \u001b[0mcvfolds\u001b[0m\u001b[0;34m:\u001b[0m\u001b[0;34m\u001b[0m\u001b[0m\n\u001b[0;32m--> 407\u001b[0;31m             \u001b[0mfold\u001b[0m\u001b[0;34m.\u001b[0m\u001b[0mupdate\u001b[0m\u001b[0;34m(\u001b[0m\u001b[0mi\u001b[0m\u001b[0;34m,\u001b[0m \u001b[0mobj\u001b[0m\u001b[0;34m)\u001b[0m\u001b[0;34m\u001b[0m\u001b[0m\n\u001b[0m\u001b[1;32m    408\u001b[0m         \u001b[0mres\u001b[0m \u001b[0;34m=\u001b[0m \u001b[0maggcv\u001b[0m\u001b[0;34m(\u001b[0m\u001b[0;34m[\u001b[0m\u001b[0mf\u001b[0m\u001b[0;34m.\u001b[0m\u001b[0meval\u001b[0m\u001b[0;34m(\u001b[0m\u001b[0mi\u001b[0m\u001b[0;34m,\u001b[0m \u001b[0mfeval\u001b[0m\u001b[0;34m)\u001b[0m \u001b[0;32mfor\u001b[0m \u001b[0mf\u001b[0m \u001b[0;32min\u001b[0m \u001b[0mcvfolds\u001b[0m\u001b[0;34m]\u001b[0m\u001b[0;34m)\u001b[0m\u001b[0;34m\u001b[0m\u001b[0m\n\u001b[1;32m    409\u001b[0m \u001b[0;34m\u001b[0m\u001b[0m\n",
      "\u001b[0;32m/home/noahhhhhh/Libraries/xgboost/python-package/xgboost/training.py\u001b[0m in \u001b[0;36mupdate\u001b[0;34m(self, iteration, fobj)\u001b[0m\n\u001b[1;32m    216\u001b[0m     \u001b[0;32mdef\u001b[0m \u001b[0mupdate\u001b[0m\u001b[0;34m(\u001b[0m\u001b[0mself\u001b[0m\u001b[0;34m,\u001b[0m \u001b[0miteration\u001b[0m\u001b[0;34m,\u001b[0m \u001b[0mfobj\u001b[0m\u001b[0;34m)\u001b[0m\u001b[0;34m:\u001b[0m\u001b[0;34m\u001b[0m\u001b[0m\n\u001b[1;32m    217\u001b[0m         \u001b[0;34m\"\"\"\"Update the boosters for one iteration\"\"\"\u001b[0m\u001b[0;34m\u001b[0m\u001b[0m\n\u001b[0;32m--> 218\u001b[0;31m         \u001b[0mself\u001b[0m\u001b[0;34m.\u001b[0m\u001b[0mbst\u001b[0m\u001b[0;34m.\u001b[0m\u001b[0mupdate\u001b[0m\u001b[0;34m(\u001b[0m\u001b[0mself\u001b[0m\u001b[0;34m.\u001b[0m\u001b[0mdtrain\u001b[0m\u001b[0;34m,\u001b[0m \u001b[0miteration\u001b[0m\u001b[0;34m,\u001b[0m \u001b[0mfobj\u001b[0m\u001b[0;34m)\u001b[0m\u001b[0;34m\u001b[0m\u001b[0m\n\u001b[0m\u001b[1;32m    219\u001b[0m \u001b[0;34m\u001b[0m\u001b[0m\n\u001b[1;32m    220\u001b[0m     \u001b[0;32mdef\u001b[0m \u001b[0meval\u001b[0m\u001b[0;34m(\u001b[0m\u001b[0mself\u001b[0m\u001b[0;34m,\u001b[0m \u001b[0miteration\u001b[0m\u001b[0;34m,\u001b[0m \u001b[0mfeval\u001b[0m\u001b[0;34m)\u001b[0m\u001b[0;34m:\u001b[0m\u001b[0;34m\u001b[0m\u001b[0m\n",
      "\u001b[0;32m/home/noahhhhhh/Libraries/xgboost/python-package/xgboost/core.py\u001b[0m in \u001b[0;36mupdate\u001b[0;34m(self, dtrain, iteration, fobj)\u001b[0m\n\u001b[1;32m    825\u001b[0m         \u001b[0;32mif\u001b[0m \u001b[0mfobj\u001b[0m \u001b[0;32mis\u001b[0m \u001b[0;32mNone\u001b[0m\u001b[0;34m:\u001b[0m\u001b[0;34m\u001b[0m\u001b[0m\n\u001b[1;32m    826\u001b[0m             _check_call(_LIB.XGBoosterUpdateOneIter(self.handle, ctypes.c_int(iteration),\n\u001b[0;32m--> 827\u001b[0;31m                                                     dtrain.handle))\n\u001b[0m\u001b[1;32m    828\u001b[0m         \u001b[0;32melse\u001b[0m\u001b[0;34m:\u001b[0m\u001b[0;34m\u001b[0m\u001b[0m\n\u001b[1;32m    829\u001b[0m             \u001b[0mpred\u001b[0m \u001b[0;34m=\u001b[0m \u001b[0mself\u001b[0m\u001b[0;34m.\u001b[0m\u001b[0mpredict\u001b[0m\u001b[0;34m(\u001b[0m\u001b[0mdtrain\u001b[0m\u001b[0;34m)\u001b[0m\u001b[0;34m\u001b[0m\u001b[0m\n",
      "\u001b[0;31mKeyboardInterrupt\u001b[0m: "
     ]
    }
   ],
   "source": [
    "# cv\n",
    "cv_xgb = xgb.cv(params_xgb, dmx_train_all\n",
    "                , num_boost_round = 5000\n",
    "                , nfold = 10\n",
    "                , feval = r_2, maximize = True, early_stopping_rounds = 50\n",
    "                , show_stdv = True, verbose_eval = 50)"
   ]
  },
  {
   "cell_type": "code",
   "execution_count": 27,
   "metadata": {},
   "outputs": [
    {
     "data": {
      "text/html": [
       "<div>\n",
       "<style>\n",
       "    .dataframe thead tr:only-child th {\n",
       "        text-align: right;\n",
       "    }\n",
       "\n",
       "    .dataframe thead th {\n",
       "        text-align: left;\n",
       "    }\n",
       "\n",
       "    .dataframe tbody tr th {\n",
       "        vertical-align: top;\n",
       "    }\n",
       "</style>\n",
       "<table border=\"1\" class=\"dataframe\">\n",
       "  <thead>\n",
       "    <tr style=\"text-align: right;\">\n",
       "      <th></th>\n",
       "      <th>test-rmse-mean</th>\n",
       "      <th>test-rmse-std</th>\n",
       "      <th>test-score-mean</th>\n",
       "      <th>test-score-std</th>\n",
       "      <th>train-rmse-mean</th>\n",
       "      <th>train-rmse-std</th>\n",
       "      <th>train-score-mean</th>\n",
       "      <th>train-score-std</th>\n",
       "    </tr>\n",
       "  </thead>\n",
       "  <tbody>\n",
       "    <tr>\n",
       "      <th>2107</th>\n",
       "      <td>8.228441</td>\n",
       "      <td>1.306241</td>\n",
       "      <td>0.575222</td>\n",
       "      <td>0.086290</td>\n",
       "      <td>8.013701</td>\n",
       "      <td>0.164294</td>\n",
       "      <td>0.600038</td>\n",
       "      <td>0.011289</td>\n",
       "    </tr>\n",
       "    <tr>\n",
       "      <th>2108</th>\n",
       "      <td>8.228419</td>\n",
       "      <td>1.306242</td>\n",
       "      <td>0.575225</td>\n",
       "      <td>0.086290</td>\n",
       "      <td>8.013548</td>\n",
       "      <td>0.164308</td>\n",
       "      <td>0.600054</td>\n",
       "      <td>0.011290</td>\n",
       "    </tr>\n",
       "    <tr>\n",
       "      <th>2109</th>\n",
       "      <td>8.228388</td>\n",
       "      <td>1.306270</td>\n",
       "      <td>0.575228</td>\n",
       "      <td>0.086293</td>\n",
       "      <td>8.013395</td>\n",
       "      <td>0.164301</td>\n",
       "      <td>0.600069</td>\n",
       "      <td>0.011289</td>\n",
       "    </tr>\n",
       "    <tr>\n",
       "      <th>2110</th>\n",
       "      <td>8.228334</td>\n",
       "      <td>1.306291</td>\n",
       "      <td>0.575233</td>\n",
       "      <td>0.086296</td>\n",
       "      <td>8.013213</td>\n",
       "      <td>0.164325</td>\n",
       "      <td>0.600087</td>\n",
       "      <td>0.011291</td>\n",
       "    </tr>\n",
       "    <tr>\n",
       "      <th>2111</th>\n",
       "      <td>8.228287</td>\n",
       "      <td>1.306299</td>\n",
       "      <td>0.575238</td>\n",
       "      <td>0.086297</td>\n",
       "      <td>8.013052</td>\n",
       "      <td>0.164332</td>\n",
       "      <td>0.600103</td>\n",
       "      <td>0.011291</td>\n",
       "    </tr>\n",
       "  </tbody>\n",
       "</table>\n",
       "</div>"
      ],
      "text/plain": [
       "      test-rmse-mean  test-rmse-std  test-score-mean  test-score-std  \\\n",
       "2107        8.228441       1.306241         0.575222        0.086290   \n",
       "2108        8.228419       1.306242         0.575225        0.086290   \n",
       "2109        8.228388       1.306270         0.575228        0.086293   \n",
       "2110        8.228334       1.306291         0.575233        0.086296   \n",
       "2111        8.228287       1.306299         0.575238        0.086297   \n",
       "\n",
       "      train-rmse-mean  train-rmse-std  train-score-mean  train-score-std  \n",
       "2107         8.013701        0.164294          0.600038         0.011289  \n",
       "2108         8.013548        0.164308          0.600054         0.011290  \n",
       "2109         8.013395        0.164301          0.600069         0.011289  \n",
       "2110         8.013213        0.164325          0.600087         0.011291  \n",
       "2111         8.013052        0.164332          0.600103         0.011291  "
      ]
     },
     "execution_count": 27,
     "metadata": {},
     "output_type": "execute_result"
    }
   ],
   "source": [
    "cv_xgb.tail()"
   ]
  },
  {
   "cell_type": "code",
   "execution_count": 28,
   "metadata": {
    "collapsed": true
   },
   "outputs": [],
   "source": [
    "# train\n",
    "model_xgb = xgb.train(params_xgb, dmx_train_all, num_boost_round = cv_xgb.shape[0])"
   ]
  },
  {
   "cell_type": "code",
   "execution_count": 29,
   "metadata": {},
   "outputs": [
    {
     "data": {
      "image/png": "[encoded data removed]",
      "text/plain": [
       "<matplotlib.figure.Figure at 0x7ffa666d6ac8>"
      ]
     },
     "metadata": {},
     "output_type": "display_data"
    }
   ],
   "source": [
    "# importance\n",
    "fig, ax = plt.subplots(figsize = (12,18))\n",
    "xgb.plot_importance(model_xgb, max_num_features = 50, height = 0.8, ax = ax)\n",
    "plt.show()"
   ]
  },
  {
   "cell_type": "markdown",
   "metadata": {},
   "source": [
    "### Submit"
   ]
  },
  {
   "cell_type": "code",
   "execution_count": null,
   "metadata": {},
   "outputs": [],
   "source": [
    "# predict\n",
    "y_test = model_xgb.predict(dmx_test)\n",
    "y_test[:10]"
   ]
  },
  {
   "cell_type": "code",
   "execution_count": null,
   "metadata": {
    "collapsed": true
   },
   "outputs": [],
   "source": [
    "# submit\n",
    "dt_submit = pd.DataFrame({\"ID\": ID_test, \"y\": y_test})"
   ]
  },
  {
   "cell_type": "code",
   "execution_count": null,
   "metadata": {
    "collapsed": true
   },
   "outputs": [],
   "source": [
    "dt_submit.to_csv(\"../../data/Mercedes_Benz_Greener_Manufacturing/submission/15_added_FI_2way_XOR.csv\", index = False)"
   ]
  }
 ],
 "metadata": {
  "kernelspec": {
   "display_name": "Python 3",
   "language": "python",
   "name": "python3"
  },
  "language_info": {
   "codemirror_mode": {
    "name": "ipython",
    "version": 3
   },
   "file_extension": ".py",
   "mimetype": "text/x-python",
   "name": "python",
   "nbconvert_exporter": "python",
   "pygments_lexer": "ipython3",
   "version": "3.5.2"
  }
 },
 "nbformat": 4,
 "nbformat_minor": 2
}
