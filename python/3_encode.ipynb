{
 "cells": [
  {
   "cell_type": "code",
   "execution_count": 1,
   "metadata": {
    "collapsed": true
   },
   "outputs": [],
   "source": [
    "import pandas as pd\n",
    "import numpy as np\n",
    "import pickle\n",
    "from sklearn.model_selection import StratifiedKFold\n",
    "import category_encoders as ce\n",
    "from sklearn import preprocessing"
   ]
  },
  {
   "cell_type": "markdown",
   "metadata": {},
   "source": [
    "## 3. Encode cat cols"
   ]
  },
  {
   "cell_type": "code",
   "execution_count": 2,
   "metadata": {
    "collapsed": true
   },
   "outputs": [],
   "source": [
    "dt_all_encoded = pd.read_csv(\"../../data/Mercedes_Benz_Greener_Manufacturing/data/dt_all_cleaned.csv\")\n",
    "cols_cat = pickle.load(open(\"../../data/Mercedes_Benz_Greener_Manufacturing/data/cols_cat.pkl\", \"rb\"))\n",
    "IDs_train = pickle.load(open(\"../../data/Mercedes_Benz_Greener_Manufacturing/data/IDs_train.pkl\", \"rb\"))\n",
    "IDs_test = pickle.load(open(\"../../data/Mercedes_Benz_Greener_Manufacturing/data/IDs_test.pkl\", \"rb\"))"
   ]
  },
  {
   "cell_type": "code",
   "execution_count": 3,
   "metadata": {},
   "outputs": [],
   "source": [
    "dt_train = dt_all_encoded.loc[dt_all_encoded[\"ID\"].isin(IDs_train)]\n",
    "dt_test = dt_all_encoded.loc[dt_all_encoded[\"ID\"].isin(IDs_test)]"
   ]
  },
  {
   "cell_type": "code",
   "execution_count": 4,
   "metadata": {},
   "outputs": [
    {
     "data": {
      "text/plain": [
       "(8418, 338)"
      ]
     },
     "execution_count": 4,
     "metadata": {},
     "output_type": "execute_result"
    }
   ],
   "source": [
    "dt_all_encoded.shape"
   ]
  },
  {
   "cell_type": "markdown",
   "metadata": {},
   "source": [
    "### 3.1 One-Hot Encoding"
   ]
  },
  {
   "cell_type": "code",
   "execution_count": 5,
   "metadata": {
    "collapsed": true
   },
   "outputs": [],
   "source": [
    "# dt_cat_onehot = pd.get_dummies(dt_all_encoded[cols_cat])\n",
    "# dict_ohe = {x: \"Encode_ohe_\" + x for x in dt_cat_onehot.columns.values}\n",
    "# dt_cat_onehot = dt_cat_onehot.rename(columns = dict_ohe)"
   ]
  },
  {
   "cell_type": "markdown",
   "metadata": {},
   "source": [
    "### 3.2 TargetMean Encoding"
   ]
  },
  {
   "cell_type": "code",
   "execution_count": 6,
   "metadata": {
    "collapsed": true
   },
   "outputs": [],
   "source": [
    "def getTargetMean(dt_train, dt_test, col, k = 3, random_state = 888):\n",
    "    if k == 1:\n",
    "        # targetMean\n",
    "        dt_targetMean = pd.DataFrame({col: dt_train.groupby([col])[\"y\"].mean().index\n",
    "                                      , \"Encode_TargetMean_\" + col: dt_train.groupby([col])[\"y\"].mean()})\n",
    "        # merge with test\n",
    "        dt_train = pd.merge(dt_train, dt_targetMean, on = col, how = \"left\")\n",
    "        dt_test = pd.merge(dt_test, dt_targetMean, on = col, how = \"left\")\n",
    "        dt_test = dt_test.fillna(np.mean(dt_train.y))\n",
    "        \n",
    "    else:\n",
    "        X_train_fold = pd.DataFrame()\n",
    "        X_test_fold = pd.DataFrame()\n",
    "\n",
    "        skf = StratifiedKFold(n_splits = k, random_state = random_state)\n",
    "    \n",
    "        for i, (ind_in, ind_out) in enumerate(skf.split(dt_train, dt_train[col].values)):\n",
    "            X_in, X_out = dt_train.iloc[ind_in], dt_train.iloc[ind_out]\n",
    "            # targetMean in\n",
    "            dt_targetMean_fold = pd.DataFrame({col: X_in.groupby([col])[\"y\"].mean().index\n",
    "                                              , \"Encode_TargetMean_\" + col: X_in.groupby([col])[\"y\"].mean()})\n",
    "            # merge targetMean out\n",
    "            X_out_fold = pd.merge(X_out, dt_targetMean_fold, on = col, how = \"left\")\n",
    "            X_out_fold = X_out_fold.fillna(np.mean(X_in.y))\n",
    "\n",
    "            # concat X_out_fold\n",
    "            X_train_fold = pd.concat([X_train_fold, X_out_fold])\n",
    "\n",
    "            # merge with test\n",
    "            dt_targetMean_fold = dt_targetMean_fold.rename(columns = {\"Encode_TargetMean_\" + col: \"Encode_TargetMean_fold_\" + col + \"_\" + str(i)})\n",
    "            if i == 0:\n",
    "                X_test_fold = pd.merge(dt_test, dt_targetMean_fold, on = col, how = \"left\")\n",
    "            else:\n",
    "                X_test_fold = pd.merge(X_test_fold, dt_targetMean_fold, on = col, how = \"left\")\n",
    "\n",
    "            # mean for test\n",
    "            cols_encode_fold = X_test_fold.filter(regex = \"Encode_TargetMean_fold_\").columns.values\n",
    "            X_test_fold[\"Encode_TargetMean_\" + col] = X_test_fold[cols_encode_fold].mean(axis = 1)\n",
    "            X_test_fold = X_test_fold.drop(cols_encode_fold, axis = 1)\n",
    "            X_test_fold = X_test_fold.fillna(np.mean(X_in.y))\n",
    "    \n",
    "    return X_train_fold, X_test_fold \n"
   ]
  },
  {
   "cell_type": "code",
   "execution_count": 7,
   "metadata": {},
   "outputs": [
    {
     "name": "stderr",
     "output_type": "stream",
     "text": [
      "/usr/local/lib/python3.5/dist-packages/sklearn/model_selection/_split.py:581: Warning: The least populated class in y has only 1 members, which is too few. The minimum number of groups for any class cannot be less than n_splits=5.\n",
      "  % (min_groups, self.n_splits)), Warning)\n",
      "/usr/local/lib/python3.5/dist-packages/sklearn/model_selection/_split.py:581: Warning: The least populated class in y has only 3 members, which is too few. The minimum number of groups for any class cannot be less than n_splits=5.\n",
      "  % (min_groups, self.n_splits)), Warning)\n"
     ]
    }
   ],
   "source": [
    "for col in cols_cat:\n",
    "    dt_train, dt_test = getTargetMean(dt_train, dt_test, col, 5)"
   ]
  },
  {
   "cell_type": "code",
   "execution_count": 8,
   "metadata": {},
   "outputs": [],
   "source": [
    "dt_all_encoded = pd.concat([dt_train, dt_test])"
   ]
  },
  {
   "cell_type": "code",
   "execution_count": 9,
   "metadata": {},
   "outputs": [
    {
     "data": {
      "text/plain": [
       "(8418, 346)"
      ]
     },
     "execution_count": 9,
     "metadata": {},
     "output_type": "execute_result"
    }
   ],
   "source": [
    "dt_all_encoded.shape"
   ]
  },
  {
   "cell_type": "markdown",
   "metadata": {},
   "source": [
    "### 3.3 Frequency Encoding"
   ]
  },
  {
   "cell_type": "code",
   "execution_count": 10,
   "metadata": {
    "collapsed": true
   },
   "outputs": [],
   "source": [
    "def getFrequency(dt, cols):\n",
    "    # calc the cols freq\n",
    "    dt_cat_freq = pd.DataFrame()\n",
    "    for col in cols:\n",
    "        dt_col_freq_temp = pd.DataFrame({\"Col\": col\n",
    "                                         , \"Value\": dt[col].value_counts().index.values\n",
    "                                         , \"Freq\": dt[col].value_counts().values})\n",
    "\n",
    "        dt_cat_freq = pd.concat([dt_cat_freq, dt_col_freq_temp])\n",
    "\n",
    "    # merge to origin\n",
    "    dt_cat_cols = dt[cols + [\"ID\"]]\n",
    "    for col in cols:\n",
    "        dt_cat_cols = pd.merge(dt_cat_cols, dt_cat_freq.loc[dt_cat_freq[\"Col\"] == col]\n",
    "                           , how = \"left\", left_on = col, right_on = \"Value\")\n",
    "        dt_cat_cols = dt_cat_cols.drop([\"Value\", \"Col\"], axis = 1)\n",
    "        dt_cat_cols = dt_cat_cols.rename(columns = {\"Freq\": \"Encode_Freq_\" + col})\n",
    "\n",
    "    dt_cat_cols = dt_cat_cols.filter(regex = \"Encode_Freq_|ID\")\n",
    "    \n",
    "    return dt_cat_cols"
   ]
  },
  {
   "cell_type": "code",
   "execution_count": 11,
   "metadata": {},
   "outputs": [],
   "source": [
    "# dt_cat_freq = getFrequency(dt_all_encoded, cols_cat)\n",
    "# dt_all_encoded = pd.merge(dt_all_encoded, dt_cat_freq, on = \"ID\", how = \"left\")"
   ]
  },
  {
   "cell_type": "code",
   "execution_count": 12,
   "metadata": {},
   "outputs": [
    {
     "data": {
      "text/html": [
       "<div>\n",
       "<style>\n",
       "    .dataframe thead tr:only-child th {\n",
       "        text-align: right;\n",
       "    }\n",
       "\n",
       "    .dataframe thead th {\n",
       "        text-align: left;\n",
       "    }\n",
       "\n",
       "    .dataframe tbody tr th {\n",
       "        vertical-align: top;\n",
       "    }\n",
       "</style>\n",
       "<table border=\"1\" class=\"dataframe\">\n",
       "  <thead>\n",
       "    <tr style=\"text-align: right;\">\n",
       "      <th></th>\n",
       "      <th>ID</th>\n",
       "      <th>y</th>\n",
       "      <th>X0</th>\n",
       "      <th>X1</th>\n",
       "      <th>X2</th>\n",
       "      <th>X3</th>\n",
       "      <th>X4</th>\n",
       "      <th>X5</th>\n",
       "      <th>X6</th>\n",
       "      <th>X8</th>\n",
       "      <th>...</th>\n",
       "      <th>X383</th>\n",
       "      <th>X384</th>\n",
       "      <th>Encode_TargetMean_X0</th>\n",
       "      <th>Encode_TargetMean_X1</th>\n",
       "      <th>Encode_TargetMean_X2</th>\n",
       "      <th>Encode_TargetMean_X3</th>\n",
       "      <th>Encode_TargetMean_X4</th>\n",
       "      <th>Encode_TargetMean_X5</th>\n",
       "      <th>Encode_TargetMean_X6</th>\n",
       "      <th>Encode_TargetMean_X8</th>\n",
       "    </tr>\n",
       "  </thead>\n",
       "  <tbody>\n",
       "    <tr>\n",
       "      <th>0</th>\n",
       "      <td>0</td>\n",
       "      <td>130.81</td>\n",
       "      <td>k</td>\n",
       "      <td>v</td>\n",
       "      <td>at</td>\n",
       "      <td>a</td>\n",
       "      <td>d</td>\n",
       "      <td>u</td>\n",
       "      <td>j</td>\n",
       "      <td>o</td>\n",
       "      <td>...</td>\n",
       "      <td>0</td>\n",
       "      <td>0</td>\n",
       "      <td>98.066250</td>\n",
       "      <td>101.995276</td>\n",
       "      <td>101.467500</td>\n",
       "      <td>102.819176</td>\n",
       "      <td>100.450401</td>\n",
       "      <td>100.701997</td>\n",
       "      <td>101.179422</td>\n",
       "      <td>97.169308</td>\n",
       "    </tr>\n",
       "    <tr>\n",
       "      <th>1</th>\n",
       "      <td>6</td>\n",
       "      <td>88.53</td>\n",
       "      <td>k</td>\n",
       "      <td>t</td>\n",
       "      <td>av</td>\n",
       "      <td>e</td>\n",
       "      <td>d</td>\n",
       "      <td>y</td>\n",
       "      <td>l</td>\n",
       "      <td>o</td>\n",
       "      <td>...</td>\n",
       "      <td>0</td>\n",
       "      <td>0</td>\n",
       "      <td>98.066250</td>\n",
       "      <td>92.463333</td>\n",
       "      <td>97.836667</td>\n",
       "      <td>99.137846</td>\n",
       "      <td>100.450401</td>\n",
       "      <td>100.701997</td>\n",
       "      <td>98.317408</td>\n",
       "      <td>97.169308</td>\n",
       "    </tr>\n",
       "    <tr>\n",
       "      <th>2</th>\n",
       "      <td>7</td>\n",
       "      <td>76.26</td>\n",
       "      <td>az</td>\n",
       "      <td>w</td>\n",
       "      <td>n</td>\n",
       "      <td>c</td>\n",
       "      <td>d</td>\n",
       "      <td>x</td>\n",
       "      <td>j</td>\n",
       "      <td>x</td>\n",
       "      <td>...</td>\n",
       "      <td>0</td>\n",
       "      <td>0</td>\n",
       "      <td>78.079643</td>\n",
       "      <td>94.537317</td>\n",
       "      <td>82.823119</td>\n",
       "      <td>101.850283</td>\n",
       "      <td>100.450401</td>\n",
       "      <td>80.620000</td>\n",
       "      <td>101.179422</td>\n",
       "      <td>99.050595</td>\n",
       "    </tr>\n",
       "    <tr>\n",
       "      <th>3</th>\n",
       "      <td>13</td>\n",
       "      <td>78.02</td>\n",
       "      <td>az</td>\n",
       "      <td>v</td>\n",
       "      <td>n</td>\n",
       "      <td>f</td>\n",
       "      <td>d</td>\n",
       "      <td>h</td>\n",
       "      <td>d</td>\n",
       "      <td>n</td>\n",
       "      <td>...</td>\n",
       "      <td>0</td>\n",
       "      <td>0</td>\n",
       "      <td>78.079643</td>\n",
       "      <td>101.995276</td>\n",
       "      <td>82.823119</td>\n",
       "      <td>96.019651</td>\n",
       "      <td>100.450401</td>\n",
       "      <td>100.701997</td>\n",
       "      <td>101.576320</td>\n",
       "      <td>102.152280</td>\n",
       "    </tr>\n",
       "    <tr>\n",
       "      <th>4</th>\n",
       "      <td>18</td>\n",
       "      <td>92.93</td>\n",
       "      <td>t</td>\n",
       "      <td>b</td>\n",
       "      <td>e</td>\n",
       "      <td>c</td>\n",
       "      <td>d</td>\n",
       "      <td>g</td>\n",
       "      <td>h</td>\n",
       "      <td>s</td>\n",
       "      <td>...</td>\n",
       "      <td>0</td>\n",
       "      <td>0</td>\n",
       "      <td>93.426311</td>\n",
       "      <td>99.698816</td>\n",
       "      <td>96.983750</td>\n",
       "      <td>101.850283</td>\n",
       "      <td>100.450401</td>\n",
       "      <td>100.701997</td>\n",
       "      <td>102.105658</td>\n",
       "      <td>98.992010</td>\n",
       "    </tr>\n",
       "  </tbody>\n",
       "</table>\n",
       "<p>5 rows × 346 columns</p>\n",
       "</div>"
      ],
      "text/plain": [
       "   ID       y  X0 X1  X2 X3 X4 X5 X6 X8          ...           X383  X384  \\\n",
       "0   0  130.81   k  v  at  a  d  u  j  o          ...              0     0   \n",
       "1   6   88.53   k  t  av  e  d  y  l  o          ...              0     0   \n",
       "2   7   76.26  az  w   n  c  d  x  j  x          ...              0     0   \n",
       "3  13   78.02  az  v   n  f  d  h  d  n          ...              0     0   \n",
       "4  18   92.93   t  b   e  c  d  g  h  s          ...              0     0   \n",
       "\n",
       "   Encode_TargetMean_X0  Encode_TargetMean_X1  Encode_TargetMean_X2  \\\n",
       "0             98.066250            101.995276            101.467500   \n",
       "1             98.066250             92.463333             97.836667   \n",
       "2             78.079643             94.537317             82.823119   \n",
       "3             78.079643            101.995276             82.823119   \n",
       "4             93.426311             99.698816             96.983750   \n",
       "\n",
       "   Encode_TargetMean_X3  Encode_TargetMean_X4  Encode_TargetMean_X5  \\\n",
       "0            102.819176            100.450401            100.701997   \n",
       "1             99.137846            100.450401            100.701997   \n",
       "2            101.850283            100.450401             80.620000   \n",
       "3             96.019651            100.450401            100.701997   \n",
       "4            101.850283            100.450401            100.701997   \n",
       "\n",
       "   Encode_TargetMean_X6  Encode_TargetMean_X8  \n",
       "0            101.179422             97.169308  \n",
       "1             98.317408             97.169308  \n",
       "2            101.179422             99.050595  \n",
       "3            101.576320            102.152280  \n",
       "4            102.105658             98.992010  \n",
       "\n",
       "[5 rows x 346 columns]"
      ]
     },
     "execution_count": 12,
     "metadata": {},
     "output_type": "execute_result"
    }
   ],
   "source": [
    "dt_all_encoded.head()"
   ]
  },
  {
   "cell_type": "code",
   "execution_count": 13,
   "metadata": {},
   "outputs": [
    {
     "data": {
      "text/plain": [
       "(8418, 346)"
      ]
     },
     "execution_count": 13,
     "metadata": {},
     "output_type": "execute_result"
    }
   ],
   "source": [
    "dt_all_encoded.shape"
   ]
  },
  {
   "cell_type": "markdown",
   "metadata": {},
   "source": [
    "### 3.4 Binary"
   ]
  },
  {
   "cell_type": "code",
   "execution_count": 14,
   "metadata": {
    "scrolled": true
   },
   "outputs": [
    {
     "name": "stderr",
     "output_type": "stream",
     "text": [
      "/home/noahhhhhh/Env/deepNoah/lib/python3.5/site-packages/category_encoders/ordinal.py:178: FutureWarning: reshape is deprecated and will raise in a subsequent release. Please use .values.reshape(...) instead\n",
      "  X[col] = X[col].astype(int).reshape(-1, )\n",
      "/home/noahhhhhh/Env/deepNoah/lib/python3.5/site-packages/category_encoders/ordinal.py:167: FutureWarning: reshape is deprecated and will raise in a subsequent release. Please use .values.reshape(...) instead\n",
      "  X[switch.get('col')] = X[switch.get('col')].astype(int).reshape(-1, )\n"
     ]
    }
   ],
   "source": [
    "encode_binary = ce.BinaryEncoder(cols_cat)\n",
    "dt_cat_binary = encode_binary.fit_transform(dt_all_encoded[cols_cat])\n",
    "dt_cat_binary.columns = \"Encode_Binary_\" + dt_cat_binary.columns"
   ]
  },
  {
   "cell_type": "code",
   "execution_count": 15,
   "metadata": {
    "collapsed": true
   },
   "outputs": [],
   "source": [
    "# dt_all_encoded = dt_all_encoded.join(dt_cat_binary)"
   ]
  },
  {
   "cell_type": "code",
   "execution_count": 16,
   "metadata": {},
   "outputs": [
    {
     "data": {
      "text/plain": [
       "(8418, 346)"
      ]
     },
     "execution_count": 16,
     "metadata": {},
     "output_type": "execute_result"
    }
   ],
   "source": [
    "dt_all_encoded.shape"
   ]
  },
  {
   "cell_type": "markdown",
   "metadata": {},
   "source": [
    "### 3.5 Others"
   ]
  },
  {
   "cell_type": "code",
   "execution_count": 17,
   "metadata": {
    "collapsed": true
   },
   "outputs": [],
   "source": [
    "def encodeOthers(dt, cols_cat, method):\n",
    "    if method == \"Backward\":\n",
    "        encode = ce.BackwardDifferenceEncoder(cols_cat)\n",
    "    elif method == \"Polynomial\":\n",
    "        encode = ce.PolynomialEncoder(cols_cat)\n",
    "    elif method == \"Helmert\":\n",
    "        encode = ce.HelmertEncoder(cols_cat)\n",
    "    elif method == \"Sum\":\n",
    "        encode = ce.SumEncoder(cols_cat)\n",
    "    \n",
    "    encode.fit(dt[cols_cat])\n",
    "    dt_cat_other = encode.transform(dt[cols_cat])\n",
    "    dt_cat_other.columns = \"Encode_\" + method + \"_\" + dt_cat_other.columns\n",
    "    \n",
    "    return dt_cat_other"
   ]
  },
  {
   "cell_type": "code",
   "execution_count": 18,
   "metadata": {},
   "outputs": [],
   "source": [
    "# # methods = [\"Backward\", \"Polynomial\", \"Helmert\", \"Sum\"]\n",
    "# methods = [\"Backward\"]\n",
    "# for method in methods:\n",
    "#     dt_all_encoded = dt_all_encoded.join(encodeOthers(dt_all_encoded, cols_cat, method))"
   ]
  },
  {
   "cell_type": "code",
   "execution_count": 19,
   "metadata": {},
   "outputs": [
    {
     "data": {
      "text/plain": [
       "(8418, 346)"
      ]
     },
     "execution_count": 19,
     "metadata": {},
     "output_type": "execute_result"
    }
   ],
   "source": [
    "dt_all_encoded.shape"
   ]
  },
  {
   "cell_type": "markdown",
   "metadata": {},
   "source": [
    "### 3.6 Label"
   ]
  },
  {
   "cell_type": "code",
   "execution_count": 20,
   "metadata": {
    "collapsed": true
   },
   "outputs": [],
   "source": [
    "for c in cols_cat:\n",
    "    x = list(set(dt_all_encoded[c].values)) \n",
    "    x.sort()\n",
    "    x.sort(key = len)\n",
    "    dt_labelEncode_c = pd.DataFrame({\"Encode_Label_\" + c: [i for i in range(1, (len(x) + 1))]\n",
    "                                     , c: x})\n",
    "\n",
    "    dt_all_encoded = pd.merge(dt_all_encoded, dt_labelEncode_c, on = c)"
   ]
  },
  {
   "cell_type": "code",
   "execution_count": 21,
   "metadata": {},
   "outputs": [
    {
     "data": {
      "text/plain": [
       "(8418, 354)"
      ]
     },
     "execution_count": 21,
     "metadata": {},
     "output_type": "execute_result"
    }
   ],
   "source": [
    "dt_all_encoded.shape"
   ]
  },
  {
   "cell_type": "markdown",
   "metadata": {},
   "source": [
    "### 3.7 Save dt_all_encoded"
   ]
  },
  {
   "cell_type": "code",
   "execution_count": 22,
   "metadata": {
    "collapsed": true
   },
   "outputs": [],
   "source": [
    "dt_all_encoded.to_csv(\"../../data/Mercedes_Benz_Greener_Manufacturing/data/dt_all_encoded.csv\", index = False)"
   ]
  }
 ],
 "metadata": {
  "kernelspec": {
   "display_name": "Python 3",
   "language": "python",
   "name": "python3"
  },
  "language_info": {
   "codemirror_mode": {
    "name": "ipython",
    "version": 3
   },
   "file_extension": ".py",
   "mimetype": "text/x-python",
   "name": "python",
   "nbconvert_exporter": "python",
   "pygments_lexer": "ipython3",
   "version": "3.5.2"
  }
 },
 "nbformat": 4,
 "nbformat_minor": 2
}
