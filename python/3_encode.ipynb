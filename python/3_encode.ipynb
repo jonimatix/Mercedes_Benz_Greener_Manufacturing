{
 "cells": [
  {
   "cell_type": "code",
   "execution_count": 1,
   "metadata": {
    "collapsed": true
   },
   "outputs": [],
   "source": [
    "import pandas as pd\n",
    "from sklearn.model_selection import StratifiedKFold\n",
    "import category_encoders as ce\n",
    "from sklearn import preprocessing"
   ]
  },
  {
   "cell_type": "markdown",
   "metadata": {},
   "source": [
    "## 3. Encode cat cols"
   ]
  },
  {
   "cell_type": "code",
   "execution_count": 2,
   "metadata": {
    "collapsed": true
   },
   "outputs": [],
   "source": [
    "dt_all_encoded = pd.read_csv(\"../../data/Mercedes_Benz_Greener_Manufacturing/data/dt_all_cleaned.csv\")"
   ]
  },
  {
   "cell_type": "code",
   "execution_count": 3,
   "metadata": {
    "collapsed": true
   },
   "outputs": [],
   "source": [
    "# cols_cat\n",
    "cols_cat = dt_all_encoded.drop(\"IsTrainTest\", axis = 1).select_dtypes(include = ['object']).columns.values"
   ]
  },
  {
   "cell_type": "code",
   "execution_count": 4,
   "metadata": {},
   "outputs": [
    {
     "data": {
      "text/html": [
       "<div>\n",
       "<style>\n",
       "    .dataframe thead tr:only-child th {\n",
       "        text-align: right;\n",
       "    }\n",
       "\n",
       "    .dataframe thead th {\n",
       "        text-align: left;\n",
       "    }\n",
       "\n",
       "    .dataframe tbody tr th {\n",
       "        vertical-align: top;\n",
       "    }\n",
       "</style>\n",
       "<table border=\"1\" class=\"dataframe\">\n",
       "  <thead>\n",
       "    <tr style=\"text-align: right;\">\n",
       "      <th></th>\n",
       "      <th>ID</th>\n",
       "      <th>y</th>\n",
       "      <th>X0</th>\n",
       "      <th>X1</th>\n",
       "      <th>X2</th>\n",
       "      <th>X3</th>\n",
       "      <th>X4</th>\n",
       "      <th>X5</th>\n",
       "      <th>X6</th>\n",
       "      <th>X8</th>\n",
       "      <th>...</th>\n",
       "      <th>X377</th>\n",
       "      <th>X378</th>\n",
       "      <th>X379</th>\n",
       "      <th>X380</th>\n",
       "      <th>X383</th>\n",
       "      <th>X384</th>\n",
       "      <th>IsTrainTest</th>\n",
       "      <th>IsDupRow_All</th>\n",
       "      <th>IsDupRow_Cat</th>\n",
       "      <th>IsDupRow_Int</th>\n",
       "    </tr>\n",
       "  </thead>\n",
       "  <tbody>\n",
       "    <tr>\n",
       "      <th>0</th>\n",
       "      <td>0</td>\n",
       "      <td>130.81</td>\n",
       "      <td>k</td>\n",
       "      <td>v</td>\n",
       "      <td>at</td>\n",
       "      <td>a</td>\n",
       "      <td>d</td>\n",
       "      <td>u</td>\n",
       "      <td>j</td>\n",
       "      <td>o</td>\n",
       "      <td>...</td>\n",
       "      <td>1</td>\n",
       "      <td>0</td>\n",
       "      <td>0</td>\n",
       "      <td>0</td>\n",
       "      <td>0</td>\n",
       "      <td>0</td>\n",
       "      <td>train</td>\n",
       "      <td>0</td>\n",
       "      <td>0</td>\n",
       "      <td>0</td>\n",
       "    </tr>\n",
       "    <tr>\n",
       "      <th>1</th>\n",
       "      <td>6</td>\n",
       "      <td>88.53</td>\n",
       "      <td>k</td>\n",
       "      <td>t</td>\n",
       "      <td>av</td>\n",
       "      <td>e</td>\n",
       "      <td>d</td>\n",
       "      <td>y</td>\n",
       "      <td>l</td>\n",
       "      <td>o</td>\n",
       "      <td>...</td>\n",
       "      <td>0</td>\n",
       "      <td>0</td>\n",
       "      <td>0</td>\n",
       "      <td>0</td>\n",
       "      <td>0</td>\n",
       "      <td>0</td>\n",
       "      <td>train</td>\n",
       "      <td>0</td>\n",
       "      <td>0</td>\n",
       "      <td>0</td>\n",
       "    </tr>\n",
       "    <tr>\n",
       "      <th>2</th>\n",
       "      <td>7</td>\n",
       "      <td>76.26</td>\n",
       "      <td>az</td>\n",
       "      <td>w</td>\n",
       "      <td>n</td>\n",
       "      <td>c</td>\n",
       "      <td>d</td>\n",
       "      <td>x</td>\n",
       "      <td>j</td>\n",
       "      <td>x</td>\n",
       "      <td>...</td>\n",
       "      <td>0</td>\n",
       "      <td>0</td>\n",
       "      <td>0</td>\n",
       "      <td>0</td>\n",
       "      <td>0</td>\n",
       "      <td>0</td>\n",
       "      <td>train</td>\n",
       "      <td>0</td>\n",
       "      <td>0</td>\n",
       "      <td>0</td>\n",
       "    </tr>\n",
       "    <tr>\n",
       "      <th>3</th>\n",
       "      <td>9</td>\n",
       "      <td>80.62</td>\n",
       "      <td>az</td>\n",
       "      <td>t</td>\n",
       "      <td>n</td>\n",
       "      <td>f</td>\n",
       "      <td>d</td>\n",
       "      <td>x</td>\n",
       "      <td>l</td>\n",
       "      <td>e</td>\n",
       "      <td>...</td>\n",
       "      <td>0</td>\n",
       "      <td>0</td>\n",
       "      <td>0</td>\n",
       "      <td>0</td>\n",
       "      <td>0</td>\n",
       "      <td>0</td>\n",
       "      <td>train</td>\n",
       "      <td>0</td>\n",
       "      <td>0</td>\n",
       "      <td>0</td>\n",
       "    </tr>\n",
       "    <tr>\n",
       "      <th>4</th>\n",
       "      <td>13</td>\n",
       "      <td>78.02</td>\n",
       "      <td>az</td>\n",
       "      <td>v</td>\n",
       "      <td>n</td>\n",
       "      <td>f</td>\n",
       "      <td>d</td>\n",
       "      <td>h</td>\n",
       "      <td>d</td>\n",
       "      <td>n</td>\n",
       "      <td>...</td>\n",
       "      <td>0</td>\n",
       "      <td>0</td>\n",
       "      <td>0</td>\n",
       "      <td>0</td>\n",
       "      <td>0</td>\n",
       "      <td>0</td>\n",
       "      <td>train</td>\n",
       "      <td>0</td>\n",
       "      <td>0</td>\n",
       "      <td>0</td>\n",
       "    </tr>\n",
       "  </tbody>\n",
       "</table>\n",
       "<p>5 rows × 342 columns</p>\n",
       "</div>"
      ],
      "text/plain": [
       "   ID       y  X0 X1  X2 X3 X4 X5 X6 X8      ...       X377  X378  X379  X380  \\\n",
       "0   0  130.81   k  v  at  a  d  u  j  o      ...          1     0     0     0   \n",
       "1   6   88.53   k  t  av  e  d  y  l  o      ...          0     0     0     0   \n",
       "2   7   76.26  az  w   n  c  d  x  j  x      ...          0     0     0     0   \n",
       "3   9   80.62  az  t   n  f  d  x  l  e      ...          0     0     0     0   \n",
       "4  13   78.02  az  v   n  f  d  h  d  n      ...          0     0     0     0   \n",
       "\n",
       "   X383  X384  IsTrainTest  IsDupRow_All  IsDupRow_Cat  IsDupRow_Int  \n",
       "0     0     0        train             0             0             0  \n",
       "1     0     0        train             0             0             0  \n",
       "2     0     0        train             0             0             0  \n",
       "3     0     0        train             0             0             0  \n",
       "4     0     0        train             0             0             0  \n",
       "\n",
       "[5 rows x 342 columns]"
      ]
     },
     "execution_count": 4,
     "metadata": {},
     "output_type": "execute_result"
    }
   ],
   "source": [
    "dt_all_encoded.head()"
   ]
  },
  {
   "cell_type": "markdown",
   "metadata": {},
   "source": [
    "### 3.1 One-Hot Encoding"
   ]
  },
  {
   "cell_type": "code",
   "execution_count": null,
   "metadata": {
    "collapsed": true
   },
   "outputs": [],
   "source": [
    "dt_cat_onehot = pd.get_dummies(dt_all_encoded[cols_cat])\n",
    "dict_ohe = {x: \"Encode_ohe_\" + x for x in dt_cat_onehot.columns.values}\n",
    "dt_cat_onehot = dt_cat_onehot.rename(columns = dict_ohe)"
   ]
  },
  {
   "cell_type": "markdown",
   "metadata": {},
   "source": [
    "### 3.2 TargetMean Encoding"
   ]
  },
  {
   "cell_type": "code",
   "execution_count": null,
   "metadata": {
    "collapsed": true
   },
   "outputs": [],
   "source": [
    "# oof to encode cols_cat with TargetMean\n",
    "def getTargetMean(dt, dt_all, cols, k = 3):\n",
    "\n",
    "    # init dt_targetMean\n",
    "    dt_targetMean = pd.DataFrame()\n",
    "\n",
    "    for col in cols:\n",
    "    \n",
    "        # init dt_targetMean_oof\n",
    "        dt_targetMean_oof = pd.DataFrame()\n",
    "        \n",
    "        # X_targetMean_Kfold, y_targetMean_Kfold\n",
    "        X_targetMean_Kfold = dt[[col, \"y\"]]\n",
    "        y_targetMean_Kfold = dt[col].values\n",
    "\n",
    "        # oof cv\n",
    "        skf = StratifiedKFold(n_splits = k)\n",
    "        \n",
    "        \n",
    "        for i, (ind_in, ind_out) in enumerate(skf.split(X_targetMean_Kfold, y_targetMean_Kfold)):\n",
    "\n",
    "\n",
    "            # init dt_targetMean_oof\n",
    "            dt_targetMean_val = pd.DataFrame()\n",
    "\n",
    "            # X_in, X_out, y_in, y_out\n",
    "            X_in, X_out = X_targetMean_Kfold.iloc[ind_in], X_targetMean_Kfold.iloc[ind_out]\n",
    "            y_in, y_out = y_targetMean_Kfold[ind_in], y_targetMean_Kfold[ind_out]\n",
    "\n",
    "            # calc TargetMean\n",
    "            for val in set(X_in[col].values):\n",
    "                dt_targetMean_temp = pd.DataFrame({\"Value\": [val]\n",
    "                                                   , \"TargetMean_\" + str(i): [X_in.loc[X_in[col] == val].y.mean()]})\n",
    "                dt_targetMean_val = pd.concat([dt_targetMean_val, dt_targetMean_temp])\n",
    "\n",
    "            # merge with oof\n",
    "            if i == 0:\n",
    "                dt_targetMean_oof = pd.merge(X_targetMean_Kfold.drop(\"y\", axis = 1).drop_duplicates(), dt_targetMean_val\n",
    "                                             , how = \"left\", left_on = col, right_on = \"Value\")\n",
    "                dt_targetMean_oof = dt_targetMean_oof.drop(col, axis = 1)\n",
    "            else:\n",
    "                dt_targetMean_oof = pd.merge(dt_targetMean_oof, dt_targetMean_val\n",
    "                                             , how = \"left\", on = \"Value\")\n",
    "\n",
    "        # move Value to the first column\n",
    "        value = dt_targetMean_oof['Value']\n",
    "        dt_targetMean_oof.drop(labels = [\"Value\"], axis = 1,inplace = True)\n",
    "        dt_targetMean_oof.insert(0, 'Value', value)\n",
    "        # assign col\n",
    "        dt_targetMean_oof.insert(0, 'Col', col)\n",
    "        \n",
    "        # concat with col\n",
    "        dt_targetMean = pd.concat([dt_targetMean, dt_targetMean_oof])\n",
    "    \n",
    "    # mean of oof\n",
    "    dt_targetMean[\"TargetMean\"] = dt_targetMean.filter(regex = \"TargetMean\").mean(axis = 1)\n",
    "    # fill zero\n",
    "    dt_targetMean = dt_targetMean.fillna(0)\n",
    "    # remove oof cols\n",
    "    dt_targetMean = dt_targetMean[[\"Col\", \"Value\", \"TargetMean\"]]\n",
    "\n",
    "    # merge to original table\n",
    "    dt_cat_cols = dt_all[cols]\n",
    "    \n",
    "    for col in cols_cat:\n",
    "        dt_cat_cols = pd.merge(dt_cat_cols, dt_targetMean.loc[dt_targetMean[\"Col\"] == col]\n",
    "                           , how = \"left\", left_on = col, right_on = \"Value\")\n",
    "        dt_cat_cols = dt_cat_cols.drop([\"Value\", \"Col\"], axis = 1)\n",
    "        dt_cat_cols = dt_cat_cols.rename(columns = {\"TargetMean\": \"Encode_TargetMean_\" + col})\n",
    "    # fill zero\n",
    "    dt_cat_cols = dt_cat_cols.fillna(0)\n",
    "    \n",
    "    # only select targetMean cols\n",
    "    dt_cat_targetMean = dt_cat_cols.filter(regex = \"Encode_TargetMean_\")\n",
    "        \n",
    "    return dt_cat_targetMean"
   ]
  },
  {
   "cell_type": "code",
   "execution_count": null,
   "metadata": {
    "scrolled": true
   },
   "outputs": [],
   "source": [
    "dt_cat_targetMean = getTargetMean(dt_all_encoded.loc[dt_all_encoded[\"IsTrainTest\"] == \"train\"]\n",
    "                                  , dt_all_encoded\n",
    "                                  , cols_cat\n",
    "                                  , 3)"
   ]
  },
  {
   "cell_type": "markdown",
   "metadata": {},
   "source": [
    "### 3.3 Frequency Encoding"
   ]
  },
  {
   "cell_type": "code",
   "execution_count": null,
   "metadata": {
    "collapsed": true
   },
   "outputs": [],
   "source": [
    "def getFrequency(dt, cols):\n",
    "    # calc the cols freq\n",
    "    dt_cat_freq = pd.DataFrame()\n",
    "    for col in cols:\n",
    "        dt_col_freq_temp = pd.DataFrame({\"Col\": col\n",
    "                                         , \"Value\": dt[col].value_counts().index.values\n",
    "                                         , \"Freq\": dt[col].value_counts().values})\n",
    "\n",
    "        dt_cat_freq = pd.concat([dt_cat_freq, dt_col_freq_temp])\n",
    "\n",
    "    # merge to origin\n",
    "    dt_cat_cols = dt_all_encoded[cols]\n",
    "    for col in cols:\n",
    "        dt_cat_cols = pd.merge(dt_cat_cols, dt_cat_freq.loc[dt_cat_freq[\"Col\"] == col]\n",
    "                           , how = \"left\", left_on = col, right_on = \"Value\")\n",
    "        dt_cat_cols = dt_cat_cols.drop([\"Value\", \"Col\"], axis = 1)\n",
    "        dt_cat_cols = dt_cat_cols.rename(columns = {\"Freq\": \"Encode_Freq_\" + col})\n",
    "\n",
    "    dt_cat_cols = dt_cat_cols.filter(regex = \"Encode_Freq_\")\n",
    "    \n",
    "    return dt_cat_cols"
   ]
  },
  {
   "cell_type": "code",
   "execution_count": null,
   "metadata": {
    "collapsed": true
   },
   "outputs": [],
   "source": [
    "dt_cat_freq = getFrequency(dt_all_encoded, cols_cat)"
   ]
  },
  {
   "cell_type": "markdown",
   "metadata": {},
   "source": [
    "### 3.4 Binary"
   ]
  },
  {
   "cell_type": "code",
   "execution_count": null,
   "metadata": {
    "scrolled": true
   },
   "outputs": [],
   "source": [
    "encode_binary = ce.BinaryEncoder(cols_cat)\n",
    "dt_cat_binary = encode_binary.fit_transform(dt_all_encoded[cols_cat])\n",
    "dt_cat_binary.columns = \"Encode_Binary_\" + dt_cat_binary.columns"
   ]
  },
  {
   "cell_type": "markdown",
   "metadata": {},
   "source": [
    "### 3.5 Ordinal X0, X5"
   ]
  },
  {
   "cell_type": "code",
   "execution_count": null,
   "metadata": {
    "collapsed": true
   },
   "outputs": [],
   "source": [
    "def getOrdinal(dt, col):\n",
    "    dt_ordinal = pd.DataFrame()\n",
    "    for val in set(dt[col].values):\n",
    "        dt_ordinal_temp = pd.DataFrame({\"Value\": [val]\n",
    "                                        , \"Encode_Ordinal_\" + col: dt.loc[dt[col] == val].y.mean()})\n",
    "        dt_ordinal = pd.concat([dt_ordinal, dt_ordinal_temp])\n",
    "\n",
    "    dt_cat_ordinal = pd.merge(dt[col].to_frame(), dt_ordinal\n",
    "                              , how = \"left\", left_on = col, right_on = \"Value\")\n",
    "    dt_cat_ordinal = dt_cat_ordinal.drop([col, \"Value\"], axis = 1)\n",
    "    return dt_cat_ordinal"
   ]
  },
  {
   "cell_type": "code",
   "execution_count": null,
   "metadata": {
    "collapsed": true
   },
   "outputs": [],
   "source": [
    "dt_cat_ordinal_X0 = getOrdinal(dt_all_encoded, \"X0\")\n",
    "dt_cat_ordinal_X5 = getOrdinal(dt_all_encoded, \"X5\")"
   ]
  },
  {
   "cell_type": "markdown",
   "metadata": {},
   "source": [
    "### 3.6 Label"
   ]
  },
  {
   "cell_type": "code",
   "execution_count": 5,
   "metadata": {
    "scrolled": true
   },
   "outputs": [
    {
     "name": "stderr",
     "output_type": "stream",
     "text": [
      "/home/noahhhhhh/Env/deepNoah/lib/python3.5/site-packages/category_encoders/ordinal.py:178: FutureWarning: reshape is deprecated and will raise in a subsequent release. Please use .values.reshape(...) instead\n",
      "  X[col] = X[col].astype(int).reshape(-1, )\n",
      "/home/noahhhhhh/Env/deepNoah/lib/python3.5/site-packages/category_encoders/ordinal.py:167: FutureWarning: reshape is deprecated and will raise in a subsequent release. Please use .values.reshape(...) instead\n",
      "  X[switch.get('col')] = X[switch.get('col')].astype(int).reshape(-1, )\n"
     ]
    }
   ],
   "source": [
    "encode_label = ce.OrdinalEncoder(cols_cat)\n",
    "dt_cat_label = encode_label.fit_transform(dt_all_encoded[cols_cat])\n",
    "dt_cat_label.columns = \"Encode_Binary\" + dt_cat_label.columns"
   ]
  },
  {
   "cell_type": "code",
   "execution_count": 7,
   "metadata": {},
   "outputs": [
    {
     "data": {
      "text/html": [
       "<div>\n",
       "<style>\n",
       "    .dataframe thead tr:only-child th {\n",
       "        text-align: right;\n",
       "    }\n",
       "\n",
       "    .dataframe thead th {\n",
       "        text-align: left;\n",
       "    }\n",
       "\n",
       "    .dataframe tbody tr th {\n",
       "        vertical-align: top;\n",
       "    }\n",
       "</style>\n",
       "<table border=\"1\" class=\"dataframe\">\n",
       "  <thead>\n",
       "    <tr style=\"text-align: right;\">\n",
       "      <th></th>\n",
       "      <th>X0</th>\n",
       "      <th>X1</th>\n",
       "      <th>X2</th>\n",
       "      <th>X3</th>\n",
       "      <th>X4</th>\n",
       "      <th>X5</th>\n",
       "      <th>X6</th>\n",
       "      <th>X8</th>\n",
       "    </tr>\n",
       "  </thead>\n",
       "  <tbody>\n",
       "    <tr>\n",
       "      <th>0</th>\n",
       "      <td>k</td>\n",
       "      <td>v</td>\n",
       "      <td>at</td>\n",
       "      <td>a</td>\n",
       "      <td>d</td>\n",
       "      <td>u</td>\n",
       "      <td>j</td>\n",
       "      <td>o</td>\n",
       "    </tr>\n",
       "    <tr>\n",
       "      <th>1</th>\n",
       "      <td>k</td>\n",
       "      <td>t</td>\n",
       "      <td>av</td>\n",
       "      <td>e</td>\n",
       "      <td>d</td>\n",
       "      <td>y</td>\n",
       "      <td>l</td>\n",
       "      <td>o</td>\n",
       "    </tr>\n",
       "    <tr>\n",
       "      <th>2</th>\n",
       "      <td>az</td>\n",
       "      <td>w</td>\n",
       "      <td>n</td>\n",
       "      <td>c</td>\n",
       "      <td>d</td>\n",
       "      <td>x</td>\n",
       "      <td>j</td>\n",
       "      <td>x</td>\n",
       "    </tr>\n",
       "    <tr>\n",
       "      <th>3</th>\n",
       "      <td>az</td>\n",
       "      <td>t</td>\n",
       "      <td>n</td>\n",
       "      <td>f</td>\n",
       "      <td>d</td>\n",
       "      <td>x</td>\n",
       "      <td>l</td>\n",
       "      <td>e</td>\n",
       "    </tr>\n",
       "    <tr>\n",
       "      <th>4</th>\n",
       "      <td>az</td>\n",
       "      <td>v</td>\n",
       "      <td>n</td>\n",
       "      <td>f</td>\n",
       "      <td>d</td>\n",
       "      <td>h</td>\n",
       "      <td>d</td>\n",
       "      <td>n</td>\n",
       "    </tr>\n",
       "  </tbody>\n",
       "</table>\n",
       "</div>"
      ],
      "text/plain": [
       "   X0 X1  X2 X3 X4 X5 X6 X8\n",
       "0   k  v  at  a  d  u  j  o\n",
       "1   k  t  av  e  d  y  l  o\n",
       "2  az  w   n  c  d  x  j  x\n",
       "3  az  t   n  f  d  x  l  e\n",
       "4  az  v   n  f  d  h  d  n"
      ]
     },
     "execution_count": 7,
     "metadata": {},
     "output_type": "execute_result"
    }
   ],
   "source": [
    "dt_all_encoded[cols_cat].head()"
   ]
  },
  {
   "cell_type": "code",
   "execution_count": 8,
   "metadata": {},
   "outputs": [
    {
     "data": {
      "text/html": [
       "<div>\n",
       "<style>\n",
       "    .dataframe thead tr:only-child th {\n",
       "        text-align: right;\n",
       "    }\n",
       "\n",
       "    .dataframe thead th {\n",
       "        text-align: left;\n",
       "    }\n",
       "\n",
       "    .dataframe tbody tr th {\n",
       "        vertical-align: top;\n",
       "    }\n",
       "</style>\n",
       "<table border=\"1\" class=\"dataframe\">\n",
       "  <thead>\n",
       "    <tr style=\"text-align: right;\">\n",
       "      <th></th>\n",
       "      <th>Encode_BinaryX0</th>\n",
       "      <th>Encode_BinaryX1</th>\n",
       "      <th>Encode_BinaryX2</th>\n",
       "      <th>Encode_BinaryX3</th>\n",
       "      <th>Encode_BinaryX4</th>\n",
       "      <th>Encode_BinaryX5</th>\n",
       "      <th>Encode_BinaryX6</th>\n",
       "      <th>Encode_BinaryX8</th>\n",
       "    </tr>\n",
       "  </thead>\n",
       "  <tbody>\n",
       "    <tr>\n",
       "      <th>0</th>\n",
       "      <td>36</td>\n",
       "      <td>5</td>\n",
       "      <td>44</td>\n",
       "      <td>2</td>\n",
       "      <td>2</td>\n",
       "      <td>6</td>\n",
       "      <td>2</td>\n",
       "      <td>13</td>\n",
       "    </tr>\n",
       "    <tr>\n",
       "      <th>1</th>\n",
       "      <td>36</td>\n",
       "      <td>24</td>\n",
       "      <td>39</td>\n",
       "      <td>5</td>\n",
       "      <td>2</td>\n",
       "      <td>29</td>\n",
       "      <td>0</td>\n",
       "      <td>13</td>\n",
       "    </tr>\n",
       "    <tr>\n",
       "      <th>2</th>\n",
       "      <td>41</td>\n",
       "      <td>18</td>\n",
       "      <td>41</td>\n",
       "      <td>0</td>\n",
       "      <td>2</td>\n",
       "      <td>2</td>\n",
       "      <td>2</td>\n",
       "      <td>8</td>\n",
       "    </tr>\n",
       "    <tr>\n",
       "      <th>3</th>\n",
       "      <td>41</td>\n",
       "      <td>24</td>\n",
       "      <td>41</td>\n",
       "      <td>4</td>\n",
       "      <td>2</td>\n",
       "      <td>2</td>\n",
       "      <td>0</td>\n",
       "      <td>19</td>\n",
       "    </tr>\n",
       "    <tr>\n",
       "      <th>4</th>\n",
       "      <td>41</td>\n",
       "      <td>5</td>\n",
       "      <td>41</td>\n",
       "      <td>4</td>\n",
       "      <td>2</td>\n",
       "      <td>5</td>\n",
       "      <td>3</td>\n",
       "      <td>12</td>\n",
       "    </tr>\n",
       "  </tbody>\n",
       "</table>\n",
       "</div>"
      ],
      "text/plain": [
       "   Encode_BinaryX0  Encode_BinaryX1  Encode_BinaryX2  Encode_BinaryX3  \\\n",
       "0               36                5               44                2   \n",
       "1               36               24               39                5   \n",
       "2               41               18               41                0   \n",
       "3               41               24               41                4   \n",
       "4               41                5               41                4   \n",
       "\n",
       "   Encode_BinaryX4  Encode_BinaryX5  Encode_BinaryX6  Encode_BinaryX8  \n",
       "0                2                6                2               13  \n",
       "1                2               29                0               13  \n",
       "2                2                2                2                8  \n",
       "3                2                2                0               19  \n",
       "4                2                5                3               12  "
      ]
     },
     "execution_count": 8,
     "metadata": {},
     "output_type": "execute_result"
    }
   ],
   "source": [
    "dt_cat_label.head()"
   ]
  },
  {
   "cell_type": "markdown",
   "metadata": {},
   "source": [
    "### 3.7 Combine all encoders"
   ]
  },
  {
   "cell_type": "code",
   "execution_count": null,
   "metadata": {},
   "outputs": [],
   "source": [
    "# OHE\n",
    "dt_all_encoded = dt_all_encoded.drop(cols_cat, axis = 1).join(dt_cat_onehot)\n",
    "dt_all_encoded.shape"
   ]
  },
  {
   "cell_type": "code",
   "execution_count": null,
   "metadata": {},
   "outputs": [],
   "source": [
    "# TargetMean\n",
    "dt_all_encoded = dt_all_encoded.join(dt_cat_targetMean)\n",
    "dt_all_encoded.shape"
   ]
  },
  {
   "cell_type": "code",
   "execution_count": null,
   "metadata": {},
   "outputs": [],
   "source": [
    "# Frequency\n",
    "dt_all_encoded = dt_all_encoded.join(dt_cat_freq)\n",
    "dt_all_encoded.shape"
   ]
  },
  {
   "cell_type": "code",
   "execution_count": null,
   "metadata": {},
   "outputs": [],
   "source": [
    "# Binary\n",
    "dt_all_encoded = dt_all_encoded.join(dt_cat_binary)\n",
    "dt_all_encoded.shape"
   ]
  },
  {
   "cell_type": "code",
   "execution_count": null,
   "metadata": {},
   "outputs": [],
   "source": [
    "# Ordinal X0\n",
    "dt_all_encoded = dt_all_encoded.join(dt_cat_ordinal_X0)\n",
    "dt_all_encoded.shape"
   ]
  },
  {
   "cell_type": "code",
   "execution_count": null,
   "metadata": {},
   "outputs": [],
   "source": [
    "# Ordinal X5\n",
    "dt_all_encoded = dt_all_encoded.join(dt_cat_ordinal_X5)\n",
    "dt_all_encoded.shape"
   ]
  },
  {
   "cell_type": "code",
   "execution_count": null,
   "metadata": {},
   "outputs": [],
   "source": [
    "# Label\n",
    "dt_all_encoded = dt_all_encoded.join(dt_cat_label)\n",
    "dt_all_encoded.shape"
   ]
  },
  {
   "cell_type": "markdown",
   "metadata": {},
   "source": [
    "### 3.7 Save dt_all_encoded"
   ]
  },
  {
   "cell_type": "code",
   "execution_count": null,
   "metadata": {
    "collapsed": true
   },
   "outputs": [],
   "source": [
    "dt_all_encoded.to_csv(\"../../data/Mercedes_Benz_Greener_Manufacturing/data/dt_all_encoded.csv\", index = False)"
   ]
  }
 ],
 "metadata": {
  "kernelspec": {
   "display_name": "Python 3",
   "language": "python",
   "name": "python3"
  },
  "language_info": {
   "codemirror_mode": {
    "name": "ipython",
    "version": 3
   },
   "file_extension": ".py",
   "mimetype": "text/x-python",
   "name": "python",
   "nbconvert_exporter": "python",
   "pygments_lexer": "ipython3",
   "version": "3.5.2"
  }
 },
 "nbformat": 4,
 "nbformat_minor": 2
}
