{
 "cells": [
  {
   "cell_type": "code",
   "execution_count": 1,
   "metadata": {
    "collapsed": true
   },
   "outputs": [],
   "source": [
    "import pandas as pd\n",
    "import numpy as np\n",
    "import math\n",
    "from sklearn.model_selection import StratifiedKFold, GroupKFold, KFold, train_test_split\n",
    "from sklearn.ensemble import ExtraTreesRegressor\n",
    "import xgboost as xgb\n",
    "from sklearn import linear_model\n",
    "from sklearn.metrics import r2_score\n",
    "import matplotlib.pyplot as plt"
   ]
  },
  {
   "cell_type": "markdown",
   "metadata": {},
   "source": [
    "## 1. Load"
   ]
  },
  {
   "cell_type": "code",
   "execution_count": 2,
   "metadata": {
    "collapsed": true
   },
   "outputs": [],
   "source": [
    "# load data\n",
    "dt_train_raw = pd.read_csv(\"../../data/Mercedes_Benz_Greener_Manufacturing/raw/train.csv\")\n",
    "dt_test_raw = pd.read_csv(\"../../data/Mercedes_Benz_Greener_Manufacturing/raw/test.csv\")"
   ]
  },
  {
   "cell_type": "markdown",
   "metadata": {},
   "source": [
    "## 2. Transform"
   ]
  },
  {
   "cell_type": "code",
   "execution_count": 3,
   "metadata": {
    "collapsed": true
   },
   "outputs": [],
   "source": [
    "# marke train and test set\n",
    "dt_train_raw.loc[:, \"IsTrainTest\"] = pd.Series(\"train\", index = dt_train_raw.index)\n",
    "dt_test_raw.loc[:, \"IsTrainTest\"] = pd.Series(\"test\", index = dt_test_raw.index)\n",
    "\n",
    "# change test index and add y\n",
    "dt_test_raw.index = dt_test_raw.index + max(dt_train_raw.index) + 1\n",
    "dt_test_raw.loc[:,\"y\"] = pd.Series([0.0] * dt_test_raw.shape[0], index = dt_test_raw.index)\n",
    "\n",
    "# concat\n",
    "dt_test_raw = dt_test_raw[dt_train_raw.columns.values]\n",
    "dt_all_raw = pd.concat([dt_train_raw, dt_test_raw])"
   ]
  },
  {
   "cell_type": "markdown",
   "metadata": {},
   "source": [
    "## 3. Preprocess"
   ]
  },
  {
   "cell_type": "markdown",
   "metadata": {},
   "source": [
    "### 3.1. Remove duplicates"
   ]
  },
  {
   "cell_type": "code",
   "execution_count": 4,
   "metadata": {
    "collapsed": true
   },
   "outputs": [],
   "source": [
    "# duplicated cols in dt_all\n",
    "cols_dup_all = dt_all_raw.T.duplicated()[dt_all_raw.T.duplicated() == True].index.values\n",
    "# duplicated cols in dt_train\n",
    "cols_dup_train = dt_train_raw.T.duplicated()[dt_train_raw.T.duplicated() == True].index.values\n",
    "# duplicated cols in dt_test\n",
    "cols_dup_test = dt_test_raw.T.duplicated()[dt_test_raw.T.duplicated() == True].index.values"
   ]
  },
  {
   "cell_type": "code",
   "execution_count": 5,
   "metadata": {},
   "outputs": [],
   "source": [
    "# drop all cols_dup_all\n",
    "dt_all_raw = dt_all_raw.drop(cols_dup_all, axis = 1)\n",
    "# change col names for cols_dup_train and cols_dup_test\n",
    "dict_dup_train = {x: \"dup_train_\" + x for x in list(set(cols_dup_train) - set(cols_dup_all))}\n",
    "dt_all_raw = dt_all_raw.rename(columns = dict_dup_train)\n",
    "dict_dup_test = {x: \"dup_test_\" + x for x in list(set(cols_dup_test) - set(cols_dup_all))}\n",
    "dt_all_raw = dt_all_raw.rename(columns = dict_dup_test)"
   ]
  },
  {
   "cell_type": "markdown",
   "metadata": {},
   "source": [
    "### 3.2 Remove single values"
   ]
  },
  {
   "cell_type": "code",
   "execution_count": 6,
   "metadata": {},
   "outputs": [],
   "source": [
    "# single value cols in dt_train\n",
    "cols_single_train = []\n",
    "for col in dt_all_raw.loc[dt_all_raw[\"IsTrainTest\"] == \"train\"].drop([\"y\", \"IsTrainTest\"], axis = 1).columns.values:\n",
    "    len_unique = len(np.unique(dt_all_raw.loc[dt_all_raw[\"IsTrainTest\"] == \"train\"][col].values))\n",
    "    if len_unique == 1:\n",
    "        cols_single_train.append(col)\n",
    "# single value cols in dt_test\n",
    "cols_single_test = []\n",
    "for col in dt_all_raw.loc[dt_all_raw[\"IsTrainTest\"] == \"test\"].drop([\"y\", \"IsTrainTest\"], axis = 1).columns.values:\n",
    "    len_unique = len(np.unique(dt_all_raw.loc[dt_all_raw[\"IsTrainTest\"] == \"test\"][col].values))\n",
    "    if len_unique == 1:\n",
    "        cols_single_test.append(col)"
   ]
  },
  {
   "cell_type": "code",
   "execution_count": 7,
   "metadata": {},
   "outputs": [],
   "source": [
    "# change col names for cols_single_train and cols_single_test\n",
    "dict_single_train = {x: \"single_train_\" + x for x in cols_single_train}\n",
    "dt_all_raw = dt_all_raw.rename(columns = dict_single_train)\n",
    "dict_single_test = {x: \"single_test_\" + x for x in cols_single_test}\n",
    "dt_all_raw = dt_all_raw.rename(columns = dict_single_test)"
   ]
  },
  {
   "cell_type": "markdown",
   "metadata": {},
   "source": [
    "### 3.3 Encode cat cols"
   ]
  },
  {
   "cell_type": "code",
   "execution_count": 8,
   "metadata": {
    "collapsed": true
   },
   "outputs": [],
   "source": [
    "# cols_cat\n",
    "cols_cat = dt_all_raw.drop(\"IsTrainTest\", axis = 1).select_dtypes(include = ['object']).columns.values"
   ]
  },
  {
   "cell_type": "markdown",
   "metadata": {},
   "source": [
    "#### 3.3.1 One-Hot encoding"
   ]
  },
  {
   "cell_type": "code",
   "execution_count": 9,
   "metadata": {},
   "outputs": [],
   "source": [
    "dt_cat_onehot = pd.get_dummies(dt_all_raw[cols_cat])\n",
    "dict_ohe = {x: \"ohe_\" + x for x in dt_cat_onehot.columns.values}\n",
    "dt_cat_onehot = dt_cat_onehot.rename(columns = dict_ohe)"
   ]
  },
  {
   "cell_type": "markdown",
   "metadata": {},
   "source": [
    "#### 3.3.2 TargetMean"
   ]
  },
  {
   "cell_type": "code",
   "execution_count": 10,
   "metadata": {},
   "outputs": [],
   "source": [
    "# oof to encode cols_cat with TargetMean\n",
    "def getTargetMean(dt, dt_all, cols, k = 3):\n",
    "\n",
    "    # init dt_targetMean\n",
    "    dt_targetMean = pd.DataFrame()\n",
    "\n",
    "    for col in cols:\n",
    "    \n",
    "        # init dt_targetMean_oof\n",
    "        dt_targetMean_oof = pd.DataFrame()\n",
    "        \n",
    "        # X_targetMean_Kfold, y_targetMean_Kfold\n",
    "        X_targetMean_Kfold = dt[[col, \"y\"]]\n",
    "        y_targetMean_Kfold = dt[col].values\n",
    "\n",
    "        # oof cv\n",
    "        skf = StratifiedKFold(n_splits = k)\n",
    "        \n",
    "        \n",
    "        for i, (ind_in, ind_out) in enumerate(skf.split(X_targetMean_Kfold, y_targetMean_Kfold)):\n",
    "\n",
    "\n",
    "            # init dt_targetMean_oof\n",
    "            dt_targetMean_val = pd.DataFrame()\n",
    "\n",
    "            # X_in, X_out, y_in, y_out\n",
    "            X_in, X_out = X_targetMean_Kfold.iloc[ind_in], X_targetMean_Kfold.iloc[ind_out]\n",
    "            y_in, y_out = y_targetMean_Kfold[ind_in], y_targetMean_Kfold[ind_out]\n",
    "\n",
    "            # calc TargetMean\n",
    "            for val in set(X_in[col].values):\n",
    "                dt_targetMean_temp = pd.DataFrame({\"Value\": [val]\n",
    "                                                   , \"TargetMean_\" + str(i): [X_in.loc[X_in[col] == val].y.mean()]})\n",
    "                dt_targetMean_val = pd.concat([dt_targetMean_val, dt_targetMean_temp])\n",
    "\n",
    "            # merge with oof\n",
    "            if i == 0:\n",
    "                dt_targetMean_oof = pd.merge(X_targetMean_Kfold.drop(\"y\", axis = 1).drop_duplicates(), dt_targetMean_val\n",
    "                                             , how = \"left\", left_on = col, right_on = \"Value\")\n",
    "                dt_targetMean_oof = dt_targetMean_oof.drop(col, axis = 1)\n",
    "            else:\n",
    "                dt_targetMean_oof = pd.merge(dt_targetMean_oof, dt_targetMean_val\n",
    "                                             , how = \"left\", on = \"Value\")\n",
    "\n",
    "        # move Value to the first column\n",
    "        value = dt_targetMean_oof['Value']\n",
    "        dt_targetMean_oof.drop(labels = [\"Value\"], axis = 1,inplace = True)\n",
    "        dt_targetMean_oof.insert(0, 'Value', value)\n",
    "        # assign col\n",
    "        dt_targetMean_oof.insert(0, 'Col', col)\n",
    "        \n",
    "        # concat with col\n",
    "        dt_targetMean = pd.concat([dt_targetMean, dt_targetMean_oof])\n",
    "    \n",
    "    # mean of oof\n",
    "    dt_targetMean[\"TargetMean\"] = dt_targetMean.filter(regex = \"TargetMean\").mean(axis = 1)\n",
    "    # fill zero\n",
    "    dt_targetMean = dt_targetMean.fillna(0)\n",
    "    # remove oof cols\n",
    "    dt_targetMean = dt_targetMean[[\"Col\", \"Value\", \"TargetMean\"]]\n",
    "\n",
    "    # merge to original table\n",
    "    dt_cat_cols = dt_all[cols]\n",
    "    \n",
    "    for col in cols_cat:\n",
    "        dt_cat_cols = pd.merge(dt_cat_cols, dt_targetMean.loc[dt_targetMean[\"Col\"] == col]\n",
    "                           , how = \"left\", left_on = col, right_on = \"Value\")\n",
    "        dt_cat_cols = dt_cat_cols.drop([\"Value\", \"Col\"], axis = 1)\n",
    "        dt_cat_cols = dt_cat_cols.rename(columns = {\"TargetMean\": \"TargetMean_\" + col})\n",
    "    # fill zero\n",
    "    dt_cat_cols = dt_cat_cols.fillna(0)\n",
    "    \n",
    "    # only select targetMean cols\n",
    "    dt_cat_targetMean = dt_cat_cols.filter(regex = \"TargetMean\")\n",
    "        \n",
    "    return dt_cat_targetMean"
   ]
  },
  {
   "cell_type": "code",
   "execution_count": 18,
   "metadata": {
    "scrolled": false
   },
   "outputs": [
    {
     "name": "stderr",
     "output_type": "stream",
     "text": [
      "/usr/local/lib/python3.5/dist-packages/sklearn/model_selection/_split.py:581: Warning: The least populated class in y has only 1 members, which is too few. The minimum number of groups for any class cannot be less than n_splits=3.\n",
      "  % (min_groups, self.n_splits)), Warning)\n"
     ]
    }
   ],
   "source": [
    "## remove the outlier and tm\n",
    "dt_cat_targetMean = getTargetMean(dt_all_raw.loc[(dt_all_raw[\"IsTrainTest\"] == \"train\") & \n",
    "                                                 (dt_all_raw[\"ID\"] != 1770)]\n",
    "                                  , dt_all_raw\n",
    "                                  , cols_cat\n",
    "                                  , 3)"
   ]
  },
  {
   "cell_type": "code",
   "execution_count": 19,
   "metadata": {},
   "outputs": [],
   "source": [
    "params_ctrl = {\n",
    "    \"encode\": \"tm\"\n",
    "}"
   ]
  },
  {
   "cell_type": "code",
   "execution_count": 20,
   "metadata": {},
   "outputs": [],
   "source": [
    "dt_all = dt_all_raw.drop(cols_cat, axis = 1)\n",
    "\n",
    "if params_ctrl[\"encode\"] == \"ohe\":\n",
    "    dt_all = dt_all.join(dt_cat_onehot)\n",
    "elif params_ctrl[\"encode\"] == \"tm\":\n",
    "    dt_all = dt_all.join(dt_cat_targetMean)\n",
    "elif params_ctrl[\"encode\"] == \"all\":\n",
    "    dt_all = dt_all.join(dt_cat_onehot)\n",
    "    dt_all = dt_all.join(dt_cat_targetMean)\n",
    "    "
   ]
  },
  {
   "cell_type": "markdown",
   "metadata": {},
   "source": [
    "## 4. Model"
   ]
  },
  {
   "cell_type": "code",
   "execution_count": 21,
   "metadata": {
    "collapsed": true
   },
   "outputs": [],
   "source": [
    "# r^2\n",
    "def r_2(preds, dtrain):\n",
    "    labels = dtrain.get_label()\n",
    "    # return a pair metric_name, result\n",
    "    # since preds are margin(before logistic transformation, cutoff at 0)\n",
    "    return 'score', r2_score(labels, preds)"
   ]
  },
  {
   "cell_type": "markdown",
   "metadata": {},
   "source": [
    "### 4.1 ExtraTree"
   ]
  },
  {
   "cell_type": "code",
   "execution_count": 22,
   "metadata": {
    "collapsed": true
   },
   "outputs": [],
   "source": [
    "# extratree\n",
    "params_extraTRee = {\n",
    "    \"n_jobs\": 7\n",
    "    , \"n_estimators\": 400\n",
    "    , \"max_depth\": 3\n",
    "    , \"min_samples_split\": 5\n",
    "    , \"random_state\": 888\n",
    "    , \"verbose\": 0\n",
    "}\n",
    "model_extra = ExtraTreesRegressor(**params_extraTRee)"
   ]
  },
  {
   "cell_type": "markdown",
   "metadata": {},
   "source": [
    "### 4.2 xgboost"
   ]
  },
  {
   "cell_type": "code",
   "execution_count": 23,
   "metadata": {
    "collapsed": true
   },
   "outputs": [],
   "source": [
    "# params\n",
    "params_xgb = {\n",
    "    \"eta\": 0.05,\n",
    "    \"max_depth\": 6,\n",
    "    \"subsample\": 0.7,\n",
    "    \"colsample_bytree\": 0.8,\n",
    "    \"objective\": 'reg:linear',\n",
    "    \"silent\": 0\n",
    "}\n",
    "num_boost_round = 1000"
   ]
  },
  {
   "cell_type": "markdown",
   "metadata": {},
   "source": [
    "### 4.3 Linear Regression"
   ]
  },
  {
   "cell_type": "code",
   "execution_count": 24,
   "metadata": {
    "collapsed": true
   },
   "outputs": [],
   "source": [
    "model_lr = linear_model.LinearRegression()"
   ]
  },
  {
   "cell_type": "markdown",
   "metadata": {},
   "source": [
    "### 4.4 Ridge Regression"
   ]
  },
  {
   "cell_type": "code",
   "execution_count": 25,
   "metadata": {
    "collapsed": true
   },
   "outputs": [],
   "source": [
    "model_ridge = linear_model.Ridge()\n",
    "params_ridge = {'alpha': [0,0.5,1,2,3,5]}"
   ]
  },
  {
   "cell_type": "markdown",
   "metadata": {},
   "source": [
    "## 5. Cross-Validation strategy"
   ]
  },
  {
   "cell_type": "code",
   "execution_count": 26,
   "metadata": {},
   "outputs": [
    {
     "name": "stdout",
     "output_type": "stream",
     "text": [
      "X_train_all: (4209, 340)\n",
      "X_test: (4209, 340)\n"
     ]
    }
   ],
   "source": [
    "# X, y, ID\n",
    "X_train_all = dt_all.loc[dt_all[\"IsTrainTest\"] == \"train\"].drop([\"ID\", \"y\", \"IsTrainTest\"], axis = 1)\n",
    "y_train_all = dt_all.loc[dt_all[\"IsTrainTest\"] == \"train\"].y.values\n",
    "ID_train_all = dt_all.loc[dt_all[\"IsTrainTest\"] == \"train\"].ID.values\n",
    "print(\"X_train_all:\", X_train_all.shape)\n",
    "\n",
    "X_test = dt_all.loc[dt_all[\"IsTrainTest\"] == \"test\"].drop([\"ID\", \"y\", \"IsTrainTest\"], axis = 1)\n",
    "y_test = dt_all.loc[dt_all[\"IsTrainTest\"] == \"test\"].y.values\n",
    "ID_test = dt_all.loc[dt_all[\"IsTrainTest\"] == \"test\"].ID.values\n",
    "print(\"X_test:\", X_test.shape)\n",
    "\n",
    "dtest = xgb.DMatrix(X_test)"
   ]
  },
  {
   "cell_type": "markdown",
   "metadata": {},
   "source": [
    "### 5.1 Random split"
   ]
  },
  {
   "cell_type": "code",
   "execution_count": 27,
   "metadata": {},
   "outputs": [
    {
     "name": "stdout",
     "output_type": "stream",
     "text": [
      "extraTree ...\n",
      "xgboost ...\n",
      "[0]\ttrain-rmse:95.7692\teval-rmse:96.7695\ttrain-score:-58.3968\teval-score:-49.5241\n",
      "Multiple eval metrics have been passed: 'eval-score' will be used for early stopping.\n",
      "\n",
      "Will train until eval-score hasn't improved in 50 rounds.\n",
      "[50]\ttrain-rmse:10.5886\teval-rmse:12.33\ttrain-score:0.273911\teval-score:0.179754\n",
      "[100]\ttrain-rmse:6.96415\teval-rmse:9.87763\ttrain-score:0.685915\teval-score:0.473587\n",
      "[150]\ttrain-rmse:6.46629\teval-rmse:9.92426\ttrain-score:0.729217\teval-score:0.468605\n",
      "Stopping. Best iteration:\n",
      "[112]\ttrain-rmse:6.86406\teval-rmse:9.86957\ttrain-score:0.694879\teval-score:0.474446\n",
      "\n",
      "ridge ...\n",
      "i: 0 - extraTree:0.46588; xgb:0.4667; ridge:0.44859; rs_all:0.47041\n",
      "extraTree ...\n",
      "xgboost ...\n",
      "[0]\ttrain-rmse:95.9972\teval-rmse:95.8197\ttrain-score:-56.5739\teval-score:-55.2061\n",
      "Multiple eval metrics have been passed: 'eval-score' will be used for early stopping.\n",
      "\n",
      "Will train until eval-score hasn't improved in 50 rounds.\n",
      "[50]\ttrain-rmse:10.8771\teval-rmse:11.1263\ttrain-score:0.260844\teval-score:0.242158\n",
      "[100]\ttrain-rmse:7.16312\teval-rmse:8.22572\ttrain-score:0.679438\teval-score:0.585789\n",
      "[150]\ttrain-rmse:6.42015\teval-rmse:8.33499\ttrain-score:0.742488\teval-score:0.574711\n",
      "Stopping. Best iteration:\n",
      "[101]\ttrain-rmse:7.14681\teval-rmse:8.22462\ttrain-score:0.680896\teval-score:0.5859\n",
      "\n",
      "ridge ...\n",
      "i: 1 - extraTree:0.59222; xgb:0.57458; ridge:0.55128; rs_all:0.58517\n",
      "extraTree ...\n",
      "xgboost ...\n",
      "[0]\ttrain-rmse:96.0416\teval-rmse:95.6577\ttrain-score:-56.4033\teval-score:-55.9187\n",
      "Multiple eval metrics have been passed: 'eval-score' will be used for early stopping.\n",
      "\n",
      "Will train until eval-score hasn't improved in 50 rounds.\n",
      "[50]\ttrain-rmse:10.8277\teval-rmse:10.9919\ttrain-score:0.270386\teval-score:0.248439\n",
      "[100]\ttrain-rmse:7.10915\teval-rmse:8.36251\ttrain-score:0.685477\teval-score:0.565001\n",
      "Stopping. Best iteration:\n",
      "[84]\ttrain-rmse:7.42074\teval-rmse:8.3283\ttrain-score:0.657302\teval-score:0.568553\n",
      "\n",
      "ridge ...\n",
      "i: 2 - extraTree:0.5884; xgb:0.54799; ridge:0.55097; rs_all:0.57563\n",
      "extraTree ...\n",
      "xgboost ...\n",
      "[0]\ttrain-rmse:96.0459\teval-rmse:95.6282\ttrain-score:-55.3499\teval-score:-60.4897\n",
      "Multiple eval metrics have been passed: 'eval-score' will be used for early stopping.\n",
      "\n",
      "Will train until eval-score hasn't improved in 50 rounds.\n",
      "[50]\ttrain-rmse:10.8761\teval-rmse:11.011\ttrain-score:0.277431\teval-score:0.184759\n",
      "[100]\ttrain-rmse:7.18391\teval-rmse:8.13029\ttrain-score:0.684748\teval-score:0.55553\n",
      "Stopping. Best iteration:\n",
      "[97]\ttrain-rmse:7.23454\teval-rmse:8.13025\ttrain-score:0.680289\teval-score:0.555534\n",
      "\n",
      "ridge ...\n",
      "i: 3 - extraTree:0.5592; xgb:0.54574; ridge:0.49934; rs_all:0.55025\n",
      "extraTree ...\n",
      "xgboost ...\n",
      "[0]\ttrain-rmse:95.9612\teval-rmse:95.9613\ttrain-score:-55.4475\teval-score:-59.9423\n",
      "Multiple eval metrics have been passed: 'eval-score' will be used for early stopping.\n",
      "\n",
      "Will train until eval-score hasn't improved in 50 rounds.\n",
      "[50]\ttrain-rmse:10.8742\teval-rmse:10.9972\ttrain-score:0.275145\teval-score:0.199636\n",
      "[100]\ttrain-rmse:7.2605\teval-rmse:8.20999\ttrain-score:0.676863\teval-score:0.553921\n",
      "Stopping. Best iteration:\n",
      "[94]\ttrain-rmse:7.35938\teval-rmse:8.20111\ttrain-score:0.668002\teval-score:0.554886\n",
      "\n",
      "ridge ...\n",
      "i: 4 - extraTree:0.55806; xgb:0.54494; ridge:0.51308; rs_all:0.55313\n",
      "extraTree ...\n",
      "xgboost ...\n",
      "[0]\ttrain-rmse:96.0102\teval-rmse:95.7494\ttrain-score:-56.421\teval-score:-55.7863\n",
      "Multiple eval metrics have been passed: 'eval-score' will be used for early stopping.\n",
      "\n",
      "Will train until eval-score hasn't improved in 50 rounds.\n",
      "[50]\ttrain-rmse:10.9214\teval-rmse:10.9569\ttrain-score:0.256998\teval-score:0.256394\n",
      "[100]\ttrain-rmse:7.06066\teval-rmse:8.08947\ttrain-score:0.689453\teval-score:0.594668\n",
      "Stopping. Best iteration:\n",
      "[98]\ttrain-rmse:7.08436\teval-rmse:8.08643\ttrain-score:0.687365\teval-score:0.594973\n",
      "\n",
      "ridge ...\n",
      "i: 5 - extraTree:0.60434; xgb:0.5857; ridge:0.5761; rs_all:0.59849\n",
      "extraTree ...\n",
      "xgboost ...\n",
      "[0]\ttrain-rmse:96.0648\teval-rmse:95.53\ttrain-score:-54.4858\teval-score:-65.0089\n",
      "Multiple eval metrics have been passed: 'eval-score' will be used for early stopping.\n",
      "\n",
      "Will train until eval-score hasn't improved in 50 rounds.\n",
      "[50]\ttrain-rmse:11.0658\teval-rmse:9.6158\ttrain-score:0.263761\teval-score:0.331205\n",
      "[100]\ttrain-rmse:7.52186\teval-rmse:7.01332\ttrain-score:0.659824\teval-score:0.64423\n",
      "Stopping. Best iteration:\n",
      "[86]\ttrain-rmse:7.7172\teval-rmse:6.97864\ttrain-score:0.641926\teval-score:0.647739\n",
      "\n",
      "ridge ...\n",
      "i: 6 - extraTree:0.64532; xgb:0.63134; ridge:0.60979; rs_all:0.64174\n",
      "extraTree ...\n",
      "xgboost ...\n",
      "[0]\ttrain-rmse:95.8989\teval-rmse:96.2356\ttrain-score:-58.3767\teval-score:-49.3151\n",
      "Multiple eval metrics have been passed: 'eval-score' will be used for early stopping.\n",
      "\n",
      "Will train until eval-score hasn't improved in 50 rounds.\n",
      "[50]\ttrain-rmse:10.5876\teval-rmse:12.4774\ttrain-score:0.276258\teval-score:0.154189\n",
      "[100]\ttrain-rmse:6.92966\teval-rmse:9.86081\ttrain-score:0.689963\teval-score:0.471734\n",
      "[150]\ttrain-rmse:6.4065\teval-rmse:9.86145\ttrain-score:0.73501\teval-score:0.471666\n",
      "Stopping. Best iteration:\n",
      "[106]\ttrain-rmse:6.85906\teval-rmse:9.84915\ttrain-score:0.696248\teval-score:0.472983\n",
      "\n",
      "ridge ...\n",
      "i: 7 - extraTree:0.46514; xgb:0.47001; ridge:0.4307; rs_all:0.47029\n",
      "extraTree ...\n",
      "xgboost ...\n",
      "[0]\ttrain-rmse:95.8463\teval-rmse:96.4249\ttrain-score:-56.06\teval-score:-57.3469\n",
      "Multiple eval metrics have been passed: 'eval-score' will be used for early stopping.\n",
      "\n",
      "Will train until eval-score hasn't improved in 50 rounds.\n",
      "[50]\ttrain-rmse:10.9111\teval-rmse:11.1143\ttrain-score:0.260528\teval-score:0.224816\n",
      "[100]\ttrain-rmse:7.09266\teval-rmse:8.06706\ttrain-score:0.687537\teval-score:0.591615\n",
      "[150]\ttrain-rmse:6.5012\teval-rmse:8.14017\ttrain-score:0.737477\teval-score:0.584179\n",
      "Stopping. Best iteration:\n",
      "[114]\ttrain-rmse:6.90696\teval-rmse:8.0511\ttrain-score:0.703684\teval-score:0.593229\n",
      "\n",
      "ridge ...\n",
      "i: 8 - extraTree:0.59746; xgb:0.57891; ridge:0.56758; rs_all:0.59488\n",
      "extraTree ...\n",
      "xgboost ...\n",
      "[0]\ttrain-rmse:96.0134\teval-rmse:95.8046\ttrain-score:-55.8612\teval-score:-58.1708\n",
      "Multiple eval metrics have been passed: 'eval-score' will be used for early stopping.\n",
      "\n",
      "Will train until eval-score hasn't improved in 50 rounds.\n",
      "[50]\ttrain-rmse:10.8755\teval-rmse:10.9791\ttrain-score:0.270461\teval-score:0.222911\n",
      "[100]\ttrain-rmse:7.15838\teval-rmse:8.13048\ttrain-score:0.683931\teval-score:0.573845\n",
      "[150]\ttrain-rmse:6.54137\teval-rmse:8.21645\ttrain-score:0.73607\teval-score:0.564786\n",
      "Stopping. Best iteration:\n",
      "[108]\ttrain-rmse:7.07743\teval-rmse:8.1282\ttrain-score:0.691039\teval-score:0.574085\n",
      "\n",
      "ridge ...\n",
      "i: 9 - extraTree:0.58582; xgb:0.56267; ridge:0.54199; rs_all:0.57613\n"
     ]
    }
   ],
   "source": [
    "score_rs_valid = 0\n",
    "preds_rs_test = []\n",
    "w_extra = .2\n",
    "w_xgb = .5\n",
    "w_ridge = .3\n",
    "for i in range(0, 10):\n",
    "    X_train, X_valid, y_train, y_valid = train_test_split(X_train_all, y_train_all\n",
    "                                                          , test_size = 0.2, random_state = i)\n",
    "    # extraTree\n",
    "    print(\"extraTree ...\")\n",
    "    model_extra.fit(X_train, y_train)\n",
    "    preds_extra_valid = model_extra.predict(X_valid)\n",
    "    score_extra = r2_score(y_valid, preds_extra_valid)\n",
    "    \n",
    "    # xgboost\n",
    "    print(\"xgboost ...\")\n",
    "    dtrain = xgb.DMatrix(X_train, label = y_train)\n",
    "    dvalid = xgb.DMatrix(X_valid, label = y_valid)\n",
    "    ls_watch =  [(dtrain, 'train'), (dvalid, 'eval')]\n",
    "    model_xgb = xgb.train(params_xgb, dtrain, evals = ls_watch\n",
    "                          , feval = r_2, maximize = True\n",
    "                          , num_boost_round = num_boost_round\n",
    "                          , early_stopping_rounds = 50, verbose_eval = 50)\n",
    "    preds_xgb_valid = model_xgb.predict(dvalid)\n",
    "    score_xgb = r2_score(y_valid, preds_xgb_valid)\n",
    "    \n",
    "    # ridge\n",
    "    print(\"ridge ...\")\n",
    "    model_ridge = model_ridge.fit(X_train, y_train)\n",
    "    preds_ridge_valid = model_ridge.predict(X_valid)\n",
    "    score_ridge = r2_score(y_valid, preds_ridge_valid)\n",
    "\n",
    "    # avg them\n",
    "    ls_preds = [preds_extra_valid * w_extra, preds_xgb_valid * w_xgb, preds_ridge_valid * w_ridge]\n",
    "    preds_rs_valid = [sum(e) for e in zip(*ls_preds)]\n",
    "    \n",
    "    score_rs = r2_score(y_valid, preds_rs_valid)\n",
    "    \n",
    "    score_rs_valid = score_rs_valid + score_rs / 10\n",
    "    \n",
    "    # test\n",
    "    preds_extra_test = model_extra.predict(X_test)\n",
    "    preds_xgb_test = model_xgb.predict(dtest)\n",
    "    preds_ridge_test = model_ridge.predict(X_test)\n",
    "    ls_preds_test = [preds_extra_test * w_extra, preds_xgb_test * w_xgb, preds_ridge_test * w_ridge]\n",
    "    preds_rs_test = [sum(e) for e in zip(*ls_preds_test)]\n",
    "\n",
    "    \n",
    "    print(\"i: {} - extraTree:{}; xgb:{}; ridge:{}; rs_all:{}\".format(i, round(score_extra, 5)\n",
    "                                                                     , round(score_xgb, 5)\n",
    "                                                                     , round(score_ridge, 5)\n",
    "                                                                     , round(score_rs, 5)))"
   ]
  },
  {
   "cell_type": "code",
   "execution_count": 28,
   "metadata": {},
   "outputs": [
    {
     "data": {
      "text/plain": [
       "0.56161133035047184"
      ]
     },
     "execution_count": 28,
     "metadata": {},
     "output_type": "execute_result"
    }
   ],
   "source": [
    "score_rs_valid"
   ]
  },
  {
   "cell_type": "code",
   "execution_count": 29,
   "metadata": {},
   "outputs": [
    {
     "data": {
      "text/plain": [
       "[85.845308315069943,\n",
       " 100.71238332916283,\n",
       " 86.678221533072673,\n",
       " 73.649758616650189,\n",
       " 103.72997730337391,\n",
       " 90.142493216783464,\n",
       " 109.79607403712916,\n",
       " 84.853649085439258,\n",
       " 109.32992011331281,\n",
       " 85.305092618532754]"
      ]
     },
     "execution_count": 29,
     "metadata": {},
     "output_type": "execute_result"
    }
   ],
   "source": [
    "preds_rs_test[:10]"
   ]
  },
  {
   "cell_type": "markdown",
   "metadata": {},
   "source": [
    "### 5.2 Stratified Kfold"
   ]
  },
  {
   "cell_type": "code",
   "execution_count": 30,
   "metadata": {
    "collapsed": true
   },
   "outputs": [],
   "source": [
    "bin_y = pd.qcut(y_train_all, 5, labels = [1, 2, 3, 4, 5]).astype(\"int64\")\n",
    "# stratified kfold\n",
    "skf = StratifiedKFold(n_splits = 5, shuffle = True, random_state = 888)"
   ]
  },
  {
   "cell_type": "code",
   "execution_count": 31,
   "metadata": {},
   "outputs": [
    {
     "name": "stderr",
     "output_type": "stream",
     "text": [
      "/usr/local/lib/python3.5/dist-packages/sklearn/model_selection/_split.py:581: Warning: The least populated class in y has only 1 members, which is too few. The minimum number of groups for any class cannot be less than n_splits=5.\n",
      "  % (min_groups, self.n_splits)), Warning)\n"
     ]
    },
    {
     "name": "stdout",
     "output_type": "stream",
     "text": [
      "extraTree ...\n",
      "xgboost ...\n",
      "[0]\ttrain-rmse:95.8291\teval-rmse:96.5364\ttrain-score:-58.7504\teval-score:-48.3363\n",
      "Multiple eval metrics have been passed: 'eval-score' will be used for early stopping.\n",
      "\n",
      "Will train until eval-score hasn't improved in 50 rounds.\n",
      "[50]\ttrain-rmse:10.5316\teval-rmse:12.8597\ttrain-score:0.278336\teval-score:0.124519\n",
      "[100]\ttrain-rmse:6.86806\teval-rmse:10.221\ttrain-score:0.693088\teval-score:0.446946\n",
      "[150]\ttrain-rmse:6.31951\teval-rmse:10.2072\ttrain-score:0.740156\teval-score:0.448437\n",
      "Stopping. Best iteration:\n",
      "[137]\ttrain-rmse:6.46534\teval-rmse:10.181\ttrain-score:0.728025\teval-score:0.451259\n",
      "\n",
      "ridge ...\n",
      "i: 0 - extraTree:0.44301; xgb:0.44701; ridge:0.40775; rs_skf:0.44545\n",
      "extraTree ...\n",
      "xgboost ...\n",
      "[0]\ttrain-rmse:96.0274\teval-rmse:95.7299\ttrain-score:-56.5026\teval-score:-55.5468\n",
      "Multiple eval metrics have been passed: 'eval-score' will be used for early stopping.\n",
      "\n",
      "Will train until eval-score hasn't improved in 50 rounds.\n",
      "[50]\ttrain-rmse:10.8784\teval-rmse:11.3306\ttrain-score:0.262045\teval-score:0.207832\n",
      "[100]\ttrain-rmse:7.07082\teval-rmse:8.28533\ttrain-score:0.688229\teval-score:0.576423\n",
      "[150]\ttrain-rmse:6.48535\teval-rmse:8.33876\ttrain-score:0.737721\teval-score:0.570942\n",
      "Stopping. Best iteration:\n",
      "[121]\ttrain-rmse:6.80409\teval-rmse:8.27205\ttrain-score:0.711306\teval-score:0.57778\n",
      "\n",
      "ridge ...\n",
      "i: 1 - extraTree:0.56796; xgb:0.56951; ridge:0.51052; rs_skf:0.57201\n",
      "extraTree ...\n",
      "xgboost ...\n",
      "[0]\ttrain-rmse:96.1508\teval-rmse:95.1445\ttrain-score:-54.7878\teval-score:-63.662\n",
      "Multiple eval metrics have been passed: 'eval-score' will be used for early stopping.\n",
      "\n",
      "Will train until eval-score hasn't improved in 50 rounds.\n",
      "[50]\ttrain-rmse:11.079\teval-rmse:9.85093\ttrain-score:0.259312\teval-score:0.306835\n",
      "[100]\ttrain-rmse:7.3688\teval-rmse:7.11267\ttrain-score:0.672338\teval-score:0.638634\n",
      "Stopping. Best iteration:\n",
      "[93]\ttrain-rmse:7.49914\teval-rmse:7.10129\ttrain-score:0.660643\teval-score:0.63979\n",
      "\n",
      "ridge ...\n",
      "i: 2 - extraTree:0.63557; xgb:0.62881; ridge:0.60433; rs_skf:0.63915\n",
      "extraTree ...\n",
      "xgboost ...\n",
      "[0]\ttrain-rmse:95.9117\teval-rmse:96.1643\ttrain-score:-55.7674\teval-score:-58.6278\n",
      "Multiple eval metrics have been passed: 'eval-score' will be used for early stopping.\n",
      "\n",
      "Will train until eval-score hasn't improved in 50 rounds.\n",
      "[50]\ttrain-rmse:10.8941\teval-rmse:10.9231\ttrain-score:0.267616\teval-score:0.23067\n",
      "[100]\ttrain-rmse:7.18427\teval-rmse:8.12533\ttrain-score:0.681491\teval-score:0.574301\n",
      "[150]\ttrain-rmse:6.59918\teval-rmse:8.23818\ttrain-score:0.731258\teval-score:0.562393\n",
      "Stopping. Best iteration:\n",
      "[102]\ttrain-rmse:7.17202\teval-rmse:8.11943\ttrain-score:0.682577\teval-score:0.574918\n",
      "\n",
      "ridge ...\n",
      "i: 3 - extraTree:0.58542; xgb:0.56171; ridge:0.52916; rs_skf:0.57421\n",
      "extraTree ...\n",
      "xgboost ...\n",
      "[0]\ttrain-rmse:95.893\teval-rmse:96.2349\ttrain-score:-55.8454\teval-score:-58.1269\n",
      "Multiple eval metrics have been passed: 'eval-score' will be used for early stopping.\n",
      "\n",
      "Will train until eval-score hasn't improved in 50 rounds.\n",
      "[50]\ttrain-rmse:10.9626\teval-rmse:10.7389\ttrain-score:0.257064\teval-score:0.263732\n",
      "[100]\ttrain-rmse:7.28211\teval-rmse:7.81722\ttrain-score:0.67218\teval-score:0.609857\n",
      "Stopping. Best iteration:\n",
      "[98]\ttrain-rmse:7.33157\teval-rmse:7.8103\ttrain-score:0.667712\teval-score:0.610547\n",
      "\n",
      "ridge ...\n",
      "i: 4 - extraTree:0.60518; xgb:0.60249; ridge:0.57097; rs_skf:0.60498\n"
     ]
    }
   ],
   "source": [
    "score_skf_valid = 0\n",
    "preds_skf_test = []\n",
    "w_extra = .2\n",
    "w_xgb = .5\n",
    "w_ridge = .3\n",
    "for i, (ind_train, ind_valid) in enumerate(skf.split(X_train_all, y_train_all)):\n",
    "    # X, y\n",
    "    X_train, X_valid = X_train_all.iloc[ind_train], X_train_all.iloc[ind_valid]\n",
    "    y_train, y_valid = y_train_all[ind_train], y_train_all[ind_valid]\n",
    "    \n",
    "    # extraTree\n",
    "    print(\"extraTree ...\")\n",
    "    model_extra.fit(X_train, y_train)\n",
    "    preds_extra_valid = model_extra.predict(X_valid)\n",
    "    score_extra = r2_score(y_valid, preds_extra_valid)\n",
    "    \n",
    "    # xgboost\n",
    "    print(\"xgboost ...\")\n",
    "    dtrain = xgb.DMatrix(X_train, label = y_train)\n",
    "    dvalid = xgb.DMatrix(X_valid, label = y_valid)\n",
    "    ls_watch =  [(dtrain, 'train'), (dvalid, 'eval')]\n",
    "    model_xgb = xgb.train(params_xgb, dtrain, evals = ls_watch\n",
    "                          , feval = r_2, maximize = True\n",
    "                          , num_boost_round = num_boost_round\n",
    "                          , early_stopping_rounds = 50, verbose_eval = 50)\n",
    "    preds_xgb_valid = model_xgb.predict(dvalid)\n",
    "    score_xgb = r2_score(y_valid, preds_xgb_valid)\n",
    "    \n",
    "    # ridge\n",
    "    print(\"ridge ...\")\n",
    "    model_ridge = model_ridge.fit(X_train, y_train)\n",
    "    preds_ridge_valid = model_ridge.predict(X_valid)\n",
    "    score_ridge = r2_score(y_valid, preds_ridge_valid)\n",
    "\n",
    "    # avg them\n",
    "    ls_preds = ls_preds = [preds_extra_valid * w_extra, preds_xgb_valid * w_xgb, preds_ridge_valid * w_ridge]\n",
    "    preds_skf_valid = [sum(e) for e in zip(*ls_preds)]\n",
    "    \n",
    "    score_skf = r2_score(y_valid, preds_skf_valid)\n",
    "    \n",
    "    score_skf_valid = score_skf_valid + score_skf / 5\n",
    "    \n",
    "    # test\n",
    "    preds_extra_test = model_extra.predict(X_test)\n",
    "    preds_xgb_test = model_xgb.predict(dtest)\n",
    "    preds_ridge_test = model_ridge.predict(X_test)\n",
    "    ls_preds_test = [preds_extra_test * w_extra, preds_xgb_test * w_xgb, preds_ridge_test * w_ridge]\n",
    "    preds_skf_test = [sum(e) for e in zip(*ls_preds_test)]\n",
    "\n",
    "    \n",
    "    print(\"i: {} - extraTree:{}; xgb:{}; ridge:{}; rs_skf:{}\".format(i, round(score_extra, 5)\n",
    "                                                                     , round(score_xgb, 5)\n",
    "                                                                     , round(score_ridge, 5)\n",
    "                                                                     , round(score_skf, 5)))"
   ]
  },
  {
   "cell_type": "code",
   "execution_count": 32,
   "metadata": {},
   "outputs": [
    {
     "data": {
      "text/plain": [
       "0.56715942709139577"
      ]
     },
     "execution_count": 32,
     "metadata": {},
     "output_type": "execute_result"
    }
   ],
   "source": [
    "score_skf_valid"
   ]
  },
  {
   "cell_type": "code",
   "execution_count": 33,
   "metadata": {},
   "outputs": [
    {
     "data": {
      "text/plain": [
       "[79.22843746179214,\n",
       " 93.393903278070269,\n",
       " 79.730915568236966,\n",
       " 72.657407434841105,\n",
       " 102.39260744135724,\n",
       " 90.528936703500392,\n",
       " 107.59218310001511,\n",
       " 85.005900907768236,\n",
       " 108.41831286561717,\n",
       " 84.466607909172851]"
      ]
     },
     "execution_count": 33,
     "metadata": {},
     "output_type": "execute_result"
    }
   ],
   "source": [
    "preds_skf_test[:10]"
   ]
  },
  {
   "cell_type": "markdown",
   "metadata": {},
   "source": [
    "## 6. Submit"
   ]
  },
  {
   "cell_type": "code",
   "execution_count": 34,
   "metadata": {},
   "outputs": [],
   "source": [
    "wt_rs = .3\n",
    "wt_skf = .7\n",
    "ls_submit_preds_test = [np.array(preds_rs_test) * wt_rs, np.array(preds_skf_test) * wt_skf]\n",
    "preds_submit_test = [sum(e) for e in zip(*ls_submit_preds_test)]\n",
    "dt_submit = pd.DataFrame({\"ID\": ID_test, \"y\": preds_submit_test})"
   ]
  },
  {
   "cell_type": "code",
   "execution_count": 35,
   "metadata": {
    "collapsed": true
   },
   "outputs": [],
   "source": [
    "dt_submit[[\"ID\", \"y\"]].to_csv(\"../../data/Mercedes_Benz_Greener_Manufacturing/submission/3_initModel_tm_noOutlier_cvrs_cvskf_3_7_modextra_modxgb_modridge_2_5_3.csv\"\n",
    "                              , index = False)"
   ]
  }
 ],
 "metadata": {
  "kernelspec": {
   "display_name": "Python 3",
   "language": "python",
   "name": "python3"
  },
  "language_info": {
   "codemirror_mode": {
    "name": "ipython",
    "version": 3
   },
   "file_extension": ".py",
   "mimetype": "text/x-python",
   "name": "python",
   "nbconvert_exporter": "python",
   "pygments_lexer": "ipython3",
   "version": "3.5.2"
  }
 },
 "nbformat": 4,
 "nbformat_minor": 2
}
