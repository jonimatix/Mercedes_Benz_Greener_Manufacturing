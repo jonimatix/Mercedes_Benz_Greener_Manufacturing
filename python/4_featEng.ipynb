{
 "cells": [
  {
   "cell_type": "code",
   "execution_count": 1,
   "metadata": {
    "collapsed": true
   },
   "outputs": [],
   "source": [
    "import pandas as pd\n",
    "import pickle\n",
    "import numpy as np\n",
    "from scipy import stats\n",
    "from sklearn import preprocessing, decomposition, manifold\n",
    "from sklearn import random_projection\n",
    "import operator"
   ]
  },
  {
   "cell_type": "markdown",
   "metadata": {},
   "source": [
    "## 4. Feature Engineering"
   ]
  },
  {
   "cell_type": "code",
   "execution_count": 2,
   "metadata": {},
   "outputs": [],
   "source": [
    "# read dt_all_eng\n",
    "dt_all_eng = pd.read_csv(\"../../data/Mercedes_Benz_Greener_Manufacturing/data/dt_all_encoded.csv\")\n",
    "# read cols_raw\n",
    "cols_raw = pickle.load(open(\"../../data/Mercedes_Benz_Greener_Manufacturing/data/cols_raw.pkl\", \"rb\"))\n",
    "# IDs\n",
    "IDs_train = pickle.load(open(\"../../data/Mercedes_Benz_Greener_Manufacturing/data/IDs_train.pkl\", \"rb\"))\n",
    "IDs_test = pickle.load(open(\"../../data/Mercedes_Benz_Greener_Manufacturing/data/IDs_test.pkl\", \"rb\"))"
   ]
  },
  {
   "cell_type": "code",
   "execution_count": 3,
   "metadata": {},
   "outputs": [
    {
     "data": {
      "text/plain": [
       "(8418, 402)"
      ]
     },
     "execution_count": 3,
     "metadata": {},
     "output_type": "execute_result"
    }
   ],
   "source": [
    "dt_all_eng.shape"
   ]
  },
  {
   "cell_type": "markdown",
   "metadata": {},
   "source": [
    "### 4.1 Outlier marker"
   ]
  },
  {
   "cell_type": "code",
   "execution_count": 4,
   "metadata": {
    "collapsed": true
   },
   "outputs": [],
   "source": [
    "def getOutlierMarker(dt, cols_type, id_outlier = 1770):\n",
    "    \n",
    "    if cols_type == \"Cat\":\n",
    "        cols = ['X0', 'X1', 'X2', 'X3', 'X4', 'X5', 'X6', 'X8']\n",
    "    elif cols_type == \"Bin\":\n",
    "        cols = cols_raw\n",
    "    elif cols_type == \"All\":\n",
    "        cols = ['X0', 'X1', 'X2', 'X3', 'X4', 'X5', 'X6', 'X8'] + list(cols_raw)\n",
    "    else:\n",
    "        cols = [cols_type]\n",
    "    \n",
    "    # outlier\n",
    "    dt_outlier = dt[cols].loc[dt[\"ID\"] == id_outlier]\n",
    "    # calc int_outlierMarker\n",
    "    dt_outlierMaker = dt_all_eng[[\"ID\"]]\n",
    "    for col in cols:\n",
    "        dt_outlierMaker_id_col = pd.DataFrame()\n",
    "        for id in dt.ID.values:\n",
    "            is_equal = dt.loc[dt[\"ID\"] == id][col].values == dt_outlier[col].values\n",
    "            dt_outlierMaker_id_col = pd.concat([dt_outlierMaker_id_col\n",
    "                                        , pd.DataFrame({\"ID\": id\n",
    "                                           , col + \"_is_equal\": is_equal.astype(\"int64\")})])\n",
    "        \n",
    "        dt_outlierMaker = pd.merge(dt_outlierMaker, dt_outlierMaker_id_col, on = \"ID\")\n",
    "        \n",
    "    sum_outlierMaker = dt_outlierMaker.filter(regex = \"_is_equal\").sum(axis = 1)\n",
    "    dt[\"FeatEng_OutlierMaker_\" + str(id_outlier) + \"_\" + cols_type] = sum_outlierMaker\n",
    "#     for col in dt_outlier.columns.values:\n",
    "#         for val in dt_outlier[col].values:\n",
    "#             int_outlierMarker = int_outlierMarker + (dt[col].values == val).astype(\"int64\")\n",
    "    \n",
    "#     dt[\"FeatEng_OutlierMaker_\" + str(id_outlier) + \"_\" + cols_type] = int_outlierMarker\n",
    "    \n",
    "    return dt"
   ]
  },
  {
   "cell_type": "markdown",
   "metadata": {},
   "source": [
    "#### 4.1.1 OutlierMarker_Cat"
   ]
  },
  {
   "cell_type": "code",
   "execution_count": 5,
   "metadata": {},
   "outputs": [],
   "source": [
    "dt_all_eng = getOutlierMarker(dt_all_eng, cols_type = \"Cat\")"
   ]
  },
  {
   "cell_type": "markdown",
   "metadata": {},
   "source": [
    "#### 4.1.2 OutlierMarker_Int"
   ]
  },
  {
   "cell_type": "code",
   "execution_count": 6,
   "metadata": {
    "collapsed": true
   },
   "outputs": [],
   "source": [
    "dt_all_eng = getOutlierMarker(dt_all_eng, cols_type = \"Bin\")"
   ]
  },
  {
   "cell_type": "markdown",
   "metadata": {},
   "source": [
    "#### 4.1.3 OutlierMarker_All"
   ]
  },
  {
   "cell_type": "code",
   "execution_count": 7,
   "metadata": {},
   "outputs": [],
   "source": [
    "dt_all_eng = getOutlierMarker(dt_all_eng, cols_type = \"All\")"
   ]
  },
  {
   "cell_type": "markdown",
   "metadata": {},
   "source": [
    "#### 4.1.4 OutlierMarker_X0"
   ]
  },
  {
   "cell_type": "code",
   "execution_count": 8,
   "metadata": {},
   "outputs": [],
   "source": [
    "dt_all_eng = getOutlierMarker(dt_all_eng, cols_type = \"X0\")"
   ]
  },
  {
   "cell_type": "code",
   "execution_count": 9,
   "metadata": {},
   "outputs": [
    {
     "data": {
      "text/html": [
       "<div>\n",
       "<style>\n",
       "    .dataframe thead tr:only-child th {\n",
       "        text-align: right;\n",
       "    }\n",
       "\n",
       "    .dataframe thead th {\n",
       "        text-align: left;\n",
       "    }\n",
       "\n",
       "    .dataframe tbody tr th {\n",
       "        vertical-align: top;\n",
       "    }\n",
       "</style>\n",
       "<table border=\"1\" class=\"dataframe\">\n",
       "  <thead>\n",
       "    <tr style=\"text-align: right;\">\n",
       "      <th></th>\n",
       "      <th>ID</th>\n",
       "      <th>y</th>\n",
       "      <th>X0</th>\n",
       "      <th>X1</th>\n",
       "      <th>X2</th>\n",
       "      <th>X3</th>\n",
       "      <th>X4</th>\n",
       "      <th>X5</th>\n",
       "      <th>X6</th>\n",
       "      <th>X8</th>\n",
       "      <th>...</th>\n",
       "      <th>Encode_Label_X2</th>\n",
       "      <th>Encode_Label_X3</th>\n",
       "      <th>Encode_Label_X4</th>\n",
       "      <th>Encode_Label_X5</th>\n",
       "      <th>Encode_Label_X6</th>\n",
       "      <th>Encode_Label_X8</th>\n",
       "      <th>FeatEng_OutlierMaker_1770_Cat</th>\n",
       "      <th>FeatEng_OutlierMaker_1770_Bin</th>\n",
       "      <th>FeatEng_OutlierMaker_1770_All</th>\n",
       "      <th>FeatEng_OutlierMaker_1770_X0</th>\n",
       "    </tr>\n",
       "  </thead>\n",
       "  <tbody>\n",
       "    <tr>\n",
       "      <th>0</th>\n",
       "      <td>0</td>\n",
       "      <td>130.81</td>\n",
       "      <td>k</td>\n",
       "      <td>v</td>\n",
       "      <td>at</td>\n",
       "      <td>a</td>\n",
       "      <td>d</td>\n",
       "      <td>u</td>\n",
       "      <td>j</td>\n",
       "      <td>o</td>\n",
       "      <td>...</td>\n",
       "      <td>45</td>\n",
       "      <td>1</td>\n",
       "      <td>4</td>\n",
       "      <td>20</td>\n",
       "      <td>10</td>\n",
       "      <td>15</td>\n",
       "      <td>1</td>\n",
       "      <td>271</td>\n",
       "      <td>272</td>\n",
       "      <td>0</td>\n",
       "    </tr>\n",
       "    <tr>\n",
       "      <th>1</th>\n",
       "      <td>5761</td>\n",
       "      <td>115.07</td>\n",
       "      <td>o</td>\n",
       "      <td>l</td>\n",
       "      <td>ae</td>\n",
       "      <td>f</td>\n",
       "      <td>d</td>\n",
       "      <td>p</td>\n",
       "      <td>j</td>\n",
       "      <td>o</td>\n",
       "      <td>...</td>\n",
       "      <td>30</td>\n",
       "      <td>6</td>\n",
       "      <td>4</td>\n",
       "      <td>15</td>\n",
       "      <td>10</td>\n",
       "      <td>15</td>\n",
       "      <td>2</td>\n",
       "      <td>293</td>\n",
       "      <td>295</td>\n",
       "      <td>0</td>\n",
       "    </tr>\n",
       "    <tr>\n",
       "      <th>2</th>\n",
       "      <td>5883</td>\n",
       "      <td>77.38</td>\n",
       "      <td>bc</td>\n",
       "      <td>v</td>\n",
       "      <td>ac</td>\n",
       "      <td>f</td>\n",
       "      <td>d</td>\n",
       "      <td>p</td>\n",
       "      <td>j</td>\n",
       "      <td>o</td>\n",
       "      <td>...</td>\n",
       "      <td>28</td>\n",
       "      <td>6</td>\n",
       "      <td>4</td>\n",
       "      <td>15</td>\n",
       "      <td>10</td>\n",
       "      <td>15</td>\n",
       "      <td>2</td>\n",
       "      <td>268</td>\n",
       "      <td>270</td>\n",
       "      <td>0</td>\n",
       "    </tr>\n",
       "    <tr>\n",
       "      <th>3</th>\n",
       "      <td>2932</td>\n",
       "      <td>108.06</td>\n",
       "      <td>ak</td>\n",
       "      <td>v</td>\n",
       "      <td>ak</td>\n",
       "      <td>f</td>\n",
       "      <td>d</td>\n",
       "      <td>ac</td>\n",
       "      <td>j</td>\n",
       "      <td>o</td>\n",
       "      <td>...</td>\n",
       "      <td>36</td>\n",
       "      <td>6</td>\n",
       "      <td>4</td>\n",
       "      <td>28</td>\n",
       "      <td>10</td>\n",
       "      <td>15</td>\n",
       "      <td>2</td>\n",
       "      <td>299</td>\n",
       "      <td>301</td>\n",
       "      <td>0</td>\n",
       "    </tr>\n",
       "    <tr>\n",
       "      <th>4</th>\n",
       "      <td>2849</td>\n",
       "      <td>0.00</td>\n",
       "      <td>s</td>\n",
       "      <td>aa</td>\n",
       "      <td>ay</td>\n",
       "      <td>g</td>\n",
       "      <td>d</td>\n",
       "      <td>ac</td>\n",
       "      <td>j</td>\n",
       "      <td>o</td>\n",
       "      <td>...</td>\n",
       "      <td>50</td>\n",
       "      <td>7</td>\n",
       "      <td>4</td>\n",
       "      <td>28</td>\n",
       "      <td>10</td>\n",
       "      <td>15</td>\n",
       "      <td>1</td>\n",
       "      <td>297</td>\n",
       "      <td>298</td>\n",
       "      <td>0</td>\n",
       "    </tr>\n",
       "  </tbody>\n",
       "</table>\n",
       "<p>5 rows × 406 columns</p>\n",
       "</div>"
      ],
      "text/plain": [
       "     ID       y  X0  X1  X2 X3 X4  X5 X6 X8              ...               \\\n",
       "0     0  130.81   k   v  at  a  d   u  j  o              ...                \n",
       "1  5761  115.07   o   l  ae  f  d   p  j  o              ...                \n",
       "2  5883   77.38  bc   v  ac  f  d   p  j  o              ...                \n",
       "3  2932  108.06  ak   v  ak  f  d  ac  j  o              ...                \n",
       "4  2849    0.00   s  aa  ay  g  d  ac  j  o              ...                \n",
       "\n",
       "   Encode_Label_X2  Encode_Label_X3  Encode_Label_X4  Encode_Label_X5  \\\n",
       "0               45                1                4               20   \n",
       "1               30                6                4               15   \n",
       "2               28                6                4               15   \n",
       "3               36                6                4               28   \n",
       "4               50                7                4               28   \n",
       "\n",
       "   Encode_Label_X6  Encode_Label_X8  FeatEng_OutlierMaker_1770_Cat  \\\n",
       "0               10               15                              1   \n",
       "1               10               15                              2   \n",
       "2               10               15                              2   \n",
       "3               10               15                              2   \n",
       "4               10               15                              1   \n",
       "\n",
       "   FeatEng_OutlierMaker_1770_Bin  FeatEng_OutlierMaker_1770_All  \\\n",
       "0                            271                            272   \n",
       "1                            293                            295   \n",
       "2                            268                            270   \n",
       "3                            299                            301   \n",
       "4                            297                            298   \n",
       "\n",
       "   FeatEng_OutlierMaker_1770_X0  \n",
       "0                             0  \n",
       "1                             0  \n",
       "2                             0  \n",
       "3                             0  \n",
       "4                             0  \n",
       "\n",
       "[5 rows x 406 columns]"
      ]
     },
     "execution_count": 9,
     "metadata": {},
     "output_type": "execute_result"
    }
   ],
   "source": [
    "dt_all_eng.head()"
   ]
  },
  {
   "cell_type": "markdown",
   "metadata": {},
   "source": [
    "### 4.2 Sum of binary cols"
   ]
  },
  {
   "cell_type": "markdown",
   "metadata": {},
   "source": [
    "#### 4.2.1 Sum of all binary cols"
   ]
  },
  {
   "cell_type": "code",
   "execution_count": 10,
   "metadata": {
    "collapsed": true
   },
   "outputs": [],
   "source": [
    "sum_binary_all = dt_all_eng[cols_raw].sum(axis = 1)\n",
    "dt_all_eng[\"FeatEng_SumBin_All\"] = sum_binary_all"
   ]
  },
  {
   "cell_type": "markdown",
   "metadata": {},
   "source": [
    "#### 4.2.2 Sum of correlation-important binary cols"
   ]
  },
  {
   "cell_type": "code",
   "execution_count": 11,
   "metadata": {
    "collapsed": true
   },
   "outputs": [],
   "source": [
    "def corBin_Contin(dt, cols, method = \"pointbiserialr\"):\n",
    "    dt_binary_pointbiserialr = pd.DataFrame()\n",
    "    for col in cols:\n",
    "        if method == \"spearmanr\":\n",
    "            cor_pb = stats.spearmanr(dt[col].values, dt.y.values)\n",
    "        else:\n",
    "            cor_pb = stats.pointbiserialr(dt[col].values, dt.y.values)\n",
    "        dt_binary_pointbiserialr = pd.concat([dt_binary_pointbiserialr\n",
    "                                             , pd.DataFrame({\"Col\": col\n",
    "                                                            , \"Cor\": np.abs([cor_pb.correlation])\n",
    "                                                            , \"P\": [cor_pb.pvalue]})])\n",
    "    return dt_binary_pointbiserialr.sort_values(\"Cor\", ascending = False)"
   ]
  },
  {
   "cell_type": "code",
   "execution_count": 12,
   "metadata": {},
   "outputs": [
    {
     "name": "stderr",
     "output_type": "stream",
     "text": [
      "/usr/local/lib/python3.5/dist-packages/scipy/stats/stats.py:3021: RuntimeWarning: invalid value encountered in double_scalars\n",
      "  r = r_num / r_den\n",
      "/home/noahhhhhh/Env/deepNoah/lib/python3.5/site-packages/ipykernel_launcher.py:10: RuntimeWarning: invalid value encountered in absolute\n",
      "  # Remove the CWD from sys.path while we load stuff.\n"
     ]
    }
   ],
   "source": [
    "dt_corBin_Cotin = corBin_Contin(dt_all_eng.loc[dt_all_eng[\"ID\"].isin(IDs_train)], cols_raw)"
   ]
  },
  {
   "cell_type": "code",
   "execution_count": 13,
   "metadata": {},
   "outputs": [
    {
     "name": "stderr",
     "output_type": "stream",
     "text": [
      "/usr/local/lib/python3.5/dist-packages/numpy/lib/function_base.py:3003: RuntimeWarning: invalid value encountered in true_divide\n",
      "  c /= stddev[:, None]\n",
      "/usr/local/lib/python3.5/dist-packages/numpy/lib/function_base.py:3004: RuntimeWarning: invalid value encountered in true_divide\n",
      "  c /= stddev[None, :]\n",
      "/usr/local/lib/python3.5/dist-packages/scipy/stats/_distn_infrastructure.py:879: RuntimeWarning: invalid value encountered in greater\n",
      "  return (self.a < x) & (x < self.b)\n",
      "/usr/local/lib/python3.5/dist-packages/scipy/stats/_distn_infrastructure.py:879: RuntimeWarning: invalid value encountered in less\n",
      "  return (self.a < x) & (x < self.b)\n",
      "/usr/local/lib/python3.5/dist-packages/scipy/stats/_distn_infrastructure.py:1818: RuntimeWarning: invalid value encountered in less_equal\n",
      "  cond2 = cond0 & (x <= self.a)\n",
      "/home/noahhhhhh/Env/deepNoah/lib/python3.5/site-packages/ipykernel_launcher.py:10: RuntimeWarning: invalid value encountered in absolute\n",
      "  # Remove the CWD from sys.path while we load stuff.\n"
     ]
    }
   ],
   "source": [
    "dt_corBin_Cotin_spear = corBin_Contin(dt_all_eng.loc[dt_all_eng[\"ID\"].isin(IDs_train)], cols_raw, method = \"spearmanr\")"
   ]
  },
  {
   "cell_type": "code",
   "execution_count": 14,
   "metadata": {
    "collapsed": true
   },
   "outputs": [],
   "source": [
    "cols_binary_cor_02_10 = dt_corBin_Cotin_spear.loc[dt_corBin_Cotin_spear[\"Cor\"] >= .2][\"Col\"].values\n",
    "cols_binary_cor_01_02 = dt_corBin_Cotin_spear.loc[(dt_corBin_Cotin_spear[\"Cor\"] >= .1) & (dt_corBin_Cotin_spear[\"Cor\"] < .2)][\"Col\"].values\n",
    "cols_binary_cor_005_01 = dt_corBin_Cotin_spear.loc[(dt_corBin_Cotin_spear[\"Cor\"] >= .05) & (dt_corBin_Cotin_spear[\"Cor\"] < .1)][\"Col\"].values"
   ]
  },
  {
   "cell_type": "code",
   "execution_count": 15,
   "metadata": {
    "collapsed": true
   },
   "outputs": [],
   "source": [
    "cols_binary_important_3 = dt_corBin_Cotin[\"Col\"].values[:3]\n",
    "cols_binary_important_5 = dt_corBin_Cotin[\"Col\"].values[:5]\n",
    "cols_binary_important_10 = dt_corBin_Cotin[\"Col\"].values[:10]\n",
    "cols_binary_important_20 = dt_corBin_Cotin[\"Col\"].values[:20]\n",
    "cols_binary_important_50 = dt_corBin_Cotin[\"Col\"].values[:50]"
   ]
  },
  {
   "cell_type": "code",
   "execution_count": 16,
   "metadata": {
    "collapsed": true
   },
   "outputs": [],
   "source": [
    "sum_binary_important_3 = dt_all_eng[cols_binary_important_3].sum(axis = 1)\n",
    "sum_binary_important_5 = dt_all_eng[cols_binary_important_5].sum(axis = 1)\n",
    "sum_binary_important_10 = dt_all_eng[cols_binary_important_10].sum(axis = 1)\n",
    "sum_binary_important_20 = dt_all_eng[cols_binary_important_20].sum(axis = 1)\n",
    "sum_binary_important_50 = dt_all_eng[cols_binary_important_50].sum(axis = 1)\n",
    "sum_binary_important_cor_02_10 = dt_all_eng[cols_binary_cor_02_10].sum(axis = 1)\n",
    "sum_binary_important_cor_01_02 = dt_all_eng[cols_binary_cor_01_02].sum(axis = 1)\n",
    "sum_binary_important_cor_005_01 = dt_all_eng[cols_binary_cor_005_01].sum(axis = 1)"
   ]
  },
  {
   "cell_type": "code",
   "execution_count": 17,
   "metadata": {
    "collapsed": true
   },
   "outputs": [],
   "source": [
    "# SumBin_All\n",
    "dt_all_eng.loc[:, \"FeatEng_SumBin_All\"] = sum_binary_all\n",
    "# SumBin_Imp_X\n",
    "dt_all_eng.loc[:, \"FeatEng_SumBin_Imp_3\"] = sum_binary_important_3\n",
    "dt_all_eng.loc[:, \"FeatEng_SumBin_Imp_5\"] = sum_binary_important_5\n",
    "dt_all_eng.loc[:, \"FeatEng_SumBin_Imp_10\"] = sum_binary_important_10\n",
    "dt_all_eng.loc[:, \"FeatEng_SumBin_Imp_20\"] = sum_binary_important_20\n",
    "dt_all_eng.loc[:, \"FeatEng_SumBin_Imp_50\"] = sum_binary_important_50\n",
    "dt_all_eng.loc[:, \"FeatEng_SumBin_Cor_02_10\"] = sum_binary_important_cor_02_10\n",
    "dt_all_eng.loc[:, \"FeatEng_SumBin_Cor_01_02\"] = sum_binary_important_cor_01_02\n",
    "dt_all_eng.loc[:, \"FeatEng_SumBin_Cor_005_01\"] = sum_binary_important_cor_005_01"
   ]
  },
  {
   "cell_type": "code",
   "execution_count": 18,
   "metadata": {},
   "outputs": [
    {
     "data": {
      "text/plain": [
       "(8418, 415)"
      ]
     },
     "execution_count": 18,
     "metadata": {},
     "output_type": "execute_result"
    }
   ],
   "source": [
    "dt_all_eng.shape"
   ]
  },
  {
   "cell_type": "markdown",
   "metadata": {},
   "source": [
    "### 4.3 Dimension reduction"
   ]
  },
  {
   "cell_type": "code",
   "execution_count": 19,
   "metadata": {
    "collapsed": true
   },
   "outputs": [],
   "source": [
    "cols_cat = ['X0', 'X1', 'X2', 'X3', 'X4', 'X5', 'X6', 'X8']"
   ]
  },
  {
   "cell_type": "code",
   "execution_count": 20,
   "metadata": {
    "collapsed": true
   },
   "outputs": [],
   "source": [
    "# # range\n",
    "# pp_range = preprocessing.MinMaxScaler()\n",
    "# mx_range = pp_range.fit_transform(dt_all_eng.drop([\"ID\", \"y\", \"IsTrainTest\"], axis = 1))\n",
    "# dt_all_eng = pd.DataFrame(mx_range, columns = dt_all_eng.drop([\"ID\", \"y\", \"IsTrainTest\"], axis = 1).columns.values)\n",
    "# dt_all_eng.shape"
   ]
  },
  {
   "cell_type": "code",
   "execution_count": 21,
   "metadata": {},
   "outputs": [],
   "source": [
    "def featEng_dimRed(method, dt, n_component, name_feature):\n",
    "        \n",
    "    if method == \"PCA\":\n",
    "        dr = decomposition.PCA(n_components = n_component, random_state = 420)\n",
    "    elif method == \"ICA\":\n",
    "        dr = decomposition.FastICA(n_components = n_component, random_state = 420)\n",
    "    elif method == \"SVD\":\n",
    "        dr = decomposition.TruncatedSVD(n_components = n_component, random_state = 420)\n",
    "    elif method == \"FA\":\n",
    "        dr = decomposition.FactorAnalysis(n_components = n_component, random_state = 420)\n",
    "    elif method == \"TSNE\":\n",
    "        dr = manifold.TSNE(n_components = n_component, random_state = 420)\n",
    "    elif method == \"GRP\":\n",
    "        dr = random_projection.GaussianRandomProjection(n_components = n_component, eps = 0.1, random_state = 420)\n",
    "    elif method == \"SRP\":\n",
    "        dr = random_projection.SparseRandomProjection(n_components = n_component, dense_output = True, random_state = 420)\n",
    "    \n",
    "    if name_feature == \"Raw_Bin\":\n",
    "        cols = cols_raw\n",
    "    elif name_feature == \"Encoded_Cat\":\n",
    "        cols = dt.filter(regex = \"Encode_\").columns.values\n",
    "    elif name_feature == \"FeatEng\":\n",
    "        cols = dt.filter(regex = \"FeatEng_\").columns.values\n",
    "    elif name_feature == \"All\":\n",
    "        cols = dt.drop([\"y\"] + cols_cat, axis = 1).filter(regex = \"^((?!DR).)*$\").columns.values\n",
    "    else:\n",
    "        cols = name_feature\n",
    "        \n",
    "    mx = dr.fit_transform(dt[cols])\n",
    "    dt = dt.join(pd.DataFrame(mx, columns = [\"DR_\" + method + \"_\" + name_feature + \"_\" + str(i) for i in range(1, n_component + 1)]))\n",
    "    \n",
    "    return dt"
   ]
  },
  {
   "cell_type": "code",
   "execution_count": 22,
   "metadata": {},
   "outputs": [
    {
     "name": "stderr",
     "output_type": "stream",
     "text": [
      "/usr/local/lib/python3.5/dist-packages/sklearn/decomposition/fastica_.py:116: UserWarning: FastICA did not converge. Consider increasing tolerance or the maximum number of iterations.\n",
      "  warnings.warn('FastICA did not converge. Consider increasing '\n"
     ]
    }
   ],
   "source": [
    "methods_dr = [\"PCA\", \"ICA\", \"SVD\", \"FA\", \"GRP\", \"SRP\"] # TSNE\n",
    "for method in methods_dr:\n",
    "    dt_all_eng = featEng_dimRed(method, dt_all_eng, 10, \"Raw_Bin\")\n",
    "    dt_all_eng = featEng_dimRed(method, dt_all_eng, 10, \"Encoded_Cat\")\n",
    "    dt_all_eng = featEng_dimRed(method, dt_all_eng, 3, \"FeatEng\")\n",
    "    dt_all_eng = featEng_dimRed(method, dt_all_eng, 15, \"All\")"
   ]
  },
  {
   "cell_type": "code",
   "execution_count": 23,
   "metadata": {},
   "outputs": [
    {
     "data": {
      "text/plain": [
       "(8418, 643)"
      ]
     },
     "execution_count": 23,
     "metadata": {},
     "output_type": "execute_result"
    }
   ],
   "source": [
    "dt_all_eng.shape"
   ]
  },
  {
   "cell_type": "markdown",
   "metadata": {},
   "source": [
    "### 4.5 Feature Interaction"
   ]
  },
  {
   "cell_type": "code",
   "execution_count": 24,
   "metadata": {},
   "outputs": [
    {
     "name": "stderr",
     "output_type": "stream",
     "text": [
      "/usr/local/lib/python3.5/dist-packages/numpy/lib/function_base.py:3003: RuntimeWarning: invalid value encountered in true_divide\n",
      "  c /= stddev[:, None]\n",
      "/usr/local/lib/python3.5/dist-packages/numpy/lib/function_base.py:3004: RuntimeWarning: invalid value encountered in true_divide\n",
      "  c /= stddev[None, :]\n",
      "/usr/local/lib/python3.5/dist-packages/scipy/stats/_distn_infrastructure.py:879: RuntimeWarning: invalid value encountered in greater\n",
      "  return (self.a < x) & (x < self.b)\n",
      "/usr/local/lib/python3.5/dist-packages/scipy/stats/_distn_infrastructure.py:879: RuntimeWarning: invalid value encountered in less\n",
      "  return (self.a < x) & (x < self.b)\n",
      "/usr/local/lib/python3.5/dist-packages/scipy/stats/_distn_infrastructure.py:1818: RuntimeWarning: invalid value encountered in less_equal\n",
      "  cond2 = cond0 & (x <= self.a)\n"
     ]
    }
   ],
   "source": [
    "dt_interest = dt_all_eng[cols_raw]\n",
    "dt_fi_2way = pd.DataFrame()\n",
    "seen = []\n",
    "for c1 in cols_raw:\n",
    "    for c2 in cols_raw:\n",
    "        if c1 != c2:\n",
    "            seen.append((c1, c2))\n",
    "            if (c2, c1) not in seen:\n",
    "                isTrain = dt_all_eng[\"ID\"].isin(IDs_train)\n",
    "                val_c1 = dt_interest[c1].values.astype(\"int64\")\n",
    "                val_c2 = dt_interest[c2].values.astype(\"int64\")\n",
    "                y_train = dt_all_eng.y.values[isTrain]\n",
    "                # XOR\n",
    "                XOR = val_c1 ^ val_c2\n",
    "                cor_c1 = abs(stats.spearmanr(val_c1[isTrain], y_train).correlation)\n",
    "                cor_c2 = abs(stats.spearmanr(val_c2[isTrain], y_train).correlation)\n",
    "                cor_XOR = abs(stats.spearmanr(XOR[isTrain], y_train).correlation)\n",
    "                # constant\n",
    "                if cor_XOR > .3:\n",
    "                    const = 1.1\n",
    "                elif (cor_XOR > .2) & (cor_XOR <= .3):\n",
    "                    const = 1.3\n",
    "                else:\n",
    "                    const = 1.5\n",
    "                if cor_XOR > max(cor_c1, cor_c2) * const:\n",
    "                    dt_fi_2way.loc[:, \"FeatEng_FI_2way_XOR_\" + c1 + \"_\" + c2] = XOR"
   ]
  },
  {
   "cell_type": "code",
   "execution_count": 25,
   "metadata": {
    "collapsed": true
   },
   "outputs": [],
   "source": [
    "dt_all_eng = dt_all_eng.join(dt_fi_2way)"
   ]
  },
  {
   "cell_type": "code",
   "execution_count": 26,
   "metadata": {},
   "outputs": [
    {
     "data": {
      "text/plain": [
       "(8418, 1361)"
      ]
     },
     "execution_count": 26,
     "metadata": {},
     "output_type": "execute_result"
    }
   ],
   "source": [
    "dt_all_eng.shape"
   ]
  },
  {
   "cell_type": "markdown",
   "metadata": {},
   "source": [
    "### 4.6 Save dt_all_eng"
   ]
  },
  {
   "cell_type": "code",
   "execution_count": 27,
   "metadata": {
    "collapsed": true
   },
   "outputs": [],
   "source": [
    "dt_all_eng.to_csv(\"../../data/Mercedes_Benz_Greener_Manufacturing/data/dt_all_eng.csv\", index = False)"
   ]
  }
 ],
 "metadata": {
  "kernelspec": {
   "display_name": "Python 3",
   "language": "python",
   "name": "python3"
  },
  "language_info": {
   "codemirror_mode": {
    "name": "ipython",
    "version": 3
   },
   "file_extension": ".py",
   "mimetype": "text/x-python",
   "name": "python",
   "nbconvert_exporter": "python",
   "pygments_lexer": "ipython3",
   "version": "3.5.2"
  }
 },
 "nbformat": 4,
 "nbformat_minor": 2
}
