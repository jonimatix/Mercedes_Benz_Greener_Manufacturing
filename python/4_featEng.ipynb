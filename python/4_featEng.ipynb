{
 "cells": [
  {
   "cell_type": "code",
   "execution_count": null,
   "metadata": {
    "collapsed": true
   },
   "outputs": [],
   "source": [
    "import pandas as pd\n",
    "import pickle\n",
    "import numpy as np\n",
    "from scipy import stats\n",
    "from sklearn import preprocessing, decomposition, manifold\n",
    "from sklearn import random_projection\n",
    "import operator"
   ]
  },
  {
   "cell_type": "markdown",
   "metadata": {},
   "source": [
    "## 4. Feature Engineering"
   ]
  },
  {
   "cell_type": "code",
   "execution_count": null,
   "metadata": {},
   "outputs": [],
   "source": [
    "# read dt_all_cleaned\n",
    "dt_all_cleaned = pd.read_csv(\"../../data/Mercedes_Benz_Greener_Manufacturing/data/dt_all_cleaned.csv\")\n",
    "dt_all_cleaned.shape"
   ]
  },
  {
   "cell_type": "code",
   "execution_count": null,
   "metadata": {},
   "outputs": [],
   "source": [
    "# read dt_all_eng\n",
    "dt_all_eng = pd.read_csv(\"../../data/Mercedes_Benz_Greener_Manufacturing/data/dt_all_encoded.csv\")\n",
    "dt_all_eng.shape"
   ]
  },
  {
   "cell_type": "code",
   "execution_count": null,
   "metadata": {},
   "outputs": [],
   "source": [
    "# read cols_raw\n",
    "cols_raw = pickle.load(open(\"../../data/Mercedes_Benz_Greener_Manufacturing/data/cols_raw.pkl\", \"rb\"))\n",
    "len(cols_raw)"
   ]
  },
  {
   "cell_type": "markdown",
   "metadata": {},
   "source": [
    "### 4.1 Outlier marker"
   ]
  },
  {
   "cell_type": "code",
   "execution_count": null,
   "metadata": {
    "collapsed": true
   },
   "outputs": [],
   "source": [
    "def getOutlierMarker(dt, index_outlier = 883):\n",
    "    # outlier\n",
    "    dt_outlier = dt.loc[dt.index.values == index_outlier]\n",
    "    # calc int_outlierMarker\n",
    "    int_outlierMarker = np.zeros(dt.shape[0])\n",
    "    for col in dt_outlier.columns.values:\n",
    "        for val in dt_outlier[col].values:\n",
    "            int_outlierMarker = int_outlierMarker + (dt[col].values == val).astype(\"int64\")\n",
    "    \n",
    "    return int_outlierMarker"
   ]
  },
  {
   "cell_type": "markdown",
   "metadata": {},
   "source": [
    "#### 4.1.1 OutlierMarker_Cat"
   ]
  },
  {
   "cell_type": "code",
   "execution_count": null,
   "metadata": {},
   "outputs": [],
   "source": [
    "cols_cat = dt_all_cleaned.drop([\"ID\", \"y\", \"IsTrainTest\"], axis = 1).select_dtypes(include = ['object']).columns.values\n",
    "cols_cat"
   ]
  },
  {
   "cell_type": "code",
   "execution_count": null,
   "metadata": {
    "collapsed": true
   },
   "outputs": [],
   "source": [
    "int_outlierMarker_cat = getOutlierMarker(dt_all_cleaned[cols_cat])"
   ]
  },
  {
   "cell_type": "markdown",
   "metadata": {},
   "source": [
    "#### 4.1.2 OutlierMarker_Int"
   ]
  },
  {
   "cell_type": "code",
   "execution_count": null,
   "metadata": {},
   "outputs": [],
   "source": [
    "cols_int = dt_all_cleaned.drop([\"ID\", \"y\", \"IsTrainTest\", \"IsDupRow_All\", \"IsDupRow_Cat\", \"IsDupRow_Int\"], axis = 1).select_dtypes(include = ['int64']).columns.values\n",
    "cols_int[:10]"
   ]
  },
  {
   "cell_type": "code",
   "execution_count": null,
   "metadata": {
    "collapsed": true
   },
   "outputs": [],
   "source": [
    "int_outlierMarker_int = getOutlierMarker(dt_all_cleaned[cols_int])"
   ]
  },
  {
   "cell_type": "markdown",
   "metadata": {},
   "source": [
    "#### 4.1.3 OutlierMarker_All"
   ]
  },
  {
   "cell_type": "code",
   "execution_count": null,
   "metadata": {},
   "outputs": [],
   "source": [
    "cols_all = dt_all_cleaned.drop([\"ID\", \"y\", \"IsTrainTest\", \"IsDupRow_All\", \"IsDupRow_Cat\", \"IsDupRow_Int\"], axis = 1).columns.values\n",
    "cols_all[:10]"
   ]
  },
  {
   "cell_type": "code",
   "execution_count": null,
   "metadata": {
    "collapsed": true
   },
   "outputs": [],
   "source": [
    "int_outlierMarker_all = getOutlierMarker(dt_all_cleaned[cols_all])"
   ]
  },
  {
   "cell_type": "markdown",
   "metadata": {},
   "source": [
    "#### 4.1.4 OutlierMarker_X0"
   ]
  },
  {
   "cell_type": "code",
   "execution_count": null,
   "metadata": {
    "collapsed": true
   },
   "outputs": [],
   "source": [
    "cols_X0 = \"X0\"\n",
    "int_outlierMarker_x0 = getOutlierMarker(dt_all_cleaned[cols_X0].to_frame())"
   ]
  },
  {
   "cell_type": "code",
   "execution_count": null,
   "metadata": {
    "collapsed": true
   },
   "outputs": [],
   "source": [
    "dt_all_eng.loc[:, \"FeatEng_OutlierMarker_Cat\"] = int_outlierMarker_cat\n",
    "dt_all_eng.loc[:, \"FeatEng_OutlierMarker_Int\"] = int_outlierMarker_int\n",
    "dt_all_eng.loc[:, \"FeatEng_OutlierMarker_All\"] = int_outlierMarker_all\n",
    "dt_all_eng.loc[:, \"FeatEng_OutlierMarker_X0\"] = int_outlierMarker_x0"
   ]
  },
  {
   "cell_type": "code",
   "execution_count": null,
   "metadata": {},
   "outputs": [],
   "source": [
    "dt_all_eng.head()"
   ]
  },
  {
   "cell_type": "markdown",
   "metadata": {},
   "source": [
    "### 4.2 Sum of binary cols"
   ]
  },
  {
   "cell_type": "markdown",
   "metadata": {},
   "source": [
    "#### 4.2.1 Sum of all binary cols"
   ]
  },
  {
   "cell_type": "code",
   "execution_count": null,
   "metadata": {
    "collapsed": true
   },
   "outputs": [],
   "source": [
    "sum_binary_all = dt_all_eng[cols_raw].sum(axis = 1)"
   ]
  },
  {
   "cell_type": "markdown",
   "metadata": {},
   "source": [
    "#### 4.2.2 Sum of correlation-important binary cols"
   ]
  },
  {
   "cell_type": "code",
   "execution_count": null,
   "metadata": {
    "collapsed": true
   },
   "outputs": [],
   "source": [
    "def corBin_Contin(dt, cols, method = \"pointbiserialr\"):\n",
    "    dt_binary_pointbiserialr = pd.DataFrame()\n",
    "    for col in cols:\n",
    "        if method == \"spearmanr\":\n",
    "            cor_pb = stats.spearmanr(dt[col].values, dt.y.values)\n",
    "        else:\n",
    "            cor_pb = stats.pointbiserialr(dt[col].values, dt.y.values)\n",
    "        dt_binary_pointbiserialr = pd.concat([dt_binary_pointbiserialr\n",
    "                                             , pd.DataFrame({\"Col\": col\n",
    "                                                            , \"Cor\": np.abs([cor_pb.correlation])\n",
    "                                                            , \"P\": [cor_pb.pvalue]})])\n",
    "    return dt_binary_pointbiserialr.sort_values(\"Cor\", ascending = False)"
   ]
  },
  {
   "cell_type": "code",
   "execution_count": null,
   "metadata": {},
   "outputs": [],
   "source": [
    "dt_corBin_Cotin = corBin_Contin(dt_all_eng.loc[dt_all_eng[\"IsTrainTest\"] == \"train\"], cols_raw)"
   ]
  },
  {
   "cell_type": "code",
   "execution_count": null,
   "metadata": {},
   "outputs": [],
   "source": [
    "dt_corBin_Cotin_spear = corBin_Contin(dt_all_eng.loc[dt_all_eng[\"IsTrainTest\"] == \"train\"], cols_raw, method = \"spearmanr\")"
   ]
  },
  {
   "cell_type": "code",
   "execution_count": null,
   "metadata": {
    "collapsed": true
   },
   "outputs": [],
   "source": [
    "cols_binary_cor_02_10 = dt_corBin_Cotin_spear.loc[dt_corBin_Cotin_spear[\"Cor\"] >= .2][\"Col\"].values\n",
    "cols_binary_cor_01_02 = dt_corBin_Cotin_spear.loc[(dt_corBin_Cotin_spear[\"Cor\"] >= .1) & (dt_corBin_Cotin_spear[\"Cor\"] < .2)][\"Col\"].values\n",
    "cols_binary_cor_005_01 = dt_corBin_Cotin_spear.loc[(dt_corBin_Cotin_spear[\"Cor\"] >= .05) & (dt_corBin_Cotin_spear[\"Cor\"] < .1)][\"Col\"].values"
   ]
  },
  {
   "cell_type": "code",
   "execution_count": null,
   "metadata": {
    "collapsed": true
   },
   "outputs": [],
   "source": [
    "cols_binary_important_3 = dt_corBin_Cotin[\"Col\"].values[:3]\n",
    "cols_binary_important_5 = dt_corBin_Cotin[\"Col\"].values[:5]\n",
    "cols_binary_important_10 = dt_corBin_Cotin[\"Col\"].values[:10]\n",
    "cols_binary_important_20 = dt_corBin_Cotin[\"Col\"].values[:20]\n",
    "cols_binary_important_50 = dt_corBin_Cotin[\"Col\"].values[:50]"
   ]
  },
  {
   "cell_type": "code",
   "execution_count": null,
   "metadata": {},
   "outputs": [],
   "source": [
    "sum_binary_important_3 = dt_all_eng[cols_binary_important_3].sum(axis = 1)\n",
    "sum_binary_important_5 = dt_all_eng[cols_binary_important_5].sum(axis = 1)\n",
    "sum_binary_important_10 = dt_all_eng[cols_binary_important_10].sum(axis = 1)\n",
    "sum_binary_important_20 = dt_all_eng[cols_binary_important_20].sum(axis = 1)\n",
    "sum_binary_important_50 = dt_all_eng[cols_binary_important_50].sum(axis = 1)\n",
    "sum_binary_important_cor_02_10 = dt_all_eng[cols_binary_cor_02_10].sum(axis = 1)\n",
    "sum_binary_important_cor_01_02 = dt_all_eng[cols_binary_cor_01_02].sum(axis = 1)\n",
    "sum_binary_important_cor_005_01 = dt_all_eng[cols_binary_cor_005_01].sum(axis = 1)"
   ]
  },
  {
   "cell_type": "code",
   "execution_count": null,
   "metadata": {
    "collapsed": true
   },
   "outputs": [],
   "source": [
    "# SumBin_All\n",
    "dt_all_eng.loc[:, \"FeatEng_SumBin_All\"] = sum_binary_all\n",
    "# SumBin_Imp_X\n",
    "dt_all_eng.loc[:, \"FeatEng_SumBin_Imp_3\"] = sum_binary_important_3\n",
    "dt_all_eng.loc[:, \"FeatEng_SumBin_Imp_5\"] = sum_binary_important_5\n",
    "dt_all_eng.loc[:, \"FeatEng_SumBin_Imp_10\"] = sum_binary_important_10\n",
    "dt_all_eng.loc[:, \"FeatEng_SumBin_Imp_20\"] = sum_binary_important_20\n",
    "dt_all_eng.loc[:, \"FeatEng_SumBin_Imp_50\"] = sum_binary_important_50\n",
    "dt_all_eng.loc[:, \"FeatEng_SumBin_Cor_02_10\"] = sum_binary_important_cor_02_10\n",
    "dt_all_eng.loc[:, \"FeatEng_SumBin_Cor_01_02\"] = sum_binary_important_cor_01_02\n",
    "dt_all_eng.loc[:, \"FeatEng_SumBin_Cor_005_01\"] = sum_binary_important_cor_005_01"
   ]
  },
  {
   "cell_type": "markdown",
   "metadata": {},
   "source": [
    "### 4.3 Dimension reduction"
   ]
  },
  {
   "cell_type": "code",
   "execution_count": null,
   "metadata": {},
   "outputs": [],
   "source": [
    "# range\n",
    "pp_range = preprocessing.MinMaxScaler()\n",
    "mx_range = pp_range.fit_transform(dt_all_eng.drop([\"ID\", \"y\", \"IsTrainTest\"], axis = 1))\n",
    "dt_all_eng = pd.DataFrame(mx_range, columns = dt_all_eng.drop([\"ID\", \"y\", \"IsTrainTest\"], axis = 1).columns.values)\n",
    "dt_all_eng.shape"
   ]
  },
  {
   "cell_type": "code",
   "execution_count": null,
   "metadata": {
    "collapsed": true
   },
   "outputs": [],
   "source": [
    "def featEng_dimRed(method, dt, n_component, cols, name_feature):\n",
    "    if method == \"PCA\":\n",
    "        dr = decomposition.PCA(n_components = n_component, random_state = 420)\n",
    "    elif method == \"ICA\":\n",
    "        dr = decomposition.FastICA(n_components = n_component, random_state = 420)\n",
    "    elif method == \"SVD\":\n",
    "        dr = decomposition.TruncatedSVD(n_components = n_component, random_state = 420)\n",
    "    elif method == \"FA\":\n",
    "        dr = decomposition.FactorAnalysis(n_components = n_component, random_state = 420)\n",
    "    elif method == \"TSNE\":\n",
    "        dr = manifold.TSNE(n_components = n_component, random_state = 420)\n",
    "    elif method == \"GRP\":\n",
    "        dr = random_projection.GaussianRandomProjection(n_components = n_component, eps = 0.1, random_state = 420)\n",
    "    elif method == \"SRP\":\n",
    "        dr = random_projection.SparseRandomProjection(n_components = n_component, dense_output = True, random_state = 420)\n",
    "    mx = dr.fit_transform(dt[cols])\n",
    "    dt = dt.join(pd.DataFrame(mx, columns = [\"DR_\" + method + \"_\" + name_feature + \"_\" + str(i) for i in range(1, n_component + 1)]))\n",
    "    \n",
    "    return dt"
   ]
  },
  {
   "cell_type": "markdown",
   "metadata": {},
   "source": [
    "#### 4.3.1 PCA"
   ]
  },
  {
   "cell_type": "markdown",
   "metadata": {},
   "source": [
    "##### 4.3.1.1 Raw binary cols"
   ]
  },
  {
   "cell_type": "code",
   "execution_count": null,
   "metadata": {},
   "outputs": [],
   "source": [
    "dt_all_eng = featEng_dimRed(\"PCA\", dt_all_eng, 10, cols_raw, \"Raw_Bin\")\n",
    "dt_all_eng.shape"
   ]
  },
  {
   "cell_type": "markdown",
   "metadata": {},
   "source": [
    "##### 4.3.1.2 Encoded cat cols"
   ]
  },
  {
   "cell_type": "code",
   "execution_count": null,
   "metadata": {},
   "outputs": [],
   "source": [
    "cols_encode = dt_all_eng.filter(regex = \"Encode_\").columns.values\n",
    "dt_all_eng = featEng_dimRed(\"PCA\", dt_all_eng, 10, cols_encode, \"Encoded_Cat\")\n",
    "dt_all_eng.shape"
   ]
  },
  {
   "cell_type": "markdown",
   "metadata": {},
   "source": [
    "##### 4.3.1.3 Feature engineed cols"
   ]
  },
  {
   "cell_type": "code",
   "execution_count": null,
   "metadata": {},
   "outputs": [],
   "source": [
    "cols_featEng = dt_all_eng.filter(regex = \"FeatEng_\").columns.values\n",
    "dt_all_eng = featEng_dimRed(\"PCA\", dt_all_eng, 3, cols_featEng, \"FeatEng\")\n",
    "dt_all_eng.shape"
   ]
  },
  {
   "cell_type": "markdown",
   "metadata": {},
   "source": [
    "##### 4.3.1.4 All cols"
   ]
  },
  {
   "cell_type": "code",
   "execution_count": null,
   "metadata": {},
   "outputs": [],
   "source": [
    "cols_all = dt_all_eng.filter(regex = \"^((?!DR).)*$\").columns.values\n",
    "dt_all_eng = featEng_dimRed(\"PCA\", dt_all_eng, 15, cols_all, \"All\")\n",
    "dt_all_eng.shape"
   ]
  },
  {
   "cell_type": "markdown",
   "metadata": {},
   "source": [
    "#### 4.3.2 ICA"
   ]
  },
  {
   "cell_type": "markdown",
   "metadata": {},
   "source": [
    "##### 4.3.2.1 Raw binary cols"
   ]
  },
  {
   "cell_type": "code",
   "execution_count": null,
   "metadata": {},
   "outputs": [],
   "source": [
    "dt_all_eng = featEng_dimRed(\"ICA\", dt_all_eng, 10, cols_raw, \"Raw_Bin\")\n",
    "dt_all_eng.shape"
   ]
  },
  {
   "cell_type": "markdown",
   "metadata": {},
   "source": [
    "##### 4.3.2.2 Encoded cat cols"
   ]
  },
  {
   "cell_type": "code",
   "execution_count": null,
   "metadata": {},
   "outputs": [],
   "source": [
    "cols_encode = dt_all_eng.filter(regex = \"Encode_\").columns.values\n",
    "dt_all_eng = featEng_dimRed(\"ICA\", dt_all_eng, 10, cols_encode, \"Encoded_Cat\")\n",
    "dt_all_eng.shape"
   ]
  },
  {
   "cell_type": "markdown",
   "metadata": {},
   "source": [
    "##### 4.3.2.3 Feature engineed cols"
   ]
  },
  {
   "cell_type": "code",
   "execution_count": null,
   "metadata": {},
   "outputs": [],
   "source": [
    "cols_featEng = dt_all_eng.filter(regex = \"FeatEng_\").columns.values\n",
    "dt_all_eng = featEng_dimRed(\"ICA\", dt_all_eng, 3, cols_featEng, \"FeatEng\")\n",
    "dt_all_eng.shape"
   ]
  },
  {
   "cell_type": "markdown",
   "metadata": {},
   "source": [
    "##### 4.3.2.4 All cols"
   ]
  },
  {
   "cell_type": "code",
   "execution_count": null,
   "metadata": {},
   "outputs": [],
   "source": [
    "cols_all = dt_all_eng.filter(regex = \"^((?!DR).)*$\").columns.values\n",
    "dt_all_eng = featEng_dimRed(\"ICA\", dt_all_eng, 15, cols_all, \"All\")\n",
    "dt_all_eng.shape"
   ]
  },
  {
   "cell_type": "markdown",
   "metadata": {},
   "source": [
    "#### 4.3.3 SVD"
   ]
  },
  {
   "cell_type": "markdown",
   "metadata": {},
   "source": [
    "##### 4.3.3.1 Raw binary cols"
   ]
  },
  {
   "cell_type": "code",
   "execution_count": null,
   "metadata": {},
   "outputs": [],
   "source": [
    "dt_all_eng = featEng_dimRed(\"SVD\", dt_all_eng, 10, cols_raw, \"Raw_Bin\")\n",
    "dt_all_eng.shape"
   ]
  },
  {
   "cell_type": "markdown",
   "metadata": {},
   "source": [
    "##### 4.3.3.2 Encoded cat cols"
   ]
  },
  {
   "cell_type": "code",
   "execution_count": null,
   "metadata": {},
   "outputs": [],
   "source": [
    "cols_encode = dt_all_eng.filter(regex = \"Encode_\").columns.values\n",
    "dt_all_eng = featEng_dimRed(\"SVD\", dt_all_eng, 10, cols_encode, \"Encoded_Cat\")\n",
    "dt_all_eng.shape"
   ]
  },
  {
   "cell_type": "markdown",
   "metadata": {},
   "source": [
    "##### 4.3.3.3 Feature engineed cols"
   ]
  },
  {
   "cell_type": "code",
   "execution_count": null,
   "metadata": {},
   "outputs": [],
   "source": [
    "cols_featEng = dt_all_eng.filter(regex = \"FeatEng_\").columns.values\n",
    "dt_all_eng = featEng_dimRed(\"SVD\", dt_all_eng, 3, cols_featEng, \"FeatEng\")\n",
    "dt_all_eng.shape"
   ]
  },
  {
   "cell_type": "markdown",
   "metadata": {},
   "source": [
    "##### 4.3.3.4 All cols"
   ]
  },
  {
   "cell_type": "code",
   "execution_count": null,
   "metadata": {},
   "outputs": [],
   "source": [
    "cols_all = dt_all_eng.filter(regex = \"^((?!DR).)*$\").columns.values\n",
    "dt_all_eng = featEng_dimRed(\"SVD\", dt_all_eng, 15, cols_all, \"All\")\n",
    "dt_all_eng.shape"
   ]
  },
  {
   "cell_type": "markdown",
   "metadata": {},
   "source": [
    "#### 4.3.4 FA"
   ]
  },
  {
   "cell_type": "markdown",
   "metadata": {},
   "source": [
    "##### 4.3.4.1 Raw binary cols"
   ]
  },
  {
   "cell_type": "code",
   "execution_count": null,
   "metadata": {},
   "outputs": [],
   "source": [
    "dt_all_eng = featEng_dimRed(\"FA\", dt_all_eng, 10, cols_raw, \"Raw_Bin\")\n",
    "dt_all_eng.shape"
   ]
  },
  {
   "cell_type": "markdown",
   "metadata": {},
   "source": [
    "##### 4.3.4.2 Encoded cat cols"
   ]
  },
  {
   "cell_type": "code",
   "execution_count": null,
   "metadata": {},
   "outputs": [],
   "source": [
    "cols_encode = dt_all_eng.filter(regex = \"Encode_\").columns.values\n",
    "dt_all_eng = featEng_dimRed(\"FA\", dt_all_eng, 10, cols_encode, \"Encoded_Cat\")\n",
    "dt_all_eng.shape"
   ]
  },
  {
   "cell_type": "markdown",
   "metadata": {},
   "source": [
    "##### 4.3.4.3 Feature engineed cols"
   ]
  },
  {
   "cell_type": "code",
   "execution_count": null,
   "metadata": {},
   "outputs": [],
   "source": [
    "cols_featEng = dt_all_eng.filter(regex = \"FeatEng_\").columns.values\n",
    "dt_all_eng = featEng_dimRed(\"FA\", dt_all_eng, 3, cols_featEng, \"FeatEng\")\n",
    "dt_all_eng.shape"
   ]
  },
  {
   "cell_type": "markdown",
   "metadata": {},
   "source": [
    "##### 4.3.4.4 All cols"
   ]
  },
  {
   "cell_type": "code",
   "execution_count": null,
   "metadata": {},
   "outputs": [],
   "source": [
    "cols_all = dt_all_eng.filter(regex = \"^((?!DR).)*$\").columns.values\n",
    "dt_all_eng = featEng_dimRed(\"FA\", dt_all_eng, 15, cols_all, \"All\")\n",
    "dt_all_eng.shape"
   ]
  },
  {
   "cell_type": "markdown",
   "metadata": {},
   "source": [
    "#### 4.3.5 tsne"
   ]
  },
  {
   "cell_type": "markdown",
   "metadata": {},
   "source": [
    "##### 4.3.5.1 Raw binary cols"
   ]
  },
  {
   "cell_type": "code",
   "execution_count": null,
   "metadata": {},
   "outputs": [],
   "source": [
    "dt_all_eng = featEng_dimRed(\"TSNE\", dt_all_eng, 2, cols_raw, \"Raw_Bin\")\n",
    "dt_all_eng.shape"
   ]
  },
  {
   "cell_type": "markdown",
   "metadata": {},
   "source": [
    "##### 4.3.5.2 Encoded cat cols"
   ]
  },
  {
   "cell_type": "code",
   "execution_count": null,
   "metadata": {},
   "outputs": [],
   "source": [
    "cols_encode = dt_all_eng.filter(regex = \"Encode_\").columns.values\n",
    "dt_all_eng = featEng_dimRed(\"TSNE\", dt_all_eng, 2, cols_encode, \"Encoded_Cat\")\n",
    "dt_all_eng.shape"
   ]
  },
  {
   "cell_type": "markdown",
   "metadata": {},
   "source": [
    "##### 4.3.5.3 Feature engineed cols"
   ]
  },
  {
   "cell_type": "code",
   "execution_count": null,
   "metadata": {},
   "outputs": [],
   "source": [
    "cols_featEng = dt_all_eng.filter(regex = \"FeatEng_\").columns.values\n",
    "dt_all_eng = featEng_dimRed(\"TSNE\", dt_all_eng, 2, cols_featEng, \"FeatEng\")\n",
    "dt_all_eng.shape"
   ]
  },
  {
   "cell_type": "markdown",
   "metadata": {},
   "source": [
    "##### 4.3.5.4 All cols"
   ]
  },
  {
   "cell_type": "code",
   "execution_count": null,
   "metadata": {},
   "outputs": [],
   "source": [
    "cols_all = dt_all_eng.filter(regex = \"^((?!DR).)*$\").columns.values\n",
    "dt_all_eng = featEng_dimRed(\"TSNE\", dt_all_eng, 2, cols_all, \"All\")\n",
    "dt_all_eng.shape"
   ]
  },
  {
   "cell_type": "markdown",
   "metadata": {},
   "source": [
    "#### 4.3.6 GRP"
   ]
  },
  {
   "cell_type": "markdown",
   "metadata": {},
   "source": [
    "##### 4.3.6.1 Raw binary cols"
   ]
  },
  {
   "cell_type": "code",
   "execution_count": null,
   "metadata": {},
   "outputs": [],
   "source": [
    "dt_all_eng = featEng_dimRed(\"GRP\", dt_all_eng, 10, cols_raw, \"Raw_Bin\")\n",
    "dt_all_eng.shape"
   ]
  },
  {
   "cell_type": "markdown",
   "metadata": {},
   "source": [
    "##### 4.3.6.2 Encoded cat cols"
   ]
  },
  {
   "cell_type": "code",
   "execution_count": null,
   "metadata": {},
   "outputs": [],
   "source": [
    "cols_encode = dt_all_eng.filter(regex = \"Encode_\").columns.values\n",
    "dt_all_eng = featEng_dimRed(\"GRP\", dt_all_eng, 10, cols_encode, \"Encoded_Cat\")\n",
    "dt_all_eng.shape"
   ]
  },
  {
   "cell_type": "markdown",
   "metadata": {},
   "source": [
    "##### 4.3.6.3 Feature engineed cols"
   ]
  },
  {
   "cell_type": "code",
   "execution_count": null,
   "metadata": {},
   "outputs": [],
   "source": [
    "cols_featEng = dt_all_eng.filter(regex = \"FeatEng_\").columns.values\n",
    "dt_all_eng = featEng_dimRed(\"GRP\", dt_all_eng, 3, cols_featEng, \"FeatEng\")\n",
    "dt_all_eng.shape"
   ]
  },
  {
   "cell_type": "markdown",
   "metadata": {},
   "source": [
    "##### 4.3.6.4 All cols"
   ]
  },
  {
   "cell_type": "code",
   "execution_count": null,
   "metadata": {},
   "outputs": [],
   "source": [
    "cols_all = dt_all_eng.filter(regex = \"^((?!DR).)*$\").columns.values\n",
    "dt_all_eng = featEng_dimRed(\"GRP\", dt_all_eng, 15, cols_all, \"All\")\n",
    "dt_all_eng.shape"
   ]
  },
  {
   "cell_type": "markdown",
   "metadata": {},
   "source": [
    "#### 4.3.7 SRP"
   ]
  },
  {
   "cell_type": "markdown",
   "metadata": {},
   "source": [
    "##### 4.3.7.1 Raw binary cols"
   ]
  },
  {
   "cell_type": "code",
   "execution_count": null,
   "metadata": {},
   "outputs": [],
   "source": [
    "dt_all_eng = featEng_dimRed(\"SRP\", dt_all_eng, 10, cols_raw, \"Raw_Bin\")\n",
    "dt_all_eng.shape"
   ]
  },
  {
   "cell_type": "markdown",
   "metadata": {},
   "source": [
    "##### 4.3.7.2 Encoded cat cols"
   ]
  },
  {
   "cell_type": "code",
   "execution_count": null,
   "metadata": {},
   "outputs": [],
   "source": [
    "cols_encode = dt_all_eng.filter(regex = \"Encode_\").columns.values\n",
    "dt_all_eng = featEng_dimRed(\"SRP\", dt_all_eng, 10, cols_encode, \"Encoded_Cat\")\n",
    "dt_all_eng.shape"
   ]
  },
  {
   "cell_type": "markdown",
   "metadata": {},
   "source": [
    "##### 4.3.7.3 Feature engineed cols"
   ]
  },
  {
   "cell_type": "code",
   "execution_count": null,
   "metadata": {},
   "outputs": [],
   "source": [
    "cols_featEng = dt_all_eng.filter(regex = \"FeatEng_\").columns.values\n",
    "dt_all_eng = featEng_dimRed(\"SRP\", dt_all_eng, 3, cols_featEng, \"FeatEng\")\n",
    "dt_all_eng.shape"
   ]
  },
  {
   "cell_type": "markdown",
   "metadata": {},
   "source": [
    "##### 4.3.7.4 All cols"
   ]
  },
  {
   "cell_type": "code",
   "execution_count": null,
   "metadata": {},
   "outputs": [],
   "source": [
    "cols_all = dt_all_eng.filter(regex = \"^((?!DR).)*$\").columns.values\n",
    "dt_all_eng = featEng_dimRed(\"SRP\", dt_all_eng, 15, cols_all, \"All\")\n",
    "dt_all_eng.shape"
   ]
  },
  {
   "cell_type": "markdown",
   "metadata": {},
   "source": [
    "### 4.5 Feature Interaction"
   ]
  },
  {
   "cell_type": "code",
   "execution_count": null,
   "metadata": {},
   "outputs": [],
   "source": [
    "dt_interest = dt_all_eng[cols_raw]\n",
    "dt_fi_2way = pd.DataFrame()\n",
    "seen = []\n",
    "for c1 in cols_raw:\n",
    "    for c2 in cols_raw:\n",
    "        if c1 != c2:\n",
    "            seen.append((c1, c2))\n",
    "            if (c2, c1) not in seen:\n",
    "                isTrain = dt_all_cleaned[\"IsTrainTest\"] == \"train\"\n",
    "                val_c1 = dt_interest[c1].values.astype(\"int64\")\n",
    "                val_c2 = dt_interest[c2].values.astype(\"int64\")\n",
    "                y_train = dt_all_cleaned.y.values[isTrain]\n",
    "                # XOR\n",
    "                XOR = val_c1 ^ val_c2\n",
    "                cor_c1 = abs(stats.spearmanr(val_c1[isTrain], y_train).correlation)\n",
    "                cor_c2 = abs(stats.spearmanr(val_c2[isTrain], y_train).correlation)\n",
    "                cor_XOR = abs(stats.spearmanr(XOR[isTrain], y_train).correlation)\n",
    "                # constant\n",
    "                if cor_XOR > .3:\n",
    "                    const = 1.1\n",
    "                elif (cor_XOR > .2) & (cor_XOR <= .3):\n",
    "                    const = 1.3\n",
    "                else:\n",
    "                    const = 1.5\n",
    "                if cor_XOR > max(cor_c1, cor_c2) * const:\n",
    "                    dt_fi_2way.loc[:, \"FeatEng_FI_2way_XOR_\" + c1 + \"_\" + c2] = XOR"
   ]
  },
  {
   "cell_type": "code",
   "execution_count": null,
   "metadata": {},
   "outputs": [],
   "source": [
    "dt_fi_2way.head()"
   ]
  },
  {
   "cell_type": "code",
   "execution_count": null,
   "metadata": {
    "collapsed": true
   },
   "outputs": [],
   "source": [
    "dt_all_eng = dt_all_eng.join(dt_fi_2way)"
   ]
  },
  {
   "cell_type": "markdown",
   "metadata": {},
   "source": [
    "### 4.6 Save dt_all_eng"
   ]
  },
  {
   "cell_type": "code",
   "execution_count": null,
   "metadata": {
    "collapsed": true
   },
   "outputs": [],
   "source": [
    "dt_all_eng = dt_all_eng.join(dt_all_cleaned[[\"ID\", \"y\", \"IsTrainTest\"]])"
   ]
  },
  {
   "cell_type": "code",
   "execution_count": null,
   "metadata": {
    "collapsed": true
   },
   "outputs": [],
   "source": [
    "dt_all_eng.to_csv(\"../../data/Mercedes_Benz_Greener_Manufacturing/data/dt_all_eng.csv\", index = False)"
   ]
  }
 ],
 "metadata": {
  "kernelspec": {
   "display_name": "Python 3",
   "language": "python",
   "name": "python3"
  },
  "language_info": {
   "codemirror_mode": {
    "name": "ipython",
    "version": 3
   },
   "file_extension": ".py",
   "mimetype": "text/x-python",
   "name": "python",
   "nbconvert_exporter": "python",
   "pygments_lexer": "ipython3",
   "version": "3.5.2"
  }
 },
 "nbformat": 4,
 "nbformat_minor": 2
}
