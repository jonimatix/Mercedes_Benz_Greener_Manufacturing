{
 "cells": [
  {
   "cell_type": "code",
   "execution_count": 41,
   "metadata": {
    "collapsed": true
   },
   "outputs": [],
   "source": [
    "import pandas as pd\n",
    "import pickle\n",
    "import numpy as np\n",
    "from scipy import stats\n",
    "from sklearn import preprocessing, decomposition, manifold"
   ]
  },
  {
   "cell_type": "markdown",
   "metadata": {},
   "source": [
    "## 4. Feature Engineering"
   ]
  },
  {
   "cell_type": "code",
   "execution_count": 2,
   "metadata": {},
   "outputs": [
    {
     "data": {
      "text/plain": [
       "(8418, 342)"
      ]
     },
     "execution_count": 2,
     "metadata": {},
     "output_type": "execute_result"
    }
   ],
   "source": [
    "# read dt_all_cleaned\n",
    "dt_all_cleaned = pd.read_csv(\"../../data/Mercedes_Benz_Greener_Manufacturing/data/dt_all_cleaned.csv\")\n",
    "dt_all_cleaned.shape"
   ]
  },
  {
   "cell_type": "code",
   "execution_count": 3,
   "metadata": {},
   "outputs": [
    {
     "data": {
      "text/plain": [
       "(8418, 599)"
      ]
     },
     "execution_count": 3,
     "metadata": {},
     "output_type": "execute_result"
    }
   ],
   "source": [
    "# read dt_all_eng\n",
    "dt_all_eng = pd.read_csv(\"../../data/Mercedes_Benz_Greener_Manufacturing/data/dt_all_encoded.csv\")\n",
    "dt_all_eng.shape"
   ]
  },
  {
   "cell_type": "code",
   "execution_count": 4,
   "metadata": {},
   "outputs": [
    {
     "data": {
      "text/plain": [
       "328"
      ]
     },
     "execution_count": 4,
     "metadata": {},
     "output_type": "execute_result"
    }
   ],
   "source": [
    "# read cols_raw\n",
    "cols_raw = pickle.load(open(\"../../data/Mercedes_Benz_Greener_Manufacturing/data/cols_raw.pkl\", \"rb\"))\n",
    "len(cols_raw)"
   ]
  },
  {
   "cell_type": "markdown",
   "metadata": {},
   "source": [
    "### 4.1 Outlier marker"
   ]
  },
  {
   "cell_type": "code",
   "execution_count": 5,
   "metadata": {
    "collapsed": true
   },
   "outputs": [],
   "source": [
    "def getOutlierMarker(dt, index_outlier = 883):\n",
    "    # outlier\n",
    "    dt_outlier = dt.loc[dt.index.values == index_outlier]\n",
    "    # calc int_outlierMarker\n",
    "    int_outlierMarker = np.zeros(dt.shape[0])\n",
    "    for col in dt_outlier.columns.values:\n",
    "        for val in dt_outlier[col].values:\n",
    "            int_outlierMarker = int_outlierMarker + (dt[col].values == val).astype(\"int64\")\n",
    "    \n",
    "    return int_outlierMarker"
   ]
  },
  {
   "cell_type": "markdown",
   "metadata": {},
   "source": [
    "#### 4.1.1 OutlierMarker_Cat"
   ]
  },
  {
   "cell_type": "code",
   "execution_count": 6,
   "metadata": {},
   "outputs": [
    {
     "data": {
      "text/plain": [
       "array(['X0', 'X1', 'X2', 'X3', 'X4', 'X5', 'X6', 'X8'], dtype=object)"
      ]
     },
     "execution_count": 6,
     "metadata": {},
     "output_type": "execute_result"
    }
   ],
   "source": [
    "cols_cat = dt_all_cleaned.drop([\"ID\", \"y\", \"IsTrainTest\"], axis = 1).select_dtypes(include = ['object']).columns.values\n",
    "cols_cat"
   ]
  },
  {
   "cell_type": "code",
   "execution_count": 7,
   "metadata": {},
   "outputs": [],
   "source": [
    "int_outlierMarker_cat = getOutlierMarker(dt_all_cleaned[cols_cat])"
   ]
  },
  {
   "cell_type": "markdown",
   "metadata": {},
   "source": [
    "#### 4.1.2 OutlierMarker_Int"
   ]
  },
  {
   "cell_type": "code",
   "execution_count": 8,
   "metadata": {},
   "outputs": [
    {
     "data": {
      "text/plain": [
       "array(['X10', 'single_train_dup_train_X11', 'X12', 'X13', 'X14',\n",
       "       'dup_test_X15', 'X16', 'dup_train_X17', 'X18', 'X19'], dtype=object)"
      ]
     },
     "execution_count": 8,
     "metadata": {},
     "output_type": "execute_result"
    }
   ],
   "source": [
    "cols_int = dt_all_cleaned.drop([\"ID\", \"y\", \"IsTrainTest\", \"IsDupRow_All\", \"IsDupRow_Cat\", \"IsDupRow_Int\"], axis = 1).select_dtypes(include = ['int64']).columns.values\n",
    "cols_int[:10]"
   ]
  },
  {
   "cell_type": "code",
   "execution_count": 9,
   "metadata": {
    "collapsed": true
   },
   "outputs": [],
   "source": [
    "int_outlierMarker_int = getOutlierMarker(dt_all_cleaned[cols_int])"
   ]
  },
  {
   "cell_type": "markdown",
   "metadata": {},
   "source": [
    "#### 4.1.3 OutlierMarker_All"
   ]
  },
  {
   "cell_type": "code",
   "execution_count": 10,
   "metadata": {},
   "outputs": [
    {
     "data": {
      "text/plain": [
       "array(['X0', 'X1', 'X2', 'X3', 'X4', 'X5', 'X6', 'X8', 'X10',\n",
       "       'single_train_dup_train_X11'], dtype=object)"
      ]
     },
     "execution_count": 10,
     "metadata": {},
     "output_type": "execute_result"
    }
   ],
   "source": [
    "cols_all = dt_all_cleaned.drop([\"ID\", \"y\", \"IsTrainTest\", \"IsDupRow_All\", \"IsDupRow_Cat\", \"IsDupRow_Int\"], axis = 1).columns.values\n",
    "cols_all[:10]"
   ]
  },
  {
   "cell_type": "code",
   "execution_count": 11,
   "metadata": {
    "collapsed": true
   },
   "outputs": [],
   "source": [
    "int_outlierMarker_all = getOutlierMarker(dt_all_cleaned[cols_all])"
   ]
  },
  {
   "cell_type": "markdown",
   "metadata": {},
   "source": [
    "#### 4.1.4 OutlierMarker_X0"
   ]
  },
  {
   "cell_type": "code",
   "execution_count": 12,
   "metadata": {
    "collapsed": true
   },
   "outputs": [],
   "source": [
    "cols_X0 = \"X0\"\n",
    "int_outlierMarker_x0 = getOutlierMarker(dt_all_cleaned[cols_X0].to_frame())"
   ]
  },
  {
   "cell_type": "code",
   "execution_count": 13,
   "metadata": {
    "collapsed": true
   },
   "outputs": [],
   "source": [
    "dt_all_eng.loc[:, \"FeatEng_OutlierMarker_Cat\"] = int_outlierMarker_cat\n",
    "dt_all_eng.loc[:, \"FeatEng_OutlierMarker_Int\"] = int_outlierMarker_int\n",
    "dt_all_eng.loc[:, \"FeatEng_OutlierMarker_All\"] = int_outlierMarker_all\n",
    "dt_all_eng.loc[:, \"FeatEng_OutlierMarker_X0\"] = int_outlierMarker_x0"
   ]
  },
  {
   "cell_type": "code",
   "execution_count": 14,
   "metadata": {},
   "outputs": [
    {
     "data": {
      "text/html": [
       "<div>\n",
       "<style>\n",
       "    .dataframe thead tr:only-child th {\n",
       "        text-align: right;\n",
       "    }\n",
       "\n",
       "    .dataframe thead th {\n",
       "        text-align: left;\n",
       "    }\n",
       "\n",
       "    .dataframe tbody tr th {\n",
       "        vertical-align: top;\n",
       "    }\n",
       "</style>\n",
       "<table border=\"1\" class=\"dataframe\">\n",
       "  <thead>\n",
       "    <tr style=\"text-align: right;\">\n",
       "      <th></th>\n",
       "      <th>ID</th>\n",
       "      <th>y</th>\n",
       "      <th>X10</th>\n",
       "      <th>single_train_dup_train_X11</th>\n",
       "      <th>X12</th>\n",
       "      <th>X13</th>\n",
       "      <th>X14</th>\n",
       "      <th>dup_test_X15</th>\n",
       "      <th>X16</th>\n",
       "      <th>dup_train_X17</th>\n",
       "      <th>...</th>\n",
       "      <th>Encode_BinaryX8_0</th>\n",
       "      <th>Encode_BinaryX8_1</th>\n",
       "      <th>Encode_BinaryX8_2</th>\n",
       "      <th>Encode_BinaryX8_3</th>\n",
       "      <th>Encode_BinaryX8_4</th>\n",
       "      <th>Encode_Ordinal_X0</th>\n",
       "      <th>FeatEng_OutlierMarker_Cat</th>\n",
       "      <th>FeatEng_OutlierMarker_Int</th>\n",
       "      <th>FeatEng_OutlierMarker_All</th>\n",
       "      <th>FeatEng_OutlierMarker_X0</th>\n",
       "    </tr>\n",
       "  </thead>\n",
       "  <tbody>\n",
       "    <tr>\n",
       "      <th>0</th>\n",
       "      <td>0</td>\n",
       "      <td>130.81</td>\n",
       "      <td>0</td>\n",
       "      <td>0</td>\n",
       "      <td>0</td>\n",
       "      <td>1</td>\n",
       "      <td>0</td>\n",
       "      <td>0</td>\n",
       "      <td>0</td>\n",
       "      <td>0</td>\n",
       "      <td>...</td>\n",
       "      <td>0</td>\n",
       "      <td>0</td>\n",
       "      <td>0</td>\n",
       "      <td>0</td>\n",
       "      <td>0</td>\n",
       "      <td>47.583043</td>\n",
       "      <td>1.0</td>\n",
       "      <td>271.0</td>\n",
       "      <td>272.0</td>\n",
       "      <td>0.0</td>\n",
       "    </tr>\n",
       "    <tr>\n",
       "      <th>1</th>\n",
       "      <td>6</td>\n",
       "      <td>88.53</td>\n",
       "      <td>0</td>\n",
       "      <td>0</td>\n",
       "      <td>0</td>\n",
       "      <td>0</td>\n",
       "      <td>0</td>\n",
       "      <td>0</td>\n",
       "      <td>0</td>\n",
       "      <td>0</td>\n",
       "      <td>...</td>\n",
       "      <td>0</td>\n",
       "      <td>0</td>\n",
       "      <td>0</td>\n",
       "      <td>0</td>\n",
       "      <td>0</td>\n",
       "      <td>47.583043</td>\n",
       "      <td>2.0</td>\n",
       "      <td>292.0</td>\n",
       "      <td>294.0</td>\n",
       "      <td>0.0</td>\n",
       "    </tr>\n",
       "    <tr>\n",
       "      <th>2</th>\n",
       "      <td>7</td>\n",
       "      <td>76.26</td>\n",
       "      <td>0</td>\n",
       "      <td>0</td>\n",
       "      <td>0</td>\n",
       "      <td>0</td>\n",
       "      <td>0</td>\n",
       "      <td>0</td>\n",
       "      <td>0</td>\n",
       "      <td>1</td>\n",
       "      <td>...</td>\n",
       "      <td>0</td>\n",
       "      <td>1</td>\n",
       "      <td>1</td>\n",
       "      <td>1</td>\n",
       "      <td>1</td>\n",
       "      <td>40.638304</td>\n",
       "      <td>1.0</td>\n",
       "      <td>266.0</td>\n",
       "      <td>267.0</td>\n",
       "      <td>0.0</td>\n",
       "    </tr>\n",
       "    <tr>\n",
       "      <th>3</th>\n",
       "      <td>9</td>\n",
       "      <td>80.62</td>\n",
       "      <td>0</td>\n",
       "      <td>0</td>\n",
       "      <td>0</td>\n",
       "      <td>0</td>\n",
       "      <td>0</td>\n",
       "      <td>0</td>\n",
       "      <td>0</td>\n",
       "      <td>0</td>\n",
       "      <td>...</td>\n",
       "      <td>1</td>\n",
       "      <td>0</td>\n",
       "      <td>1</td>\n",
       "      <td>0</td>\n",
       "      <td>1</td>\n",
       "      <td>40.638304</td>\n",
       "      <td>3.0</td>\n",
       "      <td>271.0</td>\n",
       "      <td>274.0</td>\n",
       "      <td>0.0</td>\n",
       "    </tr>\n",
       "    <tr>\n",
       "      <th>4</th>\n",
       "      <td>13</td>\n",
       "      <td>78.02</td>\n",
       "      <td>0</td>\n",
       "      <td>0</td>\n",
       "      <td>0</td>\n",
       "      <td>0</td>\n",
       "      <td>0</td>\n",
       "      <td>0</td>\n",
       "      <td>0</td>\n",
       "      <td>0</td>\n",
       "      <td>...</td>\n",
       "      <td>0</td>\n",
       "      <td>0</td>\n",
       "      <td>0</td>\n",
       "      <td>0</td>\n",
       "      <td>1</td>\n",
       "      <td>40.638304</td>\n",
       "      <td>2.0</td>\n",
       "      <td>275.0</td>\n",
       "      <td>277.0</td>\n",
       "      <td>0.0</td>\n",
       "    </tr>\n",
       "  </tbody>\n",
       "</table>\n",
       "<p>5 rows × 603 columns</p>\n",
       "</div>"
      ],
      "text/plain": [
       "   ID       y  X10  single_train_dup_train_X11  X12  X13  X14  dup_test_X15  \\\n",
       "0   0  130.81    0                           0    0    1    0             0   \n",
       "1   6   88.53    0                           0    0    0    0             0   \n",
       "2   7   76.26    0                           0    0    0    0             0   \n",
       "3   9   80.62    0                           0    0    0    0             0   \n",
       "4  13   78.02    0                           0    0    0    0             0   \n",
       "\n",
       "   X16  dup_train_X17            ...             Encode_BinaryX8_0  \\\n",
       "0    0              0            ...                             0   \n",
       "1    0              0            ...                             0   \n",
       "2    0              1            ...                             0   \n",
       "3    0              0            ...                             1   \n",
       "4    0              0            ...                             0   \n",
       "\n",
       "   Encode_BinaryX8_1  Encode_BinaryX8_2  Encode_BinaryX8_3  Encode_BinaryX8_4  \\\n",
       "0                  0                  0                  0                  0   \n",
       "1                  0                  0                  0                  0   \n",
       "2                  1                  1                  1                  1   \n",
       "3                  0                  1                  0                  1   \n",
       "4                  0                  0                  0                  1   \n",
       "\n",
       "   Encode_Ordinal_X0  FeatEng_OutlierMarker_Cat  FeatEng_OutlierMarker_Int  \\\n",
       "0          47.583043                        1.0                      271.0   \n",
       "1          47.583043                        2.0                      292.0   \n",
       "2          40.638304                        1.0                      266.0   \n",
       "3          40.638304                        3.0                      271.0   \n",
       "4          40.638304                        2.0                      275.0   \n",
       "\n",
       "   FeatEng_OutlierMarker_All  FeatEng_OutlierMarker_X0  \n",
       "0                      272.0                       0.0  \n",
       "1                      294.0                       0.0  \n",
       "2                      267.0                       0.0  \n",
       "3                      274.0                       0.0  \n",
       "4                      277.0                       0.0  \n",
       "\n",
       "[5 rows x 603 columns]"
      ]
     },
     "execution_count": 14,
     "metadata": {},
     "output_type": "execute_result"
    }
   ],
   "source": [
    "dt_all_eng.head()"
   ]
  },
  {
   "cell_type": "markdown",
   "metadata": {},
   "source": [
    "### 4.2 Sum of binary cols"
   ]
  },
  {
   "cell_type": "markdown",
   "metadata": {},
   "source": [
    "#### 4.2.1 Sum of all binary cols"
   ]
  },
  {
   "cell_type": "code",
   "execution_count": 15,
   "metadata": {},
   "outputs": [],
   "source": [
    "sum_binary_all = dt_all_eng[cols_raw].sum(axis = 1)"
   ]
  },
  {
   "cell_type": "markdown",
   "metadata": {},
   "source": [
    "#### 4.2.2 Sum of correlation-important binary cols"
   ]
  },
  {
   "cell_type": "code",
   "execution_count": 16,
   "metadata": {
    "collapsed": true
   },
   "outputs": [],
   "source": [
    "def corBin_Contin(dt, cols):\n",
    "    dt_binary_pointbiserialr = pd.DataFrame()\n",
    "    for col in cols:\n",
    "        cor_pb = stats.pointbiserialr(dt[col].values, dt.y.values)\n",
    "        dt_binary_pointbiserialr = pd.concat([dt_binary_pointbiserialr\n",
    "                                             , pd.DataFrame({\"Col\": col\n",
    "                                                            , \"Cor\": np.abs([cor_pb.correlation])\n",
    "                                                            , \"P\": [cor_pb.pvalue]})])\n",
    "    return dt_binary_pointbiserialr.sort_values(\"Cor\", ascending = False)"
   ]
  },
  {
   "cell_type": "code",
   "execution_count": 19,
   "metadata": {},
   "outputs": [],
   "source": [
    "dt_corBin_Cotin = corBin_Contin(dt_all_eng, cols_raw)"
   ]
  },
  {
   "cell_type": "code",
   "execution_count": 20,
   "metadata": {
    "collapsed": true
   },
   "outputs": [],
   "source": [
    "cols_binary_important_3 = dt_corBin_Cotin[\"Col\"].values[:3]\n",
    "cols_binary_important_5 = dt_corBin_Cotin[\"Col\"].values[:5]\n",
    "cols_binary_important_10 = dt_corBin_Cotin[\"Col\"].values[:10]\n",
    "cols_binary_important_20 = dt_corBin_Cotin[\"Col\"].values[:20]\n",
    "cols_binary_important_50 = dt_corBin_Cotin[\"Col\"].values[:50]"
   ]
  },
  {
   "cell_type": "code",
   "execution_count": 21,
   "metadata": {
    "collapsed": true
   },
   "outputs": [],
   "source": [
    "sum_binary_important_3 = dt_all_eng[cols_binary_important_3].sum(axis = 1)\n",
    "sum_binary_important_5 = dt_all_eng[cols_binary_important_5].sum(axis = 1)\n",
    "sum_binary_important_10 = dt_all_eng[cols_binary_important_10].sum(axis = 1)\n",
    "sum_binary_important_20 = dt_all_eng[cols_binary_important_20].sum(axis = 1)\n",
    "sum_binary_important_50 = dt_all_eng[cols_binary_important_50].sum(axis = 1)"
   ]
  },
  {
   "cell_type": "code",
   "execution_count": 22,
   "metadata": {
    "collapsed": true
   },
   "outputs": [],
   "source": [
    "# SumBin_All\n",
    "dt_all_eng.loc[:, \"FeatEng_SumBin_All\"] = sum_binary_all\n",
    "# SumBin_Imp_X\n",
    "dt_all_eng.loc[:, \"FeatEng_SumBin_Imp_3\"] = sum_binary_important_3\n",
    "dt_all_eng.loc[:, \"FeatEng_SumBin_Imp_5\"] = sum_binary_important_5\n",
    "dt_all_eng.loc[:, \"FeatEng_SumBin_Imp_10\"] = sum_binary_important_10\n",
    "dt_all_eng.loc[:, \"FeatEng_SumBin_Imp_20\"] = sum_binary_important_20\n",
    "dt_all_eng.loc[:, \"FeatEng_SumBin_Imp_50\"] = sum_binary_important_50"
   ]
  },
  {
   "cell_type": "markdown",
   "metadata": {},
   "source": [
    "### 4.3 Dimension reduction"
   ]
  },
  {
   "cell_type": "code",
   "execution_count": 25,
   "metadata": {},
   "outputs": [
    {
     "data": {
      "text/plain": [
       "(8418, 606)"
      ]
     },
     "execution_count": 25,
     "metadata": {},
     "output_type": "execute_result"
    }
   ],
   "source": [
    "# range\n",
    "pp_range = preprocessing.MinMaxScaler()\n",
    "mx_range = pp_range.fit_transform(dt_all_eng.drop([\"ID\", \"y\", \"IsTrainTest\"], axis = 1))\n",
    "dt_all_eng = pd.DataFrame(mx_range, columns = dt_all_eng.drop([\"ID\", \"y\", \"IsTrainTest\"], axis = 1).columns.values)\n",
    "dt_all_eng.shape"
   ]
  },
  {
   "cell_type": "code",
   "execution_count": 26,
   "metadata": {
    "collapsed": true
   },
   "outputs": [],
   "source": [
    "def featEng_dimRed(method, dt, n_component, cols, name_feature):\n",
    "    if method == \"PCA\":\n",
    "        dr = decomposition.PCA(n_components = n_component, random_state = 888)\n",
    "    elif method == \"ICA\":\n",
    "        dr = decomposition.FastICA(n_components = n_component, random_state = 888)\n",
    "    elif method == \"SVD\":\n",
    "        dr = decomposition.TruncatedSVD(n_components = n_component, random_state = 888)\n",
    "    elif method == \"FA\":\n",
    "        dr = decomposition.FactorAnalysis(n_components = n_component, random_state = 888)\n",
    "    elif method == \"TSNE\":\n",
    "        dr = manifold.TSNE(n_components = n_component, random_state = 888)\n",
    "    mx = dr.fit_transform(dt[cols])\n",
    "    dt = dt.join(pd.DataFrame(mx, columns = [\"DR_\" + method + \"_\" + name_feature + \"_\" + str(i) for i in range(1, n_component + 1)]))\n",
    "    \n",
    "    return dt"
   ]
  },
  {
   "cell_type": "markdown",
   "metadata": {},
   "source": [
    "#### 4.3.1 PCA"
   ]
  },
  {
   "cell_type": "markdown",
   "metadata": {},
   "source": [
    "##### 4.3.1.1 Raw binary cols"
   ]
  },
  {
   "cell_type": "code",
   "execution_count": 29,
   "metadata": {},
   "outputs": [
    {
     "data": {
      "text/plain": [
       "(8418, 621)"
      ]
     },
     "execution_count": 29,
     "metadata": {},
     "output_type": "execute_result"
    }
   ],
   "source": [
    "dt_all_eng = featEng_dimRed(\"PCA\", dt_all_eng, 15, cols_raw, \"Raw_Bin\")\n",
    "dt_all_eng.shape"
   ]
  },
  {
   "cell_type": "markdown",
   "metadata": {},
   "source": [
    "##### 4.3.1.2 Encoded cat cols"
   ]
  },
  {
   "cell_type": "code",
   "execution_count": 30,
   "metadata": {},
   "outputs": [
    {
     "data": {
      "text/plain": [
       "(8418, 636)"
      ]
     },
     "execution_count": 30,
     "metadata": {},
     "output_type": "execute_result"
    }
   ],
   "source": [
    "cols_encode = dt_all_eng.filter(regex = \"Encode_\").columns.values\n",
    "dt_all_eng = featEng_dimRed(\"PCA\", dt_all_eng, 15, cols_encode, \"Encoded_Cat\")\n",
    "dt_all_eng.shape"
   ]
  },
  {
   "cell_type": "markdown",
   "metadata": {},
   "source": [
    "##### 4.3.1.3 Feature engineed cols"
   ]
  },
  {
   "cell_type": "code",
   "execution_count": 31,
   "metadata": {},
   "outputs": [
    {
     "data": {
      "text/plain": [
       "(8418, 639)"
      ]
     },
     "execution_count": 31,
     "metadata": {},
     "output_type": "execute_result"
    }
   ],
   "source": [
    "cols_featEng = dt_all_eng.filter(regex = \"FeatEng_\").columns.values\n",
    "dt_all_eng = featEng_dimRed(\"PCA\", dt_all_eng, 3, cols_featEng, \"FeatEng\")\n",
    "dt_all_eng.shape"
   ]
  },
  {
   "cell_type": "markdown",
   "metadata": {},
   "source": [
    "##### 4.3.1.4 All cols"
   ]
  },
  {
   "cell_type": "code",
   "execution_count": 32,
   "metadata": {},
   "outputs": [
    {
     "data": {
      "text/plain": [
       "(8418, 659)"
      ]
     },
     "execution_count": 32,
     "metadata": {},
     "output_type": "execute_result"
    }
   ],
   "source": [
    "cols_all = dt_all_eng.filter(regex = \"^((?!DR).)*$\").columns.values\n",
    "dt_all_eng = featEng_dimRed(\"PCA\", dt_all_eng, 20, cols_all, \"All\")\n",
    "dt_all_eng.shape"
   ]
  },
  {
   "cell_type": "markdown",
   "metadata": {},
   "source": [
    "#### 4.3.2 ICA"
   ]
  },
  {
   "cell_type": "markdown",
   "metadata": {},
   "source": [
    "##### 4.3.2.1 Raw binary cols"
   ]
  },
  {
   "cell_type": "code",
   "execution_count": 33,
   "metadata": {},
   "outputs": [
    {
     "data": {
      "text/plain": [
       "(8418, 674)"
      ]
     },
     "execution_count": 33,
     "metadata": {},
     "output_type": "execute_result"
    }
   ],
   "source": [
    "dt_all_eng = featEng_dimRed(\"ICA\", dt_all_eng, 15, cols_raw, \"Raw_Bin\")\n",
    "dt_all_eng.shape"
   ]
  },
  {
   "cell_type": "markdown",
   "metadata": {},
   "source": [
    "##### 4.3.2.2 Encoded cat cols"
   ]
  },
  {
   "cell_type": "code",
   "execution_count": 34,
   "metadata": {},
   "outputs": [
    {
     "data": {
      "text/plain": [
       "(8418, 689)"
      ]
     },
     "execution_count": 34,
     "metadata": {},
     "output_type": "execute_result"
    }
   ],
   "source": [
    "cols_encode = dt_all_eng.filter(regex = \"Encode_\").columns.values\n",
    "dt_all_eng = featEng_dimRed(\"ICA\", dt_all_eng, 15, cols_encode, \"Encoded_Cat\")\n",
    "dt_all_eng.shape"
   ]
  },
  {
   "cell_type": "markdown",
   "metadata": {},
   "source": [
    "##### 4.3.2.3 Feature engineed cols"
   ]
  },
  {
   "cell_type": "code",
   "execution_count": 35,
   "metadata": {},
   "outputs": [
    {
     "data": {
      "text/plain": [
       "(8418, 692)"
      ]
     },
     "execution_count": 35,
     "metadata": {},
     "output_type": "execute_result"
    }
   ],
   "source": [
    "cols_featEng = dt_all_eng.filter(regex = \"FeatEng_\").columns.values\n",
    "dt_all_eng = featEng_dimRed(\"ICA\", dt_all_eng, 3, cols_featEng, \"FeatEng\")\n",
    "dt_all_eng.shape"
   ]
  },
  {
   "cell_type": "markdown",
   "metadata": {},
   "source": [
    "##### 4.3.2.4 All cols"
   ]
  },
  {
   "cell_type": "code",
   "execution_count": 36,
   "metadata": {},
   "outputs": [
    {
     "data": {
      "text/plain": [
       "(8418, 712)"
      ]
     },
     "execution_count": 36,
     "metadata": {},
     "output_type": "execute_result"
    }
   ],
   "source": [
    "cols_all = dt_all_eng.filter(regex = \"^((?!DR).)*$\").columns.values\n",
    "dt_all_eng = featEng_dimRed(\"ICA\", dt_all_eng, 20, cols_all, \"All\")\n",
    "dt_all_eng.shape"
   ]
  },
  {
   "cell_type": "markdown",
   "metadata": {},
   "source": [
    "#### 4.3.3 SVD"
   ]
  },
  {
   "cell_type": "markdown",
   "metadata": {},
   "source": [
    "##### 4.3.3.1 Raw binary cols"
   ]
  },
  {
   "cell_type": "code",
   "execution_count": 37,
   "metadata": {},
   "outputs": [
    {
     "data": {
      "text/plain": [
       "(8418, 727)"
      ]
     },
     "execution_count": 37,
     "metadata": {},
     "output_type": "execute_result"
    }
   ],
   "source": [
    "dt_all_eng = featEng_dimRed(\"SVD\", dt_all_eng, 15, cols_raw, \"Raw_Bin\")\n",
    "dt_all_eng.shape"
   ]
  },
  {
   "cell_type": "markdown",
   "metadata": {},
   "source": [
    "##### 4.3.3.2 Encoded cat cols"
   ]
  },
  {
   "cell_type": "code",
   "execution_count": 38,
   "metadata": {},
   "outputs": [
    {
     "data": {
      "text/plain": [
       "(8418, 742)"
      ]
     },
     "execution_count": 38,
     "metadata": {},
     "output_type": "execute_result"
    }
   ],
   "source": [
    "cols_encode = dt_all_eng.filter(regex = \"Encode_\").columns.values\n",
    "dt_all_eng = featEng_dimRed(\"SVD\", dt_all_eng, 15, cols_encode, \"Encoded_Cat\")\n",
    "dt_all_eng.shape"
   ]
  },
  {
   "cell_type": "markdown",
   "metadata": {},
   "source": [
    "##### 4.3.3.3 Feature engineed cols"
   ]
  },
  {
   "cell_type": "code",
   "execution_count": 39,
   "metadata": {},
   "outputs": [
    {
     "data": {
      "text/plain": [
       "(8418, 745)"
      ]
     },
     "execution_count": 39,
     "metadata": {},
     "output_type": "execute_result"
    }
   ],
   "source": [
    "cols_featEng = dt_all_eng.filter(regex = \"FeatEng_\").columns.values\n",
    "dt_all_eng = featEng_dimRed(\"SVD\", dt_all_eng, 3, cols_featEng, \"FeatEng\")\n",
    "dt_all_eng.shape"
   ]
  },
  {
   "cell_type": "markdown",
   "metadata": {},
   "source": [
    "##### 4.3.3.4 All cols"
   ]
  },
  {
   "cell_type": "code",
   "execution_count": 40,
   "metadata": {},
   "outputs": [
    {
     "data": {
      "text/plain": [
       "(8418, 765)"
      ]
     },
     "execution_count": 40,
     "metadata": {},
     "output_type": "execute_result"
    }
   ],
   "source": [
    "cols_all = dt_all_eng.filter(regex = \"^((?!DR).)*$\").columns.values\n",
    "dt_all_eng = featEng_dimRed(\"SVD\", dt_all_eng, 20, cols_all, \"All\")\n",
    "dt_all_eng.shape"
   ]
  },
  {
   "cell_type": "markdown",
   "metadata": {},
   "source": [
    "#### 4.3.4 FA"
   ]
  },
  {
   "cell_type": "markdown",
   "metadata": {},
   "source": [
    "##### 4.3.4.1 Raw binary cols"
   ]
  },
  {
   "cell_type": "code",
   "execution_count": 42,
   "metadata": {},
   "outputs": [
    {
     "data": {
      "text/plain": [
       "(8418, 780)"
      ]
     },
     "execution_count": 42,
     "metadata": {},
     "output_type": "execute_result"
    }
   ],
   "source": [
    "dt_all_eng = featEng_dimRed(\"FA\", dt_all_eng, 15, cols_raw, \"Raw_Bin\")\n",
    "dt_all_eng.shape"
   ]
  },
  {
   "cell_type": "markdown",
   "metadata": {},
   "source": [
    "##### 4.3.4.2 Encoded cat cols"
   ]
  },
  {
   "cell_type": "code",
   "execution_count": 43,
   "metadata": {},
   "outputs": [
    {
     "data": {
      "text/plain": [
       "(8418, 795)"
      ]
     },
     "execution_count": 43,
     "metadata": {},
     "output_type": "execute_result"
    }
   ],
   "source": [
    "cols_encode = dt_all_eng.filter(regex = \"Encode_\").columns.values\n",
    "dt_all_eng = featEng_dimRed(\"FA\", dt_all_eng, 15, cols_encode, \"Encoded_Cat\")\n",
    "dt_all_eng.shape"
   ]
  },
  {
   "cell_type": "markdown",
   "metadata": {},
   "source": [
    "##### 4.3.4.3 Feature engineed cols"
   ]
  },
  {
   "cell_type": "code",
   "execution_count": 44,
   "metadata": {},
   "outputs": [
    {
     "data": {
      "text/plain": [
       "(8418, 798)"
      ]
     },
     "execution_count": 44,
     "metadata": {},
     "output_type": "execute_result"
    }
   ],
   "source": [
    "cols_featEng = dt_all_eng.filter(regex = \"FeatEng_\").columns.values\n",
    "dt_all_eng = featEng_dimRed(\"FA\", dt_all_eng, 3, cols_featEng, \"FeatEng\")\n",
    "dt_all_eng.shape"
   ]
  },
  {
   "cell_type": "markdown",
   "metadata": {},
   "source": [
    "##### 4.3.4.4 All cols"
   ]
  },
  {
   "cell_type": "code",
   "execution_count": 45,
   "metadata": {},
   "outputs": [
    {
     "data": {
      "text/plain": [
       "(8418, 818)"
      ]
     },
     "execution_count": 45,
     "metadata": {},
     "output_type": "execute_result"
    }
   ],
   "source": [
    "cols_all = dt_all_eng.filter(regex = \"^((?!DR).)*$\").columns.values\n",
    "dt_all_eng = featEng_dimRed(\"FA\", dt_all_eng, 20, cols_all, \"All\")\n",
    "dt_all_eng.shape"
   ]
  },
  {
   "cell_type": "markdown",
   "metadata": {},
   "source": [
    "#### 4.3.5 tsne"
   ]
  },
  {
   "cell_type": "markdown",
   "metadata": {},
   "source": [
    "##### 4.3.5.1 Raw binary cols"
   ]
  },
  {
   "cell_type": "code",
   "execution_count": 46,
   "metadata": {},
   "outputs": [
    {
     "data": {
      "text/plain": [
       "(8418, 820)"
      ]
     },
     "execution_count": 46,
     "metadata": {},
     "output_type": "execute_result"
    }
   ],
   "source": [
    "dt_all_eng = featEng_dimRed(\"TSNE\", dt_all_eng, 2, cols_raw, \"Raw_Bin\")\n",
    "dt_all_eng.shape"
   ]
  },
  {
   "cell_type": "markdown",
   "metadata": {},
   "source": [
    "##### 4.3.5.2 Encoded cat cols"
   ]
  },
  {
   "cell_type": "code",
   "execution_count": 47,
   "metadata": {},
   "outputs": [
    {
     "data": {
      "text/plain": [
       "(8418, 822)"
      ]
     },
     "execution_count": 47,
     "metadata": {},
     "output_type": "execute_result"
    }
   ],
   "source": [
    "cols_encode = dt_all_eng.filter(regex = \"Encode_\").columns.values\n",
    "dt_all_eng = featEng_dimRed(\"TSNE\", dt_all_eng, 2, cols_encode, \"Encoded_Cat\")\n",
    "dt_all_eng.shape"
   ]
  },
  {
   "cell_type": "markdown",
   "metadata": {},
   "source": [
    "##### 4.3.5.3 Feature engineed cols"
   ]
  },
  {
   "cell_type": "code",
   "execution_count": 48,
   "metadata": {},
   "outputs": [
    {
     "data": {
      "text/plain": [
       "(8418, 824)"
      ]
     },
     "execution_count": 48,
     "metadata": {},
     "output_type": "execute_result"
    }
   ],
   "source": [
    "cols_featEng = dt_all_eng.filter(regex = \"FeatEng_\").columns.values\n",
    "dt_all_eng = featEng_dimRed(\"TSNE\", dt_all_eng, 2, cols_featEng, \"FeatEng\")\n",
    "dt_all_eng.shape"
   ]
  },
  {
   "cell_type": "markdown",
   "metadata": {},
   "source": [
    "##### 4.3.5.4 All cols"
   ]
  },
  {
   "cell_type": "code",
   "execution_count": 49,
   "metadata": {},
   "outputs": [
    {
     "data": {
      "text/plain": [
       "(8418, 827)"
      ]
     },
     "execution_count": 49,
     "metadata": {},
     "output_type": "execute_result"
    }
   ],
   "source": [
    "cols_all = dt_all_eng.filter(regex = \"^((?!DR).)*$\").columns.values\n",
    "dt_all_eng = featEng_dimRed(\"TSNE\", dt_all_eng, 3, cols_all, \"All\")\n",
    "dt_all_eng.shape"
   ]
  },
  {
   "cell_type": "markdown",
   "metadata": {},
   "source": [
    "### 4.4 Save dt_all_eng"
   ]
  },
  {
   "cell_type": "code",
   "execution_count": 54,
   "metadata": {},
   "outputs": [],
   "source": [
    "dt_all_eng = dt_all_eng.join(dt_all_cleaned[[\"ID\", \"y\", \"IsTrainTest\"]])"
   ]
  },
  {
   "cell_type": "code",
   "execution_count": null,
   "metadata": {
    "collapsed": true
   },
   "outputs": [],
   "source": [
    "dt_all_eng.to_csv(\"../../data/Mercedes_Benz_Greener_Manufacturing/data/dt_all_eng.csv\", index = False)"
   ]
  }
 ],
 "metadata": {
  "kernelspec": {
   "display_name": "Python 3",
   "language": "python",
   "name": "python3"
  },
  "language_info": {
   "codemirror_mode": {
    "name": "ipython",
    "version": 3
   },
   "file_extension": ".py",
   "mimetype": "text/x-python",
   "name": "python",
   "nbconvert_exporter": "python",
   "pygments_lexer": "ipython3",
   "version": "3.5.2"
  }
 },
 "nbformat": 4,
 "nbformat_minor": 2
}
