{
 "cells": [
  {
   "cell_type": "code",
   "execution_count": 1,
   "metadata": {
    "collapsed": true
   },
   "outputs": [],
   "source": [
    "import pandas as pd\n",
    "import pickle\n",
    "import numpy as np\n",
    "from scipy import stats\n",
    "from sklearn import preprocessing, decomposition, manifold\n",
    "from sklearn import random_projection\n",
    "import operator"
   ]
  },
  {
   "cell_type": "markdown",
   "metadata": {},
   "source": [
    "## 4. Feature Engineering"
   ]
  },
  {
   "cell_type": "code",
   "execution_count": 2,
   "metadata": {},
   "outputs": [
    {
     "data": {
      "text/plain": [
       "(8418, 342)"
      ]
     },
     "execution_count": 2,
     "metadata": {},
     "output_type": "execute_result"
    }
   ],
   "source": [
    "# read dt_all_cleaned\n",
    "dt_all_cleaned = pd.read_csv(\"../../data/Mercedes_Benz_Greener_Manufacturing/data/dt_all_cleaned.csv\")\n",
    "dt_all_cleaned.shape"
   ]
  },
  {
   "cell_type": "code",
   "execution_count": 3,
   "metadata": {},
   "outputs": [
    {
     "data": {
      "text/plain": [
       "(8418, 608)"
      ]
     },
     "execution_count": 3,
     "metadata": {},
     "output_type": "execute_result"
    }
   ],
   "source": [
    "# read dt_all_eng\n",
    "dt_all_eng = pd.read_csv(\"../../data/Mercedes_Benz_Greener_Manufacturing/data/dt_all_encoded.csv\")\n",
    "dt_all_eng.shape"
   ]
  },
  {
   "cell_type": "code",
   "execution_count": 4,
   "metadata": {},
   "outputs": [
    {
     "data": {
      "text/plain": [
       "328"
      ]
     },
     "execution_count": 4,
     "metadata": {},
     "output_type": "execute_result"
    }
   ],
   "source": [
    "# read cols_raw\n",
    "cols_raw = pickle.load(open(\"../../data/Mercedes_Benz_Greener_Manufacturing/data/cols_raw.pkl\", \"rb\"))\n",
    "len(cols_raw)"
   ]
  },
  {
   "cell_type": "markdown",
   "metadata": {},
   "source": [
    "### 4.1 Outlier marker"
   ]
  },
  {
   "cell_type": "code",
   "execution_count": 5,
   "metadata": {
    "collapsed": true
   },
   "outputs": [],
   "source": [
    "def getOutlierMarker(dt, index_outlier = 883):\n",
    "    # outlier\n",
    "    dt_outlier = dt.loc[dt.index.values == index_outlier]\n",
    "    # calc int_outlierMarker\n",
    "    int_outlierMarker = np.zeros(dt.shape[0])\n",
    "    for col in dt_outlier.columns.values:\n",
    "        for val in dt_outlier[col].values:\n",
    "            int_outlierMarker = int_outlierMarker + (dt[col].values == val).astype(\"int64\")\n",
    "    \n",
    "    return int_outlierMarker"
   ]
  },
  {
   "cell_type": "markdown",
   "metadata": {},
   "source": [
    "#### 4.1.1 OutlierMarker_Cat"
   ]
  },
  {
   "cell_type": "code",
   "execution_count": 6,
   "metadata": {},
   "outputs": [
    {
     "data": {
      "text/plain": [
       "array(['X0', 'X1', 'X2', 'X3', 'X4', 'X5', 'X6', 'X8'], dtype=object)"
      ]
     },
     "execution_count": 6,
     "metadata": {},
     "output_type": "execute_result"
    }
   ],
   "source": [
    "cols_cat = dt_all_cleaned.drop([\"ID\", \"y\", \"IsTrainTest\"], axis = 1).select_dtypes(include = ['object']).columns.values\n",
    "cols_cat"
   ]
  },
  {
   "cell_type": "code",
   "execution_count": 7,
   "metadata": {
    "collapsed": true
   },
   "outputs": [],
   "source": [
    "int_outlierMarker_cat = getOutlierMarker(dt_all_cleaned[cols_cat])"
   ]
  },
  {
   "cell_type": "markdown",
   "metadata": {},
   "source": [
    "#### 4.1.2 OutlierMarker_Int"
   ]
  },
  {
   "cell_type": "code",
   "execution_count": 8,
   "metadata": {},
   "outputs": [
    {
     "data": {
      "text/plain": [
       "array(['X10', 'single_train_dup_train_X11', 'X12', 'X13', 'X14',\n",
       "       'dup_test_X15', 'X16', 'dup_train_X17', 'X18', 'X19'], dtype=object)"
      ]
     },
     "execution_count": 8,
     "metadata": {},
     "output_type": "execute_result"
    }
   ],
   "source": [
    "cols_int = dt_all_cleaned.drop([\"ID\", \"y\", \"IsTrainTest\", \"IsDupRow_All\", \"IsDupRow_Cat\", \"IsDupRow_Int\"], axis = 1).select_dtypes(include = ['int64']).columns.values\n",
    "cols_int[:10]"
   ]
  },
  {
   "cell_type": "code",
   "execution_count": 9,
   "metadata": {
    "collapsed": true
   },
   "outputs": [],
   "source": [
    "int_outlierMarker_int = getOutlierMarker(dt_all_cleaned[cols_int])"
   ]
  },
  {
   "cell_type": "markdown",
   "metadata": {},
   "source": [
    "#### 4.1.3 OutlierMarker_All"
   ]
  },
  {
   "cell_type": "code",
   "execution_count": 10,
   "metadata": {},
   "outputs": [
    {
     "data": {
      "text/plain": [
       "array(['X0', 'X1', 'X2', 'X3', 'X4', 'X5', 'X6', 'X8', 'X10',\n",
       "       'single_train_dup_train_X11'], dtype=object)"
      ]
     },
     "execution_count": 10,
     "metadata": {},
     "output_type": "execute_result"
    }
   ],
   "source": [
    "cols_all = dt_all_cleaned.drop([\"ID\", \"y\", \"IsTrainTest\", \"IsDupRow_All\", \"IsDupRow_Cat\", \"IsDupRow_Int\"], axis = 1).columns.values\n",
    "cols_all[:10]"
   ]
  },
  {
   "cell_type": "code",
   "execution_count": 11,
   "metadata": {
    "collapsed": true
   },
   "outputs": [],
   "source": [
    "int_outlierMarker_all = getOutlierMarker(dt_all_cleaned[cols_all])"
   ]
  },
  {
   "cell_type": "markdown",
   "metadata": {},
   "source": [
    "#### 4.1.4 OutlierMarker_X0"
   ]
  },
  {
   "cell_type": "code",
   "execution_count": 12,
   "metadata": {
    "collapsed": true
   },
   "outputs": [],
   "source": [
    "cols_X0 = \"X0\"\n",
    "int_outlierMarker_x0 = getOutlierMarker(dt_all_cleaned[cols_X0].to_frame())"
   ]
  },
  {
   "cell_type": "code",
   "execution_count": 13,
   "metadata": {
    "collapsed": true
   },
   "outputs": [],
   "source": [
    "dt_all_eng.loc[:, \"FeatEng_OutlierMarker_Cat\"] = int_outlierMarker_cat\n",
    "dt_all_eng.loc[:, \"FeatEng_OutlierMarker_Int\"] = int_outlierMarker_int\n",
    "dt_all_eng.loc[:, \"FeatEng_OutlierMarker_All\"] = int_outlierMarker_all\n",
    "dt_all_eng.loc[:, \"FeatEng_OutlierMarker_X0\"] = int_outlierMarker_x0"
   ]
  },
  {
   "cell_type": "code",
   "execution_count": 14,
   "metadata": {},
   "outputs": [
    {
     "data": {
      "text/html": [
       "<div>\n",
       "<style>\n",
       "    .dataframe thead tr:only-child th {\n",
       "        text-align: right;\n",
       "    }\n",
       "\n",
       "    .dataframe thead th {\n",
       "        text-align: left;\n",
       "    }\n",
       "\n",
       "    .dataframe tbody tr th {\n",
       "        vertical-align: top;\n",
       "    }\n",
       "</style>\n",
       "<table border=\"1\" class=\"dataframe\">\n",
       "  <thead>\n",
       "    <tr style=\"text-align: right;\">\n",
       "      <th></th>\n",
       "      <th>ID</th>\n",
       "      <th>y</th>\n",
       "      <th>X10</th>\n",
       "      <th>single_train_dup_train_X11</th>\n",
       "      <th>X12</th>\n",
       "      <th>X13</th>\n",
       "      <th>X14</th>\n",
       "      <th>dup_test_X15</th>\n",
       "      <th>X16</th>\n",
       "      <th>dup_train_X17</th>\n",
       "      <th>...</th>\n",
       "      <th>Encode_BinaryX2</th>\n",
       "      <th>Encode_BinaryX3</th>\n",
       "      <th>Encode_BinaryX4</th>\n",
       "      <th>Encode_BinaryX5</th>\n",
       "      <th>Encode_BinaryX6</th>\n",
       "      <th>Encode_BinaryX8</th>\n",
       "      <th>FeatEng_OutlierMarker_Cat</th>\n",
       "      <th>FeatEng_OutlierMarker_Int</th>\n",
       "      <th>FeatEng_OutlierMarker_All</th>\n",
       "      <th>FeatEng_OutlierMarker_X0</th>\n",
       "    </tr>\n",
       "  </thead>\n",
       "  <tbody>\n",
       "    <tr>\n",
       "      <th>0</th>\n",
       "      <td>0</td>\n",
       "      <td>130.81</td>\n",
       "      <td>0</td>\n",
       "      <td>0</td>\n",
       "      <td>0</td>\n",
       "      <td>1</td>\n",
       "      <td>0</td>\n",
       "      <td>0</td>\n",
       "      <td>0</td>\n",
       "      <td>0</td>\n",
       "      <td>...</td>\n",
       "      <td>6</td>\n",
       "      <td>1</td>\n",
       "      <td>1</td>\n",
       "      <td>11</td>\n",
       "      <td>10</td>\n",
       "      <td>18</td>\n",
       "      <td>1.0</td>\n",
       "      <td>271.0</td>\n",
       "      <td>272.0</td>\n",
       "      <td>0.0</td>\n",
       "    </tr>\n",
       "    <tr>\n",
       "      <th>1</th>\n",
       "      <td>6</td>\n",
       "      <td>88.53</td>\n",
       "      <td>0</td>\n",
       "      <td>0</td>\n",
       "      <td>0</td>\n",
       "      <td>0</td>\n",
       "      <td>0</td>\n",
       "      <td>0</td>\n",
       "      <td>0</td>\n",
       "      <td>0</td>\n",
       "      <td>...</td>\n",
       "      <td>44</td>\n",
       "      <td>4</td>\n",
       "      <td>1</td>\n",
       "      <td>8</td>\n",
       "      <td>2</td>\n",
       "      <td>18</td>\n",
       "      <td>2.0</td>\n",
       "      <td>292.0</td>\n",
       "      <td>294.0</td>\n",
       "      <td>0.0</td>\n",
       "    </tr>\n",
       "    <tr>\n",
       "      <th>2</th>\n",
       "      <td>7</td>\n",
       "      <td>76.26</td>\n",
       "      <td>0</td>\n",
       "      <td>0</td>\n",
       "      <td>0</td>\n",
       "      <td>0</td>\n",
       "      <td>0</td>\n",
       "      <td>0</td>\n",
       "      <td>0</td>\n",
       "      <td>1</td>\n",
       "      <td>...</td>\n",
       "      <td>0</td>\n",
       "      <td>6</td>\n",
       "      <td>1</td>\n",
       "      <td>3</td>\n",
       "      <td>10</td>\n",
       "      <td>3</td>\n",
       "      <td>1.0</td>\n",
       "      <td>266.0</td>\n",
       "      <td>267.0</td>\n",
       "      <td>0.0</td>\n",
       "    </tr>\n",
       "    <tr>\n",
       "      <th>3</th>\n",
       "      <td>9</td>\n",
       "      <td>80.62</td>\n",
       "      <td>0</td>\n",
       "      <td>0</td>\n",
       "      <td>0</td>\n",
       "      <td>0</td>\n",
       "      <td>0</td>\n",
       "      <td>0</td>\n",
       "      <td>0</td>\n",
       "      <td>0</td>\n",
       "      <td>...</td>\n",
       "      <td>0</td>\n",
       "      <td>5</td>\n",
       "      <td>1</td>\n",
       "      <td>3</td>\n",
       "      <td>2</td>\n",
       "      <td>1</td>\n",
       "      <td>3.0</td>\n",
       "      <td>271.0</td>\n",
       "      <td>274.0</td>\n",
       "      <td>0.0</td>\n",
       "    </tr>\n",
       "    <tr>\n",
       "      <th>4</th>\n",
       "      <td>13</td>\n",
       "      <td>78.02</td>\n",
       "      <td>0</td>\n",
       "      <td>0</td>\n",
       "      <td>0</td>\n",
       "      <td>0</td>\n",
       "      <td>0</td>\n",
       "      <td>0</td>\n",
       "      <td>0</td>\n",
       "      <td>0</td>\n",
       "      <td>...</td>\n",
       "      <td>0</td>\n",
       "      <td>5</td>\n",
       "      <td>1</td>\n",
       "      <td>31</td>\n",
       "      <td>0</td>\n",
       "      <td>21</td>\n",
       "      <td>2.0</td>\n",
       "      <td>275.0</td>\n",
       "      <td>277.0</td>\n",
       "      <td>0.0</td>\n",
       "    </tr>\n",
       "  </tbody>\n",
       "</table>\n",
       "<p>5 rows × 612 columns</p>\n",
       "</div>"
      ],
      "text/plain": [
       "   ID       y  X10  single_train_dup_train_X11  X12  X13  X14  dup_test_X15  \\\n",
       "0   0  130.81    0                           0    0    1    0             0   \n",
       "1   6   88.53    0                           0    0    0    0             0   \n",
       "2   7   76.26    0                           0    0    0    0             0   \n",
       "3   9   80.62    0                           0    0    0    0             0   \n",
       "4  13   78.02    0                           0    0    0    0             0   \n",
       "\n",
       "   X16  dup_train_X17            ...             Encode_BinaryX2  \\\n",
       "0    0              0            ...                           6   \n",
       "1    0              0            ...                          44   \n",
       "2    0              1            ...                           0   \n",
       "3    0              0            ...                           0   \n",
       "4    0              0            ...                           0   \n",
       "\n",
       "   Encode_BinaryX3  Encode_BinaryX4  Encode_BinaryX5  Encode_BinaryX6  \\\n",
       "0                1                1               11               10   \n",
       "1                4                1                8                2   \n",
       "2                6                1                3               10   \n",
       "3                5                1                3                2   \n",
       "4                5                1               31                0   \n",
       "\n",
       "   Encode_BinaryX8  FeatEng_OutlierMarker_Cat  FeatEng_OutlierMarker_Int  \\\n",
       "0               18                        1.0                      271.0   \n",
       "1               18                        2.0                      292.0   \n",
       "2                3                        1.0                      266.0   \n",
       "3                1                        3.0                      271.0   \n",
       "4               21                        2.0                      275.0   \n",
       "\n",
       "   FeatEng_OutlierMarker_All  FeatEng_OutlierMarker_X0  \n",
       "0                      272.0                       0.0  \n",
       "1                      294.0                       0.0  \n",
       "2                      267.0                       0.0  \n",
       "3                      274.0                       0.0  \n",
       "4                      277.0                       0.0  \n",
       "\n",
       "[5 rows x 612 columns]"
      ]
     },
     "execution_count": 14,
     "metadata": {},
     "output_type": "execute_result"
    }
   ],
   "source": [
    "dt_all_eng.head()"
   ]
  },
  {
   "cell_type": "markdown",
   "metadata": {},
   "source": [
    "### 4.2 Sum of binary cols"
   ]
  },
  {
   "cell_type": "markdown",
   "metadata": {},
   "source": [
    "#### 4.2.1 Sum of all binary cols"
   ]
  },
  {
   "cell_type": "code",
   "execution_count": 15,
   "metadata": {
    "collapsed": true
   },
   "outputs": [],
   "source": [
    "sum_binary_all = dt_all_eng[cols_raw].sum(axis = 1)"
   ]
  },
  {
   "cell_type": "markdown",
   "metadata": {},
   "source": [
    "#### 4.2.2 Sum of correlation-important binary cols"
   ]
  },
  {
   "cell_type": "code",
   "execution_count": 16,
   "metadata": {
    "collapsed": true
   },
   "outputs": [],
   "source": [
    "def corBin_Contin(dt, cols, method = \"pointbiserialr\"):\n",
    "    dt_binary_pointbiserialr = pd.DataFrame()\n",
    "    for col in cols:\n",
    "        if method == \"spearmanr\":\n",
    "            cor_pb = stats.spearmanr(dt[col].values, dt.y.values)\n",
    "        else:\n",
    "            cor_pb = stats.pointbiserialr(dt[col].values, dt.y.values)\n",
    "        dt_binary_pointbiserialr = pd.concat([dt_binary_pointbiserialr\n",
    "                                             , pd.DataFrame({\"Col\": col\n",
    "                                                            , \"Cor\": np.abs([cor_pb.correlation])\n",
    "                                                            , \"P\": [cor_pb.pvalue]})])\n",
    "    return dt_binary_pointbiserialr.sort_values(\"Cor\", ascending = False)"
   ]
  },
  {
   "cell_type": "code",
   "execution_count": 17,
   "metadata": {},
   "outputs": [
    {
     "name": "stderr",
     "output_type": "stream",
     "text": [
      "/usr/local/lib/python3.5/dist-packages/scipy/stats/stats.py:3021: RuntimeWarning: invalid value encountered in double_scalars\n",
      "  r = r_num / r_den\n",
      "/home/noahhhhhh/Env/deepNoah/lib/python3.5/site-packages/ipykernel_launcher.py:10: RuntimeWarning: invalid value encountered in absolute\n",
      "  # Remove the CWD from sys.path while we load stuff.\n"
     ]
    }
   ],
   "source": [
    "dt_corBin_Cotin = corBin_Contin(dt_all_eng.loc[dt_all_eng[\"IsTrainTest\"] == \"train\"], cols_raw)"
   ]
  },
  {
   "cell_type": "code",
   "execution_count": 18,
   "metadata": {},
   "outputs": [
    {
     "name": "stderr",
     "output_type": "stream",
     "text": [
      "/usr/local/lib/python3.5/dist-packages/numpy/lib/function_base.py:3003: RuntimeWarning: invalid value encountered in true_divide\n",
      "  c /= stddev[:, None]\n",
      "/usr/local/lib/python3.5/dist-packages/numpy/lib/function_base.py:3004: RuntimeWarning: invalid value encountered in true_divide\n",
      "  c /= stddev[None, :]\n",
      "/usr/local/lib/python3.5/dist-packages/scipy/stats/_distn_infrastructure.py:879: RuntimeWarning: invalid value encountered in greater\n",
      "  return (self.a < x) & (x < self.b)\n",
      "/usr/local/lib/python3.5/dist-packages/scipy/stats/_distn_infrastructure.py:879: RuntimeWarning: invalid value encountered in less\n",
      "  return (self.a < x) & (x < self.b)\n",
      "/usr/local/lib/python3.5/dist-packages/scipy/stats/_distn_infrastructure.py:1818: RuntimeWarning: invalid value encountered in less_equal\n",
      "  cond2 = cond0 & (x <= self.a)\n",
      "/home/noahhhhhh/Env/deepNoah/lib/python3.5/site-packages/ipykernel_launcher.py:10: RuntimeWarning: invalid value encountered in absolute\n",
      "  # Remove the CWD from sys.path while we load stuff.\n"
     ]
    }
   ],
   "source": [
    "dt_corBin_Cotin_spear = corBin_Contin(dt_all_eng.loc[dt_all_eng[\"IsTrainTest\"] == \"train\"], cols_raw, method = \"spearmanr\")"
   ]
  },
  {
   "cell_type": "code",
   "execution_count": 19,
   "metadata": {
    "collapsed": true
   },
   "outputs": [],
   "source": [
    "cols_binary_cor_02_10 = dt_corBin_Cotin_spear.loc[dt_corBin_Cotin_spear[\"Cor\"] >= .2][\"Col\"].values\n",
    "cols_binary_cor_01_02 = dt_corBin_Cotin_spear.loc[(dt_corBin_Cotin_spear[\"Cor\"] >= .1) & (dt_corBin_Cotin_spear[\"Cor\"] < .2)][\"Col\"].values\n",
    "cols_binary_cor_005_01 = dt_corBin_Cotin_spear.loc[(dt_corBin_Cotin_spear[\"Cor\"] >= .05) & (dt_corBin_Cotin_spear[\"Cor\"] < .1)][\"Col\"].values"
   ]
  },
  {
   "cell_type": "code",
   "execution_count": 20,
   "metadata": {
    "collapsed": true
   },
   "outputs": [],
   "source": [
    "cols_binary_important_3 = dt_corBin_Cotin[\"Col\"].values[:3]\n",
    "cols_binary_important_5 = dt_corBin_Cotin[\"Col\"].values[:5]\n",
    "cols_binary_important_10 = dt_corBin_Cotin[\"Col\"].values[:10]\n",
    "cols_binary_important_20 = dt_corBin_Cotin[\"Col\"].values[:20]\n",
    "cols_binary_important_50 = dt_corBin_Cotin[\"Col\"].values[:50]"
   ]
  },
  {
   "cell_type": "code",
   "execution_count": 21,
   "metadata": {},
   "outputs": [],
   "source": [
    "sum_binary_important_3 = dt_all_eng[cols_binary_important_3].sum(axis = 1)\n",
    "sum_binary_important_5 = dt_all_eng[cols_binary_important_5].sum(axis = 1)\n",
    "sum_binary_important_10 = dt_all_eng[cols_binary_important_10].sum(axis = 1)\n",
    "sum_binary_important_20 = dt_all_eng[cols_binary_important_20].sum(axis = 1)\n",
    "sum_binary_important_50 = dt_all_eng[cols_binary_important_50].sum(axis = 1)\n",
    "sum_binary_important_cor_02_10 = dt_all_eng[cols_binary_cor_02_10].sum(axis = 1)\n",
    "sum_binary_important_cor_01_02 = dt_all_eng[cols_binary_cor_01_02].sum(axis = 1)\n",
    "sum_binary_important_cor_005_01 = dt_all_eng[cols_binary_cor_005_01].sum(axis = 1)"
   ]
  },
  {
   "cell_type": "code",
   "execution_count": 22,
   "metadata": {
    "collapsed": true
   },
   "outputs": [],
   "source": [
    "# SumBin_All\n",
    "dt_all_eng.loc[:, \"FeatEng_SumBin_All\"] = sum_binary_all\n",
    "# SumBin_Imp_X\n",
    "dt_all_eng.loc[:, \"FeatEng_SumBin_Imp_3\"] = sum_binary_important_3\n",
    "dt_all_eng.loc[:, \"FeatEng_SumBin_Imp_5\"] = sum_binary_important_5\n",
    "dt_all_eng.loc[:, \"FeatEng_SumBin_Imp_10\"] = sum_binary_important_10\n",
    "dt_all_eng.loc[:, \"FeatEng_SumBin_Imp_20\"] = sum_binary_important_20\n",
    "dt_all_eng.loc[:, \"FeatEng_SumBin_Imp_50\"] = sum_binary_important_50\n",
    "dt_all_eng.loc[:, \"FeatEng_SumBin_Cor_02_10\"] = sum_binary_important_cor_02_10\n",
    "dt_all_eng.loc[:, \"FeatEng_SumBin_Cor_01_02\"] = sum_binary_important_cor_01_02\n",
    "dt_all_eng.loc[:, \"FeatEng_SumBin_Cor_005_01\"] = sum_binary_important_cor_005_01"
   ]
  },
  {
   "cell_type": "markdown",
   "metadata": {},
   "source": [
    "### 4.3 Dimension reduction"
   ]
  },
  {
   "cell_type": "code",
   "execution_count": 23,
   "metadata": {},
   "outputs": [
    {
     "data": {
      "text/plain": [
       "(8418, 618)"
      ]
     },
     "execution_count": 23,
     "metadata": {},
     "output_type": "execute_result"
    }
   ],
   "source": [
    "# range\n",
    "pp_range = preprocessing.MinMaxScaler()\n",
    "mx_range = pp_range.fit_transform(dt_all_eng.drop([\"ID\", \"y\", \"IsTrainTest\"], axis = 1))\n",
    "dt_all_eng = pd.DataFrame(mx_range, columns = dt_all_eng.drop([\"ID\", \"y\", \"IsTrainTest\"], axis = 1).columns.values)\n",
    "dt_all_eng.shape"
   ]
  },
  {
   "cell_type": "code",
   "execution_count": 24,
   "metadata": {
    "collapsed": true
   },
   "outputs": [],
   "source": [
    "def featEng_dimRed(method, dt, n_component, cols, name_feature):\n",
    "    if method == \"PCA\":\n",
    "        dr = decomposition.PCA(n_components = n_component, random_state = 420)\n",
    "    elif method == \"ICA\":\n",
    "        dr = decomposition.FastICA(n_components = n_component, random_state = 420)\n",
    "    elif method == \"SVD\":\n",
    "        dr = decomposition.TruncatedSVD(n_components = n_component, random_state = 420)\n",
    "    elif method == \"FA\":\n",
    "        dr = decomposition.FactorAnalysis(n_components = n_component, random_state = 420)\n",
    "    elif method == \"TSNE\":\n",
    "        dr = manifold.TSNE(n_components = n_component, random_state = 420)\n",
    "    elif method == \"GRP\":\n",
    "        dr = random_projection.GaussianRandomProjection(n_components = n_component, eps = 0.1, random_state = 420)\n",
    "    elif method == \"SRP\":\n",
    "        dr = random_projection.SparseRandomProjection(n_components = n_component, dense_output = True, random_state = 420)\n",
    "    mx = dr.fit_transform(dt[cols])\n",
    "    dt = dt.join(pd.DataFrame(mx, columns = [\"DR_\" + method + \"_\" + name_feature + \"_\" + str(i) for i in range(1, n_component + 1)]))\n",
    "    \n",
    "    return dt"
   ]
  },
  {
   "cell_type": "markdown",
   "metadata": {},
   "source": [
    "#### 4.3.1 PCA"
   ]
  },
  {
   "cell_type": "markdown",
   "metadata": {},
   "source": [
    "##### 4.3.1.1 Raw binary cols"
   ]
  },
  {
   "cell_type": "code",
   "execution_count": 25,
   "metadata": {},
   "outputs": [
    {
     "data": {
      "text/plain": [
       "(8418, 628)"
      ]
     },
     "execution_count": 25,
     "metadata": {},
     "output_type": "execute_result"
    }
   ],
   "source": [
    "dt_all_eng = featEng_dimRed(\"PCA\", dt_all_eng, 10, cols_raw, \"Raw_Bin\")\n",
    "dt_all_eng.shape"
   ]
  },
  {
   "cell_type": "markdown",
   "metadata": {},
   "source": [
    "##### 4.3.1.2 Encoded cat cols"
   ]
  },
  {
   "cell_type": "code",
   "execution_count": 26,
   "metadata": {},
   "outputs": [
    {
     "data": {
      "text/plain": [
       "(8418, 638)"
      ]
     },
     "execution_count": 26,
     "metadata": {},
     "output_type": "execute_result"
    }
   ],
   "source": [
    "cols_encode = dt_all_eng.filter(regex = \"Encode_\").columns.values\n",
    "dt_all_eng = featEng_dimRed(\"PCA\", dt_all_eng, 10, cols_encode, \"Encoded_Cat\")\n",
    "dt_all_eng.shape"
   ]
  },
  {
   "cell_type": "markdown",
   "metadata": {},
   "source": [
    "##### 4.3.1.3 Feature engineed cols"
   ]
  },
  {
   "cell_type": "code",
   "execution_count": 27,
   "metadata": {},
   "outputs": [
    {
     "data": {
      "text/plain": [
       "(8418, 641)"
      ]
     },
     "execution_count": 27,
     "metadata": {},
     "output_type": "execute_result"
    }
   ],
   "source": [
    "cols_featEng = dt_all_eng.filter(regex = \"FeatEng_\").columns.values\n",
    "dt_all_eng = featEng_dimRed(\"PCA\", dt_all_eng, 3, cols_featEng, \"FeatEng\")\n",
    "dt_all_eng.shape"
   ]
  },
  {
   "cell_type": "markdown",
   "metadata": {},
   "source": [
    "##### 4.3.1.4 All cols"
   ]
  },
  {
   "cell_type": "code",
   "execution_count": 28,
   "metadata": {},
   "outputs": [
    {
     "data": {
      "text/plain": [
       "(8418, 656)"
      ]
     },
     "execution_count": 28,
     "metadata": {},
     "output_type": "execute_result"
    }
   ],
   "source": [
    "cols_all = dt_all_eng.filter(regex = \"^((?!DR).)*$\").columns.values\n",
    "dt_all_eng = featEng_dimRed(\"PCA\", dt_all_eng, 15, cols_all, \"All\")\n",
    "dt_all_eng.shape"
   ]
  },
  {
   "cell_type": "markdown",
   "metadata": {},
   "source": [
    "#### 4.3.2 ICA"
   ]
  },
  {
   "cell_type": "markdown",
   "metadata": {},
   "source": [
    "##### 4.3.2.1 Raw binary cols"
   ]
  },
  {
   "cell_type": "code",
   "execution_count": 29,
   "metadata": {},
   "outputs": [
    {
     "name": "stderr",
     "output_type": "stream",
     "text": [
      "/usr/local/lib/python3.5/dist-packages/sklearn/decomposition/fastica_.py:116: UserWarning: FastICA did not converge. Consider increasing tolerance or the maximum number of iterations.\n",
      "  warnings.warn('FastICA did not converge. Consider increasing '\n"
     ]
    },
    {
     "data": {
      "text/plain": [
       "(8418, 666)"
      ]
     },
     "execution_count": 29,
     "metadata": {},
     "output_type": "execute_result"
    }
   ],
   "source": [
    "dt_all_eng = featEng_dimRed(\"ICA\", dt_all_eng, 10, cols_raw, \"Raw_Bin\")\n",
    "dt_all_eng.shape"
   ]
  },
  {
   "cell_type": "markdown",
   "metadata": {},
   "source": [
    "##### 4.3.2.2 Encoded cat cols"
   ]
  },
  {
   "cell_type": "code",
   "execution_count": 30,
   "metadata": {},
   "outputs": [
    {
     "data": {
      "text/plain": [
       "(8418, 676)"
      ]
     },
     "execution_count": 30,
     "metadata": {},
     "output_type": "execute_result"
    }
   ],
   "source": [
    "cols_encode = dt_all_eng.filter(regex = \"Encode_\").columns.values\n",
    "dt_all_eng = featEng_dimRed(\"ICA\", dt_all_eng, 10, cols_encode, \"Encoded_Cat\")\n",
    "dt_all_eng.shape"
   ]
  },
  {
   "cell_type": "markdown",
   "metadata": {},
   "source": [
    "##### 4.3.2.3 Feature engineed cols"
   ]
  },
  {
   "cell_type": "code",
   "execution_count": 31,
   "metadata": {},
   "outputs": [
    {
     "data": {
      "text/plain": [
       "(8418, 679)"
      ]
     },
     "execution_count": 31,
     "metadata": {},
     "output_type": "execute_result"
    }
   ],
   "source": [
    "cols_featEng = dt_all_eng.filter(regex = \"FeatEng_\").columns.values\n",
    "dt_all_eng = featEng_dimRed(\"ICA\", dt_all_eng, 3, cols_featEng, \"FeatEng\")\n",
    "dt_all_eng.shape"
   ]
  },
  {
   "cell_type": "markdown",
   "metadata": {},
   "source": [
    "##### 4.3.2.4 All cols"
   ]
  },
  {
   "cell_type": "code",
   "execution_count": 32,
   "metadata": {},
   "outputs": [
    {
     "data": {
      "text/plain": [
       "(8418, 694)"
      ]
     },
     "execution_count": 32,
     "metadata": {},
     "output_type": "execute_result"
    }
   ],
   "source": [
    "cols_all = dt_all_eng.filter(regex = \"^((?!DR).)*$\").columns.values\n",
    "dt_all_eng = featEng_dimRed(\"ICA\", dt_all_eng, 15, cols_all, \"All\")\n",
    "dt_all_eng.shape"
   ]
  },
  {
   "cell_type": "markdown",
   "metadata": {},
   "source": [
    "#### 4.3.3 SVD"
   ]
  },
  {
   "cell_type": "markdown",
   "metadata": {},
   "source": [
    "##### 4.3.3.1 Raw binary cols"
   ]
  },
  {
   "cell_type": "code",
   "execution_count": 33,
   "metadata": {},
   "outputs": [
    {
     "data": {
      "text/plain": [
       "(8418, 704)"
      ]
     },
     "execution_count": 33,
     "metadata": {},
     "output_type": "execute_result"
    }
   ],
   "source": [
    "dt_all_eng = featEng_dimRed(\"SVD\", dt_all_eng, 10, cols_raw, \"Raw_Bin\")\n",
    "dt_all_eng.shape"
   ]
  },
  {
   "cell_type": "markdown",
   "metadata": {},
   "source": [
    "##### 4.3.3.2 Encoded cat cols"
   ]
  },
  {
   "cell_type": "code",
   "execution_count": 34,
   "metadata": {},
   "outputs": [
    {
     "data": {
      "text/plain": [
       "(8418, 714)"
      ]
     },
     "execution_count": 34,
     "metadata": {},
     "output_type": "execute_result"
    }
   ],
   "source": [
    "cols_encode = dt_all_eng.filter(regex = \"Encode_\").columns.values\n",
    "dt_all_eng = featEng_dimRed(\"SVD\", dt_all_eng, 10, cols_encode, \"Encoded_Cat\")\n",
    "dt_all_eng.shape"
   ]
  },
  {
   "cell_type": "markdown",
   "metadata": {},
   "source": [
    "##### 4.3.3.3 Feature engineed cols"
   ]
  },
  {
   "cell_type": "code",
   "execution_count": 35,
   "metadata": {},
   "outputs": [
    {
     "data": {
      "text/plain": [
       "(8418, 717)"
      ]
     },
     "execution_count": 35,
     "metadata": {},
     "output_type": "execute_result"
    }
   ],
   "source": [
    "cols_featEng = dt_all_eng.filter(regex = \"FeatEng_\").columns.values\n",
    "dt_all_eng = featEng_dimRed(\"SVD\", dt_all_eng, 3, cols_featEng, \"FeatEng\")\n",
    "dt_all_eng.shape"
   ]
  },
  {
   "cell_type": "markdown",
   "metadata": {},
   "source": [
    "##### 4.3.3.4 All cols"
   ]
  },
  {
   "cell_type": "code",
   "execution_count": 36,
   "metadata": {},
   "outputs": [
    {
     "data": {
      "text/plain": [
       "(8418, 732)"
      ]
     },
     "execution_count": 36,
     "metadata": {},
     "output_type": "execute_result"
    }
   ],
   "source": [
    "cols_all = dt_all_eng.filter(regex = \"^((?!DR).)*$\").columns.values\n",
    "dt_all_eng = featEng_dimRed(\"SVD\", dt_all_eng, 15, cols_all, \"All\")\n",
    "dt_all_eng.shape"
   ]
  },
  {
   "cell_type": "markdown",
   "metadata": {},
   "source": [
    "#### 4.3.4 FA"
   ]
  },
  {
   "cell_type": "markdown",
   "metadata": {},
   "source": [
    "##### 4.3.4.1 Raw binary cols"
   ]
  },
  {
   "cell_type": "code",
   "execution_count": 37,
   "metadata": {},
   "outputs": [
    {
     "data": {
      "text/plain": [
       "(8418, 742)"
      ]
     },
     "execution_count": 37,
     "metadata": {},
     "output_type": "execute_result"
    }
   ],
   "source": [
    "dt_all_eng = featEng_dimRed(\"FA\", dt_all_eng, 10, cols_raw, \"Raw_Bin\")\n",
    "dt_all_eng.shape"
   ]
  },
  {
   "cell_type": "markdown",
   "metadata": {},
   "source": [
    "##### 4.3.4.2 Encoded cat cols"
   ]
  },
  {
   "cell_type": "code",
   "execution_count": 38,
   "metadata": {},
   "outputs": [
    {
     "data": {
      "text/plain": [
       "(8418, 752)"
      ]
     },
     "execution_count": 38,
     "metadata": {},
     "output_type": "execute_result"
    }
   ],
   "source": [
    "cols_encode = dt_all_eng.filter(regex = \"Encode_\").columns.values\n",
    "dt_all_eng = featEng_dimRed(\"FA\", dt_all_eng, 10, cols_encode, \"Encoded_Cat\")\n",
    "dt_all_eng.shape"
   ]
  },
  {
   "cell_type": "markdown",
   "metadata": {},
   "source": [
    "##### 4.3.4.3 Feature engineed cols"
   ]
  },
  {
   "cell_type": "code",
   "execution_count": 39,
   "metadata": {},
   "outputs": [
    {
     "data": {
      "text/plain": [
       "(8418, 755)"
      ]
     },
     "execution_count": 39,
     "metadata": {},
     "output_type": "execute_result"
    }
   ],
   "source": [
    "cols_featEng = dt_all_eng.filter(regex = \"FeatEng_\").columns.values\n",
    "dt_all_eng = featEng_dimRed(\"FA\", dt_all_eng, 3, cols_featEng, \"FeatEng\")\n",
    "dt_all_eng.shape"
   ]
  },
  {
   "cell_type": "markdown",
   "metadata": {},
   "source": [
    "##### 4.3.4.4 All cols"
   ]
  },
  {
   "cell_type": "code",
   "execution_count": 40,
   "metadata": {},
   "outputs": [
    {
     "data": {
      "text/plain": [
       "(8418, 770)"
      ]
     },
     "execution_count": 40,
     "metadata": {},
     "output_type": "execute_result"
    }
   ],
   "source": [
    "cols_all = dt_all_eng.filter(regex = \"^((?!DR).)*$\").columns.values\n",
    "dt_all_eng = featEng_dimRed(\"FA\", dt_all_eng, 15, cols_all, \"All\")\n",
    "dt_all_eng.shape"
   ]
  },
  {
   "cell_type": "markdown",
   "metadata": {},
   "source": [
    "#### 4.3.5 tsne"
   ]
  },
  {
   "cell_type": "markdown",
   "metadata": {},
   "source": [
    "##### 4.3.5.1 Raw binary cols"
   ]
  },
  {
   "cell_type": "code",
   "execution_count": 41,
   "metadata": {},
   "outputs": [
    {
     "data": {
      "text/plain": [
       "(8418, 772)"
      ]
     },
     "execution_count": 41,
     "metadata": {},
     "output_type": "execute_result"
    }
   ],
   "source": [
    "dt_all_eng = featEng_dimRed(\"TSNE\", dt_all_eng, 2, cols_raw, \"Raw_Bin\")\n",
    "dt_all_eng.shape"
   ]
  },
  {
   "cell_type": "markdown",
   "metadata": {},
   "source": [
    "##### 4.3.5.2 Encoded cat cols"
   ]
  },
  {
   "cell_type": "code",
   "execution_count": 42,
   "metadata": {},
   "outputs": [
    {
     "data": {
      "text/plain": [
       "(8418, 774)"
      ]
     },
     "execution_count": 42,
     "metadata": {},
     "output_type": "execute_result"
    }
   ],
   "source": [
    "cols_encode = dt_all_eng.filter(regex = \"Encode_\").columns.values\n",
    "dt_all_eng = featEng_dimRed(\"TSNE\", dt_all_eng, 2, cols_encode, \"Encoded_Cat\")\n",
    "dt_all_eng.shape"
   ]
  },
  {
   "cell_type": "markdown",
   "metadata": {},
   "source": [
    "##### 4.3.5.3 Feature engineed cols"
   ]
  },
  {
   "cell_type": "code",
   "execution_count": 43,
   "metadata": {},
   "outputs": [
    {
     "data": {
      "text/plain": [
       "(8418, 776)"
      ]
     },
     "execution_count": 43,
     "metadata": {},
     "output_type": "execute_result"
    }
   ],
   "source": [
    "cols_featEng = dt_all_eng.filter(regex = \"FeatEng_\").columns.values\n",
    "dt_all_eng = featEng_dimRed(\"TSNE\", dt_all_eng, 2, cols_featEng, \"FeatEng\")\n",
    "dt_all_eng.shape"
   ]
  },
  {
   "cell_type": "markdown",
   "metadata": {},
   "source": [
    "##### 4.3.5.4 All cols"
   ]
  },
  {
   "cell_type": "code",
   "execution_count": 44,
   "metadata": {},
   "outputs": [
    {
     "data": {
      "text/plain": [
       "(8418, 778)"
      ]
     },
     "execution_count": 44,
     "metadata": {},
     "output_type": "execute_result"
    }
   ],
   "source": [
    "cols_all = dt_all_eng.filter(regex = \"^((?!DR).)*$\").columns.values\n",
    "dt_all_eng = featEng_dimRed(\"TSNE\", dt_all_eng, 2, cols_all, \"All\")\n",
    "dt_all_eng.shape"
   ]
  },
  {
   "cell_type": "markdown",
   "metadata": {},
   "source": [
    "#### 4.3.6 GRP"
   ]
  },
  {
   "cell_type": "markdown",
   "metadata": {},
   "source": [
    "##### 4.3.6.1 Raw binary cols"
   ]
  },
  {
   "cell_type": "code",
   "execution_count": 45,
   "metadata": {},
   "outputs": [
    {
     "data": {
      "text/plain": [
       "(8418, 788)"
      ]
     },
     "execution_count": 45,
     "metadata": {},
     "output_type": "execute_result"
    }
   ],
   "source": [
    "dt_all_eng = featEng_dimRed(\"GRP\", dt_all_eng, 10, cols_raw, \"Raw_Bin\")\n",
    "dt_all_eng.shape"
   ]
  },
  {
   "cell_type": "markdown",
   "metadata": {},
   "source": [
    "##### 4.3.6.2 Encoded cat cols"
   ]
  },
  {
   "cell_type": "code",
   "execution_count": 46,
   "metadata": {},
   "outputs": [
    {
     "data": {
      "text/plain": [
       "(8418, 798)"
      ]
     },
     "execution_count": 46,
     "metadata": {},
     "output_type": "execute_result"
    }
   ],
   "source": [
    "cols_encode = dt_all_eng.filter(regex = \"Encode_\").columns.values\n",
    "dt_all_eng = featEng_dimRed(\"GRP\", dt_all_eng, 10, cols_encode, \"Encoded_Cat\")\n",
    "dt_all_eng.shape"
   ]
  },
  {
   "cell_type": "markdown",
   "metadata": {},
   "source": [
    "##### 4.3.6.3 Feature engineed cols"
   ]
  },
  {
   "cell_type": "code",
   "execution_count": 47,
   "metadata": {},
   "outputs": [
    {
     "data": {
      "text/plain": [
       "(8418, 801)"
      ]
     },
     "execution_count": 47,
     "metadata": {},
     "output_type": "execute_result"
    }
   ],
   "source": [
    "cols_featEng = dt_all_eng.filter(regex = \"FeatEng_\").columns.values\n",
    "dt_all_eng = featEng_dimRed(\"GRP\", dt_all_eng, 3, cols_featEng, \"FeatEng\")\n",
    "dt_all_eng.shape"
   ]
  },
  {
   "cell_type": "markdown",
   "metadata": {},
   "source": [
    "##### 4.3.6.4 All cols"
   ]
  },
  {
   "cell_type": "code",
   "execution_count": 48,
   "metadata": {},
   "outputs": [
    {
     "data": {
      "text/plain": [
       "(8418, 816)"
      ]
     },
     "execution_count": 48,
     "metadata": {},
     "output_type": "execute_result"
    }
   ],
   "source": [
    "cols_all = dt_all_eng.filter(regex = \"^((?!DR).)*$\").columns.values\n",
    "dt_all_eng = featEng_dimRed(\"GRP\", dt_all_eng, 15, cols_all, \"All\")\n",
    "dt_all_eng.shape"
   ]
  },
  {
   "cell_type": "markdown",
   "metadata": {},
   "source": [
    "#### 4.3.7 SRP"
   ]
  },
  {
   "cell_type": "markdown",
   "metadata": {},
   "source": [
    "##### 4.3.7.1 Raw binary cols"
   ]
  },
  {
   "cell_type": "code",
   "execution_count": 49,
   "metadata": {},
   "outputs": [
    {
     "data": {
      "text/plain": [
       "(8418, 826)"
      ]
     },
     "execution_count": 49,
     "metadata": {},
     "output_type": "execute_result"
    }
   ],
   "source": [
    "dt_all_eng = featEng_dimRed(\"SRP\", dt_all_eng, 10, cols_raw, \"Raw_Bin\")\n",
    "dt_all_eng.shape"
   ]
  },
  {
   "cell_type": "markdown",
   "metadata": {},
   "source": [
    "##### 4.3.7.2 Encoded cat cols"
   ]
  },
  {
   "cell_type": "code",
   "execution_count": 50,
   "metadata": {},
   "outputs": [
    {
     "data": {
      "text/plain": [
       "(8418, 836)"
      ]
     },
     "execution_count": 50,
     "metadata": {},
     "output_type": "execute_result"
    }
   ],
   "source": [
    "cols_encode = dt_all_eng.filter(regex = \"Encode_\").columns.values\n",
    "dt_all_eng = featEng_dimRed(\"SRP\", dt_all_eng, 10, cols_encode, \"Encoded_Cat\")\n",
    "dt_all_eng.shape"
   ]
  },
  {
   "cell_type": "markdown",
   "metadata": {},
   "source": [
    "##### 4.3.7.3 Feature engineed cols"
   ]
  },
  {
   "cell_type": "code",
   "execution_count": 51,
   "metadata": {},
   "outputs": [
    {
     "data": {
      "text/plain": [
       "(8418, 839)"
      ]
     },
     "execution_count": 51,
     "metadata": {},
     "output_type": "execute_result"
    }
   ],
   "source": [
    "cols_featEng = dt_all_eng.filter(regex = \"FeatEng_\").columns.values\n",
    "dt_all_eng = featEng_dimRed(\"SRP\", dt_all_eng, 3, cols_featEng, \"FeatEng\")\n",
    "dt_all_eng.shape"
   ]
  },
  {
   "cell_type": "markdown",
   "metadata": {},
   "source": [
    "##### 4.3.7.4 All cols"
   ]
  },
  {
   "cell_type": "code",
   "execution_count": 52,
   "metadata": {},
   "outputs": [
    {
     "data": {
      "text/plain": [
       "(8418, 854)"
      ]
     },
     "execution_count": 52,
     "metadata": {},
     "output_type": "execute_result"
    }
   ],
   "source": [
    "cols_all = dt_all_eng.filter(regex = \"^((?!DR).)*$\").columns.values\n",
    "dt_all_eng = featEng_dimRed(\"SRP\", dt_all_eng, 15, cols_all, \"All\")\n",
    "dt_all_eng.shape"
   ]
  },
  {
   "cell_type": "markdown",
   "metadata": {},
   "source": [
    "### 4.5 Feature Interaction"
   ]
  },
  {
   "cell_type": "code",
   "execution_count": 125,
   "metadata": {},
   "outputs": [
    {
     "name": "stderr",
     "output_type": "stream",
     "text": [
      "/usr/local/lib/python3.5/dist-packages/numpy/lib/function_base.py:3003: RuntimeWarning: invalid value encountered in true_divide\n",
      "  c /= stddev[:, None]\n",
      "/usr/local/lib/python3.5/dist-packages/numpy/lib/function_base.py:3004: RuntimeWarning: invalid value encountered in true_divide\n",
      "  c /= stddev[None, :]\n",
      "/usr/local/lib/python3.5/dist-packages/scipy/stats/_distn_infrastructure.py:879: RuntimeWarning: invalid value encountered in greater\n",
      "  return (self.a < x) & (x < self.b)\n",
      "/usr/local/lib/python3.5/dist-packages/scipy/stats/_distn_infrastructure.py:879: RuntimeWarning: invalid value encountered in less\n",
      "  return (self.a < x) & (x < self.b)\n",
      "/usr/local/lib/python3.5/dist-packages/scipy/stats/_distn_infrastructure.py:1818: RuntimeWarning: invalid value encountered in less_equal\n",
      "  cond2 = cond0 & (x <= self.a)\n"
     ]
    }
   ],
   "source": [
    "dt_interest = dt_all_eng[cols_raw]\n",
    "dt_fi_2way = pd.DataFrame()\n",
    "seen = []\n",
    "for c1 in cols_raw:\n",
    "    for c2 in cols_raw:\n",
    "        if c1 != c2:\n",
    "            seen.append((c1, c2))\n",
    "            if (c2, c1) not in seen:\n",
    "                isTrain = dt_all_cleaned[\"IsTrainTest\"] == \"train\"\n",
    "                val_c1 = dt_interest[c1].values.astype(\"int64\")\n",
    "                val_c2 = dt_interest[c2].values.astype(\"int64\")\n",
    "                y_train = dt_all_cleaned.y.values[isTrain]\n",
    "                # XOR\n",
    "                XOR = val_c1 ^ val_c2\n",
    "                cor_c1 = abs(stats.spearmanr(val_c1[isTrain], y_train).correlation)\n",
    "                cor_c2 = abs(stats.spearmanr(val_c2[isTrain], y_train).correlation)\n",
    "                cor_XOR = abs(stats.spearmanr(XOR[isTrain], y_train).correlation)\n",
    "                # constant\n",
    "                if cor_XOR > .3:\n",
    "                    const = 1.1\n",
    "                elif (cor_XOR > .2) & (cor_XOR <= .3):\n",
    "                    const = 1.3\n",
    "                else:\n",
    "                    const = 1.5\n",
    "                if cor_XOR > max(cor_c1, cor_c2) * const:\n",
    "                    dt_fi_2way.loc[:, \"FeatEng_FI_2way_XOR_\" + c1 + \"_\" + c2] = XOR"
   ]
  },
  {
   "cell_type": "code",
   "execution_count": 126,
   "metadata": {},
   "outputs": [
    {
     "data": {
      "text/html": [
       "<div>\n",
       "<style>\n",
       "    .dataframe thead tr:only-child th {\n",
       "        text-align: right;\n",
       "    }\n",
       "\n",
       "    .dataframe thead th {\n",
       "        text-align: left;\n",
       "    }\n",
       "\n",
       "    .dataframe tbody tr th {\n",
       "        vertical-align: top;\n",
       "    }\n",
       "</style>\n",
       "<table border=\"1\" class=\"dataframe\">\n",
       "  <thead>\n",
       "    <tr style=\"text-align: right;\">\n",
       "      <th></th>\n",
       "      <th>FeatEng_FI_2way_XOR_X12_X178</th>\n",
       "      <th>FeatEng_FI_2way_XOR_X12_X250</th>\n",
       "      <th>FeatEng_FI_2way_XOR_X13_X351</th>\n",
       "      <th>FeatEng_FI_2way_XOR_X14_X66</th>\n",
       "      <th>FeatEng_FI_2way_XOR_X14_X80</th>\n",
       "      <th>FeatEng_FI_2way_XOR_X14_X98</th>\n",
       "      <th>FeatEng_FI_2way_XOR_X14_X101</th>\n",
       "      <th>FeatEng_FI_2way_XOR_X14_X126</th>\n",
       "      <th>FeatEng_FI_2way_XOR_X14_X128</th>\n",
       "      <th>FeatEng_FI_2way_XOR_X14_X179</th>\n",
       "      <th>...</th>\n",
       "      <th>FeatEng_FI_2way_XOR_X350_X375</th>\n",
       "      <th>FeatEng_FI_2way_XOR_X351_X377</th>\n",
       "      <th>FeatEng_FI_2way_XOR_X356_X377</th>\n",
       "      <th>FeatEng_FI_2way_XOR_X358_X359</th>\n",
       "      <th>FeatEng_FI_2way_XOR_X358_X362</th>\n",
       "      <th>FeatEng_FI_2way_XOR_X358_X375</th>\n",
       "      <th>FeatEng_FI_2way_XOR_X359_X374</th>\n",
       "      <th>FeatEng_FI_2way_XOR_X366_X374</th>\n",
       "      <th>FeatEng_FI_2way_XOR_X366_X384</th>\n",
       "      <th>FeatEng_FI_2way_XOR_X371_X378</th>\n",
       "    </tr>\n",
       "  </thead>\n",
       "  <tbody>\n",
       "    <tr>\n",
       "      <th>0</th>\n",
       "      <td>0</td>\n",
       "      <td>0</td>\n",
       "      <td>1</td>\n",
       "      <td>0</td>\n",
       "      <td>0</td>\n",
       "      <td>0</td>\n",
       "      <td>0</td>\n",
       "      <td>0</td>\n",
       "      <td>1</td>\n",
       "      <td>1</td>\n",
       "      <td>...</td>\n",
       "      <td>0</td>\n",
       "      <td>1</td>\n",
       "      <td>1</td>\n",
       "      <td>0</td>\n",
       "      <td>0</td>\n",
       "      <td>0</td>\n",
       "      <td>0</td>\n",
       "      <td>0</td>\n",
       "      <td>0</td>\n",
       "      <td>0</td>\n",
       "    </tr>\n",
       "    <tr>\n",
       "      <th>1</th>\n",
       "      <td>1</td>\n",
       "      <td>1</td>\n",
       "      <td>0</td>\n",
       "      <td>0</td>\n",
       "      <td>1</td>\n",
       "      <td>1</td>\n",
       "      <td>1</td>\n",
       "      <td>0</td>\n",
       "      <td>1</td>\n",
       "      <td>0</td>\n",
       "      <td>...</td>\n",
       "      <td>1</td>\n",
       "      <td>0</td>\n",
       "      <td>0</td>\n",
       "      <td>0</td>\n",
       "      <td>0</td>\n",
       "      <td>1</td>\n",
       "      <td>0</td>\n",
       "      <td>0</td>\n",
       "      <td>0</td>\n",
       "      <td>0</td>\n",
       "    </tr>\n",
       "    <tr>\n",
       "      <th>2</th>\n",
       "      <td>0</td>\n",
       "      <td>1</td>\n",
       "      <td>0</td>\n",
       "      <td>0</td>\n",
       "      <td>1</td>\n",
       "      <td>1</td>\n",
       "      <td>1</td>\n",
       "      <td>0</td>\n",
       "      <td>1</td>\n",
       "      <td>1</td>\n",
       "      <td>...</td>\n",
       "      <td>1</td>\n",
       "      <td>0</td>\n",
       "      <td>0</td>\n",
       "      <td>1</td>\n",
       "      <td>1</td>\n",
       "      <td>1</td>\n",
       "      <td>0</td>\n",
       "      <td>0</td>\n",
       "      <td>0</td>\n",
       "      <td>0</td>\n",
       "    </tr>\n",
       "    <tr>\n",
       "      <th>3</th>\n",
       "      <td>0</td>\n",
       "      <td>1</td>\n",
       "      <td>0</td>\n",
       "      <td>0</td>\n",
       "      <td>1</td>\n",
       "      <td>1</td>\n",
       "      <td>1</td>\n",
       "      <td>0</td>\n",
       "      <td>1</td>\n",
       "      <td>1</td>\n",
       "      <td>...</td>\n",
       "      <td>1</td>\n",
       "      <td>0</td>\n",
       "      <td>0</td>\n",
       "      <td>1</td>\n",
       "      <td>1</td>\n",
       "      <td>1</td>\n",
       "      <td>0</td>\n",
       "      <td>0</td>\n",
       "      <td>0</td>\n",
       "      <td>0</td>\n",
       "    </tr>\n",
       "    <tr>\n",
       "      <th>4</th>\n",
       "      <td>0</td>\n",
       "      <td>1</td>\n",
       "      <td>0</td>\n",
       "      <td>0</td>\n",
       "      <td>1</td>\n",
       "      <td>1</td>\n",
       "      <td>1</td>\n",
       "      <td>0</td>\n",
       "      <td>1</td>\n",
       "      <td>1</td>\n",
       "      <td>...</td>\n",
       "      <td>1</td>\n",
       "      <td>0</td>\n",
       "      <td>0</td>\n",
       "      <td>1</td>\n",
       "      <td>1</td>\n",
       "      <td>1</td>\n",
       "      <td>0</td>\n",
       "      <td>0</td>\n",
       "      <td>0</td>\n",
       "      <td>1</td>\n",
       "    </tr>\n",
       "  </tbody>\n",
       "</table>\n",
       "<p>5 rows × 718 columns</p>\n",
       "</div>"
      ],
      "text/plain": [
       "   FeatEng_FI_2way_XOR_X12_X178  FeatEng_FI_2way_XOR_X12_X250  \\\n",
       "0                             0                             0   \n",
       "1                             1                             1   \n",
       "2                             0                             1   \n",
       "3                             0                             1   \n",
       "4                             0                             1   \n",
       "\n",
       "   FeatEng_FI_2way_XOR_X13_X351  FeatEng_FI_2way_XOR_X14_X66  \\\n",
       "0                             1                            0   \n",
       "1                             0                            0   \n",
       "2                             0                            0   \n",
       "3                             0                            0   \n",
       "4                             0                            0   \n",
       "\n",
       "   FeatEng_FI_2way_XOR_X14_X80  FeatEng_FI_2way_XOR_X14_X98  \\\n",
       "0                            0                            0   \n",
       "1                            1                            1   \n",
       "2                            1                            1   \n",
       "3                            1                            1   \n",
       "4                            1                            1   \n",
       "\n",
       "   FeatEng_FI_2way_XOR_X14_X101  FeatEng_FI_2way_XOR_X14_X126  \\\n",
       "0                             0                             0   \n",
       "1                             1                             0   \n",
       "2                             1                             0   \n",
       "3                             1                             0   \n",
       "4                             1                             0   \n",
       "\n",
       "   FeatEng_FI_2way_XOR_X14_X128  FeatEng_FI_2way_XOR_X14_X179  \\\n",
       "0                             1                             1   \n",
       "1                             1                             0   \n",
       "2                             1                             1   \n",
       "3                             1                             1   \n",
       "4                             1                             1   \n",
       "\n",
       "               ...                FeatEng_FI_2way_XOR_X350_X375  \\\n",
       "0              ...                                            0   \n",
       "1              ...                                            1   \n",
       "2              ...                                            1   \n",
       "3              ...                                            1   \n",
       "4              ...                                            1   \n",
       "\n",
       "   FeatEng_FI_2way_XOR_X351_X377  FeatEng_FI_2way_XOR_X356_X377  \\\n",
       "0                              1                              1   \n",
       "1                              0                              0   \n",
       "2                              0                              0   \n",
       "3                              0                              0   \n",
       "4                              0                              0   \n",
       "\n",
       "   FeatEng_FI_2way_XOR_X358_X359  FeatEng_FI_2way_XOR_X358_X362  \\\n",
       "0                              0                              0   \n",
       "1                              0                              0   \n",
       "2                              1                              1   \n",
       "3                              1                              1   \n",
       "4                              1                              1   \n",
       "\n",
       "   FeatEng_FI_2way_XOR_X358_X375  FeatEng_FI_2way_XOR_X359_X374  \\\n",
       "0                              0                              0   \n",
       "1                              1                              0   \n",
       "2                              1                              0   \n",
       "3                              1                              0   \n",
       "4                              1                              0   \n",
       "\n",
       "   FeatEng_FI_2way_XOR_X366_X374  FeatEng_FI_2way_XOR_X366_X384  \\\n",
       "0                              0                              0   \n",
       "1                              0                              0   \n",
       "2                              0                              0   \n",
       "3                              0                              0   \n",
       "4                              0                              0   \n",
       "\n",
       "   FeatEng_FI_2way_XOR_X371_X378  \n",
       "0                              0  \n",
       "1                              0  \n",
       "2                              0  \n",
       "3                              0  \n",
       "4                              1  \n",
       "\n",
       "[5 rows x 718 columns]"
      ]
     },
     "execution_count": 126,
     "metadata": {},
     "output_type": "execute_result"
    }
   ],
   "source": [
    "dt_fi_2way.head()"
   ]
  },
  {
   "cell_type": "code",
   "execution_count": 129,
   "metadata": {
    "collapsed": true
   },
   "outputs": [],
   "source": [
    "dt_all_eng = dt_all_eng.join(dt_fi_2way)"
   ]
  },
  {
   "cell_type": "markdown",
   "metadata": {},
   "source": [
    "### 4.6 Save dt_all_eng"
   ]
  },
  {
   "cell_type": "code",
   "execution_count": null,
   "metadata": {
    "collapsed": true
   },
   "outputs": [],
   "source": [
    "dt_all_eng = dt_all_eng.join(dt_all_cleaned[[\"ID\", \"y\", \"IsTrainTest\"]])"
   ]
  },
  {
   "cell_type": "code",
   "execution_count": 130,
   "metadata": {
    "collapsed": true
   },
   "outputs": [],
   "source": [
    "dt_all_eng.to_csv(\"../../data/Mercedes_Benz_Greener_Manufacturing/data/dt_all_eng.csv\", index = False)"
   ]
  }
 ],
 "metadata": {
  "kernelspec": {
   "display_name": "Python 3",
   "language": "python",
   "name": "python3"
  },
  "language_info": {
   "codemirror_mode": {
    "name": "ipython",
    "version": 3
   },
   "file_extension": ".py",
   "mimetype": "text/x-python",
   "name": "python",
   "nbconvert_exporter": "python",
   "pygments_lexer": "ipython3",
   "version": "3.5.2"
  }
 },
 "nbformat": 4,
 "nbformat_minor": 2
}
