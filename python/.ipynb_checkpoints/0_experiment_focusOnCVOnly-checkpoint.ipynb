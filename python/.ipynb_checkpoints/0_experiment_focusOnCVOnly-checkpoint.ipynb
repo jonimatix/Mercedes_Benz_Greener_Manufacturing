{
 "cells": [
  {
   "cell_type": "code",
   "execution_count": 1,
   "metadata": {
    "collapsed": true
   },
   "outputs": [],
   "source": [
    "import warnings\n",
    "warnings.filterwarnings('ignore')\n",
    "import sys\n",
    "sys.path.insert(0, \"utils/\")\n",
    "import pickle"
   ]
  },
  {
   "cell_type": "code",
   "execution_count": 2,
   "metadata": {
    "collapsed": true
   },
   "outputs": [],
   "source": [
    "import numpy as np\n",
    "import pandas as pd\n",
    "from sklearn.metrics import r2_score"
   ]
  },
  {
   "cell_type": "code",
   "execution_count": 3,
   "metadata": {
    "collapsed": true
   },
   "outputs": [],
   "source": [
    "from sklearn.preprocessing import StandardScaler, MinMaxScaler\n",
    "from sklearn.decomposition import PCA, FastICA, TruncatedSVD, NMF\n",
    "from sklearn.random_projection import GaussianRandomProjection, SparseRandomProjection\n",
    "from sklearn.cluster import FeatureAgglomeration\n",
    "from gplearn.genetic import SymbolicRegressor, SymbolicTransformer\n",
    "from IPython.display import Image\n",
    "import pydotplus"
   ]
  },
  {
   "cell_type": "code",
   "execution_count": 4,
   "metadata": {
    "collapsed": true
   },
   "outputs": [],
   "source": [
    "from scipy.stats import randint as sp_randint"
   ]
  },
  {
   "cell_type": "code",
   "execution_count": 5,
   "metadata": {
    "collapsed": true
   },
   "outputs": [],
   "source": [
    "import xgboost as xgb\n",
    "from sklearn.linear_model import ElasticNet, ElasticNetCV\n",
    "from sklearn.gaussian_process import GaussianProcessRegressor"
   ]
  },
  {
   "cell_type": "code",
   "execution_count": 6,
   "metadata": {},
   "outputs": [],
   "source": [
    "# utils\n",
    "from clean import *\n",
    "from encode import *\n",
    "from featureEngineer import *\n",
    "from model import *"
   ]
  },
  {
   "cell_type": "markdown",
   "metadata": {},
   "source": [
    "## 1. Load"
   ]
  },
  {
   "cell_type": "code",
   "execution_count": 7,
   "metadata": {
    "collapsed": true
   },
   "outputs": [],
   "source": [
    "# load data\n",
    "dt_train_raw = pd.read_csv(\"../../data/Mercedes_Benz_Greener_Manufacturing/raw/train.csv\")\n",
    "dt_test_raw = pd.read_csv(\"../../data/Mercedes_Benz_Greener_Manufacturing/raw/test.csv\")"
   ]
  },
  {
   "cell_type": "code",
   "execution_count": 8,
   "metadata": {
    "collapsed": true
   },
   "outputs": [],
   "source": [
    "# ids fold\n",
    "dt_id_folds = pd.read_csv(\"../../data/Mercedes_Benz_Greener_Manufacturing/folds/dt_id_folds.csv\")"
   ]
  },
  {
   "cell_type": "code",
   "execution_count": 9,
   "metadata": {},
   "outputs": [
    {
     "name": "stdout",
     "output_type": "stream",
     "text": [
      "(4209, 378) (4209, 377)\n"
     ]
    }
   ],
   "source": [
    "print(dt_train_raw.shape, dt_test_raw.shape)"
   ]
  },
  {
   "cell_type": "markdown",
   "metadata": {},
   "source": [
    "## 2. transform"
   ]
  },
  {
   "cell_type": "code",
   "execution_count": 10,
   "metadata": {
    "collapsed": true
   },
   "outputs": [],
   "source": [
    "# ids\n",
    "ids_train = dt_train_raw.ID.values\n",
    "ids_test = dt_test_raw.ID.values"
   ]
  },
  {
   "cell_type": "code",
   "execution_count": 11,
   "metadata": {
    "collapsed": true
   },
   "outputs": [],
   "source": [
    "# concat\n",
    "dt_all = pd.concat([dt_train_raw, dt_test_raw])\n",
    "# merge folds\n",
    "dt_all = pd.merge(dt_all, dt_id_folds, how = \"left\", on = \"ID\")"
   ]
  },
  {
   "cell_type": "code",
   "execution_count": 12,
   "metadata": {},
   "outputs": [
    {
     "name": "stdout",
     "output_type": "stream",
     "text": [
      "(8418, 379)\n"
     ]
    }
   ],
   "source": [
    "print(dt_all.shape)"
   ]
  },
  {
   "cell_type": "markdown",
   "metadata": {},
   "source": [
    "## 3. Clean"
   ]
  },
  {
   "cell_type": "code",
   "execution_count": 13,
   "metadata": {
    "collapsed": true
   },
   "outputs": [],
   "source": [
    "# duplicated cols in dt_all\n",
    "cols_dup_all_toDrop = dt_all.T.duplicated()[dt_all.T.duplicated() == True].index.values\n",
    "dt_all = dt_all.drop(cols_dup_all_toDrop, axis = 1)"
   ]
  },
  {
   "cell_type": "code",
   "execution_count": 14,
   "metadata": {
    "collapsed": true
   },
   "outputs": [],
   "source": [
    "# cols\n",
    "cols_bin = dt_all.drop(\"ID\", axis = 1).select_dtypes(include = [\"int64\"]).columns\n",
    "cols_bin = cols_bin.tolist()\n",
    "cols_cat = dt_all.drop(\"ID\", axis = 1).select_dtypes(include = [\"object\"]).columns\n",
    "cols_cat = cols_cat.tolist()"
   ]
  },
  {
   "cell_type": "code",
   "execution_count": 15,
   "metadata": {},
   "outputs": [
    {
     "name": "stdout",
     "output_type": "stream",
     "text": [
      "X128 X130\n",
      "X156 X157\n",
      "X204 X205\n",
      "X232 X263\n"
     ]
    }
   ],
   "source": [
    "cols_comp = removeCompCols(dt_all, cols_bin)"
   ]
  },
  {
   "cell_type": "code",
   "execution_count": 16,
   "metadata": {
    "collapsed": true
   },
   "outputs": [],
   "source": [
    "dt_all = dt_all.drop(cols_comp, axis = 1)"
   ]
  },
  {
   "cell_type": "code",
   "execution_count": 17,
   "metadata": {
    "collapsed": true
   },
   "outputs": [],
   "source": [
    "# cols\n",
    "cols_bin = dt_all.drop(\"ID\", axis = 1).select_dtypes(include = [\"int64\"]).columns\n",
    "cols_bin = cols_bin.tolist()"
   ]
  },
  {
   "cell_type": "code",
   "execution_count": 18,
   "metadata": {},
   "outputs": [
    {
     "name": "stdout",
     "output_type": "stream",
     "text": [
      "(8418, 339)\n"
     ]
    }
   ],
   "source": [
    "print(dt_all.shape)"
   ]
  },
  {
   "cell_type": "markdown",
   "metadata": {},
   "source": [
    "## 4. Encode"
   ]
  },
  {
   "cell_type": "markdown",
   "metadata": {},
   "source": [
    "### 4.1 OHE"
   ]
  },
  {
   "cell_type": "code",
   "execution_count": 19,
   "metadata": {
    "collapsed": true
   },
   "outputs": [],
   "source": [
    "dt_cat_onehot = pd.get_dummies(dt_all[cols_cat])\n",
    "dict_ohe = {x: \"Encode_ohe_\" + x for x in dt_cat_onehot.columns.values}\n",
    "dt_cat_onehot = dt_cat_onehot.rename(columns = dict_ohe)\n",
    "dt_all = dt_all.join(dt_cat_onehot)"
   ]
  },
  {
   "cell_type": "code",
   "execution_count": 20,
   "metadata": {},
   "outputs": [
    {
     "data": {
      "text/plain": [
       "(8418, 550)"
      ]
     },
     "execution_count": 20,
     "metadata": {},
     "output_type": "execute_result"
    }
   ],
   "source": [
    "dt_all.shape"
   ]
  },
  {
   "cell_type": "markdown",
   "metadata": {},
   "source": [
    "### 4.2 Ordered Label"
   ]
  },
  {
   "cell_type": "code",
   "execution_count": 21,
   "metadata": {
    "collapsed": true
   },
   "outputs": [],
   "source": [
    "dt_all = encode_orderedLabel(dt_all, cols_cat)"
   ]
  },
  {
   "cell_type": "code",
   "execution_count": 22,
   "metadata": {},
   "outputs": [
    {
     "data": {
      "text/plain": [
       "(8418, 558)"
      ]
     },
     "execution_count": 22,
     "metadata": {},
     "output_type": "execute_result"
    }
   ],
   "source": [
    "dt_all.shape"
   ]
  },
  {
   "cell_type": "markdown",
   "metadata": {},
   "source": [
    "## 5. Feature Engineer"
   ]
  },
  {
   "cell_type": "markdown",
   "metadata": {},
   "source": [
    "### 5.1 DR"
   ]
  },
  {
   "cell_type": "code",
   "execution_count": 23,
   "metadata": {
    "collapsed": true
   },
   "outputs": [],
   "source": [
    "n_comp = 12\n",
    "dt_all = getDR(dt_all, n_comp)"
   ]
  },
  {
   "cell_type": "code",
   "execution_count": 24,
   "metadata": {},
   "outputs": [
    {
     "data": {
      "text/plain": [
       "(8418, 642)"
      ]
     },
     "execution_count": 24,
     "metadata": {},
     "output_type": "execute_result"
    }
   ],
   "source": [
    "dt_all.shape"
   ]
  },
  {
   "cell_type": "markdown",
   "metadata": {},
   "source": [
    "### 5.2 outlierDist"
   ]
  },
  {
   "cell_type": "code",
   "execution_count": 25,
   "metadata": {},
   "outputs": [],
   "source": [
    "dt_all = outlierDist(dt_all, ids_train, ids_test, cols_cat, cols_bin)"
   ]
  },
  {
   "cell_type": "code",
   "execution_count": 26,
   "metadata": {},
   "outputs": [
    {
     "data": {
      "text/plain": [
       "(8418, 647)"
      ]
     },
     "execution_count": 26,
     "metadata": {},
     "output_type": "execute_result"
    }
   ],
   "source": [
    "dt_all.shape"
   ]
  },
  {
   "cell_type": "markdown",
   "metadata": {},
   "source": [
    "## X. Model"
   ]
  },
  {
   "cell_type": "code",
   "execution_count": 27,
   "metadata": {
    "collapsed": true
   },
   "outputs": [],
   "source": [
    "dt_all_train = dt_all[dt_all.ID.isin(ids_train)]\n",
    "dt_all_test = dt_all[dt_all.ID.isin(ids_test)]"
   ]
  },
  {
   "cell_type": "code",
   "execution_count": 28,
   "metadata": {},
   "outputs": [
    {
     "name": "stdout",
     "output_type": "stream",
     "text": [
      "(4209, 647) (4209, 647)\n"
     ]
    }
   ],
   "source": [
    "print(dt_all_train.shape, dt_all_test.shape)"
   ]
  },
  {
   "cell_type": "markdown",
   "metadata": {},
   "source": [
    "### X.1. xgb"
   ]
  },
  {
   "cell_type": "code",
   "execution_count": null,
   "metadata": {
    "scrolled": true
   },
   "outputs": [],
   "source": [
    "res_all = []\n",
    "for i in range(1, 100):\n",
    "    # params\n",
    "    params_cols = [\"ohe\", \"label\"\n",
    "                   , \"dr_tsvd\", \"dr_pca\", \"dr_ica\", \"dr_grp\", \"dr_srp\", \"dr_nmf\", \"dr_fag\", \"outlierDist\"\n",
    "                   , \"targetMean\", \"targetMeanX0\", \"targetMeanX5\", \"symbolicTransformer\"]\n",
    "    values_cols = np.random.choice([True, False], len(params_cols))\n",
    "    params_cols_dict = dict(zip(params_cols, values_cols))\n",
    "    \n",
    "    # feat select\n",
    "    res = featureSelect(\"xgb\", dt_all_train, cols_cat, cols_bin, params_cols_dict)\n",
    "    res_all.append(res)\n",
    "params_cols_dict_best_xgb = max(res_all, key = lambda item: item[1])[0]"
   ]
  },
  {
   "cell_type": "code",
   "execution_count": null,
   "metadata": {
    "collapsed": true
   },
   "outputs": [],
   "source": [
    "pickle.dump(params_cols_dict_best_xgb, open( \"../../data/Mercedes_Benz_Greener_Manufacturing/data/params_cols_dict_best_xgb.pkl\", \"wb\"))"
   ]
  },
  {
   "cell_type": "markdown",
   "metadata": {},
   "source": [
    "### X.2 elasticNet"
   ]
  },
  {
   "cell_type": "code",
   "execution_count": 64,
   "metadata": {
    "scrolled": true
   },
   "outputs": [
    {
     "name": "stdout",
     "output_type": "stream",
     "text": [
      "Final Score 0.569637\n",
      "0.569636500567\n",
      "Final Score 0.569591\n",
      "0.569591469044\n"
     ]
    }
   ],
   "source": [
    "res_all = []\n",
    "for i in range(1, 3):\n",
    "    # params\n",
    "    params_cols = [\"ohe\", \"label\"\n",
    "                   , \"dr_tsvd\", \"dr_pca\", \"dr_ica\", \"dr_grp\", \"dr_srp\", \"dr_nmf\", \"dr_fag\", \"outlierDist\"\n",
    "                   , \"targetMean\", \"targetMeanX0\", \"targetMeanX5\", \"symbolicTransformer\"]\n",
    "    values_cols = np.random.choice([True, False], len(params_cols))\n",
    "    params_cols_dict = dict(zip(params_cols, values_cols))\n",
    "    \n",
    "    # feat select\n",
    "    res = featureSelect(\"elasticNet\", dt_all_train, cols_cat, cols_bin, params_cols_dict)\n",
    "    res_all.append(res)\n",
    "params_cols_dict_best_elasticNet = max(res_all, key = lambda item: item[1])[0]"
   ]
  },
  {
   "cell_type": "code",
   "execution_count": null,
   "metadata": {
    "collapsed": true
   },
   "outputs": [],
   "source": [
    "pickle.dump(params_cols_dict_best_elasticNet, open( \"../../data/Mercedes_Benz_Greener_Manufacturing/data/params_cols_dict_best_elasticNet.pkl\", \"wb\"))"
   ]
  },
  {
   "cell_type": "markdown",
   "metadata": {},
   "source": [
    "### X.3 SVR"
   ]
  },
  {
   "cell_type": "code",
   "execution_count": null,
   "metadata": {},
   "outputs": [],
   "source": [
    "# res_all = []\n",
    "# for i in range(1, 5):\n",
    "#     # params\n",
    "#     params_cols = [\"ohe\", \"label\"\n",
    "#                    , \"dr_tsvd\", \"dr_pca\", \"dr_ica\", \"dr_grp\", \"dr_srp\", \"dr_nmf\", \"dr_fag\", \"outlierDist\"\n",
    "#                    , \"targetMean\", \"targetMeanX0\", \"targetMeanX5\", \"symbolicTransformer\"]\n",
    "#     values_cols = np.random.choice([True, False], len(params_cols))\n",
    "#     params_cols_dict = dict(zip(params_cols, values_cols))\n",
    "    \n",
    "#     # feat select\n",
    "#     res = featureSelect(\"svr\", dt_all_train, cols_cat, cols_bin, params_cols_dict)\n",
    "#     res_all.append(res)\n",
    "# params_cols_dict_best_svr = max(res_all, key = lambda item: item[0][1])[0]"
   ]
  },
  {
   "cell_type": "markdown",
   "metadata": {},
   "source": [
    "### X.X Blending"
   ]
  },
  {
   "cell_type": "code",
   "execution_count": 29,
   "metadata": {
    "collapsed": true
   },
   "outputs": [],
   "source": [
    "import pickle\n",
    "# params_cols\n",
    "params_cols_dict_best_xgb = pickle.load(open(\"/media/noahhhhhh/dataScience/proj/competition/data/Mercedes_Benz_Greener_Manufacturing/data/params_cols_dict_best_xgb.pkl\", \"rb\"))\n",
    "params_cols_dict_best_elasticNet = pickle.load(open(\"/media/noahhhhhh/dataScience/proj/competition/data/Mercedes_Benz_Greener_Manufacturing/data/params_cols_dict_best_elasticNet.pkl\", \"rb\"))"
   ]
  },
  {
   "cell_type": "code",
   "execution_count": 30,
   "metadata": {},
   "outputs": [
    {
     "name": "stdout",
     "output_type": "stream",
     "text": [
      "Final Score 0.572045\n",
      "0.572045317979\n",
      "Final Score 0.570877\n",
      "0.570877330891\n",
      "Final Score 0.555127\n",
      "0.555126914398\n"
     ]
    }
   ],
   "source": [
    "_, _, dt_preds_xgb = featureSelect(\"xgb\", dt_all_train, cols_cat, cols_bin, params_cols_dict_best_xgb[0])\n",
    "_, _, dt_preds_elasticNet = featureSelect(\"elasticNet\", dt_all_train, cols_cat, cols_bin, params_cols_dict_best_elasticNet[0])\n",
    "_, _, dt_preds_knn = featureSelect(\"knn\", dt_all_train, cols_cat, cols_bin, params_cols_dict_best_xgb[0])"
   ]
  },
  {
   "cell_type": "code",
   "execution_count": 40,
   "metadata": {},
   "outputs": [],
   "source": [
    "dt_blending = pd.merge(pd.merge(dt_preds_xgb, dt_preds_elasticNet, on = [\"ID\", \"y\"]), dt_preds_knn, on = [\"ID\", \"y\"])"
   ]
  },
  {
   "cell_type": "code",
   "execution_count": 51,
   "metadata": {
    "collapsed": true
   },
   "outputs": [],
   "source": [
    "preds_blending = dt_blending.preds_x * .6 + dt_blending.preds_y * .4 + dt_blending.preds * 0"
   ]
  },
  {
   "cell_type": "code",
   "execution_count": 52,
   "metadata": {},
   "outputs": [
    {
     "data": {
      "text/plain": [
       "0.57437178318185378"
      ]
     },
     "execution_count": 52,
     "metadata": {},
     "output_type": "execute_result"
    }
   ],
   "source": [
    "r2_score(dt_blending.y.values, preds_blending)"
   ]
  }
 ],
 "metadata": {
  "kernelspec": {
   "display_name": "Python 3",
   "language": "python",
   "name": "python3"
  },
  "language_info": {
   "codemirror_mode": {
    "name": "ipython",
    "version": 3
   },
   "file_extension": ".py",
   "mimetype": "text/x-python",
   "name": "python",
   "nbconvert_exporter": "python",
   "pygments_lexer": "ipython3",
   "version": "3.5.2"
  }
 },
 "nbformat": 4,
 "nbformat_minor": 2
}
