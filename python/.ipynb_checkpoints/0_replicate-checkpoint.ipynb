{
 "cells": [
  {
   "cell_type": "code",
   "execution_count": 1,
   "metadata": {
    "collapsed": true
   },
   "outputs": [],
   "source": [
    "import pandas as pd\n",
    "import numpy as np\n",
    "import xgboost as xgb\n",
    "from sklearn.preprocessing import LabelEncoder\n",
    "from sklearn.random_projection import GaussianRandomProjection\n",
    "from sklearn.random_projection import SparseRandomProjection\n",
    "from sklearn.decomposition import PCA, FastICA\n",
    "from sklearn.decomposition import TruncatedSVD\n",
    "from sklearn.metrics import r2_score\n",
    "from sklearn.model_selection import StratifiedKFold, GroupKFold, KFold, train_test_split"
   ]
  },
  {
   "cell_type": "code",
   "execution_count": 2,
   "metadata": {
    "collapsed": true
   },
   "outputs": [],
   "source": [
    "train = pd.read_csv(\"../../data/Mercedes_Benz_Greener_Manufacturing/raw/train.csv\")\n",
    "test = pd.read_csv(\"../../data/Mercedes_Benz_Greener_Manufacturing/raw/test.csv\")"
   ]
  },
  {
   "cell_type": "markdown",
   "metadata": {},
   "source": [
    "## Encode"
   ]
  },
  {
   "cell_type": "code",
   "execution_count": 3,
   "metadata": {},
   "outputs": [],
   "source": [
    "cols_cat = train.select_dtypes(include = ['object']).columns.values\n",
    "cols_cat = cols_cat.tolist()"
   ]
  },
  {
   "cell_type": "code",
   "execution_count": 4,
   "metadata": {},
   "outputs": [],
   "source": [
    "for c in cols_cat:\n",
    "    x = list(set(list(train[c].values) + list(test[c].values))) \n",
    "    x.sort()\n",
    "    x.sort(key = len)\n",
    "    dt_labelEncode_c = pd.DataFrame({\"Encode_Label_\" + c: [i for i in range(1, (len(x) + 1))]\n",
    "                                     , c: x})\n",
    "\n",
    "    train = pd.merge(train, dt_labelEncode_c, on = c)\n",
    "    test = pd.merge(test, dt_labelEncode_c, on = c)"
   ]
  },
  {
   "cell_type": "markdown",
   "metadata": {},
   "source": [
    "## TargetMean"
   ]
  },
  {
   "cell_type": "code",
   "execution_count": 5,
   "metadata": {
    "collapsed": true
   },
   "outputs": [],
   "source": [
    "def getTargetMean(train, test, cols_cat):\n",
    "    train_cp = train.copy()\n",
    "    test_cp = test.copy()\n",
    "    for c in cols_cat:\n",
    "        x = train_cp.groupby([c])[\"y\"].mean()\n",
    "        dt_targetMean_c = pd.DataFrame({c: x.index\n",
    "                                       , \"TargetMean_\" + c: x.values})\n",
    "        train_cp = pd.merge(dt_targetMean_c, train_cp, on = c)\n",
    "\n",
    "        test_cp = pd.merge(dt_targetMean_c, test_cp, on = c, how = \"right\")\n",
    "        test_cp = test_cp.fillna(np.mean(train_cp.y))\n",
    "    \n",
    "    return train_cp, test_cp"
   ]
  },
  {
   "cell_type": "markdown",
   "metadata": {},
   "source": [
    "## Dimension Reduce"
   ]
  },
  {
   "cell_type": "code",
   "execution_count": 6,
   "metadata": {},
   "outputs": [],
   "source": [
    "n_comp = 15\n",
    "\n",
    "# tSVD\n",
    "tsvd = TruncatedSVD(n_components=n_comp, random_state=420)\n",
    "tsvd_results_train = tsvd.fit_transform(train.drop([\"y\"] + cols_cat, axis=1))\n",
    "tsvd_results_test = tsvd.transform(test.drop(cols_cat, axis = 1))\n",
    "\n",
    "# PCA\n",
    "pca = PCA(n_components=n_comp, random_state=420)\n",
    "pca2_results_train = pca.fit_transform(train.drop([\"y\"] + cols_cat, axis=1))\n",
    "pca2_results_test = pca.transform(test.drop(cols_cat, axis = 1))\n",
    "\n",
    "# ICA\n",
    "ica = FastICA(n_components=n_comp, random_state=420)\n",
    "ica2_results_train = ica.fit_transform(train.drop([\"y\"] + cols_cat, axis=1))\n",
    "ica2_results_test = ica.transform(test.drop(cols_cat, axis = 1))\n",
    "\n",
    "# GRP\n",
    "grp = GaussianRandomProjection(n_components=n_comp, eps=0.1, random_state=420)\n",
    "grp_results_train = grp.fit_transform(train.drop([\"y\"] + cols_cat, axis=1))\n",
    "grp_results_test = grp.transform(test.drop(cols_cat, axis = 1))\n",
    "\n",
    "# SRP\n",
    "srp = SparseRandomProjection(n_components=n_comp, dense_output=True, random_state=420)\n",
    "srp_results_train = srp.fit_transform(train.drop([\"y\"] + cols_cat, axis=1))\n",
    "srp_results_test = srp.transform(test.drop(cols_cat, axis = 1))\n"
   ]
  },
  {
   "cell_type": "code",
   "execution_count": 7,
   "metadata": {
    "collapsed": true
   },
   "outputs": [],
   "source": [
    "# Append decomposition components to datasets\n",
    "for i in range(1, n_comp + 1):\n",
    "    \n",
    "    train['PCA_' + str(i)] = pca2_results_train[:, i - 1]\n",
    "    test['PCA_' + str(i)] = pca2_results_test[:, i - 1]\n",
    "\n",
    "    train['ICA_' + str(i)] = ica2_results_train[:, i - 1]\n",
    "    test['ICA_' + str(i)] = ica2_results_test[:, i - 1]\n",
    "\n",
    "    train['TSVD_' + str(i)] = tsvd_results_train[:, i - 1]\n",
    "    test['TSVD_' + str(i)] = tsvd_results_test[:, i - 1]\n",
    "\n",
    "    train['GRP_' + str(i)] = grp_results_train[:, i - 1]\n",
    "    test['GRP_' + str(i)] = grp_results_test[:, i - 1]\n",
    "\n",
    "    train['SRP_' + str(i)] = srp_results_train[:, i - 1]\n",
    "    test['SRP_' + str(i)] = srp_results_test[:, i - 1]"
   ]
  },
  {
   "cell_type": "markdown",
   "metadata": {},
   "source": [
    "## xgboost"
   ]
  },
  {
   "cell_type": "code",
   "execution_count": 8,
   "metadata": {
    "collapsed": true
   },
   "outputs": [],
   "source": [
    "# r_2 for xgboost\n",
    "def r_2(preds, dtrain):\n",
    "    labels = dtrain.get_label()\n",
    "    return 'score', r2_score(labels, preds)"
   ]
  },
  {
   "cell_type": "code",
   "execution_count": 9,
   "metadata": {},
   "outputs": [],
   "source": [
    "# y_train_all\n",
    "y_train_all = train.y.values"
   ]
  },
  {
   "cell_type": "code",
   "execution_count": 10,
   "metadata": {},
   "outputs": [
    {
     "name": "stdout",
     "output_type": "stream",
     "text": [
      "Fold 0: Score 0.551663\n",
      "Fold 1: Score 0.609463\n",
      "Fold 2: Score 0.596596\n",
      "Fold 3: Score 0.417429\n",
      "Fold 4: Score 0.573308\n",
      "Fold 5: Score 0.596935\n",
      "Fold 6: Score 0.627133\n",
      "Fold 7: Score 0.627989\n",
      "=====================\n",
      "Final Score 0.575064 ; sd 0.064262\n",
      "=====================\n"
     ]
    }
   ],
   "source": [
    "k = 8\n",
    "# bin\n",
    "bin_y = pd.qcut(y_train_all, k, labels = [i for i in range(1, k + 1)]).astype(\"int64\")\n",
    "# stratified kfold\n",
    "skf = StratifiedKFold(n_splits = k, shuffle = True, random_state = 888)\n",
    "\n",
    "score_skf_valid = 0\n",
    "score_skf = []\n",
    "preds_skf_test = []\n",
    "dt_preds_test = []\n",
    "for i, (ind_train, ind_valid) in enumerate(skf.split(train, bin_y)):\n",
    "    # X, y\n",
    "    X_train, X_valid = train.iloc[ind_train], train.iloc[ind_valid]\n",
    "    \n",
    "    # featEng: TargetMean\n",
    "    # train, valid\n",
    "    X_train_transform, X_valid_transform = getTargetMean(X_train, X_valid, cols_cat)\n",
    "    y_train_transform, y_valid_transform = X_train_transform.y.values, X_valid_transform.y.values\n",
    "    X_train_transform, X_valid_transform = X_train_transform.drop([\"y\"] + cols_cat, axis = 1), X_valid_transform.drop([\"y\"] + cols_cat, axis = 1)\n",
    "    # test\n",
    "    _, X_test_transform = getTargetMean(X_train, test, cols_cat)\n",
    "    X_test_transform = X_test_transform.drop(cols_cat, axis = 1)\n",
    "    \n",
    "    # xgb.DMatrix\n",
    "    dmx_train = xgb.DMatrix(X_train_transform, label = y_train_transform)\n",
    "    dmx_valid = xgb.DMatrix(X_valid_transform, label = y_valid_transform)\n",
    "    dmx_test = xgb.DMatrix(X_test_transform)\n",
    "    ls_watch =  [(dmx_train, 'train'), (dmx_valid, 'eval')]\n",
    "    \n",
    "    # params\n",
    "    params_xgb = {\n",
    "        \"objective\": \"reg:linear\"\n",
    "        , \"booster\": \"gbtree\"\n",
    "        , \"learning_rate\": 0.005\n",
    "        , \"subsample\": .9\n",
    "        , \"colsample\": .8\n",
    "        , \"max_depth\": 2\n",
    "        , \"alpha\": 1\n",
    "        , \"lambda\": 2\n",
    "        , \"gamma\": 20\n",
    "        , \"base_score\": np.mean(y_train_transform)\n",
    "    }\n",
    "    \n",
    "    # model\n",
    "    model_xgb = xgb.train(params_xgb, dmx_train, evals = ls_watch\n",
    "                          , num_boost_round = 5000\n",
    "                          , feval = r_2, maximize = True, early_stopping_rounds = 50\n",
    "                          , verbose_eval = False\n",
    "                         )\n",
    "    \n",
    "    # predict\n",
    "    preds_valid = model_xgb.predict(dmx_valid)\n",
    "    preds_test = model_xgb.predict(dmx_test)\n",
    "    preds_skf_test.append(preds_test)\n",
    "    dt_preds_test.append(pd.DataFrame({\"ID\": X_test_transform.ID\n",
    "                                      , \"preds_y_\" + str(i): preds_test}))\n",
    "    # score\n",
    "    score_skf_valid = r2_score(y_valid_transform, preds_valid)\n",
    "    print('Fold %d: Score %f'%(i, score_skf_valid))\n",
    "    score_skf.append(score_skf_valid)\n",
    "\n",
    "# predict test\n",
    "preds_test = np.sum(np.transpose(np.multiply(np.transpose(np.array(preds_skf_test)), np.array(score_skf))), axis = 0) / np.sum(score_skf)\n",
    "# final score\n",
    "score_mean = np.mean(score_skf)\n",
    "score_sd = np.std(score_skf)\n",
    "print('=====================')\n",
    "\n",
    "print('Final Score %f'%score_mean, '; sd %f'%score_sd)\n",
    "\n",
    "print('=====================')"
   ]
  },
  {
   "cell_type": "code",
   "execution_count": 15,
   "metadata": {},
   "outputs": [
    {
     "data": {
      "text/plain": [
       "array([  94.81409386,  103.41935342,  104.03800851, ...,  104.72428974,\n",
       "        103.04756022,  103.4487657 ])"
      ]
     },
     "execution_count": 15,
     "metadata": {},
     "output_type": "execute_result"
    }
   ],
   "source": [
    "preds_test"
   ]
  },
  {
   "cell_type": "code",
   "execution_count": 19,
   "metadata": {},
   "outputs": [
    {
     "data": {
      "text/html": [
       "<div>\n",
       "<style>\n",
       "    .dataframe thead tr:only-child th {\n",
       "        text-align: right;\n",
       "    }\n",
       "\n",
       "    .dataframe thead th {\n",
       "        text-align: left;\n",
       "    }\n",
       "\n",
       "    .dataframe tbody tr th {\n",
       "        vertical-align: top;\n",
       "    }\n",
       "</style>\n",
       "<table border=\"1\" class=\"dataframe\">\n",
       "  <thead>\n",
       "    <tr style=\"text-align: right;\">\n",
       "      <th></th>\n",
       "      <th>ID</th>\n",
       "      <th>preds_y_3</th>\n",
       "    </tr>\n",
       "  </thead>\n",
       "  <tbody>\n",
       "    <tr>\n",
       "      <th>0</th>\n",
       "      <td>1228</td>\n",
       "      <td>94.616135</td>\n",
       "    </tr>\n",
       "    <tr>\n",
       "      <th>1</th>\n",
       "      <td>4342</td>\n",
       "      <td>103.305962</td>\n",
       "    </tr>\n",
       "    <tr>\n",
       "      <th>2</th>\n",
       "      <td>5299</td>\n",
       "      <td>103.687073</td>\n",
       "    </tr>\n",
       "    <tr>\n",
       "      <th>3</th>\n",
       "      <td>6774</td>\n",
       "      <td>94.235260</td>\n",
       "    </tr>\n",
       "    <tr>\n",
       "      <th>4</th>\n",
       "      <td>7631</td>\n",
       "      <td>102.378174</td>\n",
       "    </tr>\n",
       "  </tbody>\n",
       "</table>\n",
       "</div>"
      ],
      "text/plain": [
       "     ID   preds_y_3\n",
       "0  1228   94.616135\n",
       "1  4342  103.305962\n",
       "2  5299  103.687073\n",
       "3  6774   94.235260\n",
       "4  7631  102.378174"
      ]
     },
     "execution_count": 19,
     "metadata": {},
     "output_type": "execute_result"
    }
   ],
   "source": [
    "dt_preds_test[3].head()"
   ]
  },
  {
   "cell_type": "code",
   "execution_count": 20,
   "metadata": {},
   "outputs": [],
   "source": [
    "# submit\n",
    "dt_submit = pd.DataFrame({\"ID\": dt_preds_test[0].ID\n",
    "            , \"y\": preds_test})"
   ]
  },
  {
   "cell_type": "code",
   "execution_count": 21,
   "metadata": {},
   "outputs": [],
   "source": [
    "dt_submit.to_csv(\"../../data/Mercedes_Benz_Greener_Manufacturing/submission/32_returnToPython_skf8_weightedPrediction_base_features_withTargetMeanInsideSkf.csv\", index = False)"
   ]
  }
 ],
 "metadata": {
  "kernelspec": {
   "display_name": "Python 3",
   "language": "python",
   "name": "python3"
  },
  "language_info": {
   "codemirror_mode": {
    "name": "ipython",
    "version": 3
   },
   "file_extension": ".py",
   "mimetype": "text/x-python",
   "name": "python",
   "nbconvert_exporter": "python",
   "pygments_lexer": "ipython3",
   "version": "3.5.2"
  }
 },
 "nbformat": 4,
 "nbformat_minor": 2
}
