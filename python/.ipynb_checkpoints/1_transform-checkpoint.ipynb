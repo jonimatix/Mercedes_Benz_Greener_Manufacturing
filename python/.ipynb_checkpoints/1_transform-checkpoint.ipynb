{
 "cells": [
  {
   "cell_type": "code",
   "execution_count": 1,
   "metadata": {
    "collapsed": true
   },
   "outputs": [],
   "source": [
    "import pandas as pd"
   ]
  },
  {
   "cell_type": "markdown",
   "metadata": {},
   "source": [
    "## 1. Load"
   ]
  },
  {
   "cell_type": "code",
   "execution_count": 2,
   "metadata": {
    "collapsed": true
   },
   "outputs": [],
   "source": [
    "# load data\n",
    "dt_train_raw = pd.read_csv(\"../../data/Mercedes_Benz_Greener_Manufacturing/raw/train.csv\")\n",
    "dt_test_raw = pd.read_csv(\"../../data/Mercedes_Benz_Greener_Manufacturing/raw/test.csv\")"
   ]
  },
  {
   "cell_type": "code",
   "execution_count": 3,
   "metadata": {},
   "outputs": [
    {
     "name": "stdout",
     "output_type": "stream",
     "text": [
      "(4209, 378) (4209, 377)\n"
     ]
    }
   ],
   "source": [
    "print(dt_train_raw.shape, dt_test_raw.shape)"
   ]
  },
  {
   "cell_type": "markdown",
   "metadata": {},
   "source": [
    "## 2. Transform"
   ]
  },
  {
   "cell_type": "code",
   "execution_count": 4,
   "metadata": {
    "collapsed": true
   },
   "outputs": [],
   "source": [
    "# marke train and test set\n",
    "dt_train_raw.loc[:, \"IsTrainTest\"] = pd.Series(\"train\", index = dt_train_raw.index)\n",
    "dt_test_raw.loc[:, \"IsTrainTest\"] = pd.Series(\"test\", index = dt_test_raw.index)\n",
    "\n",
    "# change test index and add y\n",
    "dt_test_raw.index = dt_test_raw.index + max(dt_train_raw.index) + 1\n",
    "dt_test_raw.loc[:,\"y\"] = pd.Series([0.0] * dt_test_raw.shape[0], index = dt_test_raw.index)\n",
    "\n",
    "# concat\n",
    "dt_test_raw = dt_test_raw[dt_train_raw.columns.values]\n",
    "dt_all_raw = pd.concat([dt_train_raw, dt_test_raw])"
   ]
  },
  {
   "cell_type": "code",
   "execution_count": 5,
   "metadata": {},
   "outputs": [
    {
     "data": {
      "text/plain": [
       "(8418, 379)"
      ]
     },
     "execution_count": 5,
     "metadata": {},
     "output_type": "execute_result"
    }
   ],
   "source": [
    "dt_all_raw.shape"
   ]
  },
  {
   "cell_type": "code",
   "execution_count": 7,
   "metadata": {
    "collapsed": true
   },
   "outputs": [],
   "source": [
    "dt_all_transformed = dt_all_raw\n",
    "dt_all_transformed.to_csv(\"../../data/Mercedes_Benz_Greener_Manufacturing/data/dt_all_transformed.csv\", index = False)"
   ]
  }
 ],
 "metadata": {
  "kernelspec": {
   "display_name": "Python 3",
   "language": "python",
   "name": "python3"
  },
  "language_info": {
   "codemirror_mode": {
    "name": "ipython",
    "version": 3
   },
   "file_extension": ".py",
   "mimetype": "text/x-python",
   "name": "python",
   "nbconvert_exporter": "python",
   "pygments_lexer": "ipython3",
   "version": "3.5.2"
  }
 },
 "nbformat": 4,
 "nbformat_minor": 2
}
