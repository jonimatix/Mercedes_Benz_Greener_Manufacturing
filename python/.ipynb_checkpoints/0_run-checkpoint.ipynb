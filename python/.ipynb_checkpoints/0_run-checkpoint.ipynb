{
 "cells": [
  {
   "cell_type": "code",
   "execution_count": 1,
   "metadata": {},
   "outputs": [
    {
     "name": "stderr",
     "output_type": "stream",
     "text": [
      "Using TensorFlow backend.\n"
     ]
    },
    {
     "name": "stdout",
     "output_type": "stream",
     "text": [
      "(4209, 665) (4209, 665)\n"
     ]
    }
   ],
   "source": [
    "# import\n",
    "import warnings\n",
    "warnings.filterwarnings('ignore')\n",
    "import sys\n",
    "sys.path.insert(0, \"/media/noahhhhhh/dataScience/proj/competition/Mercedes_Benz_Greener_Manufacturing/python/utils/\")\n",
    "import pickle\n",
    "\n",
    "import numpy as np\n",
    "import pandas as pd\n",
    "import gc\n",
    "\n",
    "# utils\n",
    "from clean import *\n",
    "from encode import *\n",
    "from featureEngineer import *\n",
    "from model import *\n",
    "from dups import *\n",
    "\n",
    "\n",
    "########################### load ###########################\n",
    "dt_all = pd.read_csv(\"/media/noahhhhhh/dataScience/proj/competition/data/Mercedes_Benz_Greener_Manufacturing/data/dt_all.csv\")\n",
    "dt_train_raw = pd.read_csv(\"/media/noahhhhhh/dataScience/proj/competition/data/Mercedes_Benz_Greener_Manufacturing/raw/train.csv\")\n",
    "dt_test_raw = pd.read_csv(\"/media/noahhhhhh/dataScience/proj/competition/data/Mercedes_Benz_Greener_Manufacturing/raw/test.csv\")\n",
    "\n",
    "# ids\n",
    "ids_train = dt_train_raw.ID.values\n",
    "ids_test = dt_test_raw.ID.values\n",
    "\n",
    "# cols\n",
    "cols_cat = dt_all.drop(\"ID\", axis = 1).select_dtypes(include = [\"object\"]).columns.values.tolist()\n",
    "cols_bin = dt_all.filter(regex = \"^X\").columns.values.tolist()\n",
    "cols_bin = [x for x in cols_bin if x not in cols_cat]\n",
    "\n",
    "# ## X. Model\n",
    "\n",
    "dt_all_train = dt_all[dt_all.ID.isin(ids_train)]\n",
    "dt_all_test = dt_all[dt_all.ID.isin(ids_test)]\n",
    "\n",
    "print(dt_all_train.shape, dt_all_test.shape)\n",
    "\n",
    "\n",
    "# # ### X.1. xgb\n",
    "# with outlier\n",
    "#params_cols_dict_best_xgb_withOutlier = featureSelectRun(\"xgb\", dt_all, ids_train, ids_test, cols_cat, cols_bin, rounds = 200)\n",
    "#pickle.dump(params_cols_dict_best_xgb_withOutlier, open( \"/media/noahhhhhh/dataScience/proj/competition/data/Mercedes_Benz_Greener_Manufacturing/data/params_cols_dict_best_xgb_withOutlier.pkl\", \"wb\"))\n",
    "\n",
    "# with outlier and avg duplicates\n",
    "dt_withOutlier_aggDupsMedian = dups(\"min\", dt_all, cols_cat, cols_bin)"
   ]
  },
  {
   "cell_type": "code",
   "execution_count": 9,
   "metadata": {
    "collapsed": true
   },
   "outputs": [],
   "source": [
    "dt_all_train = dt_all[dt_all[\"y\"].notnull()]\n",
    "dt_all_test = dt_all[~dt_all[\"y\"].notnull()]"
   ]
  },
  {
   "cell_type": "code",
   "execution_count": 6,
   "metadata": {},
   "outputs": [],
   "source": [
    "# folds\n",
    "k = 10\n",
    "bin_y = pd.qcut(dt_all_train.y.values, k, labels = [i for i in range(1, k + 1)]).astype(\"int64\")\n",
    "dt_all_train[\"Fold\"] = bin_y"
   ]
  },
  {
   "cell_type": "code",
   "execution_count": 13,
   "metadata": {},
   "outputs": [],
   "source": [
    "from sklearn.model_selection import StratifiedKFold\n",
    "skf = StratifiedKFold(n_splits = k, shuffle = True, random_state = 888)\n",
    "dt_id_folds = pd.DataFrame()\n",
    "for i, (ind_train, ind_valid) in enumerate(skf.split(dt_all_train, bin_y)):\n",
    "    dt_id_folds = pd.concat([dt_id_folds\n",
    "                            , pd.DataFrame({\"ID\": dt_all_train.iloc[ind_valid].ID.values\n",
    "                                           , \"Fold\": i + 1})])"
   ]
  },
  {
   "cell_type": "code",
   "execution_count": null,
   "metadata": {
    "collapsed": true
   },
   "outputs": [],
   "source": []
  },
  {
   "cell_type": "code",
   "execution_count": 8,
   "metadata": {},
   "outputs": [
    {
     "data": {
      "text/plain": [
       "array(['ID', 'X0', 'X1', 'X10', 'X100', 'X101', 'X102', 'X103', 'X104',\n",
       "       'X105', 'X106', 'X107', 'X108', 'X109', 'X11', 'X110', 'X111',\n",
       "       'X112', 'X113', 'X114', 'X115', 'X116', 'X117', 'X118', 'X12',\n",
       "       'X120', 'X122', 'X123', 'X124', 'X125', 'X126', 'X127', 'X128',\n",
       "       'X129', 'X13', 'X131', 'X132', 'X133', 'X135', 'X136', 'X137',\n",
       "       'X138', 'X139', 'X14', 'X140', 'X141', 'X142', 'X143', 'X144',\n",
       "       'X145', 'X148', 'X15', 'X150', 'X151', 'X152', 'X153', 'X154',\n",
       "       'X155', 'X156', 'X158', 'X159', 'X16', 'X160', 'X161', 'X162',\n",
       "       'X163', 'X164', 'X165', 'X166', 'X167', 'X168', 'X169', 'X17',\n",
       "       'X170', 'X171', 'X172', 'X173', 'X174', 'X175', 'X176', 'X177',\n",
       "       'X178', 'X179', 'X18', 'X180', 'X181', 'X182', 'X183', 'X184',\n",
       "       'X185', 'X186', 'X187', 'X189', 'X19', 'X190', 'X191', 'X192',\n",
       "       'X194', 'X195', 'X196', 'X197', 'X198', 'X2', 'X20', 'X200', 'X201',\n",
       "       'X202', 'X203', 'X204', 'X206', 'X207', 'X208', 'X209', 'X21',\n",
       "       'X210', 'X211', 'X212', 'X213', 'X215', 'X217', 'X218', 'X219',\n",
       "       'X22', 'X220', 'X221', 'X223', 'X224', 'X225', 'X228', 'X229',\n",
       "       'X23', 'X230', 'X231', 'X232', 'X233', 'X234', 'X235', 'X236',\n",
       "       'X237', 'X238', 'X24', 'X240', 'X241', 'X242', 'X243', 'X244',\n",
       "       'X245', 'X246', 'X247', 'X248', 'X249', 'X250', 'X251', 'X252',\n",
       "       'X253', 'X255', 'X256', 'X257', 'X258', 'X259', 'X26', 'X260',\n",
       "       'X261', 'X264', 'X265', 'X266', 'X267', 'X268', 'X269', 'X27',\n",
       "       'X270', 'X271', 'X272', 'X273', 'X274', 'X275', 'X276', 'X277',\n",
       "       'X278', 'X28', 'X280', 'X281', 'X282', 'X283', 'X284', 'X285',\n",
       "       'X286', 'X287', 'X288', 'X289', 'X29', 'X290', 'X291', 'X292',\n",
       "       'X294', 'X295', 'X297', 'X298', 'X3', 'X30', 'X300', 'X301', 'X302',\n",
       "       'X304', 'X305', 'X306', 'X307', 'X308', 'X309', 'X31', 'X310',\n",
       "       'X311', 'X312', 'X313', 'X314', 'X315', 'X316', 'X317', 'X318',\n",
       "       'X319', 'X32', 'X320', 'X321', 'X322', 'X323', 'X324', 'X325',\n",
       "       'X327', 'X328', 'X329', 'X33', 'X331', 'X332', 'X333', 'X334',\n",
       "       'X335', 'X336', 'X337', 'X338', 'X339', 'X34', 'X340', 'X341',\n",
       "       'X342', 'X343', 'X344', 'X345', 'X346', 'X347', 'X348', 'X349',\n",
       "       'X350', 'X351', 'X352', 'X353', 'X354', 'X355', 'X356', 'X357',\n",
       "       'X358', 'X359', 'X36', 'X361', 'X362', 'X363', 'X365', 'X366',\n",
       "       'X367', 'X368', 'X369', 'X370', 'X371', 'X372', 'X373', 'X374',\n",
       "       'X375', 'X376', 'X377', 'X378', 'X379', 'X38', 'X380', 'X383',\n",
       "       'X384', 'X4', 'X40', 'X41', 'X42', 'X43', 'X45', 'X46', 'X47',\n",
       "       'X49', 'X5', 'X50', 'X51', 'X52', 'X54', 'X55', 'X56', 'X57', 'X59',\n",
       "       'X6', 'X61', 'X63', 'X64', 'X65', 'X66', 'X68', 'X69', 'X70', 'X73',\n",
       "       'X74', 'X75', 'X77', 'X78', 'X79', 'X8', 'X80', 'X81', 'X82', 'X83',\n",
       "       'X85', 'X86', 'X87', 'X88', 'X89', 'X90', 'X91', 'X92', 'X93',\n",
       "       'X94', 'X95', 'X96', 'X97', 'X98', 'X99', 'y', 'Fold',\n",
       "       'Encode_ohe_X0_a', 'Encode_ohe_X0_aa', 'Encode_ohe_X0_ab',\n",
       "       'Encode_ohe_X0_ac', 'Encode_ohe_X0_ad', 'Encode_ohe_X0_ae',\n",
       "       'Encode_ohe_X0_af', 'Encode_ohe_X0_ag', 'Encode_ohe_X0_ai',\n",
       "       'Encode_ohe_X0_aj', 'Encode_ohe_X0_ak', 'Encode_ohe_X0_al',\n",
       "       'Encode_ohe_X0_am', 'Encode_ohe_X0_an', 'Encode_ohe_X0_ao',\n",
       "       'Encode_ohe_X0_ap', 'Encode_ohe_X0_aq', 'Encode_ohe_X0_as',\n",
       "       'Encode_ohe_X0_at', 'Encode_ohe_X0_au', 'Encode_ohe_X0_av',\n",
       "       'Encode_ohe_X0_aw', 'Encode_ohe_X0_ax', 'Encode_ohe_X0_ay',\n",
       "       'Encode_ohe_X0_az', 'Encode_ohe_X0_b', 'Encode_ohe_X0_ba',\n",
       "       'Encode_ohe_X0_bb', 'Encode_ohe_X0_bc', 'Encode_ohe_X0_c',\n",
       "       'Encode_ohe_X0_d', 'Encode_ohe_X0_e', 'Encode_ohe_X0_f',\n",
       "       'Encode_ohe_X0_g', 'Encode_ohe_X0_h', 'Encode_ohe_X0_i',\n",
       "       'Encode_ohe_X0_j', 'Encode_ohe_X0_k', 'Encode_ohe_X0_l',\n",
       "       'Encode_ohe_X0_m', 'Encode_ohe_X0_n', 'Encode_ohe_X0_o',\n",
       "       'Encode_ohe_X0_p', 'Encode_ohe_X0_q', 'Encode_ohe_X0_r',\n",
       "       'Encode_ohe_X0_s', 'Encode_ohe_X0_t', 'Encode_ohe_X0_u',\n",
       "       'Encode_ohe_X0_v', 'Encode_ohe_X0_w', 'Encode_ohe_X0_x',\n",
       "       'Encode_ohe_X0_y', 'Encode_ohe_X0_z', 'Encode_ohe_X1_a',\n",
       "       'Encode_ohe_X1_aa', 'Encode_ohe_X1_ab', 'Encode_ohe_X1_b',\n",
       "       'Encode_ohe_X1_c', 'Encode_ohe_X1_d', 'Encode_ohe_X1_e',\n",
       "       'Encode_ohe_X1_f', 'Encode_ohe_X1_g', 'Encode_ohe_X1_h',\n",
       "       'Encode_ohe_X1_i', 'Encode_ohe_X1_j', 'Encode_ohe_X1_k',\n",
       "       'Encode_ohe_X1_l', 'Encode_ohe_X1_m', 'Encode_ohe_X1_n',\n",
       "       'Encode_ohe_X1_o', 'Encode_ohe_X1_p', 'Encode_ohe_X1_q',\n",
       "       'Encode_ohe_X1_r', 'Encode_ohe_X1_s', 'Encode_ohe_X1_t',\n",
       "       'Encode_ohe_X1_u', 'Encode_ohe_X1_v', 'Encode_ohe_X1_w',\n",
       "       'Encode_ohe_X1_y', 'Encode_ohe_X1_z', 'Encode_ohe_X2_a',\n",
       "       'Encode_ohe_X2_aa', 'Encode_ohe_X2_ab', 'Encode_ohe_X2_ac',\n",
       "       'Encode_ohe_X2_ad', 'Encode_ohe_X2_ae', 'Encode_ohe_X2_af',\n",
       "       'Encode_ohe_X2_ag', 'Encode_ohe_X2_ah', 'Encode_ohe_X2_ai',\n",
       "       'Encode_ohe_X2_aj', 'Encode_ohe_X2_ak', 'Encode_ohe_X2_al',\n",
       "       'Encode_ohe_X2_am', 'Encode_ohe_X2_an', 'Encode_ohe_X2_ao',\n",
       "       'Encode_ohe_X2_ap', 'Encode_ohe_X2_aq', 'Encode_ohe_X2_ar',\n",
       "       'Encode_ohe_X2_as', 'Encode_ohe_X2_at', 'Encode_ohe_X2_au',\n",
       "       'Encode_ohe_X2_av', 'Encode_ohe_X2_aw', 'Encode_ohe_X2_ax',\n",
       "       'Encode_ohe_X2_ay', 'Encode_ohe_X2_b', 'Encode_ohe_X2_c',\n",
       "       'Encode_ohe_X2_d', 'Encode_ohe_X2_e', 'Encode_ohe_X2_f',\n",
       "       'Encode_ohe_X2_g', 'Encode_ohe_X2_h', 'Encode_ohe_X2_i',\n",
       "       'Encode_ohe_X2_j', 'Encode_ohe_X2_k', 'Encode_ohe_X2_l',\n",
       "       'Encode_ohe_X2_m', 'Encode_ohe_X2_n', 'Encode_ohe_X2_o',\n",
       "       'Encode_ohe_X2_p', 'Encode_ohe_X2_q', 'Encode_ohe_X2_r',\n",
       "       'Encode_ohe_X2_s', 'Encode_ohe_X2_t', 'Encode_ohe_X2_u',\n",
       "       'Encode_ohe_X2_w', 'Encode_ohe_X2_x', 'Encode_ohe_X2_y',\n",
       "       'Encode_ohe_X2_z', 'Encode_ohe_X3_a', 'Encode_ohe_X3_b',\n",
       "       'Encode_ohe_X3_c', 'Encode_ohe_X3_d', 'Encode_ohe_X3_e',\n",
       "       'Encode_ohe_X3_f', 'Encode_ohe_X3_g', 'Encode_ohe_X4_a',\n",
       "       'Encode_ohe_X4_b', 'Encode_ohe_X4_c', 'Encode_ohe_X4_d',\n",
       "       'Encode_ohe_X5_a', 'Encode_ohe_X5_aa', 'Encode_ohe_X5_ab',\n",
       "       'Encode_ohe_X5_ac', 'Encode_ohe_X5_ad', 'Encode_ohe_X5_ae',\n",
       "       'Encode_ohe_X5_af', 'Encode_ohe_X5_ag', 'Encode_ohe_X5_ah',\n",
       "       'Encode_ohe_X5_b', 'Encode_ohe_X5_c', 'Encode_ohe_X5_d',\n",
       "       'Encode_ohe_X5_f', 'Encode_ohe_X5_g', 'Encode_ohe_X5_h',\n",
       "       'Encode_ohe_X5_i', 'Encode_ohe_X5_j', 'Encode_ohe_X5_k',\n",
       "       'Encode_ohe_X5_l', 'Encode_ohe_X5_m', 'Encode_ohe_X5_n',\n",
       "       'Encode_ohe_X5_o', 'Encode_ohe_X5_p', 'Encode_ohe_X5_q',\n",
       "       'Encode_ohe_X5_r', 'Encode_ohe_X5_s', 'Encode_ohe_X5_t',\n",
       "       'Encode_ohe_X5_u', 'Encode_ohe_X5_v', 'Encode_ohe_X5_w',\n",
       "       'Encode_ohe_X5_x', 'Encode_ohe_X5_y', 'Encode_ohe_X5_z',\n",
       "       'Encode_ohe_X6_a', 'Encode_ohe_X6_b', 'Encode_ohe_X6_c',\n",
       "       'Encode_ohe_X6_d', 'Encode_ohe_X6_e', 'Encode_ohe_X6_f',\n",
       "       'Encode_ohe_X6_g', 'Encode_ohe_X6_h', 'Encode_ohe_X6_i',\n",
       "       'Encode_ohe_X6_j', 'Encode_ohe_X6_k', 'Encode_ohe_X6_l',\n",
       "       'Encode_ohe_X8_a', 'Encode_ohe_X8_b', 'Encode_ohe_X8_c',\n",
       "       'Encode_ohe_X8_d', 'Encode_ohe_X8_e', 'Encode_ohe_X8_f',\n",
       "       'Encode_ohe_X8_g', 'Encode_ohe_X8_h', 'Encode_ohe_X8_i',\n",
       "       'Encode_ohe_X8_j', 'Encode_ohe_X8_k', 'Encode_ohe_X8_l',\n",
       "       'Encode_ohe_X8_m', 'Encode_ohe_X8_n', 'Encode_ohe_X8_o',\n",
       "       'Encode_ohe_X8_p', 'Encode_ohe_X8_q', 'Encode_ohe_X8_r',\n",
       "       'Encode_ohe_X8_s', 'Encode_ohe_X8_t', 'Encode_ohe_X8_u',\n",
       "       'Encode_ohe_X8_v', 'Encode_ohe_X8_w', 'Encode_ohe_X8_x',\n",
       "       'Encode_ohe_X8_y', 'Encode_Label_X0', 'Encode_Label_X1',\n",
       "       'Encode_Label_X2', 'Encode_Label_X3', 'Encode_Label_X4',\n",
       "       'Encode_Label_X5', 'Encode_Label_X6', 'Encode_Label_X8',\n",
       "       'DR_TSVD_1', 'DR_PCA_1', 'DR_ICA_1', 'DR_GRP_1', 'DR_SRP_1',\n",
       "       'DR_NMF_1', 'DR_FAG_1', 'DR_TSVD_2', 'DR_PCA_2', 'DR_ICA_2',\n",
       "       'DR_GRP_2', 'DR_SRP_2', 'DR_NMF_2', 'DR_FAG_2', 'DR_TSVD_3',\n",
       "       'DR_PCA_3', 'DR_ICA_3', 'DR_GRP_3', 'DR_SRP_3', 'DR_NMF_3',\n",
       "       'DR_FAG_3', 'DR_TSVD_4', 'DR_PCA_4', 'DR_ICA_4', 'DR_GRP_4',\n",
       "       'DR_SRP_4', 'DR_NMF_4', 'DR_FAG_4', 'DR_TSVD_5', 'DR_PCA_5',\n",
       "       'DR_ICA_5', 'DR_GRP_5', 'DR_SRP_5', 'DR_NMF_5', 'DR_FAG_5',\n",
       "       'DR_TSVD_6', 'DR_PCA_6', 'DR_ICA_6', 'DR_GRP_6', 'DR_SRP_6',\n",
       "       'DR_NMF_6', 'DR_FAG_6', 'DR_TSVD_7', 'DR_PCA_7', 'DR_ICA_7',\n",
       "       'DR_GRP_7', 'DR_SRP_7', 'DR_NMF_7', 'DR_FAG_7', 'DR_TSVD_8',\n",
       "       'DR_PCA_8', 'DR_ICA_8', 'DR_GRP_8', 'DR_SRP_8', 'DR_NMF_8',\n",
       "       'DR_FAG_8', 'DR_TSVD_9', 'DR_PCA_9', 'DR_ICA_9', 'DR_GRP_9',\n",
       "       'DR_SRP_9', 'DR_NMF_9', 'DR_FAG_9', 'DR_TSVD_10', 'DR_PCA_10',\n",
       "       'DR_ICA_10', 'DR_GRP_10', 'DR_SRP_10', 'DR_NMF_10', 'DR_FAG_10',\n",
       "       'DR_TSVD_11', 'DR_PCA_11', 'DR_ICA_11', 'DR_GRP_11', 'DR_SRP_11',\n",
       "       'DR_NMF_11', 'DR_FAG_11', 'DR_TSVD_12', 'DR_PCA_12', 'DR_ICA_12',\n",
       "       'DR_GRP_12', 'DR_SRP_12', 'DR_NMF_12', 'DR_FAG_12',\n",
       "       'outlierDist_ohe', 'outlierDist_label', 'outlierDist_bin',\n",
       "       'outlierDist_tailoredBin', 'outlierDist_all', 'CL_TSNE_1',\n",
       "       'CL_MDS_1', 'CL_TSNE_2', 'CL_MDS_2', 'CL_BIRCH_1', 'CL_BIRCH_2',\n",
       "       'CL_Kmeans_0', 'CL_Kmeans_1', 'CL_Kmeans_2', 'CL_Kmeans_3',\n",
       "       'CL_DBSCAN_-1', 'CL_DBSCAN_0', 'CL_DBSCAN_1', 'CL_DBSCAN_2',\n",
       "       'CL_DBSCAN_3', 'CL_DBSCAN_4', 'CL_DBSCAN_5', 'CL_DBSCAN_6'], dtype=object)"
      ]
     },
     "execution_count": 8,
     "metadata": {},
     "output_type": "execute_result"
    }
   ],
   "source": [
    "dt_all_train.columns.values"
   ]
  },
  {
   "cell_type": "code",
   "execution_count": null,
   "metadata": {},
   "outputs": [],
   "source": [
    "dt_withOutlier_aggDupsMedian.shape"
   ]
  },
  {
   "cell_type": "code",
   "execution_count": null,
   "metadata": {},
   "outputs": [],
   "source": [
    "dt_withOutlier_aggDupsMedian.head()"
   ]
  },
  {
   "cell_type": "code",
   "execution_count": null,
   "metadata": {},
   "outputs": [],
   "source": [
    "featureSelectRun(\"xgb\", dt_withOutlier_aggDupsMedian, ids_train, ids_test, cols_cat, cols_bin, rounds = 100, autoFolds = True)"
   ]
  }
 ],
 "metadata": {
  "kernelspec": {
   "display_name": "Python 3",
   "language": "python",
   "name": "python3"
  },
  "language_info": {
   "codemirror_mode": {
    "name": "ipython",
    "version": 3
   },
   "file_extension": ".py",
   "mimetype": "text/x-python",
   "name": "python",
   "nbconvert_exporter": "python",
   "pygments_lexer": "ipython3",
   "version": "3.5.2"
  }
 },
 "nbformat": 4,
 "nbformat_minor": 2
}
