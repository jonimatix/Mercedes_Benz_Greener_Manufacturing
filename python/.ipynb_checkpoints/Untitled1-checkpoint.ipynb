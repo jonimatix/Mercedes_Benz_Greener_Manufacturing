{
 "cells": [
  {
   "cell_type": "code",
   "execution_count": 1,
   "metadata": {
    "collapsed": true
   },
   "outputs": [],
   "source": [
    "import numpy as np # linear algebra\n",
    "import pandas as pd # data processing, CSV file I/O (e.g. pd.read_csv)\n",
    "from sklearn.preprocessing import LabelEncoder, MinMaxScaler\n",
    "from sklearn.random_projection import GaussianRandomProjection\n",
    "from sklearn.random_projection import SparseRandomProjection\n",
    "##Add decomposed components: PCA / ICA etc.\n",
    "from sklearn.decomposition import PCA, FastICA\n",
    "from sklearn.decomposition import TruncatedSVD\n",
    "import xgboost as xgb\n",
    "from sklearn.metrics import r2_score\n",
    "from sklearn.model_selection import StratifiedKFold, KFold\n",
    "import matplotlib.pyplot as plt"
   ]
  },
  {
   "cell_type": "markdown",
   "metadata": {},
   "source": [
    "## 1. Load"
   ]
  },
  {
   "cell_type": "code",
   "execution_count": 2,
   "metadata": {
    "collapsed": true
   },
   "outputs": [],
   "source": [
    "# load data\n",
    "train = pd.read_csv(\"../../data/Mercedes_Benz_Greener_Manufacturing/raw/train.csv\")\n",
    "test = pd.read_csv(\"../../data/Mercedes_Benz_Greener_Manufacturing/raw/test.csv\")"
   ]
  },
  {
   "cell_type": "code",
   "execution_count": 3,
   "metadata": {},
   "outputs": [
    {
     "data": {
      "text/html": [
       "<div>\n",
       "<style>\n",
       "    .dataframe thead tr:only-child th {\n",
       "        text-align: right;\n",
       "    }\n",
       "\n",
       "    .dataframe thead th {\n",
       "        text-align: left;\n",
       "    }\n",
       "\n",
       "    .dataframe tbody tr th {\n",
       "        vertical-align: top;\n",
       "    }\n",
       "</style>\n",
       "<table border=\"1\" class=\"dataframe\">\n",
       "  <thead>\n",
       "    <tr style=\"text-align: right;\">\n",
       "      <th></th>\n",
       "      <th>ID</th>\n",
       "      <th>y</th>\n",
       "      <th>X0</th>\n",
       "      <th>X1</th>\n",
       "      <th>X2</th>\n",
       "      <th>X3</th>\n",
       "      <th>X4</th>\n",
       "      <th>X5</th>\n",
       "      <th>X6</th>\n",
       "      <th>X8</th>\n",
       "      <th>...</th>\n",
       "      <th>X375</th>\n",
       "      <th>X376</th>\n",
       "      <th>X377</th>\n",
       "      <th>X378</th>\n",
       "      <th>X379</th>\n",
       "      <th>X380</th>\n",
       "      <th>X382</th>\n",
       "      <th>X383</th>\n",
       "      <th>X384</th>\n",
       "      <th>X385</th>\n",
       "    </tr>\n",
       "  </thead>\n",
       "  <tbody>\n",
       "    <tr>\n",
       "      <th>0</th>\n",
       "      <td>0</td>\n",
       "      <td>130.81</td>\n",
       "      <td>k</td>\n",
       "      <td>v</td>\n",
       "      <td>at</td>\n",
       "      <td>a</td>\n",
       "      <td>d</td>\n",
       "      <td>u</td>\n",
       "      <td>j</td>\n",
       "      <td>o</td>\n",
       "      <td>...</td>\n",
       "      <td>0</td>\n",
       "      <td>0</td>\n",
       "      <td>1</td>\n",
       "      <td>0</td>\n",
       "      <td>0</td>\n",
       "      <td>0</td>\n",
       "      <td>0</td>\n",
       "      <td>0</td>\n",
       "      <td>0</td>\n",
       "      <td>0</td>\n",
       "    </tr>\n",
       "    <tr>\n",
       "      <th>1</th>\n",
       "      <td>6</td>\n",
       "      <td>88.53</td>\n",
       "      <td>k</td>\n",
       "      <td>t</td>\n",
       "      <td>av</td>\n",
       "      <td>e</td>\n",
       "      <td>d</td>\n",
       "      <td>y</td>\n",
       "      <td>l</td>\n",
       "      <td>o</td>\n",
       "      <td>...</td>\n",
       "      <td>1</td>\n",
       "      <td>0</td>\n",
       "      <td>0</td>\n",
       "      <td>0</td>\n",
       "      <td>0</td>\n",
       "      <td>0</td>\n",
       "      <td>0</td>\n",
       "      <td>0</td>\n",
       "      <td>0</td>\n",
       "      <td>0</td>\n",
       "    </tr>\n",
       "    <tr>\n",
       "      <th>2</th>\n",
       "      <td>7</td>\n",
       "      <td>76.26</td>\n",
       "      <td>az</td>\n",
       "      <td>w</td>\n",
       "      <td>n</td>\n",
       "      <td>c</td>\n",
       "      <td>d</td>\n",
       "      <td>x</td>\n",
       "      <td>j</td>\n",
       "      <td>x</td>\n",
       "      <td>...</td>\n",
       "      <td>0</td>\n",
       "      <td>0</td>\n",
       "      <td>0</td>\n",
       "      <td>0</td>\n",
       "      <td>0</td>\n",
       "      <td>0</td>\n",
       "      <td>1</td>\n",
       "      <td>0</td>\n",
       "      <td>0</td>\n",
       "      <td>0</td>\n",
       "    </tr>\n",
       "    <tr>\n",
       "      <th>3</th>\n",
       "      <td>9</td>\n",
       "      <td>80.62</td>\n",
       "      <td>az</td>\n",
       "      <td>t</td>\n",
       "      <td>n</td>\n",
       "      <td>f</td>\n",
       "      <td>d</td>\n",
       "      <td>x</td>\n",
       "      <td>l</td>\n",
       "      <td>e</td>\n",
       "      <td>...</td>\n",
       "      <td>0</td>\n",
       "      <td>0</td>\n",
       "      <td>0</td>\n",
       "      <td>0</td>\n",
       "      <td>0</td>\n",
       "      <td>0</td>\n",
       "      <td>0</td>\n",
       "      <td>0</td>\n",
       "      <td>0</td>\n",
       "      <td>0</td>\n",
       "    </tr>\n",
       "    <tr>\n",
       "      <th>4</th>\n",
       "      <td>13</td>\n",
       "      <td>78.02</td>\n",
       "      <td>az</td>\n",
       "      <td>v</td>\n",
       "      <td>n</td>\n",
       "      <td>f</td>\n",
       "      <td>d</td>\n",
       "      <td>h</td>\n",
       "      <td>d</td>\n",
       "      <td>n</td>\n",
       "      <td>...</td>\n",
       "      <td>0</td>\n",
       "      <td>0</td>\n",
       "      <td>0</td>\n",
       "      <td>0</td>\n",
       "      <td>0</td>\n",
       "      <td>0</td>\n",
       "      <td>0</td>\n",
       "      <td>0</td>\n",
       "      <td>0</td>\n",
       "      <td>0</td>\n",
       "    </tr>\n",
       "  </tbody>\n",
       "</table>\n",
       "<p>5 rows × 378 columns</p>\n",
       "</div>"
      ],
      "text/plain": [
       "   ID       y  X0 X1  X2 X3 X4 X5 X6 X8  ...   X375  X376  X377  X378  X379  \\\n",
       "0   0  130.81   k  v  at  a  d  u  j  o  ...      0     0     1     0     0   \n",
       "1   6   88.53   k  t  av  e  d  y  l  o  ...      1     0     0     0     0   \n",
       "2   7   76.26  az  w   n  c  d  x  j  x  ...      0     0     0     0     0   \n",
       "3   9   80.62  az  t   n  f  d  x  l  e  ...      0     0     0     0     0   \n",
       "4  13   78.02  az  v   n  f  d  h  d  n  ...      0     0     0     0     0   \n",
       "\n",
       "   X380  X382  X383  X384  X385  \n",
       "0     0     0     0     0     0  \n",
       "1     0     0     0     0     0  \n",
       "2     0     1     0     0     0  \n",
       "3     0     0     0     0     0  \n",
       "4     0     0     0     0     0  \n",
       "\n",
       "[5 rows x 378 columns]"
      ]
     },
     "execution_count": 3,
     "metadata": {},
     "output_type": "execute_result"
    }
   ],
   "source": [
    "train.head()"
   ]
  },
  {
   "cell_type": "code",
   "execution_count": 4,
   "metadata": {},
   "outputs": [
    {
     "name": "stdout",
     "output_type": "stream",
     "text": [
      "(4209, 378) (4209, 377)\n"
     ]
    }
   ],
   "source": [
    "print(train.shape, test.shape)"
   ]
  },
  {
   "cell_type": "markdown",
   "metadata": {},
   "source": [
    "## 3. Encode"
   ]
  },
  {
   "cell_type": "code",
   "execution_count": 5,
   "metadata": {
    "collapsed": true
   },
   "outputs": [],
   "source": [
    "cols_cat = train.select_dtypes(include = ['object']).columns.values"
   ]
  },
  {
   "cell_type": "code",
   "execution_count": 6,
   "metadata": {},
   "outputs": [],
   "source": [
    "dt_cat_train_y = train[cols_cat].join(train.y)\n",
    "dt_cat_test = train[cols_cat].join(train.y)"
   ]
  },
  {
   "cell_type": "code",
   "execution_count": 7,
   "metadata": {
    "collapsed": true
   },
   "outputs": [],
   "source": [
    "for c in cols_cat:\n",
    "    x = list(set(list(train[c].values) + list(test[c].values))) \n",
    "    x.sort()\n",
    "    x.sort(key = len)\n",
    "    dt_labelEncode_c = pd.DataFrame({\"Encode_\" + c: [i for i in range(1, (len(x) + 1))]\n",
    "                                     , c: x})\n",
    "\n",
    "    train = pd.merge(train, dt_labelEncode_c, on = c)\n",
    "    test = pd.merge(test, dt_labelEncode_c, on = c)"
   ]
  },
  {
   "cell_type": "code",
   "execution_count": 8,
   "metadata": {},
   "outputs": [],
   "source": [
    "train = train.drop(cols_cat, axis = 1)\n",
    "test = test.drop(cols_cat, axis = 1)"
   ]
  },
  {
   "cell_type": "code",
   "execution_count": 9,
   "metadata": {},
   "outputs": [
    {
     "data": {
      "text/html": [
       "<div>\n",
       "<style>\n",
       "    .dataframe thead tr:only-child th {\n",
       "        text-align: right;\n",
       "    }\n",
       "\n",
       "    .dataframe thead th {\n",
       "        text-align: left;\n",
       "    }\n",
       "\n",
       "    .dataframe tbody tr th {\n",
       "        vertical-align: top;\n",
       "    }\n",
       "</style>\n",
       "<table border=\"1\" class=\"dataframe\">\n",
       "  <thead>\n",
       "    <tr style=\"text-align: right;\">\n",
       "      <th></th>\n",
       "      <th>ID</th>\n",
       "      <th>y</th>\n",
       "      <th>X10</th>\n",
       "      <th>X11</th>\n",
       "      <th>X12</th>\n",
       "      <th>X13</th>\n",
       "      <th>X14</th>\n",
       "      <th>X15</th>\n",
       "      <th>X16</th>\n",
       "      <th>X17</th>\n",
       "      <th>X18</th>\n",
       "      <th>X19</th>\n",
       "      <th>X20</th>\n",
       "      <th>X21</th>\n",
       "      <th>X22</th>\n",
       "      <th>X23</th>\n",
       "      <th>X24</th>\n",
       "      <th>X26</th>\n",
       "      <th>X27</th>\n",
       "      <th>X28</th>\n",
       "    </tr>\n",
       "  </thead>\n",
       "  <tbody>\n",
       "    <tr>\n",
       "      <th>0</th>\n",
       "      <td>0</td>\n",
       "      <td>130.81</td>\n",
       "      <td>0</td>\n",
       "      <td>0</td>\n",
       "      <td>0</td>\n",
       "      <td>1</td>\n",
       "      <td>0</td>\n",
       "      <td>0</td>\n",
       "      <td>0</td>\n",
       "      <td>0</td>\n",
       "      <td>1</td>\n",
       "      <td>0</td>\n",
       "      <td>0</td>\n",
       "      <td>1</td>\n",
       "      <td>0</td>\n",
       "      <td>0</td>\n",
       "      <td>0</td>\n",
       "      <td>0</td>\n",
       "      <td>0</td>\n",
       "      <td>0</td>\n",
       "    </tr>\n",
       "    <tr>\n",
       "      <th>1</th>\n",
       "      <td>5761</td>\n",
       "      <td>115.07</td>\n",
       "      <td>0</td>\n",
       "      <td>0</td>\n",
       "      <td>0</td>\n",
       "      <td>0</td>\n",
       "      <td>0</td>\n",
       "      <td>0</td>\n",
       "      <td>0</td>\n",
       "      <td>0</td>\n",
       "      <td>0</td>\n",
       "      <td>0</td>\n",
       "      <td>1</td>\n",
       "      <td>0</td>\n",
       "      <td>0</td>\n",
       "      <td>0</td>\n",
       "      <td>0</td>\n",
       "      <td>0</td>\n",
       "      <td>0</td>\n",
       "      <td>0</td>\n",
       "    </tr>\n",
       "    <tr>\n",
       "      <th>2</th>\n",
       "      <td>5883</td>\n",
       "      <td>77.38</td>\n",
       "      <td>0</td>\n",
       "      <td>0</td>\n",
       "      <td>0</td>\n",
       "      <td>0</td>\n",
       "      <td>0</td>\n",
       "      <td>0</td>\n",
       "      <td>0</td>\n",
       "      <td>0</td>\n",
       "      <td>1</td>\n",
       "      <td>0</td>\n",
       "      <td>0</td>\n",
       "      <td>0</td>\n",
       "      <td>0</td>\n",
       "      <td>0</td>\n",
       "      <td>0</td>\n",
       "      <td>0</td>\n",
       "      <td>1</td>\n",
       "      <td>0</td>\n",
       "    </tr>\n",
       "    <tr>\n",
       "      <th>3</th>\n",
       "      <td>4275</td>\n",
       "      <td>111.21</td>\n",
       "      <td>0</td>\n",
       "      <td>0</td>\n",
       "      <td>0</td>\n",
       "      <td>0</td>\n",
       "      <td>0</td>\n",
       "      <td>0</td>\n",
       "      <td>0</td>\n",
       "      <td>0</td>\n",
       "      <td>0</td>\n",
       "      <td>0</td>\n",
       "      <td>0</td>\n",
       "      <td>0</td>\n",
       "      <td>0</td>\n",
       "      <td>0</td>\n",
       "      <td>0</td>\n",
       "      <td>1</td>\n",
       "      <td>1</td>\n",
       "      <td>0</td>\n",
       "    </tr>\n",
       "    <tr>\n",
       "      <th>4</th>\n",
       "      <td>7348</td>\n",
       "      <td>103.70</td>\n",
       "      <td>0</td>\n",
       "      <td>0</td>\n",
       "      <td>0</td>\n",
       "      <td>0</td>\n",
       "      <td>1</td>\n",
       "      <td>0</td>\n",
       "      <td>0</td>\n",
       "      <td>0</td>\n",
       "      <td>0</td>\n",
       "      <td>0</td>\n",
       "      <td>0</td>\n",
       "      <td>0</td>\n",
       "      <td>0</td>\n",
       "      <td>0</td>\n",
       "      <td>0</td>\n",
       "      <td>0</td>\n",
       "      <td>1</td>\n",
       "      <td>0</td>\n",
       "    </tr>\n",
       "  </tbody>\n",
       "</table>\n",
       "</div>"
      ],
      "text/plain": [
       "     ID       y  X10  X11  X12  X13  X14  X15  X16  X17  X18  X19  X20  X21  \\\n",
       "0     0  130.81    0    0    0    1    0    0    0    0    1    0    0    1   \n",
       "1  5761  115.07    0    0    0    0    0    0    0    0    0    0    1    0   \n",
       "2  5883   77.38    0    0    0    0    0    0    0    0    1    0    0    0   \n",
       "3  4275  111.21    0    0    0    0    0    0    0    0    0    0    0    0   \n",
       "4  7348  103.70    0    0    0    0    1    0    0    0    0    0    0    0   \n",
       "\n",
       "   X22  X23  X24  X26  X27  X28  \n",
       "0    0    0    0    0    0    0  \n",
       "1    0    0    0    0    0    0  \n",
       "2    0    0    0    0    1    0  \n",
       "3    0    0    0    1    1    0  \n",
       "4    0    0    0    0    1    0  "
      ]
     },
     "execution_count": 9,
     "metadata": {},
     "output_type": "execute_result"
    }
   ],
   "source": [
    "train.iloc[:5, 0:20]"
   ]
  },
  {
   "cell_type": "markdown",
   "metadata": {},
   "source": [
    "## 3. Decomposition"
   ]
  },
  {
   "cell_type": "code",
   "execution_count": 10,
   "metadata": {},
   "outputs": [],
   "source": [
    "n_comp = 12\n",
    "\n",
    "# tSVD\n",
    "tsvd = TruncatedSVD(n_components=n_comp, random_state=420)\n",
    "tsvd_results_train = tsvd.fit_transform(train.drop([\"y\"], axis=1))\n",
    "tsvd_results_test = tsvd.transform(test)\n",
    "\n",
    "# PCA\n",
    "pca = PCA(n_components=n_comp, random_state=420)\n",
    "pca2_results_train = pca.fit_transform(train.drop([\"y\"], axis=1))\n",
    "pca2_results_test = pca.transform(test)\n",
    "\n",
    "# ICA\n",
    "ica = FastICA(n_components=n_comp, random_state=420)\n",
    "ica2_results_train = ica.fit_transform(train.drop([\"y\"], axis=1))\n",
    "ica2_results_test = ica.transform(test)\n",
    "\n",
    "# GRP\n",
    "grp = GaussianRandomProjection(n_components=n_comp, eps=0.1, random_state=420)\n",
    "grp_results_train = grp.fit_transform(train.drop([\"y\"], axis=1))\n",
    "grp_results_test = grp.transform(test)\n",
    "\n",
    "# SRP\n",
    "srp = SparseRandomProjection(n_components=n_comp, dense_output=True, random_state=420)\n",
    "srp_results_train = srp.fit_transform(train.drop([\"y\"], axis=1))\n",
    "srp_results_test = srp.transform(test)"
   ]
  },
  {
   "cell_type": "code",
   "execution_count": 11,
   "metadata": {
    "collapsed": true
   },
   "outputs": [],
   "source": [
    "#save columns list before adding the decomposition components\n",
    "\n",
    "usable_columns = list(set(train.columns) - set(['y']))\n",
    "\n",
    "# Append decomposition components to datasets\n",
    "for i in range(1, n_comp + 1):\n",
    "    train['pca_' + str(i)] = pca2_results_train[:, i - 1]\n",
    "    test['pca_' + str(i)] = pca2_results_test[:, i - 1]\n",
    "\n",
    "    train['ica_' + str(i)] = ica2_results_train[:, i - 1]\n",
    "    test['ica_' + str(i)] = ica2_results_test[:, i - 1]\n",
    "\n",
    "    train['tsvd_' + str(i)] = tsvd_results_train[:, i - 1]\n",
    "    test['tsvd_' + str(i)] = tsvd_results_test[:, i - 1]\n",
    "\n",
    "    train['grp_' + str(i)] = grp_results_train[:, i - 1]\n",
    "    test['grp_' + str(i)] = grp_results_test[:, i - 1]\n",
    "\n",
    "    train['srp_' + str(i)] = srp_results_train[:, i - 1]\n",
    "    test['srp_' + str(i)] = srp_results_test[:, i - 1]\n"
   ]
  },
  {
   "cell_type": "code",
   "execution_count": 12,
   "metadata": {},
   "outputs": [
    {
     "data": {
      "text/plain": [
       "(4209, 438)"
      ]
     },
     "execution_count": 12,
     "metadata": {},
     "output_type": "execute_result"
    }
   ],
   "source": [
    "train.shape"
   ]
  },
  {
   "cell_type": "markdown",
   "metadata": {},
   "source": [
    "## 4. Feature Engineer"
   ]
  },
  {
   "cell_type": "code",
   "execution_count": 13,
   "metadata": {
    "collapsed": true
   },
   "outputs": [],
   "source": [
    "# oof to encode cols_cat with TargetMean\n",
    "def getTargetMean(dt, dt_all, cols, k = 3):\n",
    "\n",
    "    # init dt_targetMean\n",
    "    dt_targetMean = pd.DataFrame()\n",
    "\n",
    "    for col in cols:\n",
    "    \n",
    "        # init dt_targetMean_oof\n",
    "        dt_targetMean_oof = pd.DataFrame()\n",
    "        \n",
    "        # X_targetMean_Kfold, y_targetMean_Kfold\n",
    "        X_targetMean_Kfold = dt[[col, \"y\"]]\n",
    "        y_targetMean_Kfold = dt[col].values\n",
    "\n",
    "        # oof cv\n",
    "#         skf = StratifiedKFold(n_splits = k)\n",
    "        kf = KFold(n_splits = k)\n",
    "        \n",
    "        \n",
    "#         for i, (ind_in, ind_out) in enumerate(skf.split(X_targetMean_Kfold, y_targetMean_Kfold)):\n",
    "        for i, (ind_in, ind_out) in enumerate(kf.split(X_targetMean_Kfold)):\n",
    "\n",
    "            # init dt_targetMean_oof\n",
    "            dt_targetMean_val = pd.DataFrame()\n",
    "\n",
    "            # X_in, X_out, y_in, y_out\n",
    "            X_in, X_out = X_targetMean_Kfold.iloc[ind_in], X_targetMean_Kfold.iloc[ind_out]\n",
    "            y_in, y_out = y_targetMean_Kfold[ind_in], y_targetMean_Kfold[ind_out]\n",
    "\n",
    "            # calc TargetMean\n",
    "            for val in set(X_in[col].values):\n",
    "                dt_targetMean_temp = pd.DataFrame({\"Value\": [val]\n",
    "                                                   , \"TargetMean_\" + str(i): [X_in.loc[X_in[col] == val].y.mean()]})\n",
    "                dt_targetMean_val = pd.concat([dt_targetMean_val, dt_targetMean_temp])\n",
    "\n",
    "            # merge with oof\n",
    "            if i == 0:\n",
    "                dt_targetMean_oof = pd.merge(X_targetMean_Kfold.drop(\"y\", axis = 1).drop_duplicates(), dt_targetMean_val\n",
    "                                             , how = \"left\", left_on = col, right_on = \"Value\")\n",
    "                dt_targetMean_oof = dt_targetMean_oof.drop(col, axis = 1)\n",
    "            else:\n",
    "                dt_targetMean_oof = pd.merge(dt_targetMean_oof, dt_targetMean_val\n",
    "                                             , how = \"left\", on = \"Value\")\n",
    "\n",
    "        # move Value to the first column\n",
    "        value = dt_targetMean_oof['Value']\n",
    "        dt_targetMean_oof.drop(labels = [\"Value\"], axis = 1,inplace = True)\n",
    "        dt_targetMean_oof.insert(0, 'Value', value)\n",
    "        # assign col\n",
    "        dt_targetMean_oof.insert(0, 'Col', col)\n",
    "        \n",
    "        # concat with col\n",
    "        dt_targetMean = pd.concat([dt_targetMean, dt_targetMean_oof])\n",
    "    \n",
    "    # mean of oof\n",
    "    dt_targetMean[\"TargetMean\"] = dt_targetMean.filter(regex = \"TargetMean\").mean(axis = 1)\n",
    "    # fill zero\n",
    "    dt_targetMean = dt_targetMean.fillna(0)\n",
    "    # remove oof cols\n",
    "    dt_targetMean = dt_targetMean[[\"Col\", \"Value\", \"TargetMean\"]]\n",
    "\n",
    "    # merge to original table\n",
    "    dt_cat_cols = dt_all[cols]\n",
    "    \n",
    "    for col in cols_cat:\n",
    "        dt_cat_cols = pd.merge(dt_cat_cols, dt_targetMean.loc[dt_targetMean[\"Col\"] == col]\n",
    "                           , how = \"left\", left_on = col, right_on = \"Value\")\n",
    "        dt_cat_cols = dt_cat_cols.drop([\"Value\", \"Col\"], axis = 1)\n",
    "        dt_cat_cols = dt_cat_cols.rename(columns = {\"TargetMean\": \"Encode_TargetMean_\" + col})\n",
    "    # fill zero\n",
    "    dt_cat_cols = dt_cat_cols.fillna(0)\n",
    "    \n",
    "    # only select targetMean cols\n",
    "    dt_cat_targetMean = dt_cat_cols.filter(regex = \"Encode_TargetMean_\")\n",
    "        \n",
    "    return dt_cat_targetMean"
   ]
  },
  {
   "cell_type": "code",
   "execution_count": 14,
   "metadata": {},
   "outputs": [],
   "source": [
    "## remove the outlier and tm\n",
    "dt_cat_targetMean_train = getTargetMean(dt_cat_train_y\n",
    "                                  , train.join(dt_cat_train_y[cols_cat])\n",
    "                                  , cols_cat\n",
    "                                  , 5)\n",
    "dt_cat_targetMean_test = getTargetMean(dt_cat_train_y\n",
    "                                  , test.join(dt_cat_test[cols_cat])\n",
    "                                  , cols_cat\n",
    "                                  , 5)"
   ]
  },
  {
   "cell_type": "code",
   "execution_count": 15,
   "metadata": {},
   "outputs": [
    {
     "data": {
      "text/html": [
       "<div>\n",
       "<style>\n",
       "    .dataframe thead tr:only-child th {\n",
       "        text-align: right;\n",
       "    }\n",
       "\n",
       "    .dataframe thead th {\n",
       "        text-align: left;\n",
       "    }\n",
       "\n",
       "    .dataframe tbody tr th {\n",
       "        vertical-align: top;\n",
       "    }\n",
       "</style>\n",
       "<table border=\"1\" class=\"dataframe\">\n",
       "  <thead>\n",
       "    <tr style=\"text-align: right;\">\n",
       "      <th></th>\n",
       "      <th>Encode_TargetMean_X0</th>\n",
       "      <th>Encode_TargetMean_X1</th>\n",
       "      <th>Encode_TargetMean_X2</th>\n",
       "      <th>Encode_TargetMean_X3</th>\n",
       "      <th>Encode_TargetMean_X4</th>\n",
       "      <th>Encode_TargetMean_X5</th>\n",
       "      <th>Encode_TargetMean_X6</th>\n",
       "      <th>Encode_TargetMean_X8</th>\n",
       "    </tr>\n",
       "  </thead>\n",
       "  <tbody>\n",
       "    <tr>\n",
       "      <th>0</th>\n",
       "      <td>99.573794</td>\n",
       "      <td>101.410135</td>\n",
       "      <td>105.899133</td>\n",
       "      <td>102.470110</td>\n",
       "      <td>100.658327</td>\n",
       "      <td>0.0</td>\n",
       "      <td>101.165622</td>\n",
       "      <td>97.738131</td>\n",
       "    </tr>\n",
       "    <tr>\n",
       "      <th>1</th>\n",
       "      <td>99.573794</td>\n",
       "      <td>93.742023</td>\n",
       "      <td>95.873333</td>\n",
       "      <td>100.037380</td>\n",
       "      <td>100.658327</td>\n",
       "      <td>0.0</td>\n",
       "      <td>98.943528</td>\n",
       "      <td>97.738131</td>\n",
       "    </tr>\n",
       "    <tr>\n",
       "      <th>2</th>\n",
       "      <td>78.019894</td>\n",
       "      <td>95.781197</td>\n",
       "      <td>83.367776</td>\n",
       "      <td>101.956493</td>\n",
       "      <td>100.658327</td>\n",
       "      <td>0.0</td>\n",
       "      <td>101.165622</td>\n",
       "      <td>98.598047</td>\n",
       "    </tr>\n",
       "    <tr>\n",
       "      <th>3</th>\n",
       "      <td>78.019894</td>\n",
       "      <td>93.742023</td>\n",
       "      <td>83.367776</td>\n",
       "      <td>96.568490</td>\n",
       "      <td>100.658327</td>\n",
       "      <td>0.0</td>\n",
       "      <td>98.943528</td>\n",
       "      <td>104.995109</td>\n",
       "    </tr>\n",
       "    <tr>\n",
       "      <th>4</th>\n",
       "      <td>78.019894</td>\n",
       "      <td>101.410135</td>\n",
       "      <td>83.367776</td>\n",
       "      <td>96.568490</td>\n",
       "      <td>100.658327</td>\n",
       "      <td>0.0</td>\n",
       "      <td>101.349220</td>\n",
       "      <td>102.194921</td>\n",
       "    </tr>\n",
       "  </tbody>\n",
       "</table>\n",
       "</div>"
      ],
      "text/plain": [
       "   Encode_TargetMean_X0  Encode_TargetMean_X1  Encode_TargetMean_X2  \\\n",
       "0             99.573794            101.410135            105.899133   \n",
       "1             99.573794             93.742023             95.873333   \n",
       "2             78.019894             95.781197             83.367776   \n",
       "3             78.019894             93.742023             83.367776   \n",
       "4             78.019894            101.410135             83.367776   \n",
       "\n",
       "   Encode_TargetMean_X3  Encode_TargetMean_X4  Encode_TargetMean_X5  \\\n",
       "0            102.470110            100.658327                   0.0   \n",
       "1            100.037380            100.658327                   0.0   \n",
       "2            101.956493            100.658327                   0.0   \n",
       "3             96.568490            100.658327                   0.0   \n",
       "4             96.568490            100.658327                   0.0   \n",
       "\n",
       "   Encode_TargetMean_X6  Encode_TargetMean_X8  \n",
       "0            101.165622             97.738131  \n",
       "1             98.943528             97.738131  \n",
       "2            101.165622             98.598047  \n",
       "3             98.943528            104.995109  \n",
       "4            101.349220            102.194921  "
      ]
     },
     "execution_count": 15,
     "metadata": {},
     "output_type": "execute_result"
    }
   ],
   "source": [
    "dt_cat_targetMean_train.head()"
   ]
  },
  {
   "cell_type": "code",
   "execution_count": 16,
   "metadata": {},
   "outputs": [
    {
     "data": {
      "text/html": [
       "<div>\n",
       "<style>\n",
       "    .dataframe thead tr:only-child th {\n",
       "        text-align: right;\n",
       "    }\n",
       "\n",
       "    .dataframe thead th {\n",
       "        text-align: left;\n",
       "    }\n",
       "\n",
       "    .dataframe tbody tr th {\n",
       "        vertical-align: top;\n",
       "    }\n",
       "</style>\n",
       "<table border=\"1\" class=\"dataframe\">\n",
       "  <thead>\n",
       "    <tr style=\"text-align: right;\">\n",
       "      <th></th>\n",
       "      <th>X0</th>\n",
       "      <th>X1</th>\n",
       "      <th>X2</th>\n",
       "      <th>X3</th>\n",
       "      <th>X4</th>\n",
       "      <th>X5</th>\n",
       "      <th>X6</th>\n",
       "      <th>X8</th>\n",
       "      <th>y</th>\n",
       "    </tr>\n",
       "  </thead>\n",
       "  <tbody>\n",
       "    <tr>\n",
       "      <th>0</th>\n",
       "      <td>k</td>\n",
       "      <td>v</td>\n",
       "      <td>at</td>\n",
       "      <td>a</td>\n",
       "      <td>d</td>\n",
       "      <td>u</td>\n",
       "      <td>j</td>\n",
       "      <td>o</td>\n",
       "      <td>130.81</td>\n",
       "    </tr>\n",
       "    <tr>\n",
       "      <th>1</th>\n",
       "      <td>k</td>\n",
       "      <td>t</td>\n",
       "      <td>av</td>\n",
       "      <td>e</td>\n",
       "      <td>d</td>\n",
       "      <td>y</td>\n",
       "      <td>l</td>\n",
       "      <td>o</td>\n",
       "      <td>88.53</td>\n",
       "    </tr>\n",
       "    <tr>\n",
       "      <th>2</th>\n",
       "      <td>az</td>\n",
       "      <td>w</td>\n",
       "      <td>n</td>\n",
       "      <td>c</td>\n",
       "      <td>d</td>\n",
       "      <td>x</td>\n",
       "      <td>j</td>\n",
       "      <td>x</td>\n",
       "      <td>76.26</td>\n",
       "    </tr>\n",
       "    <tr>\n",
       "      <th>3</th>\n",
       "      <td>az</td>\n",
       "      <td>t</td>\n",
       "      <td>n</td>\n",
       "      <td>f</td>\n",
       "      <td>d</td>\n",
       "      <td>x</td>\n",
       "      <td>l</td>\n",
       "      <td>e</td>\n",
       "      <td>80.62</td>\n",
       "    </tr>\n",
       "    <tr>\n",
       "      <th>4</th>\n",
       "      <td>az</td>\n",
       "      <td>v</td>\n",
       "      <td>n</td>\n",
       "      <td>f</td>\n",
       "      <td>d</td>\n",
       "      <td>h</td>\n",
       "      <td>d</td>\n",
       "      <td>n</td>\n",
       "      <td>78.02</td>\n",
       "    </tr>\n",
       "  </tbody>\n",
       "</table>\n",
       "</div>"
      ],
      "text/plain": [
       "   X0 X1  X2 X3 X4 X5 X6 X8       y\n",
       "0   k  v  at  a  d  u  j  o  130.81\n",
       "1   k  t  av  e  d  y  l  o   88.53\n",
       "2  az  w   n  c  d  x  j  x   76.26\n",
       "3  az  t   n  f  d  x  l  e   80.62\n",
       "4  az  v   n  f  d  h  d  n   78.02"
      ]
     },
     "execution_count": 16,
     "metadata": {},
     "output_type": "execute_result"
    }
   ],
   "source": [
    "dt_cat_train_y.head()"
   ]
  },
  {
   "cell_type": "code",
   "execution_count": 17,
   "metadata": {
    "collapsed": true
   },
   "outputs": [],
   "source": [
    "train = train.join(dt_cat_targetMean_train)\n",
    "test = test.join(dt_cat_targetMean_test)"
   ]
  },
  {
   "cell_type": "code",
   "execution_count": 18,
   "metadata": {},
   "outputs": [
    {
     "data": {
      "text/plain": [
       "(4209, 446)"
      ]
     },
     "execution_count": 18,
     "metadata": {},
     "output_type": "execute_result"
    }
   ],
   "source": [
    "train.shape"
   ]
  },
  {
   "cell_type": "code",
   "execution_count": 19,
   "metadata": {
    "collapsed": true
   },
   "outputs": [],
   "source": [
    "# for c in cols_cat:\n",
    "#     dt_targetMean_c = pd.DataFrame({c: dt_cat_train_y.groupby(c)[\"y\"].mean().index\n",
    "#              , \"TargetMean_\" + c: dt_cat_train_y.groupby(c)[\"y\"].mean().values})\n",
    "#     dt_cat_train_y = pd.merge(dt_cat_train_y, dt_targetMean_c, on = c)\n",
    "#     dt_cat_test = pd.merge(dt_cat_test, dt_targetMean_c, on = c)\n",
    "\n",
    "# dt_cat_train_y.head()\n",
    "\n",
    "# dt_cat_test.head()\n",
    "\n",
    "# train = train.join(dt_cat_train_y.filter(regex = \"TargetMean\"))\n",
    "# test = test.join(dt_cat_test.filter(regex = \"TargetMean\"))\n",
    "\n",
    "# train.shape\n",
    "\n",
    "# test.shape"
   ]
  },
  {
   "cell_type": "markdown",
   "metadata": {},
   "source": [
    "## 5. xgboost"
   ]
  },
  {
   "cell_type": "code",
   "execution_count": 20,
   "metadata": {
    "collapsed": true
   },
   "outputs": [],
   "source": [
    "# r_2 for xgboost\n",
    "def r_2(preds, dtrain):\n",
    "    labels = dtrain.get_label()\n",
    "    return 'score', r2_score(labels, preds)"
   ]
  },
  {
   "cell_type": "code",
   "execution_count": 21,
   "metadata": {
    "collapsed": true
   },
   "outputs": [],
   "source": [
    "y_train = train['y'].values\n",
    "y_mean = np.mean(y_train)"
   ]
  },
  {
   "cell_type": "code",
   "execution_count": 22,
   "metadata": {},
   "outputs": [],
   "source": [
    "params_xgb = {\n",
    "    'n_trees': 520,\n",
    "    'eta': 0.0045,\n",
    "    'max_depth': 4,\n",
    "    'subsample': 0.98,\n",
    "    'objective': 'reg:linear',\n",
    "    'eval_metric': 'rmse',\n",
    "    'base_score': y_mean, # base prediction = mean(target)\n",
    "    'silent': 1\n",
    "}"
   ]
  },
  {
   "cell_type": "code",
   "execution_count": 23,
   "metadata": {
    "collapsed": true
   },
   "outputs": [],
   "source": [
    "# xgbDmatrix\n",
    "dtrain = xgb.DMatrix(train.drop('y', axis=1), y_train)\n",
    "dtest = xgb.DMatrix(test)"
   ]
  },
  {
   "cell_type": "code",
   "execution_count": 24,
   "metadata": {},
   "outputs": [
    {
     "name": "stdout",
     "output_type": "stream",
     "text": [
      "[0]\ttrain-rmse:12.6446+0.108585\ttrain-score:0.0051812+8.09973e-05\ttest-rmse:12.6109+0.936524\ttest-score:0.0033585+0.00127191\n",
      "[50]\ttrain-rmse:11.2339+0.11494\ttrain-score:0.214789+0.00301734\ttest-rmse:11.2309+1\ttest-score:0.210991+0.0250388\n",
      "[100]\ttrain-rmse:10.2217+0.121739\ttrain-score:0.349926+0.00491699\ttest-rmse:10.2551+1.06202\ttest-score:0.342963+0.0408737\n",
      "[150]\ttrain-rmse:9.50835+0.128116\ttrain-score:0.437497+0.00613659\ttest-rmse:9.58238+1.11314\ttest-score:0.42673+0.0507992\n",
      "[200]\ttrain-rmse:9.01286+0.133781\ttrain-score:0.494597+0.0069625\ttest-rmse:9.12889+1.15371\ttest-score:0.479838+0.0572982\n",
      "[250]\ttrain-rmse:8.67201+0.137744\ttrain-score:0.5321+0.00746315\ttest-rmse:8.82697+1.18305\ttest-score:0.513679+0.0614267\n",
      "[300]\ttrain-rmse:8.43651+0.140221\ttrain-score:0.557168+0.00774172\ttest-rmse:8.63061+1.20286\ttest-score:0.535027+0.0640382\n",
      "[350]\ttrain-rmse:8.27077+0.142331\ttrain-score:0.574395+0.00796327\ttest-rmse:8.50387+1.21533\ttest-score:0.548523+0.0656698\n",
      "[400]\ttrain-rmse:8.1489+0.143389\ttrain-score:0.586845+0.0080661\ttest-rmse:8.42489+1.22186\ttest-score:0.556807+0.0666331\n",
      "[450]\ttrain-rmse:8.05438+0.144149\ttrain-score:0.596373+0.00813479\ttest-rmse:8.37703+1.22659\ttest-score:0.561771+0.0673723\n",
      "[500]\ttrain-rmse:7.97509+0.146339\ttrain-score:0.604279+0.00837354\ttest-rmse:8.34954+1.23021\ttest-score:0.564608+0.067863\n",
      "[550]\ttrain-rmse:7.90416+0.14889\ttrain-score:0.611284+0.00866752\ttest-rmse:8.33464+1.23446\ttest-score:0.566143+0.0683173\n",
      "[600]\ttrain-rmse:7.83155+0.146348\ttrain-score:0.618392+0.0084351\ttest-rmse:8.32823+1.23743\ttest-score:0.566799+0.0686331\n",
      "[650]\ttrain-rmse:7.74644+0.138302\ttrain-score:0.626637+0.00790699\ttest-rmse:8.3267+1.23952\ttest-score:0.566949+0.0688538\n"
     ]
    }
   ],
   "source": [
    "# cv\n",
    "cv_xgb = xgb.cv(params_xgb, dtrain\n",
    "                , num_boost_round = 5000\n",
    "                , nfold = 10\n",
    "                , feval = r_2, maximize = True, early_stopping_rounds = 50\n",
    "                , show_stdv = True, verbose_eval = 50, seed = 888)"
   ]
  },
  {
   "cell_type": "code",
   "execution_count": 25,
   "metadata": {
    "collapsed": true
   },
   "outputs": [],
   "source": [
    "# train\n",
    "model_xgb = xgb.train(params_xgb, dtrain, num_boost_round = cv_xgb.shape[0])"
   ]
  },
  {
   "cell_type": "code",
   "execution_count": 26,
   "metadata": {},
   "outputs": [
    {
     "data": {
      "image/png": "[encoded data removed]",
      "text/plain": [
       "<matplotlib.figure.Figure at 0x7f6ac6d6ae48>"
      ]
     },
     "metadata": {},
     "output_type": "display_data"
    }
   ],
   "source": [
    "# importance\n",
    "fig, ax = plt.subplots(figsize = (12,18))\n",
    "xgb.plot_importance(model_xgb, max_num_features = 50, height = 0.8, ax = ax)\n",
    "plt.show()"
   ]
  }
 ],
 "metadata": {
  "kernelspec": {
   "display_name": "Python 3",
   "language": "python",
   "name": "python3"
  },
  "language_info": {
   "codemirror_mode": {
    "name": "ipython",
    "version": 3
   },
   "file_extension": ".py",
   "mimetype": "text/x-python",
   "name": "python",
   "nbconvert_exporter": "python",
   "pygments_lexer": "ipython3",
   "version": "3.5.2"
  }
 },
 "nbformat": 4,
 "nbformat_minor": 2
}
