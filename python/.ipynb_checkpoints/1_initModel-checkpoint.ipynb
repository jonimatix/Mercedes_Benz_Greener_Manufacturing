{
 "cells": [
  {
   "cell_type": "code",
   "execution_count": 1,
   "metadata": {
    "collapsed": true
   },
   "outputs": [],
   "source": [
    "import pandas as pd\n",
    "import numpy as np\n",
    "import math\n",
    "from sklearn.model_selection import StratifiedKFold, GroupKFold, KFold, train_test_split\n",
    "from sklearn.ensemble import ExtraTreesRegressor\n",
    "import xgboost as xgb\n",
    "from sklearn import linear_model\n",
    "from sklearn.metrics import r2_score\n",
    "import matplotlib.pyplot as plt"
   ]
  },
  {
   "cell_type": "markdown",
   "metadata": {},
   "source": [
    "## 1. Load"
   ]
  },
  {
   "cell_type": "code",
   "execution_count": 2,
   "metadata": {
    "collapsed": true
   },
   "outputs": [],
   "source": [
    "# load data\n",
    "dt_train_raw = pd.read_csv(\"../../data/Mercedes_Benz_Greener_Manufacturing/raw/train.csv\")\n",
    "dt_test_raw = pd.read_csv(\"../../data/Mercedes_Benz_Greener_Manufacturing/raw/test.csv\")"
   ]
  },
  {
   "cell_type": "markdown",
   "metadata": {},
   "source": [
    "## 2. Transform"
   ]
  },
  {
   "cell_type": "code",
   "execution_count": 3,
   "metadata": {
    "collapsed": true
   },
   "outputs": [],
   "source": [
    "# marke train and test set\n",
    "dt_train_raw.loc[:, \"IsTrainTest\"] = pd.Series(\"train\", index = dt_train_raw.index)\n",
    "dt_test_raw.loc[:, \"IsTrainTest\"] = pd.Series(\"test\", index = dt_test_raw.index)\n",
    "\n",
    "# change test index and add y\n",
    "dt_test_raw.index = dt_test_raw.index + max(dt_train_raw.index) + 1\n",
    "dt_test_raw.loc[:,\"y\"] = pd.Series([0.0] * dt_test_raw.shape[0], index = dt_test_raw.index)\n",
    "\n",
    "# concat\n",
    "dt_test_raw = dt_test_raw[dt_train_raw.columns.values]\n",
    "dt_all_raw = pd.concat([dt_train_raw, dt_test_raw])"
   ]
  },
  {
   "cell_type": "markdown",
   "metadata": {},
   "source": [
    "## 3. Preprocess"
   ]
  },
  {
   "cell_type": "markdown",
   "metadata": {},
   "source": [
    "### 3.1. Remove duplicates"
   ]
  },
  {
   "cell_type": "code",
   "execution_count": 4,
   "metadata": {
    "collapsed": true
   },
   "outputs": [],
   "source": [
    "# duplicated cols in dt_all\n",
    "cols_dup_all = dt_all_raw.T.duplicated()[dt_all_raw.T.duplicated() == True].index.values\n",
    "# duplicated cols in dt_train\n",
    "cols_dup_train = dt_train_raw.T.duplicated()[dt_train_raw.T.duplicated() == True].index.values\n",
    "# duplicated cols in dt_test\n",
    "cols_dup_test = dt_test_raw.T.duplicated()[dt_test_raw.T.duplicated() == True].index.values"
   ]
  },
  {
   "cell_type": "code",
   "execution_count": 5,
   "metadata": {},
   "outputs": [],
   "source": [
    "# drop all cols_dup_all\n",
    "dt_all_raw = dt_all_raw.drop(cols_dup_all, axis = 1)\n",
    "# change col names for cols_dup_train and cols_dup_test\n",
    "dict_dup_train = {x: \"dup_train_\" + x for x in list(set(cols_dup_train) - set(cols_dup_all))}\n",
    "dt_all_raw = dt_all_raw.rename(columns = dict_dup_train)\n",
    "dict_dup_test = {x: \"dup_test_\" + x for x in list(set(cols_dup_test) - set(cols_dup_all))}\n",
    "dt_all_raw = dt_all_raw.rename(columns = dict_dup_test)"
   ]
  },
  {
   "cell_type": "markdown",
   "metadata": {},
   "source": [
    "### 3.2 Remove single values"
   ]
  },
  {
   "cell_type": "code",
   "execution_count": 6,
   "metadata": {},
   "outputs": [],
   "source": [
    "# single value cols in dt_train\n",
    "cols_single_train = []\n",
    "for col in dt_all_raw.loc[dt_all_raw[\"IsTrainTest\"] == \"train\"].drop([\"y\", \"IsTrainTest\"], axis = 1).columns.values:\n",
    "    len_unique = len(np.unique(dt_all_raw.loc[dt_all_raw[\"IsTrainTest\"] == \"train\"][col].values))\n",
    "    if len_unique == 1:\n",
    "        cols_single_train.append(col)\n",
    "# single value cols in dt_test\n",
    "cols_single_test = []\n",
    "for col in dt_all_raw.loc[dt_all_raw[\"IsTrainTest\"] == \"test\"].drop([\"y\", \"IsTrainTest\"], axis = 1).columns.values:\n",
    "    len_unique = len(np.unique(dt_all_raw.loc[dt_all_raw[\"IsTrainTest\"] == \"test\"][col].values))\n",
    "    if len_unique == 1:\n",
    "        cols_single_test.append(col)"
   ]
  },
  {
   "cell_type": "code",
   "execution_count": 7,
   "metadata": {},
   "outputs": [],
   "source": [
    "# change col names for cols_single_train and cols_single_test\n",
    "dict_single_train = {x: \"single_train_\" + x for x in cols_single_train}\n",
    "dt_all_raw = dt_all_raw.rename(columns = dict_single_train)\n",
    "dict_single_test = {x: \"single_test_\" + x for x in cols_single_test}\n",
    "dt_all_raw = dt_all_raw.rename(columns = dict_single_test)"
   ]
  },
  {
   "cell_type": "markdown",
   "metadata": {},
   "source": [
    "### 3.3 Encode cat cols"
   ]
  },
  {
   "cell_type": "code",
   "execution_count": 8,
   "metadata": {
    "collapsed": true
   },
   "outputs": [],
   "source": [
    "# cols_cat\n",
    "cols_cat = dt_all_raw.drop(\"IsTrainTest\", axis = 1).select_dtypes(include = ['object']).columns.values"
   ]
  },
  {
   "cell_type": "markdown",
   "metadata": {},
   "source": [
    "#### 3.3.1 One-Hot encoding"
   ]
  },
  {
   "cell_type": "code",
   "execution_count": 9,
   "metadata": {},
   "outputs": [],
   "source": [
    "dt_cat_onehot = pd.get_dummies(dt_all_raw[cols_cat])\n",
    "dict_ohe = {x: \"ohe_\" + x for x in dt_cat_onehot.columns.values}\n",
    "dt_cat_onehot = dt_cat_onehot.rename(columns = dict_ohe)"
   ]
  },
  {
   "cell_type": "markdown",
   "metadata": {},
   "source": [
    "#### 3.3.2 TargetMean"
   ]
  },
  {
   "cell_type": "code",
   "execution_count": 10,
   "metadata": {},
   "outputs": [],
   "source": [
    "# oof to encode cols_cat with TargetMean\n",
    "def getTargetMean(dt, dt_all, cols, k = 3):\n",
    "\n",
    "    # init dt_targetMean\n",
    "    dt_targetMean = pd.DataFrame()\n",
    "\n",
    "    for col in cols:\n",
    "    \n",
    "        # init dt_targetMean_oof\n",
    "        dt_targetMean_oof = pd.DataFrame()\n",
    "        \n",
    "        # X_targetMean_Kfold, y_targetMean_Kfold\n",
    "        X_targetMean_Kfold = dt[[col, \"y\"]]\n",
    "        y_targetMean_Kfold = dt[col].values\n",
    "\n",
    "        # oof cv\n",
    "        skf = StratifiedKFold(n_splits = k)\n",
    "        \n",
    "        \n",
    "        for i, (ind_in, ind_out) in enumerate(skf.split(X_targetMean_Kfold, y_targetMean_Kfold)):\n",
    "\n",
    "\n",
    "            # init dt_targetMean_oof\n",
    "            dt_targetMean_val = pd.DataFrame()\n",
    "\n",
    "            # X_in, X_out, y_in, y_out\n",
    "            X_in, X_out = X_targetMean_Kfold.iloc[ind_in], X_targetMean_Kfold.iloc[ind_out]\n",
    "            y_in, y_out = y_targetMean_Kfold[ind_in], y_targetMean_Kfold[ind_out]\n",
    "\n",
    "            # calc TargetMean\n",
    "            for val in set(X_in[col].values):\n",
    "                dt_targetMean_temp = pd.DataFrame({\"Value\": [val]\n",
    "                                                   , \"TargetMean_\" + str(i): [X_in.loc[X_in[col] == val].y.mean()]})\n",
    "                dt_targetMean_val = pd.concat([dt_targetMean_val, dt_targetMean_temp])\n",
    "\n",
    "            # merge with oof\n",
    "            if i == 0:\n",
    "                dt_targetMean_oof = pd.merge(X_targetMean_Kfold.drop(\"y\", axis = 1).drop_duplicates(), dt_targetMean_val\n",
    "                                             , how = \"left\", left_on = col, right_on = \"Value\")\n",
    "                dt_targetMean_oof = dt_targetMean_oof.drop(col, axis = 1)\n",
    "            else:\n",
    "                dt_targetMean_oof = pd.merge(dt_targetMean_oof, dt_targetMean_val\n",
    "                                             , how = \"left\", on = \"Value\")\n",
    "\n",
    "        # move Value to the first column\n",
    "        value = dt_targetMean_oof['Value']\n",
    "        dt_targetMean_oof.drop(labels = [\"Value\"], axis = 1,inplace = True)\n",
    "        dt_targetMean_oof.insert(0, 'Value', value)\n",
    "        # assign col\n",
    "        dt_targetMean_oof.insert(0, 'Col', col)\n",
    "        \n",
    "        # concat with col\n",
    "        dt_targetMean = pd.concat([dt_targetMean, dt_targetMean_oof])\n",
    "    \n",
    "    # mean of oof\n",
    "    dt_targetMean[\"TargetMean\"] = dt_targetMean.filter(regex = \"TargetMean\").mean(axis = 1)\n",
    "    # fill zero\n",
    "    dt_targetMean = dt_targetMean.fillna(0)\n",
    "    # remove oof cols\n",
    "    dt_targetMean = dt_targetMean[[\"Col\", \"Value\", \"TargetMean\"]]\n",
    "\n",
    "    # merge to original table\n",
    "    dt_cat_cols = dt_all[cols]\n",
    "    \n",
    "    for col in cols_cat:\n",
    "        dt_cat_cols = pd.merge(dt_cat_cols, dt_targetMean.loc[dt_targetMean[\"Col\"] == col]\n",
    "                           , how = \"left\", left_on = col, right_on = \"Value\")\n",
    "        dt_cat_cols = dt_cat_cols.drop([\"Value\", \"Col\"], axis = 1)\n",
    "        dt_cat_cols = dt_cat_cols.rename(columns = {\"TargetMean\": \"TargetMean_\" + col})\n",
    "    # fill zero\n",
    "    dt_cat_cols = dt_cat_cols.fillna(0)\n",
    "    \n",
    "    # only select targetMean cols\n",
    "    dt_cat_targetMean = dt_cat_cols.filter(regex = \"TargetMean\")\n",
    "        \n",
    "    return dt_cat_targetMean"
   ]
  },
  {
   "cell_type": "code",
   "execution_count": 11,
   "metadata": {
    "scrolled": false
   },
   "outputs": [
    {
     "name": "stderr",
     "output_type": "stream",
     "text": [
      "/usr/local/lib/python3.5/dist-packages/sklearn/model_selection/_split.py:581: Warning: The least populated class in y has only 1 members, which is too few. The minimum number of groups for any class cannot be less than n_splits=3.\n",
      "  % (min_groups, self.n_splits)), Warning)\n"
     ]
    }
   ],
   "source": [
    "## TODO: remove the outlier\n",
    "dt_cat_targetMean = getTargetMean(dt_all_raw.loc[dt_all_raw[\"IsTrainTest\"] == \"train\"]\n",
    "                                  , dt_all_raw\n",
    "                                  , cols_cat\n",
    "                                  , 3)"
   ]
  },
  {
   "cell_type": "code",
   "execution_count": 12,
   "metadata": {},
   "outputs": [],
   "source": [
    "params_ctrl = {\n",
    "    \"encode\": \"tm\"\n",
    "}"
   ]
  },
  {
   "cell_type": "code",
   "execution_count": 14,
   "metadata": {},
   "outputs": [],
   "source": [
    "dt_all = dt_all_raw.drop(cols_cat, axis = 1)\n",
    "\n",
    "if params_ctrl[\"encode\"] == \"ohe\":\n",
    "    dt_all = dt_all.join(dt_cat_onehot)\n",
    "elif params_ctrl[\"encode\"] == \"tm\":\n",
    "    dt_all = dt_all.join(dt_cat_targetMean)\n",
    "elif params_ctrl[\"encode\"] == \"all\":\n",
    "    dt_all = dt_all.join(dt_cat_onehot)\n",
    "    dt_all = dt_all.join(dt_cat_targetMean)\n",
    "    "
   ]
  },
  {
   "cell_type": "markdown",
   "metadata": {},
   "source": [
    "## 4. Model"
   ]
  },
  {
   "cell_type": "code",
   "execution_count": 17,
   "metadata": {
    "collapsed": true
   },
   "outputs": [],
   "source": [
    "# r^2\n",
    "def r_2(preds, dtrain):\n",
    "    labels = dtrain.get_label()\n",
    "    # return a pair metric_name, result\n",
    "    # since preds are margin(before logistic transformation, cutoff at 0)\n",
    "    return 'score', r2_score(labels, preds)"
   ]
  },
  {
   "cell_type": "markdown",
   "metadata": {},
   "source": [
    "### 4.1 ExtraTree"
   ]
  },
  {
   "cell_type": "code",
   "execution_count": 18,
   "metadata": {
    "collapsed": true
   },
   "outputs": [],
   "source": [
    "# extratree\n",
    "params_extraTRee = {\n",
    "    \"n_jobs\": 7\n",
    "    , \"n_estimators\": 400\n",
    "    , \"max_depth\": 3\n",
    "    , \"min_samples_split\": 5\n",
    "    , \"random_state\": 888\n",
    "    , \"verbose\": 0\n",
    "}\n",
    "model_extra = ExtraTreesRegressor(**params_extraTRee)"
   ]
  },
  {
   "cell_type": "markdown",
   "metadata": {},
   "source": [
    "### 4.2 xgboost"
   ]
  },
  {
   "cell_type": "code",
   "execution_count": 19,
   "metadata": {
    "collapsed": true
   },
   "outputs": [],
   "source": [
    "# params\n",
    "params_xgb = {\n",
    "    \"eta\": 0.05,\n",
    "    \"max_depth\": 6,\n",
    "    \"subsample\": 0.7,\n",
    "    \"colsample_bytree\": 0.8,\n",
    "    \"objective\": 'reg:linear',\n",
    "    \"silent\": 0\n",
    "}\n",
    "num_boost_round = 1000"
   ]
  },
  {
   "cell_type": "markdown",
   "metadata": {},
   "source": [
    "### 4.3 Linear Regression"
   ]
  },
  {
   "cell_type": "code",
   "execution_count": 20,
   "metadata": {
    "collapsed": true
   },
   "outputs": [],
   "source": [
    "model_lr = linear_model.LinearRegression()"
   ]
  },
  {
   "cell_type": "markdown",
   "metadata": {},
   "source": [
    "### 4.4 Ridge Regression"
   ]
  },
  {
   "cell_type": "code",
   "execution_count": 21,
   "metadata": {
    "collapsed": true
   },
   "outputs": [],
   "source": [
    "model_ridge = linear_model.Ridge()\n",
    "params_ridge = {'alpha': [0,0.5,1,2,3,5]}"
   ]
  },
  {
   "cell_type": "markdown",
   "metadata": {},
   "source": [
    "## 5. Cross-Validation strategy"
   ]
  },
  {
   "cell_type": "code",
   "execution_count": 22,
   "metadata": {},
   "outputs": [
    {
     "name": "stdout",
     "output_type": "stream",
     "text": [
      "X_train_all: (4209, 340)\n",
      "X_test: (4209, 340)\n"
     ]
    }
   ],
   "source": [
    "# X, y, ID\n",
    "X_train_all = dt_all.loc[dt_all[\"IsTrainTest\"] == \"train\"].drop([\"ID\", \"y\", \"IsTrainTest\"], axis = 1)\n",
    "y_train_all = dt_all.loc[dt_all[\"IsTrainTest\"] == \"train\"].y.values\n",
    "ID_train_all = dt_all.loc[dt_all[\"IsTrainTest\"] == \"train\"].ID.values\n",
    "print(\"X_train_all:\", X_train_all.shape)\n",
    "\n",
    "X_test = dt_all.loc[dt_all[\"IsTrainTest\"] == \"test\"].drop([\"ID\", \"y\", \"IsTrainTest\"], axis = 1)\n",
    "y_test = dt_all.loc[dt_all[\"IsTrainTest\"] == \"test\"].y.values\n",
    "ID_test = dt_all.loc[dt_all[\"IsTrainTest\"] == \"test\"].ID.values\n",
    "print(\"X_test:\", X_test.shape)\n",
    "\n",
    "dtest = xgb.DMatrix(X_test)"
   ]
  },
  {
   "cell_type": "markdown",
   "metadata": {},
   "source": [
    "### 5.1 Random split"
   ]
  },
  {
   "cell_type": "code",
   "execution_count": 23,
   "metadata": {},
   "outputs": [
    {
     "name": "stdout",
     "output_type": "stream",
     "text": [
      "extraTree ...\n",
      "xgboost ...\n",
      "[0]\ttrain-rmse:95.7692\teval-rmse:96.7695\ttrain-score:-58.3968\teval-score:-49.5241\n",
      "Multiple eval metrics have been passed: 'eval-score' will be used for early stopping.\n",
      "\n",
      "Will train until eval-score hasn't improved in 50 rounds.\n",
      "[50]\ttrain-rmse:10.5872\teval-rmse:12.3243\ttrain-score:0.274106\teval-score:0.1805\n",
      "[100]\ttrain-rmse:6.92934\teval-rmse:9.85729\ttrain-score:0.689047\teval-score:0.475752\n",
      "[150]\ttrain-rmse:6.44888\teval-rmse:9.91306\ttrain-score:0.730673\teval-score:0.469803\n",
      "Stopping. Best iteration:\n",
      "[104]\ttrain-rmse:6.88784\teval-rmse:9.85072\ttrain-score:0.69276\teval-score:0.476451\n",
      "\n",
      "ridge ...\n",
      "i: 0 - extraTree:0.46599; xgb:0.46988; ridge:0.44943; rs_all:0.47269\n",
      "extraTree ...\n",
      "xgboost ...\n",
      "[0]\ttrain-rmse:95.9972\teval-rmse:95.8197\ttrain-score:-56.5739\teval-score:-55.2061\n",
      "Multiple eval metrics have been passed: 'eval-score' will be used for early stopping.\n",
      "\n",
      "Will train until eval-score hasn't improved in 50 rounds.\n",
      "[50]\ttrain-rmse:10.856\teval-rmse:11.1365\ttrain-score:0.263715\teval-score:0.24078\n",
      "[100]\ttrain-rmse:7.13049\teval-rmse:8.21326\ttrain-score:0.682351\teval-score:0.587042\n",
      "[150]\ttrain-rmse:6.44051\teval-rmse:8.33685\ttrain-score:0.740852\teval-score:0.574521\n",
      "Stopping. Best iteration:\n",
      "[102]\ttrain-rmse:7.09098\teval-rmse:8.21284\ttrain-score:0.685862\teval-score:0.587085\n",
      "\n",
      "ridge ...\n",
      "i: 1 - extraTree:0.59222; xgb:0.57454; ridge:0.55151; rs_all:0.58441\n",
      "extraTree ...\n",
      "xgboost ...\n",
      "[0]\ttrain-rmse:96.0416\teval-rmse:95.6577\ttrain-score:-56.4033\teval-score:-55.9187\n",
      "Multiple eval metrics have been passed: 'eval-score' will be used for early stopping.\n",
      "\n",
      "Will train until eval-score hasn't improved in 50 rounds.\n",
      "[50]\ttrain-rmse:10.803\teval-rmse:10.9572\ttrain-score:0.273713\teval-score:0.253183\n",
      "[100]\ttrain-rmse:7.07882\teval-rmse:8.28987\ttrain-score:0.688154\teval-score:0.572525\n",
      "[150]\ttrain-rmse:6.44246\teval-rmse:8.44937\ttrain-score:0.741702\teval-score:0.555918\n",
      "Stopping. Best iteration:\n",
      "[100]\ttrain-rmse:7.07882\teval-rmse:8.28987\ttrain-score:0.688154\teval-score:0.572525\n",
      "\n",
      "ridge ...\n",
      "i: 2 - extraTree:0.5884; xgb:0.55592; ridge:0.551; rs_all:0.57806\n",
      "extraTree ...\n",
      "xgboost ...\n",
      "[0]\ttrain-rmse:96.0459\teval-rmse:95.6282\ttrain-score:-55.3499\teval-score:-60.4897\n",
      "Multiple eval metrics have been passed: 'eval-score' will be used for early stopping.\n",
      "\n",
      "Will train until eval-score hasn't improved in 50 rounds.\n",
      "[50]\ttrain-rmse:10.8471\teval-rmse:10.9931\ttrain-score:0.281269\teval-score:0.187406\n",
      "[100]\ttrain-rmse:7.07837\teval-rmse:8.12527\ttrain-score:0.693943\teval-score:0.556079\n",
      "[150]\ttrain-rmse:6.41991\teval-rmse:8.20647\ttrain-score:0.748236\teval-score:0.547161\n",
      "Stopping. Best iteration:\n",
      "[100]\ttrain-rmse:7.07837\teval-rmse:8.12527\ttrain-score:0.693943\teval-score:0.556079\n",
      "\n",
      "ridge ...\n",
      "i: 3 - extraTree:0.55917; xgb:0.54716; ridge:0.49851; rs_all:0.55084\n",
      "extraTree ...\n",
      "xgboost ...\n",
      "[0]\ttrain-rmse:95.9612\teval-rmse:95.9613\ttrain-score:-55.4475\teval-score:-59.9423\n",
      "Multiple eval metrics have been passed: 'eval-score' will be used for early stopping.\n",
      "\n",
      "Will train until eval-score hasn't improved in 50 rounds.\n",
      "[50]\ttrain-rmse:10.7979\teval-rmse:10.9983\ttrain-score:0.28529\teval-score:0.19947\n",
      "[100]\ttrain-rmse:7.11979\teval-rmse:8.28761\ttrain-score:0.689267\teval-score:0.545446\n",
      "Stopping. Best iteration:\n",
      "[98]\ttrain-rmse:7.16172\teval-rmse:8.27973\ttrain-score:0.685596\teval-score:0.546311\n",
      "\n",
      "ridge ...\n",
      "i: 4 - extraTree:0.55813; xgb:0.52776; ridge:0.51297; rs_all:0.54888\n",
      "extraTree ...\n",
      "xgboost ...\n",
      "[0]\ttrain-rmse:96.0102\teval-rmse:95.7494\ttrain-score:-56.421\teval-score:-55.7863\n",
      "Multiple eval metrics have been passed: 'eval-score' will be used for early stopping.\n",
      "\n",
      "Will train until eval-score hasn't improved in 50 rounds.\n",
      "[50]\ttrain-rmse:10.8947\teval-rmse:10.9604\ttrain-score:0.260627\teval-score:0.255911\n",
      "[100]\ttrain-rmse:6.98502\teval-rmse:8.03564\ttrain-score:0.696072\teval-score:0.600045\n",
      "Stopping. Best iteration:\n",
      "[98]\ttrain-rmse:7.01344\teval-rmse:8.03547\ttrain-score:0.693593\teval-score:0.600062\n",
      "\n",
      "ridge ...\n",
      "i: 5 - extraTree:0.60434; xgb:0.59224; ridge:0.57693; rs_all:0.60135\n",
      "extraTree ...\n",
      "xgboost ...\n",
      "[0]\ttrain-rmse:96.0648\teval-rmse:95.53\ttrain-score:-54.4858\teval-score:-65.0089\n",
      "Multiple eval metrics have been passed: 'eval-score' will be used for early stopping.\n",
      "\n",
      "Will train until eval-score hasn't improved in 50 rounds.\n",
      "[50]\ttrain-rmse:11.0281\teval-rmse:9.62415\ttrain-score:0.268771\teval-score:0.330043\n",
      "[100]\ttrain-rmse:7.42242\teval-rmse:6.99427\ttrain-score:0.668759\teval-score:0.64616\n",
      "Stopping. Best iteration:\n",
      "[86]\ttrain-rmse:7.62622\teval-rmse:6.96743\ttrain-score:0.650319\teval-score:0.64887\n",
      "\n",
      "ridge ...\n",
      "i: 6 - extraTree:0.64533; xgb:0.63012; ridge:0.61026; rs_all:0.64043\n",
      "extraTree ...\n",
      "xgboost ...\n",
      "[0]\ttrain-rmse:95.8989\teval-rmse:96.2356\ttrain-score:-58.3767\teval-score:-49.3151\n",
      "Multiple eval metrics have been passed: 'eval-score' will be used for early stopping.\n",
      "\n",
      "Will train until eval-score hasn't improved in 50 rounds.\n",
      "[50]\ttrain-rmse:10.5881\teval-rmse:12.4696\ttrain-score:0.276195\teval-score:0.155242\n",
      "[100]\ttrain-rmse:6.93146\teval-rmse:9.85624\ttrain-score:0.689803\teval-score:0.472224\n",
      "[150]\ttrain-rmse:6.43489\teval-rmse:9.85915\ttrain-score:0.732656\teval-score:0.471912\n",
      "Stopping. Best iteration:\n",
      "[106]\ttrain-rmse:6.86223\teval-rmse:9.83955\ttrain-score:0.695968\teval-score:0.474009\n",
      "\n",
      "ridge ...\n",
      "i: 7 - extraTree:0.46514; xgb:0.47024; ridge:0.43161; rs_all:0.47078\n",
      "extraTree ...\n",
      "xgboost ...\n",
      "[0]\ttrain-rmse:95.8463\teval-rmse:96.4249\ttrain-score:-56.06\teval-score:-57.3469\n",
      "Multiple eval metrics have been passed: 'eval-score' will be used for early stopping.\n",
      "\n",
      "Will train until eval-score hasn't improved in 50 rounds.\n",
      "[50]\ttrain-rmse:10.8855\teval-rmse:11.1052\ttrain-score:0.263998\teval-score:0.226089\n",
      "[100]\ttrain-rmse:7.00185\teval-rmse:8.05106\ttrain-score:0.695487\teval-score:0.593233\n",
      "[150]\ttrain-rmse:6.39667\teval-rmse:8.12065\ttrain-score:0.745851\teval-score:0.586171\n",
      "Stopping. Best iteration:\n",
      "[106]\ttrain-rmse:6.94861\teval-rmse:8.04324\ttrain-score:0.7001\teval-score:0.594023\n",
      "\n",
      "ridge ...\n",
      "i: 8 - extraTree:0.59746; xgb:0.58522; ridge:0.56818; rs_all:0.59789\n",
      "extraTree ...\n",
      "xgboost ...\n",
      "[0]\ttrain-rmse:96.0134\teval-rmse:95.8046\ttrain-score:-55.8612\teval-score:-58.1708\n",
      "Multiple eval metrics have been passed: 'eval-score' will be used for early stopping.\n",
      "\n",
      "Will train until eval-score hasn't improved in 50 rounds.\n",
      "[50]\ttrain-rmse:10.8509\teval-rmse:10.9835\ttrain-score:0.273755\teval-score:0.2223\n",
      "[100]\ttrain-rmse:7.07516\teval-rmse:8.22061\ttrain-score:0.691238\teval-score:0.564345\n",
      "[150]\ttrain-rmse:6.4523\teval-rmse:8.31964\ttrain-score:0.743208\teval-score:0.553786\n",
      "Stopping. Best iteration:\n",
      "[108]\ttrain-rmse:6.99251\teval-rmse:8.20823\ttrain-score:0.698409\teval-score:0.565656\n",
      "\n",
      "ridge ...\n",
      "i: 9 - extraTree:0.58581; xgb:0.5509; ridge:0.54223; rs_all:0.57508\n"
     ]
    }
   ],
   "source": [
    "score_rs_valid = 0\n",
    "preds_rs_test = []\n",
    "w_extra = .2\n",
    "w_xgb = .5\n",
    "w_ridge = .3\n",
    "for i in range(0, 10):\n",
    "    X_train, X_valid, y_train, y_valid = train_test_split(X_train_all, y_train_all\n",
    "                                                          , test_size = 0.2, random_state = i)\n",
    "    # extraTree\n",
    "    print(\"extraTree ...\")\n",
    "    model_extra.fit(X_train, y_train)\n",
    "    preds_extra_valid = model_extra.predict(X_valid)\n",
    "    score_extra = r2_score(y_valid, preds_extra_valid)\n",
    "    \n",
    "    # xgboost\n",
    "    print(\"xgboost ...\")\n",
    "    dtrain = xgb.DMatrix(X_train, label = y_train)\n",
    "    dvalid = xgb.DMatrix(X_valid, label = y_valid)\n",
    "    ls_watch =  [(dtrain, 'train'), (dvalid, 'eval')]\n",
    "    model_xgb = xgb.train(params_xgb, dtrain, evals = ls_watch\n",
    "                          , feval = r_2, maximize = True\n",
    "                          , num_boost_round = num_boost_round\n",
    "                          , early_stopping_rounds = 50, verbose_eval = 50)\n",
    "    preds_xgb_valid = model_xgb.predict(dvalid)\n",
    "    score_xgb = r2_score(y_valid, preds_xgb_valid)\n",
    "    \n",
    "    # ridge\n",
    "    print(\"ridge ...\")\n",
    "    model_ridge = model_ridge.fit(X_train, y_train)\n",
    "    preds_ridge_valid = model_ridge.predict(X_valid)\n",
    "    score_ridge = r2_score(y_valid, preds_ridge_valid)\n",
    "\n",
    "    # avg them\n",
    "    ls_preds = [preds_extra_valid * w_extra, preds_xgb_valid * w_xgb, preds_ridge_valid * w_ridge]\n",
    "    preds_rs_valid = [sum(e) for e in zip(*ls_preds)]\n",
    "    \n",
    "    score_rs = r2_score(y_valid, preds_rs_valid)\n",
    "    \n",
    "    score_rs_valid = score_rs_valid + score_rs / 10\n",
    "    \n",
    "    # test\n",
    "    preds_extra_test = model_extra.predict(X_test)\n",
    "    preds_xgb_test = model_xgb.predict(dtest)\n",
    "    preds_ridge_test = model_ridge.predict(X_test)\n",
    "    ls_preds_test = [preds_extra_test * w_extra, preds_xgb_test * w_xgb, preds_ridge_test * w_ridge]\n",
    "    preds_rs_test = [sum(e) for e in zip(*ls_preds_test)]\n",
    "\n",
    "    \n",
    "    print(\"i: {} - extraTree:{}; xgb:{}; ridge:{}; rs_all:{}\".format(i, round(score_extra, 5)\n",
    "                                                                     , round(score_xgb, 5)\n",
    "                                                                     , round(score_ridge, 5)\n",
    "                                                                     , round(score_rs, 5)))"
   ]
  },
  {
   "cell_type": "code",
   "execution_count": 24,
   "metadata": {},
   "outputs": [
    {
     "data": {
      "text/plain": [
       "0.56204027614182095"
      ]
     },
     "execution_count": 24,
     "metadata": {},
     "output_type": "execute_result"
    }
   ],
   "source": [
    "score_rs_valid"
   ]
  },
  {
   "cell_type": "code",
   "execution_count": 25,
   "metadata": {},
   "outputs": [
    {
     "data": {
      "text/plain": [
       "[85.213667742744121,\n",
       " 99.531250940998177,\n",
       " 85.913894392027899,\n",
       " 73.870440616461778,\n",
       " 103.74431340502706,\n",
       " 90.294677750122275,\n",
       " 109.39597114724799,\n",
       " 85.35882555027051,\n",
       " 109.12219967748547,\n",
       " 84.458915033932811]"
      ]
     },
     "execution_count": 25,
     "metadata": {},
     "output_type": "execute_result"
    }
   ],
   "source": [
    "preds_rs_test[:10]"
   ]
  },
  {
   "cell_type": "markdown",
   "metadata": {},
   "source": [
    "### 5.2 Stratified Kfold"
   ]
  },
  {
   "cell_type": "code",
   "execution_count": 26,
   "metadata": {
    "collapsed": true
   },
   "outputs": [],
   "source": [
    "bin_y = pd.qcut(y_train_all, 5, labels = [1, 2, 3, 4, 5]).astype(\"int64\")\n",
    "# stratified kfold\n",
    "skf = StratifiedKFold(n_splits = 5, shuffle = True, random_state = 888)"
   ]
  },
  {
   "cell_type": "code",
   "execution_count": 27,
   "metadata": {},
   "outputs": [
    {
     "name": "stderr",
     "output_type": "stream",
     "text": [
      "/usr/local/lib/python3.5/dist-packages/sklearn/model_selection/_split.py:581: Warning: The least populated class in y has only 1 members, which is too few. The minimum number of groups for any class cannot be less than n_splits=5.\n",
      "  % (min_groups, self.n_splits)), Warning)\n"
     ]
    },
    {
     "name": "stdout",
     "output_type": "stream",
     "text": [
      "extraTree ...\n",
      "xgboost ...\n",
      "[0]\ttrain-rmse:95.8291\teval-rmse:96.5364\ttrain-score:-58.7504\teval-score:-48.3363\n",
      "Multiple eval metrics have been passed: 'eval-score' will be used for early stopping.\n",
      "\n",
      "Will train until eval-score hasn't improved in 50 rounds.\n",
      "[50]\ttrain-rmse:10.5309\teval-rmse:12.8401\ttrain-score:0.27843\teval-score:0.127182\n",
      "[100]\ttrain-rmse:6.82668\teval-rmse:10.2224\ttrain-score:0.696775\teval-score:0.446791\n",
      "[150]\ttrain-rmse:6.30583\teval-rmse:10.1947\ttrain-score:0.74128\teval-score:0.449785\n",
      "Stopping. Best iteration:\n",
      "[148]\ttrain-rmse:6.31325\teval-rmse:10.193\ttrain-score:0.74067\teval-score:0.449965\n",
      "\n",
      "ridge ...\n",
      "i: 0 - extraTree:0.44301; xgb:0.44653; ridge:0.40864; rs_skf:0.44556\n",
      "extraTree ...\n",
      "xgboost ...\n",
      "[0]\ttrain-rmse:96.0274\teval-rmse:95.7299\ttrain-score:-56.5026\teval-score:-55.5468\n",
      "Multiple eval metrics have been passed: 'eval-score' will be used for early stopping.\n",
      "\n",
      "Will train until eval-score hasn't improved in 50 rounds.\n",
      "[50]\ttrain-rmse:10.8714\teval-rmse:11.3303\ttrain-score:0.262996\teval-score:0.207871\n",
      "[100]\ttrain-rmse:7.03959\teval-rmse:8.29691\ttrain-score:0.690976\teval-score:0.575237\n",
      "[150]\ttrain-rmse:6.46641\teval-rmse:8.31342\ttrain-score:0.73925\teval-score:0.573546\n",
      "Stopping. Best iteration:\n",
      "[126]\ttrain-rmse:6.7195\teval-rmse:8.27683\ttrain-score:0.71844\teval-score:0.577291\n",
      "\n",
      "ridge ...\n",
      "i: 1 - extraTree:0.56796; xgb:0.56797; ridge:0.51089; rs_skf:0.57017\n",
      "extraTree ...\n",
      "xgboost ...\n",
      "[0]\ttrain-rmse:96.1508\teval-rmse:95.1445\ttrain-score:-54.7878\teval-score:-63.662\n",
      "Multiple eval metrics have been passed: 'eval-score' will be used for early stopping.\n",
      "\n",
      "Will train until eval-score hasn't improved in 50 rounds.\n",
      "[50]\ttrain-rmse:11.0577\teval-rmse:9.85872\ttrain-score:0.262162\teval-score:0.30574\n",
      "[100]\ttrain-rmse:7.34228\teval-rmse:7.10931\ttrain-score:0.674692\teval-score:0.638975\n",
      "Stopping. Best iteration:\n",
      "[94]\ttrain-rmse:7.45119\teval-rmse:7.09779\ttrain-score:0.664969\teval-score:0.640145\n",
      "\n",
      "ridge ...\n",
      "i: 2 - extraTree:0.63557; xgb:0.63135; ridge:0.60386; rs_skf:0.64034\n",
      "extraTree ...\n",
      "xgboost ...\n",
      "[0]\ttrain-rmse:95.9117\teval-rmse:96.1643\ttrain-score:-55.7674\teval-score:-58.6278\n",
      "Multiple eval metrics have been passed: 'eval-score' will be used for early stopping.\n",
      "\n",
      "Will train until eval-score hasn't improved in 50 rounds.\n",
      "[50]\ttrain-rmse:10.8938\teval-rmse:10.8985\ttrain-score:0.267657\teval-score:0.23413\n",
      "[100]\ttrain-rmse:7.17276\teval-rmse:8.07214\ttrain-score:0.682512\teval-score:0.579855\n",
      "[150]\ttrain-rmse:6.53112\teval-rmse:8.17141\ttrain-score:0.736773\teval-score:0.569458\n",
      "Stopping. Best iteration:\n",
      "[108]\ttrain-rmse:7.08532\teval-rmse:8.05674\ttrain-score:0.690205\teval-score:0.581457\n",
      "\n",
      "ridge ...\n",
      "i: 3 - extraTree:0.58529; xgb:0.56748; ridge:0.5287; rs_skf:0.57729\n",
      "extraTree ...\n",
      "xgboost ...\n",
      "[0]\ttrain-rmse:95.893\teval-rmse:96.2349\ttrain-score:-55.8454\teval-score:-58.1269\n",
      "Multiple eval metrics have been passed: 'eval-score' will be used for early stopping.\n",
      "\n",
      "Will train until eval-score hasn't improved in 50 rounds.\n",
      "[50]\ttrain-rmse:10.9073\teval-rmse:10.739\ttrain-score:0.264545\teval-score:0.263711\n",
      "[100]\ttrain-rmse:7.13563\teval-rmse:8.03171\ttrain-score:0.685235\teval-score:0.588153\n",
      "Stopping. Best iteration:\n",
      "[89]\ttrain-rmse:7.35576\teval-rmse:7.98465\ttrain-score:0.665515\teval-score:0.592965\n",
      "\n",
      "ridge ...\n",
      "i: 4 - extraTree:0.60518; xgb:0.57293; ridge:0.57088; rs_skf:0.59805\n"
     ]
    }
   ],
   "source": [
    "score_skf_valid = 0\n",
    "preds_skf_test = []\n",
    "w_extra = .2\n",
    "w_xgb = .5\n",
    "w_ridge = .3\n",
    "for i, (ind_train, ind_valid) in enumerate(skf.split(X_train_all, y_train_all)):\n",
    "    # X, y\n",
    "    X_train, X_valid = X_train_all.iloc[ind_train], X_train_all.iloc[ind_valid]\n",
    "    y_train, y_valid = y_train_all[ind_train], y_train_all[ind_valid]\n",
    "    \n",
    "    # extraTree\n",
    "    print(\"extraTree ...\")\n",
    "    model_extra.fit(X_train, y_train)\n",
    "    preds_extra_valid = model_extra.predict(X_valid)\n",
    "    score_extra = r2_score(y_valid, preds_extra_valid)\n",
    "    \n",
    "    # xgboost\n",
    "    print(\"xgboost ...\")\n",
    "    dtrain = xgb.DMatrix(X_train, label = y_train)\n",
    "    dvalid = xgb.DMatrix(X_valid, label = y_valid)\n",
    "    ls_watch =  [(dtrain, 'train'), (dvalid, 'eval')]\n",
    "    model_xgb = xgb.train(params_xgb, dtrain, evals = ls_watch\n",
    "                          , feval = r_2, maximize = True\n",
    "                          , num_boost_round = num_boost_round\n",
    "                          , early_stopping_rounds = 50, verbose_eval = 50)\n",
    "    preds_xgb_valid = model_xgb.predict(dvalid)\n",
    "    score_xgb = r2_score(y_valid, preds_xgb_valid)\n",
    "    \n",
    "    # ridge\n",
    "    print(\"ridge ...\")\n",
    "    model_ridge = model_ridge.fit(X_train, y_train)\n",
    "    preds_ridge_valid = model_ridge.predict(X_valid)\n",
    "    score_ridge = r2_score(y_valid, preds_ridge_valid)\n",
    "\n",
    "    # avg them\n",
    "    ls_preds = ls_preds = [preds_extra_valid * w_extra, preds_xgb_valid * w_xgb, preds_ridge_valid * w_ridge]\n",
    "    preds_skf_valid = [sum(e) for e in zip(*ls_preds)]\n",
    "    \n",
    "    score_skf = r2_score(y_valid, preds_skf_valid)\n",
    "    \n",
    "    score_skf_valid = score_skf_valid + score_skf / 5\n",
    "    \n",
    "    # test\n",
    "    preds_extra_test = model_extra.predict(X_test)\n",
    "    preds_xgb_test = model_xgb.predict(dtest)\n",
    "    preds_ridge_test = model_ridge.predict(X_test)\n",
    "    ls_preds_test = [preds_extra_test * w_extra, preds_xgb_test * w_xgb, preds_ridge_test * w_ridge]\n",
    "    preds_skf_test = [sum(e) for e in zip(*ls_preds_test)]\n",
    "\n",
    "    \n",
    "    print(\"i: {} - extraTree:{}; xgb:{}; ridge:{}; rs_skf:{}\".format(i, round(score_extra, 5)\n",
    "                                                                     , round(score_xgb, 5)\n",
    "                                                                     , round(score_ridge, 5)\n",
    "                                                                     , round(score_skf, 5)))"
   ]
  },
  {
   "cell_type": "code",
   "execution_count": 28,
   "metadata": {},
   "outputs": [
    {
     "data": {
      "text/plain": [
       "0.56628415732660486"
      ]
     },
     "execution_count": 28,
     "metadata": {},
     "output_type": "execute_result"
    }
   ],
   "source": [
    "score_skf_valid"
   ]
  },
  {
   "cell_type": "code",
   "execution_count": 29,
   "metadata": {},
   "outputs": [
    {
     "data": {
      "text/plain": [
       "[80.195698018641636,\n",
       " 94.05956884989078,\n",
       " 79.529289163218309,\n",
       " 72.432689800340185,\n",
       " 102.30247426655764,\n",
       " 90.84288777707502,\n",
       " 108.06186825185007,\n",
       " 85.435602739896751,\n",
       " 108.08160322843642,\n",
       " 85.589350104280001]"
      ]
     },
     "execution_count": 29,
     "metadata": {},
     "output_type": "execute_result"
    }
   ],
   "source": [
    "preds_skf_test[:10]"
   ]
  },
  {
   "cell_type": "markdown",
   "metadata": {},
   "source": [
    "## 6. Submit"
   ]
  },
  {
   "cell_type": "code",
   "execution_count": 30,
   "metadata": {},
   "outputs": [],
   "source": [
    "wt_rs = .3\n",
    "wt_skf = .7\n",
    "ls_submit_preds_test = [np.array(preds_rs_test) * wt_rs, np.array(preds_skf_test) * wt_skf]\n",
    "preds_submit_test = [sum(e) for e in zip(*ls_submit_preds_test)]\n",
    "dt_submit = pd.DataFrame({\"ID\": ID_test, \"y\": preds_submit_test})"
   ]
  },
  {
   "cell_type": "code",
   "execution_count": 31,
   "metadata": {
    "collapsed": true
   },
   "outputs": [],
   "source": [
    "dt_submit[[\"ID\", \"y\"]].to_csv(\"../../data/Mercedes_Benz_Greener_Manufacturing/submission/2_initModel_tm_cvrs_cvskf_3_7_modextra_modxgb_modridge_2_5_3.csv\"\n",
    "                              , index = False)"
   ]
  }
 ],
 "metadata": {
  "kernelspec": {
   "display_name": "Python 3",
   "language": "python",
   "name": "python3"
  },
  "language_info": {
   "codemirror_mode": {
    "name": "ipython",
    "version": 3
   },
   "file_extension": ".py",
   "mimetype": "text/x-python",
   "name": "python",
   "nbconvert_exporter": "python",
   "pygments_lexer": "ipython3",
   "version": "3.5.2"
  }
 },
 "nbformat": 4,
 "nbformat_minor": 2
}
