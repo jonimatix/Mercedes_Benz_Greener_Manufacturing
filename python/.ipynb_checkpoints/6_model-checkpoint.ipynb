{
 "cells": [
  {
   "cell_type": "code",
   "execution_count": 54,
   "metadata": {
    "collapsed": true
   },
   "outputs": [],
   "source": [
    "import pandas as pd\n",
    "import xgboost as xgb\n",
    "import numpy as np\n",
    "from scipy.stats import uniform as sp_rand\n",
    "from scipy.stats import randint as sp_randint\n",
    "from sklearn.metrics import r2_score, make_scorer\n",
    "from sklearn.model_selection import GridSearchCV, RandomizedSearchCV"
   ]
  },
  {
   "cell_type": "markdown",
   "metadata": {},
   "source": [
    "## 6. Model"
   ]
  },
  {
   "cell_type": "code",
   "execution_count": 5,
   "metadata": {
    "collapsed": true
   },
   "outputs": [],
   "source": [
    "# data\n",
    "dt_model = pd.read_csv(\"../../data/Mercedes_Benz_Greener_Manufacturing/data/dt_all_preprocess.csv\")"
   ]
  },
  {
   "cell_type": "code",
   "execution_count": 45,
   "metadata": {},
   "outputs": [],
   "source": [
    "# r_2 for xgboost\n",
    "def r_2(preds, dtrain):\n",
    "    labels = dtrain.get_label()\n",
    "    return 'score', r2_score(labels, preds)\n",
    "\n",
    "# make scorer_r2\n",
    "scorer_r2 = make_scorer(r2_score)"
   ]
  },
  {
   "cell_type": "code",
   "execution_count": 13,
   "metadata": {},
   "outputs": [],
   "source": [
    "# X, y, ID\n",
    "X_train_all = dt_model.loc[dt_model[\"IsTrainTest\"] == \"train\"].drop([\"ID\", \"y\", \"IsTrainTest\"], axis = 1)\n",
    "X_test = dt_model.loc[dt_model[\"IsTrainTest\"] == \"test\"].drop([\"ID\", \"y\", \"IsTrainTest\"], axis = 1)\n",
    "y_train_all = dt_model.loc[dt_model[\"IsTrainTest\"] == \"train\"].y.values\n",
    "y_test = dt_model.loc[dt_model[\"IsTrainTest\"] == \"test\"].y.values\n",
    "ID_train_all = dt_model.loc[dt_model[\"IsTrainTest\"] == \"train\"].ID.values\n",
    "ID_test = dt_model.loc[dt_model[\"IsTrainTest\"] == \"test\"].ID.values"
   ]
  },
  {
   "cell_type": "markdown",
   "metadata": {},
   "source": [
    "### 6.1 xgboost"
   ]
  },
  {
   "cell_type": "code",
   "execution_count": 134,
   "metadata": {},
   "outputs": [],
   "source": [
    "# params_xgb\n",
    "params_xgb = {\n",
    "    \"max_depth\" : sp_randint(2, 6)\n",
    "    , \"learning_rate\" : sp_rand(.0001, .0999) # .0001 to .01\n",
    "    , \"n_estimators\" : sp_randint(200, 2000)\n",
    "    , \"booster\" : [\"gbtree\", \"gblinear\", \"dart\"]\n",
    "    , \"gamma\" : sp_rand(0.1, 4.9) # .1 to 5\n",
    "    , \"min_child_weight\" : sp_randint(2, 20)\n",
    "    , \"subsample\" : sp_rand(.5, .4) # .5 to .9\n",
    "    , \"colsample_bytree\" : sp_rand(.5, .4) # .5 to .9\n",
    "    , \"colsample_bylevel\" : sp_rand(.5, .4) # .5 to .9\n",
    "    , \"reg_alpha\" : sp_rand(.1, .4) # .1 to .5\n",
    "    , \"reg_lambda\" : sp_rand(.1, .4) # .1 to .5\n",
    "}"
   ]
  },
  {
   "cell_type": "code",
   "execution_count": 135,
   "metadata": {},
   "outputs": [],
   "source": [
    "# xgb\n",
    "model_xgb = xgb.XGBRegressor(n_jobs = 6, base_score = np.mean(y_train_all))"
   ]
  },
  {
   "cell_type": "code",
   "execution_count": 136,
   "metadata": {},
   "outputs": [],
   "source": [
    "# random search\n",
    "randSearch_xgb = RandomizedSearchCV(model_xgb, params_xgb, scoring = scorer_r2\n",
    "                                    , n_iter = 10, n_jobs = 6, cv = 3, verbose = 1)"
   ]
  },
  {
   "cell_type": "code",
   "execution_count": null,
   "metadata": {},
   "outputs": [
    {
     "name": "stdout",
     "output_type": "stream",
     "text": [
      "Fitting 3 folds for each of 10 candidates, totalling 30 fits\n"
     ]
    }
   ],
   "source": [
    "randSearch_xgb.fit(X_train_all, y_train_all)"
   ]
  },
  {
   "cell_type": "code",
   "execution_count": null,
   "metadata": {
    "collapsed": true
   },
   "outputs": [],
   "source": []
  }
 ],
 "metadata": {
  "kernelspec": {
   "display_name": "Python 3",
   "language": "python",
   "name": "python3"
  },
  "language_info": {
   "codemirror_mode": {
    "name": "ipython",
    "version": 3
   },
   "file_extension": ".py",
   "mimetype": "text/x-python",
   "name": "python",
   "nbconvert_exporter": "python",
   "pygments_lexer": "ipython3",
   "version": "3.5.2"
  }
 },
 "nbformat": 4,
 "nbformat_minor": 2
}
