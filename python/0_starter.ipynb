{
 "cells": [
  {
   "cell_type": "code",
   "execution_count": 39,
   "metadata": {
    "scrolled": true
   },
   "outputs": [],
   "source": [
    "import pandas as pd\n",
    "import numpy as np\n",
    "from sklearn.model_selection import StratifiedKFold, GroupKFold, KFold, train_test_split\n",
    "from sklearn.ensemble import ExtraTreesRegressor\n",
    "import xgboost as xgb\n",
    "from sklearn.metrics import r2_score\n",
    "import matplotlib.pyplot as plt"
   ]
  },
  {
   "cell_type": "code",
   "execution_count": 40,
   "metadata": {
    "collapsed": true
   },
   "outputs": [],
   "source": [
    "# load data\n",
    "dt_train_raw = pd.read_csv(\"../../data/Mercedes_Benz_Greener_Manufacturing/raw/train.csv\")\n",
    "dt_test_raw = pd.read_csv(\"../../data/Mercedes_Benz_Greener_Manufacturing/raw/test.csv\")"
   ]
  },
  {
   "cell_type": "code",
   "execution_count": 41,
   "metadata": {},
   "outputs": [
    {
     "data": {
      "text/html": [
       "<div>\n",
       "<style>\n",
       "    .dataframe thead tr:only-child th {\n",
       "        text-align: right;\n",
       "    }\n",
       "\n",
       "    .dataframe thead th {\n",
       "        text-align: left;\n",
       "    }\n",
       "\n",
       "    .dataframe tbody tr th {\n",
       "        vertical-align: top;\n",
       "    }\n",
       "</style>\n",
       "<table border=\"1\" class=\"dataframe\">\n",
       "  <thead>\n",
       "    <tr style=\"text-align: right;\">\n",
       "      <th></th>\n",
       "      <th>ID</th>\n",
       "      <th>y</th>\n",
       "      <th>X0</th>\n",
       "      <th>X1</th>\n",
       "      <th>X2</th>\n",
       "      <th>X3</th>\n",
       "      <th>X4</th>\n",
       "      <th>X5</th>\n",
       "      <th>X6</th>\n",
       "      <th>X8</th>\n",
       "      <th>...</th>\n",
       "      <th>X375</th>\n",
       "      <th>X376</th>\n",
       "      <th>X377</th>\n",
       "      <th>X378</th>\n",
       "      <th>X379</th>\n",
       "      <th>X380</th>\n",
       "      <th>X382</th>\n",
       "      <th>X383</th>\n",
       "      <th>X384</th>\n",
       "      <th>X385</th>\n",
       "    </tr>\n",
       "  </thead>\n",
       "  <tbody>\n",
       "    <tr>\n",
       "      <th>883</th>\n",
       "      <td>1770</td>\n",
       "      <td>265.32</td>\n",
       "      <td>y</td>\n",
       "      <td>r</td>\n",
       "      <td>ai</td>\n",
       "      <td>f</td>\n",
       "      <td>d</td>\n",
       "      <td>ag</td>\n",
       "      <td>l</td>\n",
       "      <td>t</td>\n",
       "      <td>...</td>\n",
       "      <td>0</td>\n",
       "      <td>0</td>\n",
       "      <td>0</td>\n",
       "      <td>0</td>\n",
       "      <td>0</td>\n",
       "      <td>0</td>\n",
       "      <td>0</td>\n",
       "      <td>0</td>\n",
       "      <td>0</td>\n",
       "      <td>0</td>\n",
       "    </tr>\n",
       "  </tbody>\n",
       "</table>\n",
       "<p>1 rows × 378 columns</p>\n",
       "</div>"
      ],
      "text/plain": [
       "       ID       y X0 X1  X2 X3 X4  X5 X6 X8  ...   X375  X376  X377  X378  \\\n",
       "883  1770  265.32  y  r  ai  f  d  ag  l  t  ...      0     0     0     0   \n",
       "\n",
       "     X379  X380  X382  X383  X384  X385  \n",
       "883     0     0     0     0     0     0  \n",
       "\n",
       "[1 rows x 378 columns]"
      ]
     },
     "execution_count": 41,
     "metadata": {},
     "output_type": "execute_result"
    }
   ],
   "source": [
    "# outlier\n",
    "dt_outlier = dt_train_raw.loc[dt_train_raw.y == max(dt_train_raw.y.values)]\n",
    "dt_outlier"
   ]
  },
  {
   "cell_type": "markdown",
   "metadata": {},
   "source": [
    "**X, y, ID**"
   ]
  },
  {
   "cell_type": "code",
   "execution_count": 42,
   "metadata": {
    "collapsed": true
   },
   "outputs": [],
   "source": [
    "# remove outlier\n",
    "dt_train_raw_no_outlier = dt_train_raw.loc[dt_train_raw[\"ID\"] != dt_outlier[\"ID\"].values[0]]"
   ]
  },
  {
   "cell_type": "code",
   "execution_count": 43,
   "metadata": {
    "collapsed": true
   },
   "outputs": [],
   "source": [
    "X = dt_train_raw_no_outlier.drop([\"ID\", \"y\"], axis = 1)\n",
    "y = dt_train_raw_no_outlier.y.values\n",
    "ID = dt_train_raw_no_outlier.ID.values"
   ]
  },
  {
   "cell_type": "code",
   "execution_count": 44,
   "metadata": {
    "scrolled": true
   },
   "outputs": [
    {
     "data": {
      "text/plain": [
       "(4208, 376)"
      ]
     },
     "execution_count": 44,
     "metadata": {},
     "output_type": "execute_result"
    }
   ],
   "source": [
    "X.shape"
   ]
  },
  {
   "cell_type": "markdown",
   "metadata": {},
   "source": [
    "**One-hot Encoding**"
   ]
  },
  {
   "cell_type": "code",
   "execution_count": 45,
   "metadata": {
    "collapsed": true
   },
   "outputs": [],
   "source": [
    "# cols_cat\n",
    "cols_cat = X.select_dtypes(include = ['object']).columns.values\n",
    "dt_cat_onehot = pd.get_dummies(X[cols_cat])\n",
    "X = X.drop(cols_cat, axis = 1)\n",
    "X = X.join(dt_cat_onehot)"
   ]
  },
  {
   "cell_type": "code",
   "execution_count": 46,
   "metadata": {},
   "outputs": [
    {
     "data": {
      "text/plain": [
       "(4208, 563)"
      ]
     },
     "execution_count": 46,
     "metadata": {},
     "output_type": "execute_result"
    }
   ],
   "source": [
    "X.shape"
   ]
  },
  {
   "cell_type": "markdown",
   "metadata": {},
   "source": [
    "**ExtraTree**"
   ]
  },
  {
   "cell_type": "code",
   "execution_count": 47,
   "metadata": {
    "collapsed": true
   },
   "outputs": [],
   "source": [
    "# extratree\n",
    "params_extraTRee = {\n",
    "    \"n_jobs\": 7\n",
    "    , \"n_estimators\": 400\n",
    "    , \"max_depth\": 3\n",
    "    , \"min_samples_split\": 5\n",
    "    , \"random_state\": 888\n",
    "    , \"verbose\": 0\n",
    "}\n",
    "model_extra = ExtraTreesRegressor(**params_extraTRee)"
   ]
  },
  {
   "cell_type": "markdown",
   "metadata": {},
   "source": [
    "**xgboost**"
   ]
  },
  {
   "cell_type": "code",
   "execution_count": 48,
   "metadata": {
    "collapsed": true
   },
   "outputs": [],
   "source": [
    "# params\n",
    "params_xgb = {}\n",
    "params_xgb['objective'] = 'reg:linear'\n",
    "params_xgb['max_depth'] = 5\n",
    "params_xgb['eta'] = 0.1\n",
    "params_xgb['early_stopping_rounds'] = 10\n",
    "params_xgb['silent'] = 0\n",
    "\n",
    "num_boost_round = 500"
   ]
  },
  {
   "cell_type": "code",
   "execution_count": 49,
   "metadata": {
    "collapsed": true
   },
   "outputs": [],
   "source": [
    "# r^2\n",
    "def r_2(preds, dtrain):\n",
    "    labels = dtrain.get_label()\n",
    "    # return a pair metric_name, result\n",
    "    # since preds are margin(before logistic transformation, cutoff at 0)\n",
    "    return 'score', r2_score(labels, preds)"
   ]
  },
  {
   "cell_type": "markdown",
   "metadata": {},
   "source": [
    "**Random Split**"
   ]
  },
  {
   "cell_type": "code",
   "execution_count": 50,
   "metadata": {
    "collapsed": true
   },
   "outputs": [],
   "source": [
    "X_train, X_valid, y_train, y_valid = train_test_split(X, y, test_size = 0.2, random_state = 888)"
   ]
  },
  {
   "cell_type": "code",
   "execution_count": 51,
   "metadata": {},
   "outputs": [
    {
     "data": {
      "text/plain": [
       "0.55985569600611274"
      ]
     },
     "execution_count": 51,
     "metadata": {},
     "output_type": "execute_result"
    }
   ],
   "source": [
    "# extraTree\n",
    "model_extra.fit(X_train, y_train)\n",
    "preds_valid = model_extra.predict(X_valid)\n",
    "r2_score(y_valid, preds_valid)"
   ]
  },
  {
   "cell_type": "code",
   "execution_count": 52,
   "metadata": {},
   "outputs": [
    {
     "name": "stdout",
     "output_type": "stream",
     "text": [
      "[0]\teval-rmse:91.2715\ttrain-rmse:90.799\teval-score:-53.986\ttrain-score:-52.1991\n",
      "Multiple eval metrics have been passed: 'train-score' will be used for early stopping.\n",
      "\n",
      "Will train until train-score hasn't improved in 50 rounds.\n",
      "[1]\teval-rmse:82.2527\ttrain-rmse:81.8063\teval-score:-43.6562\ttrain-score:-42.1832\n",
      "[2]\teval-rmse:74.1421\ttrain-rmse:73.7195\teval-score:-35.2837\ttrain-score:-34.0677\n",
      "[3]\teval-rmse:66.8499\ttrain-rmse:66.4492\teval-score:-28.4974\ttrain-score:-27.4919\n",
      "[4]\teval-rmse:60.2954\ttrain-rmse:59.9147\teval-score:-22.9966\ttrain-score:-22.1638\n",
      "[5]\teval-rmse:54.4057\ttrain-rmse:54.0437\teval-score:-18.5376\ttrain-score:-17.8465\n",
      "[6]\teval-rmse:49.1158\ttrain-rmse:48.7709\teval-score:-14.923\ttrain-score:-14.3484\n",
      "[7]\teval-rmse:44.3666\ttrain-rmse:44.0379\teval-score:-11.9925\ttrain-score:-11.514\n",
      "[8]\teval-rmse:40.1094\ttrain-rmse:39.7922\teval-score:-9.61877\ttrain-score:-9.21734\n",
      "[9]\teval-rmse:36.2894\ttrain-rmse:35.9865\teval-score:-7.69244\ttrain-score:-7.35643\n",
      "[10]\teval-rmse:32.8722\ttrain-rmse:32.5781\teval-score:-6.13246\ttrain-score:-5.84848\n",
      "[11]\teval-rmse:29.8115\ttrain-rmse:29.529\teval-score:-4.8661\ttrain-score:-4.62652\n",
      "[12]\teval-rmse:27.0779\ttrain-rmse:26.8044\teval-score:-3.83964\ttrain-score:-3.63613\n",
      "[13]\teval-rmse:24.6356\ttrain-rmse:24.3731\teval-score:-3.00597\ttrain-score:-2.83323\n",
      "[14]\teval-rmse:22.4681\ttrain-rmse:22.2075\teval-score:-2.33206\ttrain-score:-2.18231\n",
      "[15]\teval-rmse:20.5369\ttrain-rmse:20.2821\teval-score:-1.78388\ttrain-score:-1.6544\n",
      "[16]\teval-rmse:18.8301\ttrain-rmse:18.5723\teval-score:-1.34039\ttrain-score:-1.22572\n",
      "[17]\teval-rmse:17.3321\ttrain-rmse:17.0596\teval-score:-0.982828\ttrain-score:-0.877923\n",
      "[18]\teval-rmse:15.9971\ttrain-rmse:15.7238\teval-score:-0.689143\ttrain-score:-0.595359\n",
      "[19]\teval-rmse:14.8322\ttrain-rmse:14.5475\teval-score:-0.45209\ttrain-score:-0.365582\n",
      "[20]\teval-rmse:13.8013\ttrain-rmse:13.5174\teval-score:-0.257252\ttrain-score:-0.179038\n",
      "[21]\teval-rmse:12.9203\ttrain-rmse:12.6152\teval-score:-0.10186\ttrain-score:-0.0269\n",
      "[22]\teval-rmse:12.1429\ttrain-rmse:11.8348\teval-score:0.026739\ttrain-score:0.096225\n",
      "[23]\teval-rmse:11.4741\ttrain-rmse:11.1559\teval-score:0.131001\ttrain-score:0.196928\n",
      "[24]\teval-rmse:10.9053\ttrain-rmse:10.5692\teval-score:0.215018\ttrain-score:0.279187\n",
      "[25]\teval-rmse:10.4133\ttrain-rmse:10.0644\teval-score:0.284251\ttrain-score:0.346396\n",
      "[26]\teval-rmse:9.99879\ttrain-rmse:9.63442\teval-score:0.340102\ttrain-score:0.401047\n",
      "[27]\teval-rmse:9.65129\ttrain-rmse:9.27031\teval-score:0.385173\ttrain-score:0.445463\n",
      "[28]\teval-rmse:9.35978\ttrain-rmse:8.95896\teval-score:0.421753\ttrain-score:0.482087\n",
      "[29]\teval-rmse:9.11436\ttrain-rmse:8.69372\teval-score:0.45168\ttrain-score:0.5123\n",
      "[30]\teval-rmse:8.90425\ttrain-rmse:8.4746\teval-score:0.476669\ttrain-score:0.536575\n",
      "[31]\teval-rmse:8.73353\ttrain-rmse:8.28739\teval-score:0.496544\ttrain-score:0.556823\n",
      "[32]\teval-rmse:8.58957\ttrain-rmse:8.12186\teval-score:0.513005\ttrain-score:0.574351\n",
      "[33]\teval-rmse:8.47133\ttrain-rmse:7.98915\teval-score:0.52632\ttrain-score:0.588146\n",
      "[34]\teval-rmse:8.37628\ttrain-rmse:7.88221\teval-score:0.53689\ttrain-score:0.599098\n",
      "[35]\teval-rmse:8.29503\ttrain-rmse:7.79232\teval-score:0.545831\ttrain-score:0.60819\n",
      "[36]\teval-rmse:8.23199\ttrain-rmse:7.71883\teval-score:0.552707\ttrain-score:0.615546\n",
      "[37]\teval-rmse:8.1767\ttrain-rmse:7.6525\teval-score:0.558696\ttrain-score:0.622125\n",
      "[38]\teval-rmse:8.12856\ttrain-rmse:7.59462\teval-score:0.563877\ttrain-score:0.62782\n",
      "[39]\teval-rmse:8.0904\ttrain-rmse:7.55135\teval-score:0.567962\ttrain-score:0.632048\n",
      "[40]\teval-rmse:8.05987\ttrain-rmse:7.51628\teval-score:0.571216\ttrain-score:0.635458\n",
      "[41]\teval-rmse:8.03627\ttrain-rmse:7.4716\teval-score:0.573724\ttrain-score:0.639779\n",
      "[42]\teval-rmse:8.01586\ttrain-rmse:7.43168\teval-score:0.575886\ttrain-score:0.643618\n",
      "[43]\teval-rmse:7.9987\ttrain-rmse:7.40547\teval-score:0.5777\ttrain-score:0.646127\n",
      "[44]\teval-rmse:7.98543\ttrain-rmse:7.3841\teval-score:0.579101\ttrain-score:0.648167\n",
      "[45]\teval-rmse:7.97189\ttrain-rmse:7.36695\teval-score:0.580527\ttrain-score:0.649799\n",
      "[46]\teval-rmse:7.9687\ttrain-rmse:7.32707\teval-score:0.580863\ttrain-score:0.653581\n",
      "[47]\teval-rmse:7.95867\ttrain-rmse:7.31516\teval-score:0.581916\ttrain-score:0.654705\n",
      "[48]\teval-rmse:7.95342\ttrain-rmse:7.29957\teval-score:0.582468\ttrain-score:0.656176\n",
      "[49]\teval-rmse:7.94835\ttrain-rmse:7.28908\teval-score:0.583\ttrain-score:0.657164\n",
      "[50]\teval-rmse:7.94624\ttrain-rmse:7.27328\teval-score:0.583222\ttrain-score:0.658648\n",
      "Stopping. Best iteration:\n",
      "[0]\teval-rmse:91.2715\ttrain-rmse:90.799\teval-score:-53.986\ttrain-score:-52.1991\n",
      "\n"
     ]
    }
   ],
   "source": [
    "# xgboost\n",
    "dtrain = xgb.DMatrix(X_train, label = y_train)\n",
    "dtvalid = xgb.DMatrix(X_valid, label = y_valid)\n",
    "ls_watch =  [(dtvalid, 'eval'), (dtrain, 'train')]\n",
    "bst = xgb.train(params_xgb, dtrain\n",
    "                , num_boost_round = num_boost_round, evals = ls_watch, early_stopping_rounds = 50\n",
    "                , maximize = False, feval = r_2)"
   ]
  },
  {
   "cell_type": "markdown",
   "metadata": {},
   "source": [
    "**K Fold**"
   ]
  },
  {
   "cell_type": "code",
   "execution_count": 53,
   "metadata": {
    "collapsed": true
   },
   "outputs": [],
   "source": [
    "# stratified kfold\n",
    "kf = KFold(n_splits = 5, shuffle = True, random_state = 888)"
   ]
  },
  {
   "cell_type": "code",
   "execution_count": 56,
   "metadata": {},
   "outputs": [
    {
     "name": "stdout",
     "output_type": "stream",
     "text": [
      "[0]\teval-rmse:91.2715\ttrain-rmse:90.799\teval-score:-53.986\ttrain-score:-52.1991\n",
      "[1]\teval-rmse:82.2527\ttrain-rmse:81.8063\teval-score:-43.6562\ttrain-score:-42.1832\n",
      "[2]\teval-rmse:74.1421\ttrain-rmse:73.7195\teval-score:-35.2837\ttrain-score:-34.0677\n",
      "[3]\teval-rmse:66.8499\ttrain-rmse:66.4492\teval-score:-28.4974\ttrain-score:-27.4919\n",
      "[4]\teval-rmse:60.2954\ttrain-rmse:59.9147\teval-score:-22.9966\ttrain-score:-22.1638\n",
      "[5]\teval-rmse:54.4057\ttrain-rmse:54.0437\teval-score:-18.5376\ttrain-score:-17.8465\n",
      "[6]\teval-rmse:49.1158\ttrain-rmse:48.7709\teval-score:-14.923\ttrain-score:-14.3484\n",
      "[7]\teval-rmse:44.3666\ttrain-rmse:44.0379\teval-score:-11.9925\ttrain-score:-11.514\n",
      "[8]\teval-rmse:40.1094\ttrain-rmse:39.7922\teval-score:-9.61877\ttrain-score:-9.21734\n",
      "[9]\teval-rmse:36.2894\ttrain-rmse:35.9865\teval-score:-7.69244\ttrain-score:-7.35643\n",
      "[10]\teval-rmse:32.8722\ttrain-rmse:32.5781\teval-score:-6.13246\ttrain-score:-5.84848\n",
      "[11]\teval-rmse:29.8115\ttrain-rmse:29.529\teval-score:-4.8661\ttrain-score:-4.62652\n",
      "[12]\teval-rmse:27.0779\ttrain-rmse:26.8044\teval-score:-3.83964\ttrain-score:-3.63613\n",
      "[13]\teval-rmse:24.6356\ttrain-rmse:24.3731\teval-score:-3.00597\ttrain-score:-2.83323\n",
      "[14]\teval-rmse:22.4681\ttrain-rmse:22.2075\teval-score:-2.33206\ttrain-score:-2.18231\n",
      "[15]\teval-rmse:20.5369\ttrain-rmse:20.2821\teval-score:-1.78388\ttrain-score:-1.6544\n",
      "[16]\teval-rmse:18.8301\ttrain-rmse:18.5723\teval-score:-1.34039\ttrain-score:-1.22572\n",
      "[17]\teval-rmse:17.3321\ttrain-rmse:17.0596\teval-score:-0.982828\ttrain-score:-0.877923\n",
      "[18]\teval-rmse:15.9971\ttrain-rmse:15.7238\teval-score:-0.689143\ttrain-score:-0.595359\n",
      "[19]\teval-rmse:14.8322\ttrain-rmse:14.5475\teval-score:-0.45209\ttrain-score:-0.365582\n",
      "[20]\teval-rmse:13.8013\ttrain-rmse:13.5174\teval-score:-0.257252\ttrain-score:-0.179038\n",
      "[21]\teval-rmse:12.9203\ttrain-rmse:12.6152\teval-score:-0.10186\ttrain-score:-0.0269\n",
      "[22]\teval-rmse:12.1429\ttrain-rmse:11.8348\teval-score:0.026739\ttrain-score:0.096225\n",
      "[23]\teval-rmse:11.4741\ttrain-rmse:11.1559\teval-score:0.131001\ttrain-score:0.196928\n",
      "[24]\teval-rmse:10.9053\ttrain-rmse:10.5692\teval-score:0.215018\ttrain-score:0.279187\n",
      "[25]\teval-rmse:10.4133\ttrain-rmse:10.0644\teval-score:0.284251\ttrain-score:0.346396\n",
      "[26]\teval-rmse:9.99879\ttrain-rmse:9.63442\teval-score:0.340102\ttrain-score:0.401047\n",
      "[27]\teval-rmse:9.65129\ttrain-rmse:9.27031\teval-score:0.385173\ttrain-score:0.445463\n",
      "[28]\teval-rmse:9.35978\ttrain-rmse:8.95896\teval-score:0.421753\ttrain-score:0.482087\n",
      "[29]\teval-rmse:9.11436\ttrain-rmse:8.69372\teval-score:0.45168\ttrain-score:0.5123\n",
      "[30]\teval-rmse:8.90425\ttrain-rmse:8.4746\teval-score:0.476669\ttrain-score:0.536575\n",
      "[31]\teval-rmse:8.73353\ttrain-rmse:8.28739\teval-score:0.496544\ttrain-score:0.556823\n",
      "[32]\teval-rmse:8.58957\ttrain-rmse:8.12186\teval-score:0.513005\ttrain-score:0.574351\n",
      "[33]\teval-rmse:8.47133\ttrain-rmse:7.98915\teval-score:0.52632\ttrain-score:0.588146\n",
      "[34]\teval-rmse:8.37628\ttrain-rmse:7.88221\teval-score:0.53689\ttrain-score:0.599098\n",
      "[35]\teval-rmse:8.29503\ttrain-rmse:7.79232\teval-score:0.545831\ttrain-score:0.60819\n",
      "[36]\teval-rmse:8.23199\ttrain-rmse:7.71883\teval-score:0.552707\ttrain-score:0.615546\n",
      "[37]\teval-rmse:8.1767\ttrain-rmse:7.6525\teval-score:0.558696\ttrain-score:0.622125\n",
      "[38]\teval-rmse:8.12856\ttrain-rmse:7.59462\teval-score:0.563877\ttrain-score:0.62782\n",
      "[39]\teval-rmse:8.0904\ttrain-rmse:7.55135\teval-score:0.567962\ttrain-score:0.632048\n",
      "[40]\teval-rmse:8.05987\ttrain-rmse:7.51628\teval-score:0.571216\ttrain-score:0.635458\n",
      "[41]\teval-rmse:8.03627\ttrain-rmse:7.4716\teval-score:0.573724\ttrain-score:0.639779\n",
      "[42]\teval-rmse:8.01586\ttrain-rmse:7.43168\teval-score:0.575886\ttrain-score:0.643618\n",
      "[43]\teval-rmse:7.9987\ttrain-rmse:7.40547\teval-score:0.5777\ttrain-score:0.646127\n",
      "[44]\teval-rmse:7.98543\ttrain-rmse:7.3841\teval-score:0.579101\ttrain-score:0.648167\n",
      "[45]\teval-rmse:7.97189\ttrain-rmse:7.36695\teval-score:0.580527\ttrain-score:0.649799\n",
      "[46]\teval-rmse:7.9687\ttrain-rmse:7.32707\teval-score:0.580863\ttrain-score:0.653581\n",
      "[47]\teval-rmse:7.95867\ttrain-rmse:7.31516\teval-score:0.581916\ttrain-score:0.654705\n",
      "[48]\teval-rmse:7.95342\ttrain-rmse:7.29957\teval-score:0.582468\ttrain-score:0.656176\n",
      "[49]\teval-rmse:7.94835\ttrain-rmse:7.28908\teval-score:0.583\ttrain-score:0.657164\n",
      "[50]\teval-rmse:7.94624\ttrain-rmse:7.27328\teval-score:0.583222\ttrain-score:0.658648\n",
      "[51]\teval-rmse:7.94059\ttrain-rmse:7.26582\teval-score:0.583814\ttrain-score:0.659348\n",
      "[52]\teval-rmse:7.9389\ttrain-rmse:7.24928\teval-score:0.583991\ttrain-score:0.660897\n",
      "[53]\teval-rmse:7.93929\ttrain-rmse:7.22743\teval-score:0.58395\ttrain-score:0.662938\n",
      "[54]\teval-rmse:7.9372\ttrain-rmse:7.22086\teval-score:0.58417\ttrain-score:0.663551\n",
      "[55]\teval-rmse:7.93906\ttrain-rmse:7.20014\teval-score:0.583975\ttrain-score:0.665479\n",
      "[56]\teval-rmse:7.9283\ttrain-rmse:7.18445\teval-score:0.585102\ttrain-score:0.666935\n",
      "[57]\teval-rmse:7.92671\ttrain-rmse:7.18013\teval-score:0.585267\ttrain-score:0.667336\n",
      "[58]\teval-rmse:7.92427\ttrain-rmse:7.1689\teval-score:0.585523\ttrain-score:0.668376\n",
      "[59]\teval-rmse:7.92696\ttrain-rmse:7.15336\teval-score:0.585242\ttrain-score:0.669812\n",
      "[60]\teval-rmse:7.92869\ttrain-rmse:7.14428\teval-score:0.585061\ttrain-score:0.67065\n",
      "[61]\teval-rmse:7.92934\ttrain-rmse:7.13898\teval-score:0.584992\ttrain-score:0.671137\n",
      "[62]\teval-rmse:7.92976\ttrain-rmse:7.13131\teval-score:0.584949\ttrain-score:0.671844\n",
      "[63]\teval-rmse:7.92002\ttrain-rmse:7.12326\teval-score:0.585968\ttrain-score:0.672584\n",
      "[64]\teval-rmse:7.92116\ttrain-rmse:7.11615\teval-score:0.585848\ttrain-score:0.673238\n",
      "[65]\teval-rmse:7.92102\ttrain-rmse:7.10705\teval-score:0.585863\ttrain-score:0.674073\n",
      "[66]\teval-rmse:7.92187\ttrain-rmse:7.09605\teval-score:0.585774\ttrain-score:0.675081\n",
      "[67]\teval-rmse:7.92286\ttrain-rmse:7.08961\teval-score:0.58567\ttrain-score:0.675671\n",
      "[68]\teval-rmse:7.92589\ttrain-rmse:7.08381\teval-score:0.585354\ttrain-score:0.676201\n",
      "[69]\teval-rmse:7.93048\ttrain-rmse:7.06858\teval-score:0.584873\ttrain-score:0.677592\n",
      "[70]\teval-rmse:7.92939\ttrain-rmse:7.0628\teval-score:0.584988\ttrain-score:0.678119\n",
      "[71]\teval-rmse:7.9326\ttrain-rmse:7.05286\teval-score:0.584652\ttrain-score:0.679024\n",
      "[72]\teval-rmse:7.9327\ttrain-rmse:7.0491\teval-score:0.584641\ttrain-score:0.679366\n",
      "[73]\teval-rmse:7.93464\ttrain-rmse:7.03897\teval-score:0.584438\ttrain-score:0.680287\n",
      "[74]\teval-rmse:7.93816\ttrain-rmse:7.02774\teval-score:0.584068\ttrain-score:0.681307\n",
      "[75]\teval-rmse:7.9427\ttrain-rmse:7.01801\teval-score:0.583593\ttrain-score:0.682189\n",
      "[76]\teval-rmse:7.93371\ttrain-rmse:7.00845\teval-score:0.584535\ttrain-score:0.683053\n",
      "[77]\teval-rmse:7.93724\ttrain-rmse:7.00291\teval-score:0.584165\ttrain-score:0.683555\n",
      "[78]\teval-rmse:7.93756\ttrain-rmse:6.99725\teval-score:0.584132\ttrain-score:0.684066\n",
      "[79]\teval-rmse:7.94353\ttrain-rmse:6.98724\teval-score:0.583506\ttrain-score:0.684969\n",
      "[80]\teval-rmse:7.94229\ttrain-rmse:6.9824\teval-score:0.583635\ttrain-score:0.685406\n",
      "[81]\teval-rmse:7.94413\ttrain-rmse:6.97474\teval-score:0.583443\ttrain-score:0.686095\n",
      "[82]\teval-rmse:7.94942\ttrain-rmse:6.96586\teval-score:0.582888\ttrain-score:0.686894\n",
      "[83]\teval-rmse:7.95067\ttrain-rmse:6.96128\teval-score:0.582756\ttrain-score:0.687306\n",
      "[84]\teval-rmse:7.95341\ttrain-rmse:6.9554\teval-score:0.582469\ttrain-score:0.687834\n",
      "[85]\teval-rmse:7.95413\ttrain-rmse:6.95007\teval-score:0.582394\ttrain-score:0.688312\n",
      "[86]\teval-rmse:7.95738\ttrain-rmse:6.94337\teval-score:0.582052\ttrain-score:0.688913\n",
      "[87]\teval-rmse:7.95791\ttrain-rmse:6.93908\teval-score:0.581997\ttrain-score:0.689297\n",
      "[88]\teval-rmse:7.9621\ttrain-rmse:6.92891\teval-score:0.581556\ttrain-score:0.690207\n",
      "[89]\teval-rmse:7.96298\ttrain-rmse:6.92465\teval-score:0.581464\ttrain-score:0.690587\n",
      "[90]\teval-rmse:7.96656\ttrain-rmse:6.91614\teval-score:0.581087\ttrain-score:0.691348\n",
      "[91]\teval-rmse:7.97103\ttrain-rmse:6.90462\teval-score:0.580617\ttrain-score:0.692375\n",
      "[92]\teval-rmse:7.97325\ttrain-rmse:6.90078\teval-score:0.580384\ttrain-score:0.692718\n",
      "[93]\teval-rmse:7.96496\ttrain-rmse:6.89245\teval-score:0.581256\ttrain-score:0.693459\n",
      "[94]\teval-rmse:7.96916\ttrain-rmse:6.87251\teval-score:0.580813\ttrain-score:0.69523\n",
      "[95]\teval-rmse:7.96908\ttrain-rmse:6.87041\teval-score:0.580822\ttrain-score:0.695416\n",
      "[96]\teval-rmse:7.96875\ttrain-rmse:6.86778\teval-score:0.580857\ttrain-score:0.695649\n",
      "[97]\teval-rmse:7.97064\ttrain-rmse:6.86061\teval-score:0.580658\ttrain-score:0.696284\n",
      "[98]\teval-rmse:7.97633\ttrain-rmse:6.85349\teval-score:0.580059\ttrain-score:0.696915\n",
      "[99]\teval-rmse:7.97996\ttrain-rmse:6.83908\teval-score:0.579677\ttrain-score:0.698188\n"
     ]
    },
    {
     "name": "stdout",
     "output_type": "stream",
     "text": [
      "[100]\teval-rmse:7.97896\ttrain-rmse:6.82781\teval-score:0.579782\ttrain-score:0.699182\n",
      "[101]\teval-rmse:7.97805\ttrain-rmse:6.82588\teval-score:0.579878\ttrain-score:0.699352\n",
      "[102]\teval-rmse:7.98422\ttrain-rmse:6.81431\teval-score:0.579228\ttrain-score:0.70037\n",
      "[103]\teval-rmse:7.98484\ttrain-rmse:6.8037\teval-score:0.579163\ttrain-score:0.701302\n",
      "[104]\teval-rmse:7.98495\ttrain-rmse:6.80008\teval-score:0.579151\ttrain-score:0.70162\n",
      "[105]\teval-rmse:7.9898\ttrain-rmse:6.79604\teval-score:0.57864\ttrain-score:0.701975\n",
      "[106]\teval-rmse:7.99389\ttrain-rmse:6.78705\teval-score:0.578209\ttrain-score:0.702763\n",
      "[107]\teval-rmse:7.99515\ttrain-rmse:6.78266\teval-score:0.578075\ttrain-score:0.703147\n",
      "[108]\teval-rmse:7.99611\ttrain-rmse:6.7795\teval-score:0.577974\ttrain-score:0.703423\n",
      "[109]\teval-rmse:7.99624\ttrain-rmse:6.77727\teval-score:0.57796\ttrain-score:0.703618\n",
      "[110]\teval-rmse:7.9981\ttrain-rmse:6.76622\teval-score:0.577763\ttrain-score:0.704584\n",
      "[111]\teval-rmse:7.99916\ttrain-rmse:6.76167\teval-score:0.577652\ttrain-score:0.704981\n",
      "[112]\teval-rmse:7.99935\ttrain-rmse:6.75513\teval-score:0.577632\ttrain-score:0.705552\n",
      "[113]\teval-rmse:7.99795\ttrain-rmse:6.75276\teval-score:0.57778\ttrain-score:0.705758\n",
      "[114]\teval-rmse:8.00179\ttrain-rmse:6.74309\teval-score:0.577374\ttrain-score:0.7066\n",
      "[115]\teval-rmse:8.00127\ttrain-rmse:6.736\teval-score:0.577429\ttrain-score:0.707217\n",
      "[116]\teval-rmse:8.00368\ttrain-rmse:6.72796\teval-score:0.577174\ttrain-score:0.707916\n",
      "[117]\teval-rmse:8.00586\ttrain-rmse:6.71885\teval-score:0.576944\ttrain-score:0.708706\n",
      "[118]\teval-rmse:8.00573\ttrain-rmse:6.70897\teval-score:0.576958\ttrain-score:0.709562\n",
      "[119]\teval-rmse:8.0063\ttrain-rmse:6.70503\teval-score:0.576897\ttrain-score:0.709903\n",
      "[120]\teval-rmse:8.0105\ttrain-rmse:6.69388\teval-score:0.576454\ttrain-score:0.710867\n",
      "[121]\teval-rmse:8.00262\ttrain-rmse:6.66588\teval-score:0.577287\ttrain-score:0.713281\n",
      "[122]\teval-rmse:8.00368\ttrain-rmse:6.66092\teval-score:0.577174\ttrain-score:0.713708\n",
      "[123]\teval-rmse:8.00826\ttrain-rmse:6.65352\teval-score:0.57669\ttrain-score:0.714343\n",
      "[124]\teval-rmse:8.00743\ttrain-rmse:6.63733\teval-score:0.576778\ttrain-score:0.715732\n",
      "[125]\teval-rmse:8.00502\ttrain-rmse:6.62307\teval-score:0.577033\ttrain-score:0.716952\n",
      "[126]\teval-rmse:8.00528\ttrain-rmse:6.61251\teval-score:0.577005\ttrain-score:0.717854\n",
      "[127]\teval-rmse:8.00724\ttrain-rmse:6.60992\teval-score:0.576798\ttrain-score:0.718075\n",
      "[128]\teval-rmse:8.00714\ttrain-rmse:6.60083\teval-score:0.576808\ttrain-score:0.71885\n",
      "[129]\teval-rmse:8.00911\ttrain-rmse:6.59806\teval-score:0.5766\ttrain-score:0.719085\n",
      "[130]\teval-rmse:8.00907\ttrain-rmse:6.59584\teval-score:0.576605\ttrain-score:0.719275\n",
      "[131]\teval-rmse:8.00703\ttrain-rmse:6.59172\teval-score:0.57682\ttrain-score:0.719625\n",
      "[132]\teval-rmse:8.00746\ttrain-rmse:6.58588\teval-score:0.576775\ttrain-score:0.720122\n",
      "[133]\teval-rmse:8.00831\ttrain-rmse:6.57983\teval-score:0.576685\ttrain-score:0.720636\n",
      "[134]\teval-rmse:8.00982\ttrain-rmse:6.57674\teval-score:0.576526\ttrain-score:0.720898\n",
      "[135]\teval-rmse:8.00839\ttrain-rmse:6.57102\teval-score:0.576677\ttrain-score:0.721383\n",
      "[136]\teval-rmse:8.00845\ttrain-rmse:6.55961\teval-score:0.57667\ttrain-score:0.72235\n",
      "[137]\teval-rmse:8.01671\ttrain-rmse:6.54934\teval-score:0.575796\ttrain-score:0.723219\n",
      "[138]\teval-rmse:8.01803\ttrain-rmse:6.54382\teval-score:0.575657\ttrain-score:0.723685\n",
      "[139]\teval-rmse:8.01854\ttrain-rmse:6.53498\teval-score:0.575603\ttrain-score:0.724431\n",
      "[140]\teval-rmse:8.0185\ttrain-rmse:6.5334\teval-score:0.575607\ttrain-score:0.724564\n",
      "[141]\teval-rmse:8.02256\ttrain-rmse:6.51717\teval-score:0.575178\ttrain-score:0.725931\n",
      "[142]\teval-rmse:8.02264\ttrain-rmse:6.50719\teval-score:0.575169\ttrain-score:0.72677\n",
      "[143]\teval-rmse:8.02491\ttrain-rmse:6.49817\teval-score:0.574928\ttrain-score:0.727527\n",
      "[144]\teval-rmse:8.0212\ttrain-rmse:6.48177\teval-score:0.575321\ttrain-score:0.728901\n",
      "[145]\teval-rmse:8.02864\ttrain-rmse:6.47677\teval-score:0.574533\ttrain-score:0.729318\n",
      "[146]\teval-rmse:8.03396\ttrain-rmse:6.46247\teval-score:0.573969\ttrain-score:0.730513\n",
      "[147]\teval-rmse:8.03944\ttrain-rmse:6.45624\teval-score:0.573388\ttrain-score:0.731032\n",
      "[148]\teval-rmse:8.03916\ttrain-rmse:6.45098\teval-score:0.573417\ttrain-score:0.73147\n",
      "[149]\teval-rmse:8.04134\ttrain-rmse:6.44666\teval-score:0.573185\ttrain-score:0.73183\n",
      "[150]\teval-rmse:8.03375\ttrain-rmse:6.42817\teval-score:0.573991\ttrain-score:0.733366\n",
      "[151]\teval-rmse:8.03587\ttrain-rmse:6.424\teval-score:0.573767\ttrain-score:0.733711\n",
      "[152]\teval-rmse:8.0361\ttrain-rmse:6.42014\teval-score:0.573742\ttrain-score:0.734031\n",
      "[153]\teval-rmse:8.03199\ttrain-rmse:6.41705\teval-score:0.574178\ttrain-score:0.734287\n",
      "[154]\teval-rmse:8.03514\ttrain-rmse:6.40782\teval-score:0.573844\ttrain-score:0.735051\n",
      "[155]\teval-rmse:8.03801\ttrain-rmse:6.4054\teval-score:0.57354\ttrain-score:0.735251\n",
      "[156]\teval-rmse:8.03681\ttrain-rmse:6.40025\teval-score:0.573666\ttrain-score:0.735676\n",
      "[157]\teval-rmse:8.03708\ttrain-rmse:6.39858\teval-score:0.573638\ttrain-score:0.735815\n",
      "[158]\teval-rmse:8.0373\ttrain-rmse:6.39436\teval-score:0.573615\ttrain-score:0.736163\n",
      "[159]\teval-rmse:8.03732\ttrain-rmse:6.38237\teval-score:0.573612\ttrain-score:0.737151\n",
      "[160]\teval-rmse:8.0365\ttrain-rmse:6.3745\teval-score:0.5737\ttrain-score:0.737799\n",
      "[161]\teval-rmse:8.03981\ttrain-rmse:6.35738\teval-score:0.573348\ttrain-score:0.739206\n",
      "[162]\teval-rmse:8.04012\ttrain-rmse:6.35276\teval-score:0.573316\ttrain-score:0.739584\n",
      "[163]\teval-rmse:8.04155\ttrain-rmse:6.34209\teval-score:0.573164\ttrain-score:0.740458\n",
      "[164]\teval-rmse:8.04682\ttrain-rmse:6.3357\teval-score:0.572604\ttrain-score:0.740982\n",
      "[165]\teval-rmse:8.04808\ttrain-rmse:6.33326\teval-score:0.57247\ttrain-score:0.741181\n",
      "[166]\teval-rmse:8.05027\ttrain-rmse:6.33088\teval-score:0.572238\ttrain-score:0.741375\n",
      "[167]\teval-rmse:8.05537\ttrain-rmse:6.32135\teval-score:0.571695\ttrain-score:0.742153\n",
      "[168]\teval-rmse:8.05607\ttrain-rmse:6.31123\teval-score:0.571621\ttrain-score:0.742978\n",
      "[169]\teval-rmse:8.06483\ttrain-rmse:6.30027\teval-score:0.570689\ttrain-score:0.74387\n",
      "[170]\teval-rmse:8.06351\ttrain-rmse:6.29735\teval-score:0.570829\ttrain-score:0.744108\n",
      "[171]\teval-rmse:8.06535\ttrain-rmse:6.28837\teval-score:0.570633\ttrain-score:0.744837\n",
      "[172]\teval-rmse:8.06434\ttrain-rmse:6.28616\teval-score:0.57074\ttrain-score:0.745016\n",
      "[173]\teval-rmse:8.07052\ttrain-rmse:6.28081\teval-score:0.570082\ttrain-score:0.74545\n",
      "[174]\teval-rmse:8.07098\ttrain-rmse:6.27865\teval-score:0.570034\ttrain-score:0.745625\n",
      "[175]\teval-rmse:8.07006\ttrain-rmse:6.27537\teval-score:0.570132\ttrain-score:0.745891\n",
      "[176]\teval-rmse:8.07073\ttrain-rmse:6.27088\teval-score:0.57006\ttrain-score:0.746254\n",
      "[177]\teval-rmse:8.0762\ttrain-rmse:6.26588\teval-score:0.569477\ttrain-score:0.746659\n",
      "[178]\teval-rmse:8.07805\ttrain-rmse:6.25119\teval-score:0.569281\ttrain-score:0.747845\n",
      "[179]\teval-rmse:8.07832\ttrain-rmse:6.24792\teval-score:0.569251\ttrain-score:0.748109\n",
      "[180]\teval-rmse:8.08133\ttrain-rmse:6.24034\teval-score:0.56893\ttrain-score:0.74872\n",
      "[181]\teval-rmse:8.09082\ttrain-rmse:6.22403\teval-score:0.567917\ttrain-score:0.750032\n",
      "[182]\teval-rmse:8.1001\ttrain-rmse:6.20294\teval-score:0.566925\ttrain-score:0.751723\n",
      "[183]\teval-rmse:8.10166\ttrain-rmse:6.18843\teval-score:0.566759\ttrain-score:0.752883\n",
      "[184]\teval-rmse:8.10084\ttrain-rmse:6.18553\teval-score:0.566846\ttrain-score:0.753115\n",
      "[185]\teval-rmse:8.1038\ttrain-rmse:6.18318\teval-score:0.56653\ttrain-score:0.753302\n",
      "[186]\teval-rmse:8.10403\ttrain-rmse:6.17699\teval-score:0.566505\ttrain-score:0.753796\n",
      "[187]\teval-rmse:8.1062\ttrain-rmse:6.17145\teval-score:0.566273\ttrain-score:0.754237\n",
      "[188]\teval-rmse:8.10723\ttrain-rmse:6.16382\teval-score:0.566162\ttrain-score:0.754845\n",
      "[189]\teval-rmse:8.1075\ttrain-rmse:6.15723\teval-score:0.566134\ttrain-score:0.755369\n",
      "[190]\teval-rmse:8.11413\ttrain-rmse:6.14851\teval-score:0.565424\ttrain-score:0.756061\n",
      "[191]\teval-rmse:8.11673\ttrain-rmse:6.14449\teval-score:0.565145\ttrain-score:0.75638\n",
      "[192]\teval-rmse:8.11714\ttrain-rmse:6.1426\teval-score:0.565102\ttrain-score:0.75653\n",
      "[193]\teval-rmse:8.1162\ttrain-rmse:6.13627\teval-score:0.565202\ttrain-score:0.757031\n",
      "[194]\teval-rmse:8.12134\ttrain-rmse:6.13279\teval-score:0.564651\ttrain-score:0.757306\n",
      "[195]\teval-rmse:8.12272\ttrain-rmse:6.1298\teval-score:0.564503\ttrain-score:0.757543\n",
      "[196]\teval-rmse:8.12115\ttrain-rmse:6.11671\teval-score:0.564672\ttrain-score:0.758577\n",
      "[197]\teval-rmse:8.12123\ttrain-rmse:6.11037\teval-score:0.564663\ttrain-score:0.759078\n",
      "[198]\teval-rmse:8.11991\ttrain-rmse:6.10559\teval-score:0.564804\ttrain-score:0.759454\n"
     ]
    },
    {
     "name": "stdout",
     "output_type": "stream",
     "text": [
      "[199]\teval-rmse:8.11848\ttrain-rmse:6.10182\teval-score:0.564958\ttrain-score:0.759752\n",
      "[200]\teval-rmse:8.11975\ttrain-rmse:6.09706\teval-score:0.564822\ttrain-score:0.760126\n",
      "[201]\teval-rmse:8.12576\ttrain-rmse:6.09082\teval-score:0.564177\ttrain-score:0.760617\n",
      "[202]\teval-rmse:8.12452\ttrain-rmse:6.06996\teval-score:0.56431\ttrain-score:0.762254\n",
      "[203]\teval-rmse:8.12591\ttrain-rmse:6.06821\teval-score:0.564162\ttrain-score:0.762391\n",
      "[204]\teval-rmse:8.12397\ttrain-rmse:6.06294\teval-score:0.564369\ttrain-score:0.762804\n",
      "[205]\teval-rmse:8.12441\ttrain-rmse:6.06208\teval-score:0.564323\ttrain-score:0.762871\n",
      "[206]\teval-rmse:8.12511\ttrain-rmse:6.05978\teval-score:0.564247\ttrain-score:0.76305\n",
      "[207]\teval-rmse:8.12362\ttrain-rmse:6.0516\teval-score:0.564407\ttrain-score:0.76369\n",
      "[208]\teval-rmse:8.12258\ttrain-rmse:6.04684\teval-score:0.564519\ttrain-score:0.764061\n",
      "[209]\teval-rmse:8.1229\ttrain-rmse:6.0351\teval-score:0.564484\ttrain-score:0.764977\n",
      "[210]\teval-rmse:8.12338\ttrain-rmse:6.0305\teval-score:0.564432\ttrain-score:0.765335\n",
      "[211]\teval-rmse:8.13717\ttrain-rmse:6.01785\teval-score:0.562952\ttrain-score:0.766318\n",
      "[212]\teval-rmse:8.14393\ttrain-rmse:6.0133\teval-score:0.562226\ttrain-score:0.766671\n",
      "[213]\teval-rmse:8.14537\ttrain-rmse:6.00872\teval-score:0.562072\ttrain-score:0.767027\n",
      "[214]\teval-rmse:8.14816\ttrain-rmse:5.99201\teval-score:0.561771\ttrain-score:0.768321\n",
      "[215]\teval-rmse:8.15287\ttrain-rmse:5.97706\teval-score:0.561264\ttrain-score:0.769476\n",
      "[216]\teval-rmse:8.15608\ttrain-rmse:5.97497\teval-score:0.560919\ttrain-score:0.769637\n",
      "[217]\teval-rmse:8.15539\ttrain-rmse:5.97193\teval-score:0.560993\ttrain-score:0.769871\n",
      "[218]\teval-rmse:8.16048\ttrain-rmse:5.97042\teval-score:0.560445\ttrain-score:0.769988\n",
      "[219]\teval-rmse:8.16129\ttrain-rmse:5.96303\teval-score:0.560358\ttrain-score:0.770556\n",
      "[220]\teval-rmse:8.16154\ttrain-rmse:5.95375\teval-score:0.560331\ttrain-score:0.77127\n",
      "[221]\teval-rmse:8.17055\ttrain-rmse:5.93679\teval-score:0.559359\ttrain-score:0.772571\n",
      "[222]\teval-rmse:8.16431\ttrain-rmse:5.92914\teval-score:0.560032\ttrain-score:0.773157\n",
      "[223]\teval-rmse:8.16396\ttrain-rmse:5.92698\teval-score:0.56007\ttrain-score:0.773322\n",
      "[224]\teval-rmse:8.16939\ttrain-rmse:5.92294\teval-score:0.559484\ttrain-score:0.773632\n",
      "[225]\teval-rmse:8.17123\ttrain-rmse:5.91333\teval-score:0.559286\ttrain-score:0.774366\n",
      "[226]\teval-rmse:8.17484\ttrain-rmse:5.90917\teval-score:0.558896\ttrain-score:0.774683\n",
      "[227]\teval-rmse:8.17745\ttrain-rmse:5.9066\teval-score:0.558614\ttrain-score:0.774879\n",
      "[228]\teval-rmse:8.18074\ttrain-rmse:5.90332\teval-score:0.55826\ttrain-score:0.775129\n",
      "[229]\teval-rmse:8.18164\ttrain-rmse:5.90192\teval-score:0.558163\ttrain-score:0.775235\n",
      "[230]\teval-rmse:8.18443\ttrain-rmse:5.89815\teval-score:0.557861\ttrain-score:0.775522\n",
      "[231]\teval-rmse:8.18562\ttrain-rmse:5.89552\teval-score:0.557733\ttrain-score:0.775722\n",
      "[232]\teval-rmse:8.18608\ttrain-rmse:5.8934\teval-score:0.557682\ttrain-score:0.775884\n",
      "[233]\teval-rmse:8.18722\ttrain-rmse:5.88131\teval-score:0.557559\ttrain-score:0.776803\n",
      "[234]\teval-rmse:8.19062\ttrain-rmse:5.87787\teval-score:0.557192\ttrain-score:0.777064\n",
      "[235]\teval-rmse:8.19226\ttrain-rmse:5.87493\teval-score:0.557015\ttrain-score:0.777286\n",
      "[236]\teval-rmse:8.19353\ttrain-rmse:5.87204\teval-score:0.556878\ttrain-score:0.777506\n",
      "[237]\teval-rmse:8.19543\ttrain-rmse:5.85123\teval-score:0.556672\ttrain-score:0.77908\n",
      "[238]\teval-rmse:8.19365\ttrain-rmse:5.8419\teval-score:0.556865\ttrain-score:0.779783\n",
      "[239]\teval-rmse:8.20347\ttrain-rmse:5.83259\teval-score:0.555802\ttrain-score:0.780485\n",
      "[240]\teval-rmse:8.20626\ttrain-rmse:5.8251\teval-score:0.5555\ttrain-score:0.781048\n",
      "[241]\teval-rmse:8.20888\ttrain-rmse:5.81509\teval-score:0.555216\ttrain-score:0.7818\n",
      "[242]\teval-rmse:8.21138\ttrain-rmse:5.81039\teval-score:0.554944\ttrain-score:0.782153\n",
      "[243]\teval-rmse:8.2123\ttrain-rmse:5.80673\teval-score:0.554845\ttrain-score:0.782427\n",
      "[244]\teval-rmse:8.21853\ttrain-rmse:5.79993\teval-score:0.554169\ttrain-score:0.782936\n",
      "[245]\teval-rmse:8.22182\ttrain-rmse:5.79279\teval-score:0.553812\ttrain-score:0.78347\n",
      "[246]\teval-rmse:8.22381\ttrain-rmse:5.78972\teval-score:0.553596\ttrain-score:0.7837\n",
      "[247]\teval-rmse:8.2316\ttrain-rmse:5.7834\teval-score:0.55275\ttrain-score:0.784172\n",
      "[248]\teval-rmse:8.23151\ttrain-rmse:5.77371\teval-score:0.55276\ttrain-score:0.784895\n",
      "[249]\teval-rmse:8.23248\ttrain-rmse:5.76725\teval-score:0.552654\ttrain-score:0.785376\n",
      "[250]\teval-rmse:8.23365\ttrain-rmse:5.761\teval-score:0.552527\ttrain-score:0.78584\n",
      "[251]\teval-rmse:8.23761\ttrain-rmse:5.75637\teval-score:0.552097\ttrain-score:0.786185\n",
      "[252]\teval-rmse:8.24075\ttrain-rmse:5.74629\teval-score:0.551755\ttrain-score:0.786932\n",
      "[253]\teval-rmse:8.24895\ttrain-rmse:5.7372\teval-score:0.550862\ttrain-score:0.787606\n",
      "[254]\teval-rmse:8.24886\ttrain-rmse:5.72672\teval-score:0.550873\ttrain-score:0.788382\n",
      "[255]\teval-rmse:8.2507\ttrain-rmse:5.72389\teval-score:0.550672\ttrain-score:0.78859\n",
      "[256]\teval-rmse:8.25364\ttrain-rmse:5.72277\teval-score:0.550352\ttrain-score:0.788673\n",
      "[257]\teval-rmse:8.25371\ttrain-rmse:5.72241\teval-score:0.550344\ttrain-score:0.7887\n",
      "[258]\teval-rmse:8.25367\ttrain-rmse:5.72178\teval-score:0.550348\ttrain-score:0.788746\n",
      "[259]\teval-rmse:8.25768\ttrain-rmse:5.71617\teval-score:0.549911\ttrain-score:0.789161\n",
      "[260]\teval-rmse:8.25762\ttrain-rmse:5.70756\teval-score:0.549918\ttrain-score:0.789795\n",
      "[261]\teval-rmse:8.25752\ttrain-rmse:5.70273\teval-score:0.549929\ttrain-score:0.790151\n",
      "[262]\teval-rmse:8.25843\ttrain-rmse:5.70028\teval-score:0.54983\ttrain-score:0.790331\n",
      "[263]\teval-rmse:8.25875\ttrain-rmse:5.69834\teval-score:0.549795\ttrain-score:0.790474\n",
      "[264]\teval-rmse:8.26002\ttrain-rmse:5.69643\teval-score:0.549657\ttrain-score:0.790614\n",
      "[265]\teval-rmse:8.262\ttrain-rmse:5.68682\teval-score:0.54944\ttrain-score:0.79132\n",
      "[266]\teval-rmse:8.26475\ttrain-rmse:5.67508\teval-score:0.54914\ttrain-score:0.792181\n",
      "[267]\teval-rmse:8.26494\ttrain-rmse:5.67124\teval-score:0.54912\ttrain-score:0.792462\n",
      "[268]\teval-rmse:8.26672\ttrain-rmse:5.66086\teval-score:0.548925\ttrain-score:0.793221\n",
      "[269]\teval-rmse:8.26238\ttrain-rmse:5.65477\teval-score:0.549399\ttrain-score:0.793666\n",
      "[270]\teval-rmse:8.26263\ttrain-rmse:5.65327\teval-score:0.549371\ttrain-score:0.793775\n",
      "[271]\teval-rmse:8.26193\ttrain-rmse:5.64673\teval-score:0.549448\ttrain-score:0.794252\n",
      "[272]\teval-rmse:8.26058\ttrain-rmse:5.63855\teval-score:0.549596\ttrain-score:0.794848\n",
      "[273]\teval-rmse:8.26128\ttrain-rmse:5.63734\teval-score:0.549519\ttrain-score:0.794936\n",
      "[274]\teval-rmse:8.26374\ttrain-rmse:5.63597\teval-score:0.549251\ttrain-score:0.795035\n",
      "[275]\teval-rmse:8.26335\ttrain-rmse:5.63352\teval-score:0.549293\ttrain-score:0.795214\n",
      "[276]\teval-rmse:8.26353\ttrain-rmse:5.63303\teval-score:0.549273\ttrain-score:0.795249\n",
      "[277]\teval-rmse:8.26716\ttrain-rmse:5.62502\teval-score:0.548877\ttrain-score:0.795831\n",
      "[278]\teval-rmse:8.26735\ttrain-rmse:5.6234\teval-score:0.548857\ttrain-score:0.795948\n",
      "[279]\teval-rmse:8.27461\ttrain-rmse:5.61549\teval-score:0.548063\ttrain-score:0.796522\n",
      "[280]\teval-rmse:8.27513\ttrain-rmse:5.6068\teval-score:0.548007\ttrain-score:0.797152\n",
      "[281]\teval-rmse:8.27547\ttrain-rmse:5.6035\teval-score:0.54797\ttrain-score:0.79739\n",
      "[282]\teval-rmse:8.27632\ttrain-rmse:5.59521\teval-score:0.547877\ttrain-score:0.797989\n",
      "[283]\teval-rmse:8.27794\ttrain-rmse:5.58904\teval-score:0.5477\ttrain-score:0.798435\n",
      "[284]\teval-rmse:8.26971\ttrain-rmse:5.57593\teval-score:0.548599\ttrain-score:0.799379\n",
      "[285]\teval-rmse:8.2702\ttrain-rmse:5.57154\teval-score:0.548546\ttrain-score:0.799695\n",
      "[286]\teval-rmse:8.27527\ttrain-rmse:5.5611\teval-score:0.547991\ttrain-score:0.800445\n",
      "[287]\teval-rmse:8.27568\ttrain-rmse:5.5593\teval-score:0.547947\ttrain-score:0.800574\n",
      "[288]\teval-rmse:8.27668\ttrain-rmse:5.55154\teval-score:0.547838\ttrain-score:0.80113\n",
      "[289]\teval-rmse:8.2801\ttrain-rmse:5.54787\teval-score:0.547464\ttrain-score:0.801393\n",
      "[290]\teval-rmse:8.28113\ttrain-rmse:5.54354\teval-score:0.547352\ttrain-score:0.801703\n",
      "[291]\teval-rmse:8.28011\ttrain-rmse:5.54275\teval-score:0.547463\ttrain-score:0.801759\n",
      "[292]\teval-rmse:8.28001\ttrain-rmse:5.53911\teval-score:0.547474\ttrain-score:0.80202\n",
      "[293]\teval-rmse:8.27882\ttrain-rmse:5.53626\teval-score:0.547604\ttrain-score:0.802224\n",
      "[294]\teval-rmse:8.27788\ttrain-rmse:5.53062\teval-score:0.547706\ttrain-score:0.802626\n",
      "[295]\teval-rmse:8.28098\ttrain-rmse:5.52143\teval-score:0.547368\ttrain-score:0.803282\n",
      "[296]\teval-rmse:8.27964\ttrain-rmse:5.51046\teval-score:0.547515\ttrain-score:0.804062\n",
      "[297]\teval-rmse:8.28412\ttrain-rmse:5.50335\teval-score:0.547024\ttrain-score:0.804568\n"
     ]
    },
    {
     "name": "stdout",
     "output_type": "stream",
     "text": [
      "[298]\teval-rmse:8.28456\ttrain-rmse:5.49922\teval-score:0.546977\ttrain-score:0.804861\n",
      "[299]\teval-rmse:8.28445\ttrain-rmse:5.49103\teval-score:0.546988\ttrain-score:0.805442\n",
      "[300]\teval-rmse:8.28883\ttrain-rmse:5.48013\teval-score:0.546509\ttrain-score:0.806214\n",
      "[301]\teval-rmse:8.29623\ttrain-rmse:5.46875\teval-score:0.545699\ttrain-score:0.807018\n",
      "[302]\teval-rmse:8.30224\ttrain-rmse:5.46418\teval-score:0.545041\ttrain-score:0.80734\n",
      "[303]\teval-rmse:8.30301\ttrain-rmse:5.46245\teval-score:0.544956\ttrain-score:0.807462\n",
      "[304]\teval-rmse:8.30516\ttrain-rmse:5.45607\teval-score:0.544721\ttrain-score:0.807911\n",
      "[305]\teval-rmse:8.30466\ttrain-rmse:5.45443\teval-score:0.544776\ttrain-score:0.808027\n",
      "[306]\teval-rmse:8.3075\ttrain-rmse:5.44631\teval-score:0.544464\ttrain-score:0.808598\n",
      "[307]\teval-rmse:8.31356\ttrain-rmse:5.4388\teval-score:0.543799\ttrain-score:0.809126\n",
      "[308]\teval-rmse:8.31383\ttrain-rmse:5.43773\teval-score:0.54377\ttrain-score:0.809201\n",
      "[309]\teval-rmse:8.31458\ttrain-rmse:5.43607\teval-score:0.543687\ttrain-score:0.809317\n",
      "[310]\teval-rmse:8.31465\ttrain-rmse:5.43219\teval-score:0.54368\ttrain-score:0.809589\n",
      "[311]\teval-rmse:8.31582\ttrain-rmse:5.43122\teval-score:0.543552\ttrain-score:0.809657\n",
      "[312]\teval-rmse:8.31801\ttrain-rmse:5.42224\teval-score:0.543311\ttrain-score:0.810286\n",
      "[313]\teval-rmse:8.32203\ttrain-rmse:5.41945\teval-score:0.542869\ttrain-score:0.810481\n",
      "[314]\teval-rmse:8.32225\ttrain-rmse:5.4187\teval-score:0.542845\ttrain-score:0.810534\n",
      "[315]\teval-rmse:8.32276\ttrain-rmse:5.41809\teval-score:0.542789\ttrain-score:0.810577\n",
      "[316]\teval-rmse:8.32274\ttrain-rmse:5.41662\teval-score:0.542791\ttrain-score:0.810679\n",
      "[317]\teval-rmse:8.3232\ttrain-rmse:5.41624\teval-score:0.542741\ttrain-score:0.810706\n",
      "[318]\teval-rmse:8.32173\ttrain-rmse:5.41342\teval-score:0.542903\ttrain-score:0.810903\n",
      "[319]\teval-rmse:8.32354\ttrain-rmse:5.41227\teval-score:0.542704\ttrain-score:0.810983\n",
      "[320]\teval-rmse:8.32531\ttrain-rmse:5.41134\teval-score:0.542508\ttrain-score:0.811048\n",
      "[321]\teval-rmse:8.3276\ttrain-rmse:5.40978\teval-score:0.542257\ttrain-score:0.811157\n",
      "[322]\teval-rmse:8.32766\ttrain-rmse:5.40661\teval-score:0.542251\ttrain-score:0.811378\n",
      "[323]\teval-rmse:8.32749\ttrain-rmse:5.40538\teval-score:0.54227\ttrain-score:0.811464\n",
      "[324]\teval-rmse:8.32721\ttrain-rmse:5.40451\teval-score:0.5423\ttrain-score:0.811525\n",
      "[325]\teval-rmse:8.32661\ttrain-rmse:5.40122\teval-score:0.542366\ttrain-score:0.811754\n",
      "[326]\teval-rmse:8.32511\ttrain-rmse:5.39137\teval-score:0.54253\ttrain-score:0.81244\n",
      "[327]\teval-rmse:8.32617\ttrain-rmse:5.38202\teval-score:0.542414\ttrain-score:0.81309\n",
      "[328]\teval-rmse:8.32958\ttrain-rmse:5.37427\teval-score:0.542039\ttrain-score:0.813628\n",
      "[329]\teval-rmse:8.33058\ttrain-rmse:5.37233\teval-score:0.54193\ttrain-score:0.813762\n",
      "[330]\teval-rmse:8.32983\ttrain-rmse:5.36813\teval-score:0.542012\ttrain-score:0.814054\n",
      "[331]\teval-rmse:8.33161\ttrain-rmse:5.3593\teval-score:0.541816\ttrain-score:0.814665\n",
      "[332]\teval-rmse:8.33673\ttrain-rmse:5.35316\teval-score:0.541253\ttrain-score:0.815089\n",
      "[333]\teval-rmse:8.33731\ttrain-rmse:5.35169\teval-score:0.541189\ttrain-score:0.815191\n",
      "[334]\teval-rmse:8.33716\ttrain-rmse:5.34807\teval-score:0.541205\ttrain-score:0.815441\n",
      "[335]\teval-rmse:8.34016\ttrain-rmse:5.34127\teval-score:0.540875\ttrain-score:0.81591\n",
      "[336]\teval-rmse:8.3419\ttrain-rmse:5.33896\teval-score:0.540683\ttrain-score:0.816069\n",
      "[337]\teval-rmse:8.34167\ttrain-rmse:5.33145\teval-score:0.540709\ttrain-score:0.816586\n",
      "[338]\teval-rmse:8.34167\ttrain-rmse:5.32952\teval-score:0.54071\ttrain-score:0.816719\n",
      "[339]\teval-rmse:8.34281\ttrain-rmse:5.32352\teval-score:0.540583\ttrain-score:0.817131\n",
      "[340]\teval-rmse:8.34195\ttrain-rmse:5.31787\teval-score:0.540678\ttrain-score:0.817519\n",
      "[341]\teval-rmse:8.34155\ttrain-rmse:5.31366\teval-score:0.540722\ttrain-score:0.817808\n",
      "[342]\teval-rmse:8.34454\ttrain-rmse:5.30478\teval-score:0.540393\ttrain-score:0.818416\n",
      "[343]\teval-rmse:8.34442\ttrain-rmse:5.29966\teval-score:0.540406\ttrain-score:0.818767\n",
      "[344]\teval-rmse:8.34634\ttrain-rmse:5.29827\teval-score:0.540195\ttrain-score:0.818862\n",
      "[345]\teval-rmse:8.34649\ttrain-rmse:5.29718\teval-score:0.540178\ttrain-score:0.818936\n",
      "[346]\teval-rmse:8.34616\ttrain-rmse:5.2936\teval-score:0.540214\ttrain-score:0.819181\n",
      "[347]\teval-rmse:8.348\ttrain-rmse:5.29113\teval-score:0.540012\ttrain-score:0.81935\n",
      "[348]\teval-rmse:8.35055\ttrain-rmse:5.28636\teval-score:0.539731\ttrain-score:0.819676\n",
      "[349]\teval-rmse:8.35335\ttrain-rmse:5.28273\teval-score:0.539421\ttrain-score:0.819923\n",
      "[350]\teval-rmse:8.35427\ttrain-rmse:5.28072\teval-score:0.539321\ttrain-score:0.82006\n",
      "[351]\teval-rmse:8.35495\ttrain-rmse:5.27655\teval-score:0.539246\ttrain-score:0.820344\n",
      "[352]\teval-rmse:8.35473\ttrain-rmse:5.27245\teval-score:0.53927\ttrain-score:0.820623\n",
      "[353]\teval-rmse:8.35552\ttrain-rmse:5.26816\teval-score:0.539182\ttrain-score:0.820915\n",
      "[354]\teval-rmse:8.35413\ttrain-rmse:5.2512\teval-score:0.539336\ttrain-score:0.822066\n",
      "[355]\teval-rmse:8.36311\ttrain-rmse:5.24227\teval-score:0.538345\ttrain-score:0.822671\n",
      "[356]\teval-rmse:8.36167\ttrain-rmse:5.23616\teval-score:0.538504\ttrain-score:0.823084\n",
      "[357]\teval-rmse:8.36052\ttrain-rmse:5.22749\teval-score:0.538631\ttrain-score:0.823669\n",
      "[358]\teval-rmse:8.3631\ttrain-rmse:5.21873\teval-score:0.538347\ttrain-score:0.82426\n",
      "[359]\teval-rmse:8.36741\ttrain-rmse:5.2099\teval-score:0.537871\ttrain-score:0.824854\n",
      "[360]\teval-rmse:8.36837\ttrain-rmse:5.20604\teval-score:0.537764\ttrain-score:0.825114\n",
      "[361]\teval-rmse:8.37097\ttrain-rmse:5.20437\teval-score:0.537477\ttrain-score:0.825226\n",
      "[362]\teval-rmse:8.37086\ttrain-rmse:5.20347\teval-score:0.537489\ttrain-score:0.825286\n",
      "[363]\teval-rmse:8.37127\ttrain-rmse:5.20065\teval-score:0.537444\ttrain-score:0.825475\n",
      "[364]\teval-rmse:8.37146\ttrain-rmse:5.19758\teval-score:0.537422\ttrain-score:0.825681\n",
      "[365]\teval-rmse:8.36963\ttrain-rmse:5.18656\teval-score:0.537625\ttrain-score:0.82642\n",
      "[366]\teval-rmse:8.36857\ttrain-rmse:5.18036\teval-score:0.537743\ttrain-score:0.826834\n",
      "[367]\teval-rmse:8.36953\ttrain-rmse:5.1787\teval-score:0.537636\ttrain-score:0.826945\n",
      "[368]\teval-rmse:8.37042\ttrain-rmse:5.17666\teval-score:0.537537\ttrain-score:0.827082\n",
      "[369]\teval-rmse:8.3702\ttrain-rmse:5.17339\teval-score:0.537562\ttrain-score:0.8273\n",
      "[370]\teval-rmse:8.36988\ttrain-rmse:5.17313\teval-score:0.537597\ttrain-score:0.827318\n",
      "[371]\teval-rmse:8.36957\ttrain-rmse:5.1703\teval-score:0.537632\ttrain-score:0.827507\n",
      "[372]\teval-rmse:8.36974\ttrain-rmse:5.16783\teval-score:0.537613\ttrain-score:0.827671\n",
      "[373]\teval-rmse:8.37143\ttrain-rmse:5.16266\teval-score:0.537426\ttrain-score:0.828016\n",
      "[374]\teval-rmse:8.37225\ttrain-rmse:5.15792\teval-score:0.537335\ttrain-score:0.828332\n",
      "[375]\teval-rmse:8.37098\ttrain-rmse:5.15359\teval-score:0.537476\ttrain-score:0.828619\n",
      "[376]\teval-rmse:8.3728\ttrain-rmse:5.15003\teval-score:0.537274\ttrain-score:0.828856\n",
      "[377]\teval-rmse:8.37325\ttrain-rmse:5.14647\teval-score:0.537225\ttrain-score:0.829093\n",
      "[378]\teval-rmse:8.37357\ttrain-rmse:5.14409\teval-score:0.53719\ttrain-score:0.829251\n",
      "[379]\teval-rmse:8.37352\ttrain-rmse:5.13806\teval-score:0.537195\ttrain-score:0.829651\n",
      "[380]\teval-rmse:8.37726\ttrain-rmse:5.13509\teval-score:0.536781\ttrain-score:0.829848\n",
      "[381]\teval-rmse:8.37791\ttrain-rmse:5.13422\teval-score:0.53671\ttrain-score:0.829906\n",
      "[382]\teval-rmse:8.37843\ttrain-rmse:5.13352\teval-score:0.536652\ttrain-score:0.829951\n",
      "[383]\teval-rmse:8.37896\ttrain-rmse:5.1333\teval-score:0.536593\ttrain-score:0.829966\n",
      "[384]\teval-rmse:8.3795\ttrain-rmse:5.13229\teval-score:0.536533\ttrain-score:0.830034\n",
      "[385]\teval-rmse:8.37996\ttrain-rmse:5.1297\teval-score:0.536483\ttrain-score:0.830204\n",
      "[386]\teval-rmse:8.37833\ttrain-rmse:5.12456\teval-score:0.536664\ttrain-score:0.830545\n",
      "[387]\teval-rmse:8.3806\ttrain-rmse:5.11666\teval-score:0.536412\ttrain-score:0.831067\n",
      "[388]\teval-rmse:8.38368\ttrain-rmse:5.11452\teval-score:0.536071\ttrain-score:0.831208\n",
      "[389]\teval-rmse:8.38421\ttrain-rmse:5.10858\teval-score:0.536012\ttrain-score:0.8316\n",
      "[390]\teval-rmse:8.38635\ttrain-rmse:5.1048\teval-score:0.535776\ttrain-score:0.831849\n",
      "[391]\teval-rmse:8.38631\ttrain-rmse:5.0979\teval-score:0.53578\ttrain-score:0.832304\n",
      "[392]\teval-rmse:8.39079\ttrain-rmse:5.08551\teval-score:0.535284\ttrain-score:0.833118\n",
      "[393]\teval-rmse:8.3894\ttrain-rmse:5.08222\teval-score:0.535437\ttrain-score:0.833334\n",
      "[394]\teval-rmse:8.38898\ttrain-rmse:5.08055\teval-score:0.535485\ttrain-score:0.833443\n",
      "[395]\teval-rmse:8.38777\ttrain-rmse:5.07836\teval-score:0.535619\ttrain-score:0.833587\n",
      "[396]\teval-rmse:8.39007\ttrain-rmse:5.07732\teval-score:0.535364\ttrain-score:0.833654\n"
     ]
    },
    {
     "name": "stdout",
     "output_type": "stream",
     "text": [
      "[397]\teval-rmse:8.39249\ttrain-rmse:5.07446\teval-score:0.535095\ttrain-score:0.833842\n",
      "[398]\teval-rmse:8.39179\ttrain-rmse:5.07394\teval-score:0.535173\ttrain-score:0.833876\n",
      "[399]\teval-rmse:8.39193\ttrain-rmse:5.07146\teval-score:0.535158\ttrain-score:0.834038\n",
      "[400]\teval-rmse:8.39086\ttrain-rmse:5.06913\teval-score:0.535277\ttrain-score:0.834191\n",
      "[401]\teval-rmse:8.39196\ttrain-rmse:5.06603\teval-score:0.535154\ttrain-score:0.834393\n",
      "[402]\teval-rmse:8.39202\ttrain-rmse:5.05729\teval-score:0.535148\ttrain-score:0.834964\n",
      "[403]\teval-rmse:8.39252\ttrain-rmse:5.05641\teval-score:0.535092\ttrain-score:0.835022\n",
      "[404]\teval-rmse:8.39256\ttrain-rmse:5.05\teval-score:0.535088\ttrain-score:0.83544\n",
      "[405]\teval-rmse:8.39404\ttrain-rmse:5.03903\teval-score:0.534924\ttrain-score:0.836154\n",
      "[406]\teval-rmse:8.39387\ttrain-rmse:5.03767\teval-score:0.534943\ttrain-score:0.836242\n",
      "[407]\teval-rmse:8.39402\ttrain-rmse:5.03424\teval-score:0.534926\ttrain-score:0.836466\n",
      "[408]\teval-rmse:8.39442\ttrain-rmse:5.02911\teval-score:0.534881\ttrain-score:0.836798\n",
      "[409]\teval-rmse:8.39217\ttrain-rmse:5.02609\teval-score:0.535131\ttrain-score:0.836995\n",
      "[410]\teval-rmse:8.39213\ttrain-rmse:5.02276\teval-score:0.535136\ttrain-score:0.83721\n",
      "[411]\teval-rmse:8.39306\ttrain-rmse:5.02035\teval-score:0.535032\ttrain-score:0.837366\n",
      "[412]\teval-rmse:8.39397\ttrain-rmse:5.01936\teval-score:0.534932\ttrain-score:0.837431\n",
      "[413]\teval-rmse:8.39381\ttrain-rmse:5.01844\teval-score:0.534949\ttrain-score:0.83749\n",
      "[414]\teval-rmse:8.39409\ttrain-rmse:5.01518\teval-score:0.534918\ttrain-score:0.837702\n",
      "[415]\teval-rmse:8.39364\ttrain-rmse:5.00835\teval-score:0.534968\ttrain-score:0.838143\n",
      "[416]\teval-rmse:8.39651\ttrain-rmse:5.0072\teval-score:0.534651\ttrain-score:0.838218\n",
      "[417]\teval-rmse:8.39687\ttrain-rmse:5.00572\teval-score:0.534611\ttrain-score:0.838313\n",
      "[418]\teval-rmse:8.39978\ttrain-rmse:4.99628\teval-score:0.534287\ttrain-score:0.838922\n",
      "[419]\teval-rmse:8.40025\ttrain-rmse:4.99505\teval-score:0.534236\ttrain-score:0.839002\n",
      "[420]\teval-rmse:8.39881\ttrain-rmse:4.99244\teval-score:0.534395\ttrain-score:0.83917\n",
      "[421]\teval-rmse:8.40235\ttrain-rmse:4.98498\teval-score:0.534002\ttrain-score:0.83965\n",
      "[422]\teval-rmse:8.40236\ttrain-rmse:4.97412\teval-score:0.534002\ttrain-score:0.840348\n",
      "[423]\teval-rmse:8.40345\ttrain-rmse:4.96754\teval-score:0.533881\ttrain-score:0.84077\n",
      "[424]\teval-rmse:8.4069\ttrain-rmse:4.96364\teval-score:0.533498\ttrain-score:0.84102\n",
      "[425]\teval-rmse:8.40693\ttrain-rmse:4.9608\teval-score:0.533495\ttrain-score:0.841202\n",
      "[426]\teval-rmse:8.40752\ttrain-rmse:4.96062\teval-score:0.53343\ttrain-score:0.841214\n",
      "[427]\teval-rmse:8.41002\ttrain-rmse:4.95965\teval-score:0.533152\ttrain-score:0.841276\n",
      "[428]\teval-rmse:8.41075\ttrain-rmse:4.95722\teval-score:0.533071\ttrain-score:0.841431\n",
      "[429]\teval-rmse:8.41522\ttrain-rmse:4.95228\teval-score:0.532574\ttrain-score:0.841747\n",
      "[430]\teval-rmse:8.41593\ttrain-rmse:4.95113\teval-score:0.532495\ttrain-score:0.84182\n",
      "[431]\teval-rmse:8.4155\ttrain-rmse:4.94843\teval-score:0.532543\ttrain-score:0.841993\n",
      "[432]\teval-rmse:8.41631\ttrain-rmse:4.94674\teval-score:0.532453\ttrain-score:0.842101\n",
      "[433]\teval-rmse:8.41793\ttrain-rmse:4.94206\teval-score:0.532273\ttrain-score:0.842399\n",
      "[434]\teval-rmse:8.41757\ttrain-rmse:4.94118\teval-score:0.532313\ttrain-score:0.842456\n",
      "[435]\teval-rmse:8.41755\ttrain-rmse:4.94103\teval-score:0.532315\ttrain-score:0.842465\n",
      "[436]\teval-rmse:8.41856\ttrain-rmse:4.93463\teval-score:0.532203\ttrain-score:0.842873\n",
      "[437]\teval-rmse:8.41946\ttrain-rmse:4.93007\teval-score:0.532103\ttrain-score:0.843163\n",
      "[438]\teval-rmse:8.41876\ttrain-rmse:4.9238\teval-score:0.532181\ttrain-score:0.843562\n",
      "[439]\teval-rmse:8.42246\ttrain-rmse:4.91861\teval-score:0.531769\ttrain-score:0.843891\n",
      "[440]\teval-rmse:8.42259\ttrain-rmse:4.91255\teval-score:0.531755\ttrain-score:0.844276\n",
      "[441]\teval-rmse:8.4271\ttrain-rmse:4.90758\teval-score:0.531254\ttrain-score:0.844591\n",
      "[442]\teval-rmse:8.42997\ttrain-rmse:4.90438\teval-score:0.530934\ttrain-score:0.844794\n",
      "[443]\teval-rmse:8.43096\ttrain-rmse:4.89457\teval-score:0.530823\ttrain-score:0.845414\n",
      "[444]\teval-rmse:8.43685\ttrain-rmse:4.88635\teval-score:0.530167\ttrain-score:0.845933\n",
      "[445]\teval-rmse:8.43836\ttrain-rmse:4.88448\teval-score:0.53\ttrain-score:0.84605\n",
      "[446]\teval-rmse:8.43926\ttrain-rmse:4.88078\teval-score:0.5299\ttrain-score:0.846284\n",
      "[447]\teval-rmse:8.43949\ttrain-rmse:4.88009\teval-score:0.529874\ttrain-score:0.846327\n",
      "[448]\teval-rmse:8.44112\ttrain-rmse:4.87071\teval-score:0.529692\ttrain-score:0.846918\n",
      "[449]\teval-rmse:8.44339\ttrain-rmse:4.86914\teval-score:0.529439\ttrain-score:0.847016\n",
      "[450]\teval-rmse:8.44385\ttrain-rmse:4.86697\teval-score:0.529389\ttrain-score:0.847152\n",
      "[451]\teval-rmse:8.4404\ttrain-rmse:4.85793\teval-score:0.529772\ttrain-score:0.84772\n",
      "[452]\teval-rmse:8.44062\ttrain-rmse:4.85624\teval-score:0.529748\ttrain-score:0.847825\n",
      "[453]\teval-rmse:8.44141\ttrain-rmse:4.84159\teval-score:0.52966\ttrain-score:0.848742\n",
      "[454]\teval-rmse:8.43887\ttrain-rmse:4.83743\teval-score:0.529943\ttrain-score:0.849002\n",
      "[455]\teval-rmse:8.43997\ttrain-rmse:4.83081\teval-score:0.529821\ttrain-score:0.849415\n",
      "[456]\teval-rmse:8.43933\ttrain-rmse:4.82421\teval-score:0.529892\ttrain-score:0.849826\n",
      "[457]\teval-rmse:8.43737\ttrain-rmse:4.81897\teval-score:0.53011\ttrain-score:0.850152\n",
      "[458]\teval-rmse:8.43641\ttrain-rmse:4.81524\teval-score:0.530217\ttrain-score:0.850384\n",
      "[459]\teval-rmse:8.43849\ttrain-rmse:4.81108\teval-score:0.529985\ttrain-score:0.850642\n",
      "[460]\teval-rmse:8.43883\ttrain-rmse:4.80656\teval-score:0.529948\ttrain-score:0.850923\n",
      "[461]\teval-rmse:8.43867\ttrain-rmse:4.80422\teval-score:0.529965\ttrain-score:0.851069\n",
      "[462]\teval-rmse:8.4439\ttrain-rmse:4.79697\teval-score:0.529383\ttrain-score:0.851517\n",
      "[463]\teval-rmse:8.44414\ttrain-rmse:4.79438\teval-score:0.529355\ttrain-score:0.851677\n",
      "[464]\teval-rmse:8.44248\ttrain-rmse:4.78725\teval-score:0.529541\ttrain-score:0.852118\n",
      "[465]\teval-rmse:8.44251\ttrain-rmse:4.78551\teval-score:0.529538\ttrain-score:0.852226\n",
      "[466]\teval-rmse:8.44329\ttrain-rmse:4.78492\teval-score:0.52945\ttrain-score:0.852263\n",
      "[467]\teval-rmse:8.44331\ttrain-rmse:4.78412\teval-score:0.529448\ttrain-score:0.852312\n",
      "[468]\teval-rmse:8.4452\ttrain-rmse:4.77977\teval-score:0.529238\ttrain-score:0.85258\n",
      "[469]\teval-rmse:8.44592\ttrain-rmse:4.77905\teval-score:0.529158\ttrain-score:0.852625\n",
      "[470]\teval-rmse:8.44884\ttrain-rmse:4.77642\teval-score:0.528831\ttrain-score:0.852787\n",
      "[471]\teval-rmse:8.44769\ttrain-rmse:4.77227\teval-score:0.52896\ttrain-score:0.853043\n",
      "[472]\teval-rmse:8.44671\ttrain-rmse:4.76855\teval-score:0.529069\ttrain-score:0.853272\n",
      "[473]\teval-rmse:8.44683\ttrain-rmse:4.76827\teval-score:0.529056\ttrain-score:0.853289\n",
      "[474]\teval-rmse:8.44767\ttrain-rmse:4.76517\teval-score:0.528962\ttrain-score:0.85348\n",
      "[475]\teval-rmse:8.44646\ttrain-rmse:4.76425\teval-score:0.529097\ttrain-score:0.853536\n",
      "[476]\teval-rmse:8.44657\ttrain-rmse:4.76404\teval-score:0.529085\ttrain-score:0.853549\n",
      "[477]\teval-rmse:8.45106\ttrain-rmse:4.76026\teval-score:0.528585\ttrain-score:0.853782\n",
      "[478]\teval-rmse:8.45711\ttrain-rmse:4.75836\teval-score:0.527908\ttrain-score:0.853898\n",
      "[479]\teval-rmse:8.45969\ttrain-rmse:4.75091\teval-score:0.527621\ttrain-score:0.854355\n",
      "[480]\teval-rmse:8.46077\ttrain-rmse:4.74971\teval-score:0.527501\ttrain-score:0.854429\n",
      "[481]\teval-rmse:8.46201\ttrain-rmse:4.7473\teval-score:0.527362\ttrain-score:0.854577\n",
      "[482]\teval-rmse:8.4633\ttrain-rmse:4.7419\teval-score:0.527218\ttrain-score:0.854907\n",
      "[483]\teval-rmse:8.46278\ttrain-rmse:4.73921\teval-score:0.527276\ttrain-score:0.855072\n",
      "[484]\teval-rmse:8.46753\ttrain-rmse:4.73005\teval-score:0.526745\ttrain-score:0.855631\n",
      "[485]\teval-rmse:8.47046\ttrain-rmse:4.72762\teval-score:0.526418\ttrain-score:0.855779\n",
      "[486]\teval-rmse:8.47111\ttrain-rmse:4.72658\teval-score:0.526344\ttrain-score:0.855843\n",
      "[487]\teval-rmse:8.47105\ttrain-rmse:4.72325\teval-score:0.526351\ttrain-score:0.856046\n",
      "[488]\teval-rmse:8.47071\ttrain-rmse:4.72174\teval-score:0.526389\ttrain-score:0.856138\n",
      "[489]\teval-rmse:8.47057\ttrain-rmse:4.71982\teval-score:0.526405\ttrain-score:0.856255\n",
      "[490]\teval-rmse:8.47016\ttrain-rmse:4.71818\teval-score:0.526451\ttrain-score:0.856355\n",
      "[491]\teval-rmse:8.47066\ttrain-rmse:4.71768\teval-score:0.526394\ttrain-score:0.856386\n",
      "[492]\teval-rmse:8.4715\ttrain-rmse:4.71591\teval-score:0.526302\ttrain-score:0.856493\n",
      "[493]\teval-rmse:8.47382\ttrain-rmse:4.71375\teval-score:0.526042\ttrain-score:0.856624\n",
      "[494]\teval-rmse:8.47754\ttrain-rmse:4.70656\teval-score:0.525625\ttrain-score:0.857062\n"
     ]
    },
    {
     "name": "stdout",
     "output_type": "stream",
     "text": [
      "[495]\teval-rmse:8.48095\ttrain-rmse:4.69949\teval-score:0.525243\ttrain-score:0.857491\n",
      "[496]\teval-rmse:8.48168\ttrain-rmse:4.69799\teval-score:0.525162\ttrain-score:0.857582\n",
      "[497]\teval-rmse:8.48283\ttrain-rmse:4.69182\teval-score:0.525032\ttrain-score:0.857956\n",
      "[498]\teval-rmse:8.48247\ttrain-rmse:4.68926\teval-score:0.525073\ttrain-score:0.858111\n",
      "[499]\teval-rmse:8.48297\ttrain-rmse:4.68543\teval-score:0.525017\ttrain-score:0.858342\n"
     ]
    },
    {
     "ename": "NameError",
     "evalue": "name 'score_train' is not defined",
     "output_type": "error",
     "traceback": [
      "\u001b[0;31m---------------------------------------------------------------------------\u001b[0m",
      "\u001b[0;31mNameError\u001b[0m                                 Traceback (most recent call last)",
      "\u001b[0;32m<ipython-input-56-5af5fd6c805f>\u001b[0m in \u001b[0;36m<module>\u001b[0;34m()\u001b[0m\n\u001b[1;32m     19\u001b[0m     \u001b[0mres\u001b[0m \u001b[0;34m=\u001b[0m \u001b[0mbst\u001b[0m\u001b[0;34m.\u001b[0m\u001b[0meval\u001b[0m\u001b[0;34m(\u001b[0m\u001b[0mdtvalid\u001b[0m\u001b[0;34m)\u001b[0m\u001b[0;34m\u001b[0m\u001b[0m\n\u001b[1;32m     20\u001b[0m \u001b[0;34m\u001b[0m\u001b[0m\n\u001b[0;32m---> 21\u001b[0;31m     \u001b[0mprint\u001b[0m\u001b[0;34m(\u001b[0m\u001b[0;34m\"EXtraTree R^2 on Train: \"\u001b[0m\u001b[0;34m,\u001b[0m \u001b[0mscore_train\u001b[0m\u001b[0;34m,\u001b[0m \u001b[0;34m\"R^2 on Valid: \"\u001b[0m\u001b[0;34m,\u001b[0m \u001b[0mscore_valid\u001b[0m\u001b[0;34m)\u001b[0m\u001b[0;34m\u001b[0m\u001b[0m\n\u001b[0m",
      "\u001b[0;31mNameError\u001b[0m: name 'score_train' is not defined"
     ]
    }
   ],
   "source": [
    "for ind_train, ind_valid in kf.split(X):\n",
    "    # X, y\n",
    "    X_train, X_valid = X.iloc[ind_train], X.iloc[ind_valid]\n",
    "    y_train, y_valid = y[ind_train], y[ind_valid]\n",
    "    \n",
    "    # model_extra\n",
    "    model_extra.fit(X_train, y_train) \n",
    "    preds_extra_train = model_extra.predict(X_train)\n",
    "    preds_extra_valid = model_extra.predict(X_valid)\n",
    "    score_extra_train = r2_score(y_train, preds_extra_train)\n",
    "    score_extra_valid = r2_score(y_valid, preds_extra_valid)\n",
    "    \n",
    "    dtrain = xgb.DMatrix(X.iloc[ind_train], label = y[ind_train])\n",
    "    dtvalid = xgb.DMatrix(X.iloc[ind_valid], label = y[ind_valid])\n",
    "    ls_watch =  [(dtvalid, 'eval'), (dtrain, 'train')]\n",
    "\n",
    "    bst = xgb.train(params_xgb, dtrain, num_boost_round = num_boost_round, evals = ls_watch, feval = r_2)\n",
    "\n",
    "    res = bst.eval(dtvalid)\n",
    "    \n",
    "    print(\"EXtraTree R^2 on Train: \", score_train, \"R^2 on Valid: \", res)"
   ]
  },
  {
   "cell_type": "markdown",
   "metadata": {},
   "source": [
    "**Stratified Kfold**"
   ]
  },
  {
   "cell_type": "code",
   "execution_count": 66,
   "metadata": {
    "collapsed": true
   },
   "outputs": [],
   "source": [
    "bin_y = pd.qcut(y, 5, labels = [1, 2, 3, 4, 5]).astype(\"int64\")"
   ]
  },
  {
   "cell_type": "code",
   "execution_count": 67,
   "metadata": {},
   "outputs": [
    {
     "name": "stdout",
     "output_type": "stream",
     "text": [
      "[[  1 844]\n",
      " [  2 839]\n",
      " [  3 843]\n",
      " [  4 841]\n",
      " [  5 841]]\n"
     ]
    }
   ],
   "source": [
    "unique, counts = np.unique(np.array(bin_y), return_counts = True)\n",
    "print(np.asarray((unique, counts)).T)"
   ]
  },
  {
   "cell_type": "code",
   "execution_count": 68,
   "metadata": {
    "collapsed": true
   },
   "outputs": [],
   "source": [
    "# stratified kfold\n",
    "skf = StratifiedKFold(n_splits = 5, shuffle = True, random_state = 888)"
   ]
  },
  {
   "cell_type": "code",
   "execution_count": 69,
   "metadata": {},
   "outputs": [
    {
     "name": "stderr",
     "output_type": "stream",
     "text": [
      "/usr/local/lib/python3.5/dist-packages/sklearn/model_selection/_split.py:581: Warning: The least populated class in y has only 1 members, which is too few. The minimum number of groups for any class cannot be less than n_splits=5.\n",
      "  % (min_groups, self.n_splits)), Warning)\n"
     ]
    },
    {
     "name": "stdout",
     "output_type": "stream",
     "text": [
      "X_train:  (3373, 563) X_valid:  (835, 563)\n",
      "R^2:  0.548787029629\n",
      "X_train:  (3349, 563) X_valid:  (859, 563)\n",
      "R^2:  0.55693412362\n",
      "X_train:  (3371, 563) X_valid:  (837, 563)\n",
      "R^2:  0.632734646342\n",
      "X_train:  (3401, 563) X_valid:  (807, 563)\n",
      "R^2:  0.580648822685\n",
      "X_train:  (3338, 563) X_valid:  (870, 563)\n",
      "R^2:  0.605040579878\n"
     ]
    }
   ],
   "source": [
    "for ind_train, ind_valid in skf.split(X, y):\n",
    "    # X, y\n",
    "    X_train, X_valid = X.iloc[ind_train], X.iloc[ind_valid]\n",
    "    y_train, y_valid = y[ind_train], y[ind_valid]\n",
    "    \n",
    "    print(\"X_train: \", X_train.shape, \"X_valid: \", X_valid.shape)\n",
    "    # model\n",
    "    model_extra.fit(X_train, y_train)\n",
    "    # pred\n",
    "    preds_valid = model_extra.predict(X_valid)\n",
    "    # score\n",
    "    score = r2_score(y_valid, preds_valid)\n",
    "    print(\"R^2: \", score)"
   ]
  },
  {
   "cell_type": "code",
   "execution_count": 70,
   "metadata": {},
   "outputs": [
    {
     "data": {
      "image/png": "[encoded data removed]",
      "text/plain": [
       "<matplotlib.figure.Figure at 0x7ffb55ff4c18>"
      ]
     },
     "metadata": {},
     "output_type": "display_data"
    }
   ],
   "source": [
    "plt.scatter(y_valid, preds_valid)\n",
    "plt.show()"
   ]
  },
  {
   "cell_type": "code",
   "execution_count": null,
   "metadata": {
    "collapsed": true
   },
   "outputs": [],
   "source": [
    "# group kfold"
   ]
  }
 ],
 "metadata": {
  "kernelspec": {
   "display_name": "Python 3",
   "language": "python",
   "name": "python3"
  },
  "language_info": {
   "codemirror_mode": {
    "name": "ipython",
    "version": 3
   },
   "file_extension": ".py",
   "mimetype": "text/x-python",
   "name": "python",
   "nbconvert_exporter": "python",
   "pygments_lexer": "ipython3",
   "version": "3.5.2"
  }
 },
 "nbformat": 4,
 "nbformat_minor": 2
}
