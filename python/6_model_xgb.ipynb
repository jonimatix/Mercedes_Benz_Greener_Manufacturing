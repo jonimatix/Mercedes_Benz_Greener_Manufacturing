{
 "cells": [
  {
   "cell_type": "code",
   "execution_count": 1,
   "metadata": {
    "collapsed": true
   },
   "outputs": [],
   "source": [
    "import pandas as pd\n",
    "import xgboost as xgb\n",
    "import numpy as np\n",
    "from scipy.stats import uniform as sp_rand\n",
    "from scipy.stats import randint as sp_randint\n",
    "from sklearn.metrics import r2_score, make_scorer\n",
    "from sklearn.model_selection import StratifiedKFold, GroupKFold, KFold, train_test_split\n",
    "from sklearn.model_selection import GridSearchCV, RandomizedSearchCV\n",
    "import matplotlib.pyplot as plt\n",
    "import pickle"
   ]
  },
  {
   "cell_type": "markdown",
   "metadata": {},
   "source": [
    "## 6. Model"
   ]
  },
  {
   "cell_type": "code",
   "execution_count": 2,
   "metadata": {
    "collapsed": true
   },
   "outputs": [],
   "source": [
    "# data\n",
    "dt_model = pd.read_csv(\"../../data/Mercedes_Benz_Greener_Manufacturing/data/dt_all_eng.csv\")\n",
    "# IDs\n",
    "IDs_train = pickle.load(open(\"../../data/Mercedes_Benz_Greener_Manufacturing/data/IDs_train.pkl\", \"rb\"))\n",
    "IDs_test = pickle.load(open(\"../../data/Mercedes_Benz_Greener_Manufacturing/data/IDs_test.pkl\", \"rb\"))\n",
    "# cols\n",
    "cols_cat = pickle.load(open(\"../../data/Mercedes_Benz_Greener_Manufacturing/data/cols_cat.pkl\", \"rb\"))"
   ]
  },
  {
   "cell_type": "code",
   "execution_count": 3,
   "metadata": {
    "collapsed": true
   },
   "outputs": [],
   "source": [
    "# r_2 for xgboost\n",
    "def r_2(preds, dtrain):\n",
    "    labels = dtrain.get_label()\n",
    "    return 'score', r2_score(labels, preds)"
   ]
  },
  {
   "cell_type": "code",
   "execution_count": 4,
   "metadata": {},
   "outputs": [
    {
     "data": {
      "text/plain": [
       "(8418, 697)"
      ]
     },
     "execution_count": 4,
     "metadata": {},
     "output_type": "execute_result"
    }
   ],
   "source": [
    "# remove ohe\n",
    "dt_model_features = dt_model.drop(dt_model.filter(regex = \"Encode_ohe\").columns, axis = 1)\n",
    "dt_model_features.shape"
   ]
  },
  {
   "cell_type": "code",
   "execution_count": 5,
   "metadata": {},
   "outputs": [],
   "source": [
    "# X, y, ID\n",
    "X_train_all = dt_model_features.loc[dt_model_features[\"ID\"].isin(IDs_train)].drop([\"y\"], axis = 1)\n",
    "X_test = dt_model_features.loc[dt_model_features[\"ID\"].isin(IDs_test)].drop([\"y\"], axis = 1)\n",
    "y_train_all = dt_model_features.loc[dt_model_features[\"ID\"].isin(IDs_train)].y.values\n",
    "y_test = dt_model_features.loc[dt_model_features[\"ID\"].isin(IDs_test)].y.values"
   ]
  },
  {
   "cell_type": "code",
   "execution_count": 6,
   "metadata": {
    "collapsed": true
   },
   "outputs": [],
   "source": [
    "ID_test = dt_model_features.loc[dt_model_features[\"ID\"].isin(IDs_test)].ID.values"
   ]
  },
  {
   "cell_type": "code",
   "execution_count": 7,
   "metadata": {},
   "outputs": [
    {
     "data": {
      "text/plain": [
       "(4209, 696)"
      ]
     },
     "execution_count": 7,
     "metadata": {},
     "output_type": "execute_result"
    }
   ],
   "source": [
    "X_train_all.shape"
   ]
  },
  {
   "cell_type": "markdown",
   "metadata": {},
   "source": [
    "### 6.1 xgboost"
   ]
  },
  {
   "cell_type": "code",
   "execution_count": 8,
   "metadata": {},
   "outputs": [],
   "source": [
    "params_xgb = {\n",
    "    \"objective\": \"reg:linear\"\n",
    "    , \"booster\": \"gbtree\"\n",
    "    , \"learning_rate\": 0.005\n",
    "    , \"subsample\": .9\n",
    "    , \"colsample\": .8\n",
    "    , \"max_depth\": 2\n",
    "    , \"alpha\": 1\n",
    "    , \"lambda\": 2\n",
    "    , \"gamma\": 20\n",
    "    , \"base_score\": np.mean(y_train_all)\n",
    "}"
   ]
  },
  {
   "cell_type": "code",
   "execution_count": 9,
   "metadata": {
    "collapsed": true
   },
   "outputs": [],
   "source": [
    "# xgbDmatrix\n",
    "dtrain = xgb.DMatrix(X_train_all, y_train_all)\n",
    "dtest = xgb.DMatrix(X_test)"
   ]
  },
  {
   "cell_type": "code",
   "execution_count": 17,
   "metadata": {},
   "outputs": [
    {
     "data": {
      "text/html": [
       "<div>\n",
       "<style>\n",
       "    .dataframe thead tr:only-child th {\n",
       "        text-align: right;\n",
       "    }\n",
       "\n",
       "    .dataframe thead th {\n",
       "        text-align: left;\n",
       "    }\n",
       "\n",
       "    .dataframe tbody tr th {\n",
       "        vertical-align: top;\n",
       "    }\n",
       "</style>\n",
       "<table border=\"1\" class=\"dataframe\">\n",
       "  <thead>\n",
       "    <tr style=\"text-align: right;\">\n",
       "      <th></th>\n",
       "      <th>ID_Norm</th>\n",
       "      <th>X10</th>\n",
       "      <th>single_train_dup_train_X11</th>\n",
       "      <th>X12</th>\n",
       "      <th>X13</th>\n",
       "      <th>X14</th>\n",
       "      <th>dup_test_X15</th>\n",
       "      <th>X16</th>\n",
       "      <th>dup_train_X17</th>\n",
       "      <th>X18</th>\n",
       "      <th>...</th>\n",
       "      <th>DR_SRP_All_41</th>\n",
       "      <th>DR_SRP_All_42</th>\n",
       "      <th>DR_SRP_All_43</th>\n",
       "      <th>DR_SRP_All_44</th>\n",
       "      <th>DR_SRP_All_45</th>\n",
       "      <th>DR_SRP_All_46</th>\n",
       "      <th>DR_SRP_All_47</th>\n",
       "      <th>DR_SRP_All_48</th>\n",
       "      <th>DR_SRP_All_49</th>\n",
       "      <th>DR_SRP_All_50</th>\n",
       "    </tr>\n",
       "  </thead>\n",
       "  <tbody>\n",
       "    <tr>\n",
       "      <th>0</th>\n",
       "      <td>-1.731845</td>\n",
       "      <td>-0.128145</td>\n",
       "      <td>-0.0109</td>\n",
       "      <td>-0.284174</td>\n",
       "      <td>3.975223</td>\n",
       "      <td>-0.865036</td>\n",
       "      <td>-0.024379</td>\n",
       "      <td>-0.051189</td>\n",
       "      <td>-0.090909</td>\n",
       "      <td>10.476791</td>\n",
       "      <td>...</td>\n",
       "      <td>-4.310734</td>\n",
       "      <td>5.945329</td>\n",
       "      <td>-2.559604</td>\n",
       "      <td>31.135665</td>\n",
       "      <td>0.293209</td>\n",
       "      <td>0.603304</td>\n",
       "      <td>-23.533664</td>\n",
       "      <td>0.178004</td>\n",
       "      <td>8.136958</td>\n",
       "      <td>31.094124</td>\n",
       "    </tr>\n",
       "    <tr>\n",
       "      <th>1</th>\n",
       "      <td>0.638871</td>\n",
       "      <td>-0.128145</td>\n",
       "      <td>-0.0109</td>\n",
       "      <td>-0.284174</td>\n",
       "      <td>-0.251558</td>\n",
       "      <td>-0.865036</td>\n",
       "      <td>-0.024379</td>\n",
       "      <td>-0.051189</td>\n",
       "      <td>-0.090909</td>\n",
       "      <td>-0.095449</td>\n",
       "      <td>...</td>\n",
       "      <td>-0.702463</td>\n",
       "      <td>4.436041</td>\n",
       "      <td>0.581625</td>\n",
       "      <td>-0.544789</td>\n",
       "      <td>-1.260347</td>\n",
       "      <td>0.603304</td>\n",
       "      <td>0.655181</td>\n",
       "      <td>-1.686563</td>\n",
       "      <td>-0.986538</td>\n",
       "      <td>0.841992</td>\n",
       "    </tr>\n",
       "    <tr>\n",
       "      <th>2</th>\n",
       "      <td>0.689076</td>\n",
       "      <td>-0.128145</td>\n",
       "      <td>-0.0109</td>\n",
       "      <td>-0.284174</td>\n",
       "      <td>-0.251558</td>\n",
       "      <td>-0.865036</td>\n",
       "      <td>-0.024379</td>\n",
       "      <td>-0.051189</td>\n",
       "      <td>-0.090909</td>\n",
       "      <td>10.476791</td>\n",
       "      <td>...</td>\n",
       "      <td>-7.149498</td>\n",
       "      <td>-3.792362</td>\n",
       "      <td>-0.857216</td>\n",
       "      <td>4.168977</td>\n",
       "      <td>-2.427348</td>\n",
       "      <td>-7.529943</td>\n",
       "      <td>0.152561</td>\n",
       "      <td>2.048677</td>\n",
       "      <td>5.461848</td>\n",
       "      <td>-2.828128</td>\n",
       "    </tr>\n",
       "    <tr>\n",
       "      <th>3</th>\n",
       "      <td>-0.525294</td>\n",
       "      <td>-0.128145</td>\n",
       "      <td>-0.0109</td>\n",
       "      <td>-0.284174</td>\n",
       "      <td>-0.251558</td>\n",
       "      <td>1.156022</td>\n",
       "      <td>-0.024379</td>\n",
       "      <td>-0.051189</td>\n",
       "      <td>-0.090909</td>\n",
       "      <td>-0.095449</td>\n",
       "      <td>...</td>\n",
       "      <td>-0.274350</td>\n",
       "      <td>-1.298232</td>\n",
       "      <td>0.515624</td>\n",
       "      <td>0.771879</td>\n",
       "      <td>-0.104163</td>\n",
       "      <td>0.603304</td>\n",
       "      <td>1.549413</td>\n",
       "      <td>-1.686563</td>\n",
       "      <td>-0.088339</td>\n",
       "      <td>1.550131</td>\n",
       "    </tr>\n",
       "    <tr>\n",
       "      <th>6</th>\n",
       "      <td>0.027365</td>\n",
       "      <td>-0.128145</td>\n",
       "      <td>-0.0109</td>\n",
       "      <td>-0.284174</td>\n",
       "      <td>-0.251558</td>\n",
       "      <td>-0.865036</td>\n",
       "      <td>-0.024379</td>\n",
       "      <td>-0.051189</td>\n",
       "      <td>-0.090909</td>\n",
       "      <td>-0.095449</td>\n",
       "      <td>...</td>\n",
       "      <td>0.031936</td>\n",
       "      <td>-0.520623</td>\n",
       "      <td>0.364371</td>\n",
       "      <td>0.771879</td>\n",
       "      <td>-0.101286</td>\n",
       "      <td>1.825981</td>\n",
       "      <td>0.380033</td>\n",
       "      <td>-0.518769</td>\n",
       "      <td>-2.490434</td>\n",
       "      <td>1.643128</td>\n",
       "    </tr>\n",
       "  </tbody>\n",
       "</table>\n",
       "<p>5 rows × 696 columns</p>\n",
       "</div>"
      ],
      "text/plain": [
       "    ID_Norm       X10  single_train_dup_train_X11       X12       X13  \\\n",
       "0 -1.731845 -0.128145                     -0.0109 -0.284174  3.975223   \n",
       "1  0.638871 -0.128145                     -0.0109 -0.284174 -0.251558   \n",
       "2  0.689076 -0.128145                     -0.0109 -0.284174 -0.251558   \n",
       "3 -0.525294 -0.128145                     -0.0109 -0.284174 -0.251558   \n",
       "6  0.027365 -0.128145                     -0.0109 -0.284174 -0.251558   \n",
       "\n",
       "        X14  dup_test_X15       X16  dup_train_X17        X18      ...        \\\n",
       "0 -0.865036     -0.024379 -0.051189      -0.090909  10.476791      ...         \n",
       "1 -0.865036     -0.024379 -0.051189      -0.090909  -0.095449      ...         \n",
       "2 -0.865036     -0.024379 -0.051189      -0.090909  10.476791      ...         \n",
       "3  1.156022     -0.024379 -0.051189      -0.090909  -0.095449      ...         \n",
       "6 -0.865036     -0.024379 -0.051189      -0.090909  -0.095449      ...         \n",
       "\n",
       "   DR_SRP_All_41  DR_SRP_All_42  DR_SRP_All_43  DR_SRP_All_44  DR_SRP_All_45  \\\n",
       "0      -4.310734       5.945329      -2.559604      31.135665       0.293209   \n",
       "1      -0.702463       4.436041       0.581625      -0.544789      -1.260347   \n",
       "2      -7.149498      -3.792362      -0.857216       4.168977      -2.427348   \n",
       "3      -0.274350      -1.298232       0.515624       0.771879      -0.104163   \n",
       "6       0.031936      -0.520623       0.364371       0.771879      -0.101286   \n",
       "\n",
       "   DR_SRP_All_46  DR_SRP_All_47  DR_SRP_All_48  DR_SRP_All_49  DR_SRP_All_50  \n",
       "0       0.603304     -23.533664       0.178004       8.136958      31.094124  \n",
       "1       0.603304       0.655181      -1.686563      -0.986538       0.841992  \n",
       "2      -7.529943       0.152561       2.048677       5.461848      -2.828128  \n",
       "3       0.603304       1.549413      -1.686563      -0.088339       1.550131  \n",
       "6       1.825981       0.380033      -0.518769      -2.490434       1.643128  \n",
       "\n",
       "[5 rows x 696 columns]"
      ]
     },
     "execution_count": 17,
     "metadata": {},
     "output_type": "execute_result"
    }
   ],
   "source": [
    "X_train_all.head()"
   ]
  },
  {
   "cell_type": "code",
   "execution_count": 10,
   "metadata": {
    "scrolled": true
   },
   "outputs": [
    {
     "name": "stdout",
     "output_type": "stream",
     "text": [
      "[0]\ttrain-rmse:12.6511+0.0943949\ttrain-score:0.0055764+8.05968e-05\ttest-rmse:12.6251+0.81816\ttest-score:0.0048737+0.00129349\n",
      "[50]\ttrain-rmse:11.1682+0.101309\ttrain-score:0.225043+0.00339242\ttest-rmse:11.1394+0.875652\ttest-score:0.22633+0.0228808\n",
      "[100]\ttrain-rmse:10.1624+0.109746\ttrain-score:0.358353+0.00540706\ttest-rmse:10.1305+0.924217\ttest-score:0.360634+0.0358463\n",
      "[150]\ttrain-rmse:9.49984+0.117121\ttrain-score:0.439292+0.00665692\ttest-rmse:9.46637+0.961022\ttest-score:0.441899+0.0437682\n",
      "[200]\ttrain-rmse:9.07345+0.122771\ttrain-score:0.488494+0.00741723\ttest-rmse:9.04044+0.986548\ttest-score:0.490998+0.0487045\n",
      "[250]\ttrain-rmse:8.80253+0.126456\ttrain-score:0.518582+0.00783944\ttest-rmse:8.77554+1.00333\ttest-score:0.520317+0.0518896\n",
      "[300]\ttrain-rmse:8.62636+0.129495\ttrain-score:0.537657+0.00816212\ttest-rmse:8.61229+1.01493\ttest-score:0.537907+0.054065\n",
      "[350]\ttrain-rmse:8.50466+0.131998\ttrain-score:0.550608+0.00841304\ttest-rmse:8.50649+1.02339\ttest-score:0.549114+0.0555743\n",
      "[400]\ttrain-rmse:8.41736+0.133898\ttrain-score:0.559785+0.00860259\ttest-rmse:8.43594+1.02947\ttest-score:0.556484+0.0567501\n",
      "[450]\ttrain-rmse:8.35282+0.135358\ttrain-score:0.566508+0.00875171\ttest-rmse:8.38806+1.03355\ttest-score:0.561437+0.0576138\n",
      "[500]\ttrain-rmse:8.30325+0.13652\ttrain-score:0.571637+0.00885998\ttest-rmse:8.35769+1.03621\ttest-score:0.564546+0.0582732\n",
      "[550]\ttrain-rmse:8.26349+0.137453\ttrain-score:0.575729+0.00894548\ttest-rmse:8.33595+1.03903\ttest-score:0.566766+0.0588233\n",
      "[600]\ttrain-rmse:8.2286+0.138691\ttrain-score:0.579303+0.00906425\ttest-rmse:8.31914+1.04151\ttest-score:0.568473+0.0593197\n",
      "[650]\ttrain-rmse:8.19689+0.139323\ttrain-score:0.582538+0.00913069\ttest-rmse:8.30569+1.04316\ttest-score:0.569829+0.059722\n",
      "[700]\ttrain-rmse:8.16723+0.139808\ttrain-score:0.585552+0.00919476\ttest-rmse:8.29563+1.04511\ttest-score:0.570829+0.0601744\n",
      "[750]\ttrain-rmse:8.1379+0.139549\ttrain-score:0.588523+0.00919307\ttest-rmse:8.28741+1.04668\ttest-score:0.571638+0.060596\n",
      "[800]\ttrain-rmse:8.10826+0.138989\ttrain-score:0.591515+0.00912223\ttest-rmse:8.28207+1.04865\ttest-score:0.572152+0.0610387\n",
      "[850]\ttrain-rmse:8.08029+0.138107\ttrain-score:0.594328+0.00905495\ttest-rmse:8.27867+1.05037\ttest-score:0.572467+0.0614452\n",
      "[900]\ttrain-rmse:8.05167+0.136823\ttrain-score:0.597195+0.00897478\ttest-rmse:8.27649+1.05204\ttest-score:0.572653+0.0618623\n",
      "[950]\ttrain-rmse:8.02413+0.134954\ttrain-score:0.599947+0.00879769\ttest-rmse:8.27534+1.05295\ttest-score:0.572745+0.0621377\n",
      "[1000]\ttrain-rmse:7.99781+0.133673\ttrain-score:0.602565+0.00871853\ttest-rmse:8.27554+1.05377\ttest-score:0.572697+0.0624032\n"
     ]
    }
   ],
   "source": [
    "# cv\n",
    "cv_xgb = xgb.cv(params_xgb, dtrain\n",
    "                , num_boost_round = 5000\n",
    "                , nfold = 10\n",
    "                , feval = r_2, maximize = True, early_stopping_rounds = 50\n",
    "                , show_stdv = True, verbose_eval = 50, seed = 888)"
   ]
  },
  {
   "cell_type": "code",
   "execution_count": 11,
   "metadata": {
    "collapsed": true
   },
   "outputs": [],
   "source": [
    "# train\n",
    "model_xgb = xgb.train(params_xgb, dtrain, num_boost_round = cv_xgb.shape[0])"
   ]
  },
  {
   "cell_type": "code",
   "execution_count": 12,
   "metadata": {},
   "outputs": [
    {
     "data": {
      "image/png": "[encoded data removed]",
      "text/plain": [
       "<matplotlib.figure.Figure at 0x7f3ed225c240>"
      ]
     },
     "metadata": {},
     "output_type": "display_data"
    }
   ],
   "source": [
    "# importance\n",
    "fig, ax = plt.subplots(figsize = (12,18))\n",
    "xgb.plot_importance(model_xgb, max_num_features = 50, height = 0.8, ax = ax)\n",
    "plt.show()"
   ]
  },
  {
   "cell_type": "code",
   "execution_count": 13,
   "metadata": {},
   "outputs": [
    {
     "data": {
      "text/plain": [
       "array([  94.2232666 ,   94.52567291,   94.40810394,  111.29228973,\n",
       "        111.26741791,   94.55152893,   94.55152893,   94.16348267,\n",
       "         93.79803467,  111.65014648], dtype=float32)"
      ]
     },
     "execution_count": 13,
     "metadata": {},
     "output_type": "execute_result"
    }
   ],
   "source": [
    "# predict\n",
    "y_test = model_xgb.predict(dtest)\n",
    "y_test[:10]"
   ]
  },
  {
   "cell_type": "code",
   "execution_count": 14,
   "metadata": {},
   "outputs": [
    {
     "data": {
      "text/html": [
       "<div>\n",
       "<style>\n",
       "    .dataframe thead tr:only-child th {\n",
       "        text-align: right;\n",
       "    }\n",
       "\n",
       "    .dataframe thead th {\n",
       "        text-align: left;\n",
       "    }\n",
       "\n",
       "    .dataframe tbody tr th {\n",
       "        vertical-align: top;\n",
       "    }\n",
       "</style>\n",
       "<table border=\"1\" class=\"dataframe\">\n",
       "  <thead>\n",
       "    <tr style=\"text-align: right;\">\n",
       "      <th></th>\n",
       "      <th>ID</th>\n",
       "      <th>y</th>\n",
       "    </tr>\n",
       "  </thead>\n",
       "  <tbody>\n",
       "    <tr>\n",
       "      <th>0</th>\n",
       "      <td>2849</td>\n",
       "      <td>94.223267</td>\n",
       "    </tr>\n",
       "    <tr>\n",
       "      <th>1</th>\n",
       "      <td>2710</td>\n",
       "      <td>94.525673</td>\n",
       "    </tr>\n",
       "    <tr>\n",
       "      <th>2</th>\n",
       "      <td>4077</td>\n",
       "      <td>94.408104</td>\n",
       "    </tr>\n",
       "    <tr>\n",
       "      <th>3</th>\n",
       "      <td>7454</td>\n",
       "      <td>111.292290</td>\n",
       "    </tr>\n",
       "    <tr>\n",
       "      <th>4</th>\n",
       "      <td>7484</td>\n",
       "      <td>111.267418</td>\n",
       "    </tr>\n",
       "  </tbody>\n",
       "</table>\n",
       "</div>"
      ],
      "text/plain": [
       "     ID           y\n",
       "0  2849   94.223267\n",
       "1  2710   94.525673\n",
       "2  4077   94.408104\n",
       "3  7454  111.292290\n",
       "4  7484  111.267418"
      ]
     },
     "execution_count": 14,
     "metadata": {},
     "output_type": "execute_result"
    }
   ],
   "source": [
    "# submit\n",
    "dt_submit = pd.DataFrame({\"ID\": ID_test, \"y\": y_test})\n",
    "dt_submit.head()"
   ]
  },
  {
   "cell_type": "code",
   "execution_count": 15,
   "metadata": {},
   "outputs": [
    {
     "data": {
      "text/plain": [
       "(4209, 2)"
      ]
     },
     "execution_count": 15,
     "metadata": {},
     "output_type": "execute_result"
    }
   ],
   "source": [
    "dt_submit.shape"
   ]
  },
  {
   "cell_type": "code",
   "execution_count": 16,
   "metadata": {
    "collapsed": true
   },
   "outputs": [],
   "source": [
    "# dt_submit.to_csv(\"../../data/Mercedes_Benz_Greener_Manufacturing/submission/19_cleaned_python.csv\", index = False)"
   ]
  }
 ],
 "metadata": {
  "kernelspec": {
   "display_name": "Python 3",
   "language": "python",
   "name": "python3"
  },
  "language_info": {
   "codemirror_mode": {
    "name": "ipython",
    "version": 3
   },
   "file_extension": ".py",
   "mimetype": "text/x-python",
   "name": "python",
   "nbconvert_exporter": "python",
   "pygments_lexer": "ipython3",
   "version": "3.5.2"
  }
 },
 "nbformat": 4,
 "nbformat_minor": 2
}
