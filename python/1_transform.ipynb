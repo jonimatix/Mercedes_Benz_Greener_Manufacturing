{
 "cells": [
  {
   "cell_type": "code",
   "execution_count": 1,
   "metadata": {
    "collapsed": true
   },
   "outputs": [],
   "source": [
    "import pandas as pd\n",
    "import pickle"
   ]
  },
  {
   "cell_type": "markdown",
   "metadata": {},
   "source": [
    "## 1. Load"
   ]
  },
  {
   "cell_type": "code",
   "execution_count": 2,
   "metadata": {
    "collapsed": true
   },
   "outputs": [],
   "source": [
    "# load data\n",
    "dt_train_raw = pd.read_csv(\"../../data/Mercedes_Benz_Greener_Manufacturing/raw/train.csv\")\n",
    "dt_test_raw = pd.read_csv(\"../../data/Mercedes_Benz_Greener_Manufacturing/raw/test.csv\")\n",
    "# cols\n",
    "cols_cat = dt_train_raw.select_dtypes(include = ['object']).columns.values\n",
    "cols_cat = cols_cat.tolist()"
   ]
  },
  {
   "cell_type": "code",
   "execution_count": 3,
   "metadata": {},
   "outputs": [
    {
     "name": "stdout",
     "output_type": "stream",
     "text": [
      "(4209, 378) (4209, 377)\n"
     ]
    }
   ],
   "source": [
    "print(dt_train_raw.shape, dt_test_raw.shape)"
   ]
  },
  {
   "cell_type": "markdown",
   "metadata": {},
   "source": [
    "## 2. Transform"
   ]
  },
  {
   "cell_type": "code",
   "execution_count": 4,
   "metadata": {
    "collapsed": true
   },
   "outputs": [],
   "source": [
    "# change test index and add y\n",
    "dt_test_raw[\"y\"] = 0.0\n",
    "\n",
    "# concat\n",
    "dt_test_raw = dt_test_raw[dt_train_raw.columns.values]\n",
    "dt_all_raw = pd.concat([dt_train_raw, dt_test_raw])"
   ]
  },
  {
   "cell_type": "code",
   "execution_count": 5,
   "metadata": {},
   "outputs": [
    {
     "data": {
      "text/plain": [
       "(8418, 378)"
      ]
     },
     "execution_count": 5,
     "metadata": {},
     "output_type": "execute_result"
    }
   ],
   "source": [
    "dt_all_raw.shape"
   ]
  },
  {
   "cell_type": "markdown",
   "metadata": {},
   "source": [
    "## 3. Save"
   ]
  },
  {
   "cell_type": "code",
   "execution_count": 6,
   "metadata": {
    "collapsed": true
   },
   "outputs": [],
   "source": [
    "IDs_train = dt_train_raw.ID.values\n",
    "IDs_test = dt_test_raw.ID.values"
   ]
  },
  {
   "cell_type": "code",
   "execution_count": 7,
   "metadata": {
    "collapsed": true
   },
   "outputs": [],
   "source": [
    "# data\n",
    "dt_all_raw.to_csv(\"../../data/Mercedes_Benz_Greener_Manufacturing/data/dt_all_transformed.csv\", index = False)\n",
    "# id\n",
    "pickle.dump(IDs_train, open( \"../../data/Mercedes_Benz_Greener_Manufacturing/data/IDs_train.pkl\", \"wb\"))\n",
    "pickle.dump(IDs_test, open( \"../../data/Mercedes_Benz_Greener_Manufacturing/data/IDs_test.pkl\", \"wb\"))\n",
    "# cols\n",
    "pickle.dump(cols_cat, open( \"../../data/Mercedes_Benz_Greener_Manufacturing/data/cols_cat.pkl\", \"wb\"))"
   ]
  }
 ],
 "metadata": {
  "kernelspec": {
   "display_name": "Python 3",
   "language": "python",
   "name": "python3"
  },
  "language_info": {
   "codemirror_mode": {
    "name": "ipython",
    "version": 3
   },
   "file_extension": ".py",
   "mimetype": "text/x-python",
   "name": "python",
   "nbconvert_exporter": "python",
   "pygments_lexer": "ipython3",
   "version": "3.5.2"
  }
 },
 "nbformat": 4,
 "nbformat_minor": 2
}
