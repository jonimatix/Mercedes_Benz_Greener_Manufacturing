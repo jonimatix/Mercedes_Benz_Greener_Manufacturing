{
 "cells": [
  {
   "cell_type": "code",
   "execution_count": 1,
   "metadata": {
    "scrolled": true
   },
   "outputs": [],
   "source": [
    "import pandas as pd\n",
    "from sklearn.model_selection import StratifiedKFold, GroupKFold, KFold, train_test_split\n",
    "from sklearn.ensemble import ExtraTreesRegressor\n",
    "from sklearn.metrics import r2_score\n",
    "import matplotlib.pyplot as plt"
   ]
  },
  {
   "cell_type": "code",
   "execution_count": 2,
   "metadata": {},
   "outputs": [],
   "source": [
    "# load data\n",
    "dt_train_raw = pd.read_csv(\"../../data/Mercedes_Benz_Greener_Manufacturing/raw/train.csv\")\n",
    "dt_test_raw = pd.read_csv(\"../../data/Mercedes_Benz_Greener_Manufacturing/raw/test.csv\")"
   ]
  },
  {
   "cell_type": "code",
   "execution_count": 3,
   "metadata": {},
   "outputs": [
    {
     "data": {
      "text/html": [
       "<div>\n",
       "<style>\n",
       "    .dataframe thead tr:only-child th {\n",
       "        text-align: right;\n",
       "    }\n",
       "\n",
       "    .dataframe thead th {\n",
       "        text-align: left;\n",
       "    }\n",
       "\n",
       "    .dataframe tbody tr th {\n",
       "        vertical-align: top;\n",
       "    }\n",
       "</style>\n",
       "<table border=\"1\" class=\"dataframe\">\n",
       "  <thead>\n",
       "    <tr style=\"text-align: right;\">\n",
       "      <th></th>\n",
       "      <th>ID</th>\n",
       "      <th>y</th>\n",
       "      <th>X0</th>\n",
       "      <th>X1</th>\n",
       "      <th>X2</th>\n",
       "      <th>X3</th>\n",
       "      <th>X4</th>\n",
       "      <th>X5</th>\n",
       "      <th>X6</th>\n",
       "      <th>X8</th>\n",
       "      <th>...</th>\n",
       "      <th>X375</th>\n",
       "      <th>X376</th>\n",
       "      <th>X377</th>\n",
       "      <th>X378</th>\n",
       "      <th>X379</th>\n",
       "      <th>X380</th>\n",
       "      <th>X382</th>\n",
       "      <th>X383</th>\n",
       "      <th>X384</th>\n",
       "      <th>X385</th>\n",
       "    </tr>\n",
       "  </thead>\n",
       "  <tbody>\n",
       "    <tr>\n",
       "      <th>883</th>\n",
       "      <td>1770</td>\n",
       "      <td>265.32</td>\n",
       "      <td>y</td>\n",
       "      <td>r</td>\n",
       "      <td>ai</td>\n",
       "      <td>f</td>\n",
       "      <td>d</td>\n",
       "      <td>ag</td>\n",
       "      <td>l</td>\n",
       "      <td>t</td>\n",
       "      <td>...</td>\n",
       "      <td>0</td>\n",
       "      <td>0</td>\n",
       "      <td>0</td>\n",
       "      <td>0</td>\n",
       "      <td>0</td>\n",
       "      <td>0</td>\n",
       "      <td>0</td>\n",
       "      <td>0</td>\n",
       "      <td>0</td>\n",
       "      <td>0</td>\n",
       "    </tr>\n",
       "  </tbody>\n",
       "</table>\n",
       "<p>1 rows × 378 columns</p>\n",
       "</div>"
      ],
      "text/plain": [
       "       ID       y X0 X1  X2 X3 X4  X5 X6 X8  ...   X375  X376  X377  X378  \\\n",
       "883  1770  265.32  y  r  ai  f  d  ag  l  t  ...      0     0     0     0   \n",
       "\n",
       "     X379  X380  X382  X383  X384  X385  \n",
       "883     0     0     0     0     0     0  \n",
       "\n",
       "[1 rows x 378 columns]"
      ]
     },
     "execution_count": 3,
     "metadata": {},
     "output_type": "execute_result"
    }
   ],
   "source": [
    "# outlier\n",
    "dt_outlier = dt_train_raw.loc[dt_train_raw.y == max(dt_train_raw.y.values)]\n",
    "dt_outlier"
   ]
  },
  {
   "cell_type": "markdown",
   "metadata": {},
   "source": [
    "**X, y, ID**"
   ]
  },
  {
   "cell_type": "code",
   "execution_count": 4,
   "metadata": {},
   "outputs": [],
   "source": [
    "# remove outlier\n",
    "dt_train_raw_no_outlier = dt_train_raw.loc[dt_train_raw[\"ID\"] != dt_outlier[\"ID\"].values[0]]"
   ]
  },
  {
   "cell_type": "code",
   "execution_count": 5,
   "metadata": {
    "collapsed": true
   },
   "outputs": [],
   "source": [
    "X = dt_train_raw_no_outlier.drop([\"ID\", \"y\"], axis = 1)\n",
    "y = dt_train_raw_no_outlier.y.values\n",
    "ID = dt_train_raw_no_outlier.ID.values"
   ]
  },
  {
   "cell_type": "code",
   "execution_count": 6,
   "metadata": {},
   "outputs": [
    {
     "data": {
      "text/plain": [
       "(4208, 376)"
      ]
     },
     "execution_count": 6,
     "metadata": {},
     "output_type": "execute_result"
    }
   ],
   "source": [
    "X.shape"
   ]
  },
  {
   "cell_type": "markdown",
   "metadata": {},
   "source": [
    "**One-hot Encoding**"
   ]
  },
  {
   "cell_type": "code",
   "execution_count": 7,
   "metadata": {
    "collapsed": true
   },
   "outputs": [],
   "source": [
    "# cols_cat\n",
    "cols_cat = X.select_dtypes(include = ['object']).columns.values\n",
    "dt_cat_onehot = pd.get_dummies(X[cols_cat])\n",
    "X = X.drop(cols_cat, axis = 1)\n",
    "X = X.join(dt_cat_onehot)"
   ]
  },
  {
   "cell_type": "code",
   "execution_count": 8,
   "metadata": {},
   "outputs": [
    {
     "data": {
      "text/plain": [
       "(4208, 563)"
      ]
     },
     "execution_count": 8,
     "metadata": {},
     "output_type": "execute_result"
    }
   ],
   "source": [
    "X.shape"
   ]
  },
  {
   "cell_type": "markdown",
   "metadata": {},
   "source": [
    "**ExtraTree**"
   ]
  },
  {
   "cell_type": "code",
   "execution_count": 34,
   "metadata": {
    "collapsed": true
   },
   "outputs": [],
   "source": [
    "# extratree\n",
    "params = {\n",
    "    \"n_jobs\": 7\n",
    "    , \"n_estimators\": 400\n",
    "    , \"max_depth\": 3\n",
    "    , \"min_samples_split\": 5\n",
    "    , \"random_state\": 888\n",
    "    , \"verbose\": 0\n",
    "}\n",
    "model_extra = ExtraTreesRegressor(**params)"
   ]
  },
  {
   "cell_type": "markdown",
   "metadata": {},
   "source": [
    "**Random Split**"
   ]
  },
  {
   "cell_type": "code",
   "execution_count": 10,
   "metadata": {
    "collapsed": true
   },
   "outputs": [],
   "source": [
    "X_train, X_valid, y_train, y_valid = train_test_split(X, y, test_size = 0.2, random_state = 888)"
   ]
  },
  {
   "cell_type": "code",
   "execution_count": 11,
   "metadata": {},
   "outputs": [
    {
     "data": {
      "text/plain": [
       "0.52565801661607581"
      ]
     },
     "execution_count": 11,
     "metadata": {},
     "output_type": "execute_result"
    }
   ],
   "source": [
    "model_extra.fit(X_train, y_train)\n",
    "preds_valid = model_extra.predict(X_valid)\n",
    "r2_score(y_valid, preds_valid)"
   ]
  },
  {
   "cell_type": "markdown",
   "metadata": {},
   "source": [
    "**K Fold**"
   ]
  },
  {
   "cell_type": "code",
   "execution_count": 16,
   "metadata": {
    "collapsed": true
   },
   "outputs": [],
   "source": [
    "# stratified kfold\n",
    "kf = KFold(n_splits = 5, shuffle = True, random_state = 888)"
   ]
  },
  {
   "cell_type": "code",
   "execution_count": 35,
   "metadata": {},
   "outputs": [
    {
     "name": "stdout",
     "output_type": "stream",
     "text": [
      "R^2 on Train:  0.602535475808 R^2 on Valid:  0.559855696006\n",
      "R^2 on Train:  0.612433946519 R^2 on Valid:  0.538886648967\n",
      "R^2 on Train:  0.59829331832 R^2 on Valid:  0.599107291029\n",
      "R^2 on Train:  0.589047292434 R^2 on Valid:  0.615433343798\n",
      "R^2 on Train:  0.60142744751 R^2 on Valid:  0.583408754974\n"
     ]
    }
   ],
   "source": [
    "for ind_train, ind_valid in kf.split(X):\n",
    "    # X, y\n",
    "    X_train, X_valid = X.iloc[ind_train], X.iloc[ind_valid]\n",
    "    y_train, y_valid = y[ind_train], y[ind_valid]\n",
    "    \n",
    "    # model\n",
    "    model_extra.fit(X_train, y_train)\n",
    "    \n",
    "    # pred\n",
    "    preds_train = model_extra.predict(X_train)\n",
    "    preds_valid = model_extra.predict(X_valid)\n",
    "    \n",
    "    # score\n",
    "    score_train = r2_score(y_train, preds_train)\n",
    "    score_valid = r2_score(y_valid, preds_valid)\n",
    "    \n",
    "    print(\"R^2 on Train: \", score_train, \"R^2 on Valid: \", score_valid)"
   ]
  },
  {
   "cell_type": "markdown",
   "metadata": {},
   "source": [
    "**Stratified Kfold**"
   ]
  },
  {
   "cell_type": "code",
   "execution_count": 24,
   "metadata": {
    "collapsed": true
   },
   "outputs": [],
   "source": [
    "# bin y\n",
    "bin_y = pd.cut(y, 5, labels = [1, 2, 3, 4, 5]).astype(\"int64\")"
   ]
  },
  {
   "cell_type": "code",
   "execution_count": 26,
   "metadata": {
    "collapsed": true
   },
   "outputs": [],
   "source": [
    "# stratified kfold\n",
    "gkf = GroupKFold(n_splits = 5)"
   ]
  },
  {
   "cell_type": "code",
   "execution_count": 27,
   "metadata": {},
   "outputs": [
    {
     "name": "stdout",
     "output_type": "stream",
     "text": [
      "X_train:  (1984, 563) X_valid:  (2224, 563)\n",
      "R^2:  -3.73698969767\n",
      "X_train:  (2981, 563) X_valid:  (1227, 563)\n",
      "R^2:  -9.55055240255\n",
      "X_train:  (3530, 563) X_valid:  (678, 563)\n",
      "R^2:  -7.23753408018\n",
      "X_train:  (4143, 563) X_valid:  (65, 563)\n",
      "R^2:  -36.3613184809\n",
      "X_train:  (4194, 563) X_valid:  (14, 563)\n",
      "R^2:  -71.282780992\n"
     ]
    }
   ],
   "source": [
    "for ind_train, ind_valid in gkf.split(X, y, groups = bin_y):\n",
    "    # X, y\n",
    "    X_train, X_valid = X.iloc[ind_train], X.iloc[ind_valid]\n",
    "    y_train, y_valid = y[ind_train], y[ind_valid]\n",
    "    \n",
    "    print(\"X_train: \", X_train.shape, \"X_valid: \", X_valid.shape)\n",
    "    # model\n",
    "    model_extra.fit(X_train, y_train)\n",
    "    # pred\n",
    "    preds_valid = model_extra.predict(X_valid)\n",
    "    # score\n",
    "    score = r2_score(y_valid, preds_valid)\n",
    "    print(\"R^2: \", score)"
   ]
  },
  {
   "cell_type": "code",
   "execution_count": 28,
   "metadata": {},
   "outputs": [
    {
     "data": {
      "image/png": "[encoded data removed]",
      "text/plain": [
       "<matplotlib.figure.Figure at 0x7f72345e3e48>"
      ]
     },
     "metadata": {},
     "output_type": "display_data"
    }
   ],
   "source": [
    "plt.scatter(y_valid, preds_valid)\n",
    "plt.show()"
   ]
  },
  {
   "cell_type": "code",
   "execution_count": null,
   "metadata": {
    "collapsed": true
   },
   "outputs": [],
   "source": [
    "# group kfold"
   ]
  }
 ],
 "metadata": {
  "kernelspec": {
   "display_name": "Python 3",
   "language": "python",
   "name": "python3"
  },
  "language_info": {
   "codemirror_mode": {
    "name": "ipython",
    "version": 3
   },
   "file_extension": ".py",
   "mimetype": "text/x-python",
   "name": "python",
   "nbconvert_exporter": "python",
   "pygments_lexer": "ipython3",
   "version": "3.5.2"
  }
 },
 "nbformat": 4,
 "nbformat_minor": 2
}
