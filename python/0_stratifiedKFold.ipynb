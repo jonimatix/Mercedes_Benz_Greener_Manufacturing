{
 "cells": [
  {
   "cell_type": "code",
   "execution_count": 10,
   "metadata": {
    "collapsed": true
   },
   "outputs": [],
   "source": [
    "import pandas as pd\n",
    "import seaborn as sns\n",
    "import matplotlib.pyplot as plt\n",
    "from sklearn.model_selection import StratifiedKFold"
   ]
  },
  {
   "cell_type": "markdown",
   "metadata": {},
   "source": [
    "## 1. Load"
   ]
  },
  {
   "cell_type": "code",
   "execution_count": 2,
   "metadata": {
    "collapsed": true
   },
   "outputs": [],
   "source": [
    "dt_train_raw = pd.read_csv(\"../../data/Mercedes_Benz_Greener_Manufacturing/raw/train.csv\")\n",
    "dt_test_raw = pd.read_csv(\"../../data/Mercedes_Benz_Greener_Manufacturing/raw/test.csv\")"
   ]
  },
  {
   "cell_type": "markdown",
   "metadata": {},
   "source": [
    "## 2. Explore y"
   ]
  },
  {
   "cell_type": "code",
   "execution_count": 9,
   "metadata": {
    "scrolled": true
   },
   "outputs": [
    {
     "data": {
      "image/png": "[encoded data removed]",
      "text/plain": [
       "<matplotlib.figure.Figure at 0x7f52020b4e10>"
      ]
     },
     "metadata": {},
     "output_type": "display_data"
    }
   ],
   "source": [
    "sns.distplot(dt_train_raw.y.values, bins = 800, kde = False)\n",
    "plt.show()"
   ]
  },
  {
   "cell_type": "markdown",
   "metadata": {},
   "source": [
    "## 3. Stratified KFold"
   ]
  },
  {
   "cell_type": "code",
   "execution_count": 11,
   "metadata": {
    "collapsed": true
   },
   "outputs": [],
   "source": [
    "k = 10\n",
    "# bin\n",
    "bin_y = pd.qcut(dt_train_raw.y.values, k, labels = [i for i in range(1, k + 1)]).astype(\"int64\")\n",
    "# stratified kfold\n",
    "skf = StratifiedKFold(n_splits = k, shuffle = True, random_state = 888)"
   ]
  },
  {
   "cell_type": "code",
   "execution_count": 18,
   "metadata": {},
   "outputs": [],
   "source": [
    "dt_id_folds = pd.DataFrame()\n",
    "for i, (ind_train, ind_valid) in enumerate(skf.split(dt_train_raw, bin_y)):\n",
    "    dt_id_folds = pd.concat([dt_id_folds\n",
    "                            , pd.DataFrame({\"ID\": dt_train_raw.iloc[ind_valid].ID.values\n",
    "                                           , \"Fold\": i + 1})])"
   ]
  },
  {
   "cell_type": "code",
   "execution_count": 23,
   "metadata": {},
   "outputs": [],
   "source": [
    "dt_id_folds.to_csv(\"../../data/Mercedes_Benz_Greener_Manufacturing/folds/dt_id_folds.csv\", index = False)"
   ]
  }
 ],
 "metadata": {
  "kernelspec": {
   "display_name": "Python 3",
   "language": "python",
   "name": "python3"
  },
  "language_info": {
   "codemirror_mode": {
    "name": "ipython",
    "version": 3
   },
   "file_extension": ".py",
   "mimetype": "text/x-python",
   "name": "python",
   "nbconvert_exporter": "python",
   "pygments_lexer": "ipython3",
   "version": "3.5.2"
  }
 },
 "nbformat": 4,
 "nbformat_minor": 2
}
