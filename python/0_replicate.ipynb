{
 "cells": [
  {
   "cell_type": "code",
   "execution_count": 1,
   "metadata": {
    "collapsed": true
   },
   "outputs": [],
   "source": [
    "import pandas as pd\n",
    "import numpy as np\n",
    "import xgboost as xgb\n",
    "from sklearn.preprocessing import LabelEncoder, StandardScaler\n",
    "from sklearn.random_projection import GaussianRandomProjection\n",
    "from sklearn.random_projection import SparseRandomProjection\n",
    "from sklearn.decomposition import PCA, FastICA\n",
    "from sklearn.decomposition import TruncatedSVD\n",
    "from sklearn.metrics import r2_score\n",
    "from sklearn.model_selection import StratifiedKFold, GroupKFold, KFold, train_test_split\n",
    "import matplotlib.pyplot as plt"
   ]
  },
  {
   "cell_type": "code",
   "execution_count": 2,
   "metadata": {
    "collapsed": true
   },
   "outputs": [],
   "source": [
    "train = pd.read_csv(\"../../data/Mercedes_Benz_Greener_Manufacturing/raw/train.csv\")\n",
    "test = pd.read_csv(\"../../data/Mercedes_Benz_Greener_Manufacturing/raw/test.csv\")"
   ]
  },
  {
   "cell_type": "code",
   "execution_count": 3,
   "metadata": {},
   "outputs": [
    {
     "name": "stdout",
     "output_type": "stream",
     "text": [
      "(4209, 378) (4209, 377)\n"
     ]
    }
   ],
   "source": [
    "print(train.shape, test.shape)"
   ]
  },
  {
   "cell_type": "markdown",
   "metadata": {},
   "source": [
    "## Encode"
   ]
  },
  {
   "cell_type": "code",
   "execution_count": 4,
   "metadata": {
    "collapsed": true
   },
   "outputs": [],
   "source": [
    "cols_cat = train.select_dtypes(include = ['object']).columns.values\n",
    "cols_cat = cols_cat.tolist()\n",
    "cols_bin = train.select_dtypes(include = ['int64']).columns.values\n",
    "cols_bin = cols_bin[cols_bin != \"ID\"].tolist()"
   ]
  },
  {
   "cell_type": "code",
   "execution_count": 5,
   "metadata": {
    "collapsed": true
   },
   "outputs": [],
   "source": [
    "for c in cols_cat:\n",
    "    x = list(set(list(train[c].values) + list(test[c].values))) \n",
    "    x.sort()\n",
    "    x.sort(key = len)\n",
    "    dt_labelEncode_c = pd.DataFrame({\"Encode_Label_\" + c: [i for i in range(1, (len(x) + 1))]\n",
    "                                     , c: x})\n",
    "\n",
    "    train = pd.merge(train, dt_labelEncode_c, on = c)\n",
    "    test = pd.merge(test, dt_labelEncode_c, on = c)"
   ]
  },
  {
   "cell_type": "markdown",
   "metadata": {},
   "source": [
    "## TargetMean"
   ]
  },
  {
   "cell_type": "code",
   "execution_count": 6,
   "metadata": {
    "collapsed": true
   },
   "outputs": [],
   "source": [
    "def getTargetMean(dt_train, dt_test, cols, k = 3, random_state = 888):\n",
    "\n",
    "    if k == 1:\n",
    "        train_cp = dt_train.copy()\n",
    "        test_cp = dt_test.copy()\n",
    "        for c in cols:\n",
    "            x = train_cp.groupby([c])[\"y\"].mean()\n",
    "            dt_targetMean_c = pd.DataFrame({c: x.index\n",
    "                                           , \"Encode_TargetMean_\" + c: x.values})\n",
    "            train_cp = pd.merge(dt_targetMean_c, train_cp, on = c)\n",
    "\n",
    "            test_cp = pd.merge(dt_targetMean_c, test_cp, on = c, how = \"right\")\n",
    "            test_cp = test_cp.fillna(np.mean(train_cp.y))\n",
    "\n",
    "        return train_cp, test_cp\n",
    "    else:\n",
    "        for col in cols:\n",
    "            X_train_fold = pd.DataFrame()\n",
    "            X_test_fold = pd.DataFrame()\n",
    "\n",
    "            skf = StratifiedKFold(n_splits = k, random_state = random_state)\n",
    "\n",
    "            for i, (ind_in, ind_out) in enumerate(skf.split(dt_train, dt_train[col].values)):\n",
    "                X_in, X_out = dt_train.iloc[ind_in], dt_train.iloc[ind_out]\n",
    "                # targetMean in\n",
    "                dt_targetMean_fold = pd.DataFrame({col: X_in.groupby([col])[\"y\"].mean().index\n",
    "                                                  , \"Encode_TargetMean_\" + col: X_in.groupby([col])[\"y\"].mean()})\n",
    "                # merge targetMean out\n",
    "                X_out_fold = pd.merge(X_out, dt_targetMean_fold, on = col, how = \"left\")\n",
    "                X_out_fold = X_out_fold.fillna(np.mean(X_in.y))\n",
    "\n",
    "                # concat X_out_fold\n",
    "                X_train_fold = pd.concat([X_train_fold, X_out_fold])\n",
    "\n",
    "                # merge with test\n",
    "                dt_targetMean_fold = dt_targetMean_fold.rename(columns = {\"Encode_TargetMean_\" + col: \"Encode_TargetMean_fold_\" + col + \"_\" + str(i)})\n",
    "                if i == 0:\n",
    "                    X_test_fold = pd.merge(dt_test, dt_targetMean_fold, on = col, how = \"left\")\n",
    "                else:\n",
    "                    X_test_fold = pd.merge(X_test_fold, dt_targetMean_fold, on = col, how = \"left\")\n",
    "\n",
    "                # mean for test\n",
    "                cols_encode_fold = X_test_fold.filter(regex = \"Encode_TargetMean_fold_\").columns.values\n",
    "                X_test_fold[\"Encode_TargetMean_\" + col] = X_test_fold[cols_encode_fold].mean(axis = 1)\n",
    "                X_test_fold = X_test_fold.drop(cols_encode_fold, axis = 1)\n",
    "                X_test_fold = X_test_fold.fillna(np.mean(X_in.y))\n",
    "    \n",
    "    return X_train_fold, X_test_fold \n"
   ]
  },
  {
   "cell_type": "code",
   "execution_count": 7,
   "metadata": {
    "collapsed": true
   },
   "outputs": [],
   "source": [
    "train, test = getTargetMean(train, test, cols_cat, 1)"
   ]
  },
  {
   "cell_type": "code",
   "execution_count": 8,
   "metadata": {
    "collapsed": true
   },
   "outputs": [],
   "source": [
    "cols_targetMean = train.filter(regex = \"Encode_TargetMean_\").columns.values.tolist()"
   ]
  },
  {
   "cell_type": "code",
   "execution_count": 9,
   "metadata": {},
   "outputs": [
    {
     "name": "stdout",
     "output_type": "stream",
     "text": [
      "(4209, 394) (4209, 393)\n"
     ]
    }
   ],
   "source": [
    "print(train.shape, test.shape)"
   ]
  },
  {
   "cell_type": "markdown",
   "metadata": {},
   "source": [
    "## OutlierMaker"
   ]
  },
  {
   "cell_type": "code",
   "execution_count": 10,
   "metadata": {
    "collapsed": true
   },
   "outputs": [],
   "source": [
    "def getOutlierMarker(dt_train, dt_test, perc = 100):\n",
    "    \n",
    "    dt_train_cp = dt_train.copy()\n",
    "    dt_test_cp = dt_test.copy()\n",
    "    \n",
    "    # outlier\n",
    "    bin_y = pd.qcut(dt_train_cp.y.values, perc, labels = [i for i in range(1, perc + 1)]).astype(\"int64\")\n",
    "    dt_outliers = dt_train_cp.iloc[bin_y == perc]\n",
    "    \n",
    "    cols_types = [\"Cat\", \"Bin\", \"All\", \"X0\", \"X5\"]\n",
    "    for cols_type in cols_types:\n",
    "        if cols_type == \"Cat\":\n",
    "            cols = cols_cat\n",
    "        elif cols_type == \"Bin\":\n",
    "            cols = cols_bin\n",
    "        elif cols_type == \"All\":\n",
    "            cols = cols_cat + cols_bin\n",
    "        else:\n",
    "            cols = [cols_type]\n",
    "            \n",
    "        # calc int_outlierMarker_train, int_outlierMarker_test\n",
    "        int_outlierMarker_train = np.zeros(dt_train_cp.shape[0])\n",
    "        int_outlierMarker_test = np.zeros(dt_test_cp.shape[0])\n",
    "        for i in range(1, dt_outliers.shape[0] + 1):\n",
    "            dt_outliers_i = dt_outliers.iloc[(i - 1):i, :][cols]\n",
    "\n",
    "            # calc int_outlierMarker_train_i\n",
    "            int_outlierMarker_train_i = np.zeros(dt_train_cp.shape[0])\n",
    "            for col in dt_outliers_i.columns.values:\n",
    "                for val in dt_outliers_i[col].values:\n",
    "                    int_outlierMarker_train_i += (dt_train_cp[col].values == val).astype(\"int64\")\n",
    "            # calc int_outlierMarker_test_i\n",
    "            int_outlierMarker_test_i = np.zeros(dt_test_cp.shape[0])\n",
    "            for col in dt_outliers_i.columns.values:\n",
    "                for val in dt_outliers_i[col].values:\n",
    "                    int_outlierMarker_test_i += (dt_test_cp[col].values == val).astype(\"int64\")\n",
    "\n",
    "            int_outlierMarker_train += int_outlierMarker_train_i\n",
    "            int_outlierMarker_test += int_outlierMarker_test_i\n",
    "    \n",
    "        # add as column\n",
    "        dt_train_cp.loc[:, \"FeatEng_OutlierMaker_\" + cols_type] = int_outlierMarker_train\n",
    "        dt_test_cp.loc[:, \"FeatEng_OutlierMaker_\" + cols_type] = int_outlierMarker_test\n",
    "        \n",
    "    return dt_train_cp, dt_test_cp"
   ]
  },
  {
   "cell_type": "markdown",
   "metadata": {},
   "source": [
    "## Dimension Reduce"
   ]
  },
  {
   "cell_type": "code",
   "execution_count": 11,
   "metadata": {
    "collapsed": true
   },
   "outputs": [],
   "source": [
    "# standardize\n",
    "train_norm = StandardScaler().fit_transform(train.drop([\"y\"] + cols_cat + cols_targetMean, axis=1))\n",
    "test_norm = StandardScaler().fit_transform(test.drop(cols_cat + cols_targetMean, axis = 1))"
   ]
  },
  {
   "cell_type": "code",
   "execution_count": 12,
   "metadata": {
    "collapsed": true
   },
   "outputs": [],
   "source": [
    "n_comp = 12\n",
    "n_comp_pca = 12\n",
    "\n",
    "# tSVD\n",
    "tsvd = TruncatedSVD(n_components=n_comp, random_state=420)\n",
    "tsvd_results_train = tsvd.fit_transform(train_norm)\n",
    "tsvd_results_test = tsvd.transform(test_norm)\n",
    "\n",
    "# PCA\n",
    "pca = PCA(n_components=n_comp_pca, random_state=420)\n",
    "pca2_results_train = pca.fit_transform(train_norm)\n",
    "pca2_results_test = pca.transform(test_norm)\n",
    "\n",
    "# ICA\n",
    "ica = FastICA(n_components=n_comp, random_state=420)\n",
    "ica2_results_train = ica.fit_transform(train_norm)\n",
    "ica2_results_test = ica.transform(test_norm)\n",
    "\n",
    "# GRP\n",
    "grp = GaussianRandomProjection(n_components=n_comp, eps=0.1, random_state=420)\n",
    "grp_results_train = grp.fit_transform(train_norm)\n",
    "grp_results_test = grp.transform(test_norm)\n",
    "\n",
    "# SRP\n",
    "srp = SparseRandomProjection(n_components=n_comp, dense_output=True, random_state=420)\n",
    "srp_results_train = srp.fit_transform(train_norm)\n",
    "srp_results_test = srp.transform(test_norm)\n"
   ]
  },
  {
   "cell_type": "code",
   "execution_count": 13,
   "metadata": {
    "collapsed": true
   },
   "outputs": [],
   "source": [
    "# Append decomposition components to datasets\n",
    "for i in range(1, n_comp + 1):\n",
    "\n",
    "    train['ICA_' + str(i)] = ica2_results_train[:, i - 1]\n",
    "    test['ICA_' + str(i)] = ica2_results_test[:, i - 1]\n",
    "\n",
    "    train['TSVD_' + str(i)] = tsvd_results_train[:, i - 1]\n",
    "    test['TSVD_' + str(i)] = tsvd_results_test[:, i - 1]\n",
    "\n",
    "    train['GRP_' + str(i)] = grp_results_train[:, i - 1]\n",
    "    test['GRP_' + str(i)] = grp_results_test[:, i - 1]\n",
    "\n",
    "    train['SRP_' + str(i)] = srp_results_train[:, i - 1]\n",
    "    test['SRP_' + str(i)] = srp_results_test[:, i - 1]"
   ]
  },
  {
   "cell_type": "code",
   "execution_count": 14,
   "metadata": {
    "collapsed": true
   },
   "outputs": [],
   "source": [
    "for i in range(1, n_comp_pca + 1):\n",
    "    \n",
    "    train['PCA_' + str(i)] = pca2_results_train[:, i - 1]\n",
    "    test['PCA_' + str(i)] = pca2_results_test[:, i - 1]"
   ]
  },
  {
   "cell_type": "code",
   "execution_count": 15,
   "metadata": {},
   "outputs": [
    {
     "name": "stdout",
     "output_type": "stream",
     "text": [
      "(4209, 454) (4209, 453)\n"
     ]
    }
   ],
   "source": [
    "print(train.shape, test.shape)"
   ]
  },
  {
   "cell_type": "markdown",
   "metadata": {},
   "source": [
    "## xgboost"
   ]
  },
  {
   "cell_type": "code",
   "execution_count": 16,
   "metadata": {
    "collapsed": true
   },
   "outputs": [],
   "source": [
    "# r_2 for xgboost\n",
    "def r_2(preds, dtrain):\n",
    "    labels = dtrain.get_label()\n",
    "    return 'score', r2_score(labels, preds)"
   ]
  },
  {
   "cell_type": "code",
   "execution_count": null,
   "metadata": {
    "collapsed": true
   },
   "outputs": [],
   "source": [
    "# y_train_all\n",
    "y_train_all = train.y.values"
   ]
  },
  {
   "cell_type": "code",
   "execution_count": null,
   "metadata": {
    "collapsed": true
   },
   "outputs": [],
   "source": [
    "k = 8\n",
    "# bin\n",
    "bin_y = pd.qcut(y_train_all, k, labels = [i for i in range(1, k + 1)]).astype(\"int64\")\n",
    "# stratified kfold\n",
    "skf = StratifiedKFold(n_splits = k, shuffle = True, random_state = 888)\n",
    "\n",
    "score_skf_valid = 0\n",
    "score_skf = []\n",
    "preds_skf_test = []\n",
    "dt_preds_test = []\n",
    "for i, (ind_train, ind_valid) in enumerate(skf.split(train, bin_y)):\n",
    "    # X, y\n",
    "    X_train, X_valid = train.iloc[ind_train], train.iloc[ind_valid]\n",
    "    \n",
    "    # featEng: TargetMean, Outlier\n",
    "    ## train, valid\n",
    "#     X_train_transform, X_valid_transform = getTargetMean(X_train, X_valid, cols_cat, 1) # targetMean\n",
    "#     X_train_transform, X_valid_transform = getOutlierMarker(X_train_transform, X_valid_transform, 600) # outlierMaker\n",
    "#     y_train_transform, y_valid_transform = X_train_transform.y.values, X_valid_transform.y.values\n",
    "#     X_train_transform, X_valid_transform = X_train_transform.drop([\"y\"] + cols_cat, axis = 1), X_valid_transform.drop([\"y\"] + cols_cat, axis = 1)\n",
    "    y_train_transform, y_valid_transform = X_train.y.values, X_valid.y.values\n",
    "    X_train_transform, X_valid_transform = X_train.drop([\"y\"] + cols_cat, axis = 1), X_valid.drop([\"y\"] + cols_cat, axis = 1)\n",
    "    \n",
    "    ## test\n",
    "#     _, X_test_transform = getTargetMean(X_train, test, cols_cat, 1) # targetMean\n",
    "#     _, X_test_transform = getOutlierMarker(X_train, X_test_transform, 600) # outlierMaker\n",
    "#     X_test_transform = X_test_transform.drop(cols_cat, axis = 1)\n",
    "    X_test_transform = test.drop(cols_cat, axis = 1)\n",
    "    \n",
    "    # xgb.DMatrix\n",
    "    dmx_train = xgb.DMatrix(X_train_transform, label = y_train_transform)\n",
    "    dmx_valid = xgb.DMatrix(X_valid_transform, label = y_valid_transform)\n",
    "    dmx_test = xgb.DMatrix(X_test_transform)\n",
    "    ls_watch =  [(dmx_train, 'train'), (dmx_valid, 'eval')]\n",
    "    \n",
    "    # params\n",
    "    params_xgb = {\n",
    "        \"objective\": \"reg:linear\"\n",
    "        , \"booster\": \"gbtree\"\n",
    "        , \"learning_rate\": 0.005\n",
    "        , \"subsample\": .9\n",
    "        , \"colsample\": .8\n",
    "        , \"max_depth\": 2\n",
    "        , \"alpha\": 1\n",
    "        , \"lambda\": 2\n",
    "        , \"gamma\": 20\n",
    "        , \"base_score\": np.mean(y_train_transform)\n",
    "    }\n",
    "    \n",
    "    # model\n",
    "    model_xgb = xgb.train(params_xgb, dmx_train, evals = ls_watch\n",
    "                          , num_boost_round = 5000\n",
    "                          , feval = r_2, maximize = True, early_stopping_rounds = 50\n",
    "                          , verbose_eval = False\n",
    "                         )\n",
    "    \n",
    "    # predict\n",
    "    preds_valid = model_xgb.predict(dmx_valid)\n",
    "    preds_test = model_xgb.predict(dmx_test)\n",
    "    preds_skf_test.append(preds_test)\n",
    "    dt_preds_test.append(pd.DataFrame({\"ID\": X_test_transform.ID\n",
    "                                      , \"preds_y_\" + str(i): preds_test}))\n",
    "    # score\n",
    "    score_skf_valid = r2_score(y_valid_transform, preds_valid)\n",
    "    print('Fold %d: Score %f'%(i, score_skf_valid))\n",
    "    score_skf.append(score_skf_valid)\n",
    "\n",
    "# predict test\n",
    "preds_test = np.sum(np.transpose(np.multiply(np.transpose(np.array(preds_skf_test)), np.array(score_skf))), axis = 0) / np.sum(score_skf)\n",
    "# final score\n",
    "score_mean = np.mean(score_skf)\n",
    "score_sd = np.std(score_skf)\n",
    "print('=====================')\n",
    "\n",
    "print('Final Score %f'%score_mean, '; sd %f'%score_sd)\n",
    "\n",
    "print('=====================')"
   ]
  },
  {
   "cell_type": "code",
   "execution_count": null,
   "metadata": {
    "collapsed": true
   },
   "outputs": [],
   "source": [
    "# importance\n",
    "fig, ax = plt.subplots(figsize = (12,18))\n",
    "xgb.plot_importance(model_xgb, max_num_features = 50, height = 0.8, ax = ax)\n",
    "plt.show()"
   ]
  },
  {
   "cell_type": "code",
   "execution_count": null,
   "metadata": {
    "collapsed": true
   },
   "outputs": [],
   "source": [
    "preds_test"
   ]
  },
  {
   "cell_type": "code",
   "execution_count": null,
   "metadata": {
    "collapsed": true
   },
   "outputs": [],
   "source": [
    "dt_preds_test[3].head()"
   ]
  },
  {
   "cell_type": "code",
   "execution_count": null,
   "metadata": {
    "collapsed": true
   },
   "outputs": [],
   "source": [
    "# submit\n",
    "dt_submit = pd.DataFrame({\"ID\": dt_preds_test[0].ID\n",
    "            , \"y\": preds_test})"
   ]
  },
  {
   "cell_type": "code",
   "execution_count": null,
   "metadata": {
    "collapsed": true
   },
   "outputs": [],
   "source": [
    "dt_submit.to_csv(\"../../data/Mercedes_Benz_Greener_Manufacturing/submission/35_returnToPython_skf8_weightedPrediction_base_features_withTargetMeanFullOutsideSkf_12DR.csv\", index = False)"
   ]
  },
  {
   "cell_type": "code",
   "execution_count": 1,
   "metadata": {
    "collapsed": true
   },
   "outputs": [],
   "source": [
    "# scores for xgboost on the DR components\n",
    "xgb_dr_scores = [('pca', 0.67711803427267436), ('ica', 0.67586920454698141), ('tsvd', 0.6773481959197214), ('grp', 0.66224169180347559), ('srp', 0.66096135085216134), ('nmf', 0.67108736044682338), ('fag', 0.65904803827641634), ('pca,ica', 0.68245377669904106), ('pca,tsvd', 0.68279088835428392), ('pca,grp', 0.6787867994366088), ('pca,srp', 0.67792025638275744), ('pca,nmf', 0.67824271112992407), ('pca,fag', 0.67760115601615789), ('ica,tsvd', 0.6835942695318834), ('ica,grp', 0.67714387407053067), ('ica,srp', 0.67588373704965066), ('ica,nmf', 0.67972571931753245), ('ica,fag', 0.67610154710950088), ('tsvd,grp', 0.67832326077226301), ('tsvd,srp', 0.67772724917614169), ('tsvd,nmf', 0.68019973796858046), ('tsvd,fag', 0.67644006589507888), ('grp,srp', 0.6639663861228402), ('grp,nmf', 0.67298350211656932), ('grp,fag', 0.66285185530531221), ('srp,nmf', 0.67115462237246204), ('srp,fag', 0.66067639917962073), ('nmf,fag', 0.67045554585744727), ('pca,ica,tsvd', 0.68654114499013574), ('pca,ica,grp', 0.6845591569950219), ('pca,ica,srp', 0.68341568938247299), ('pca,ica,nmf', 0.68297606561083835), ('pca,ica,fag', 0.68308499474673812), ('pca,tsvd,grp', 0.68378339313413505), ('pca,tsvd,srp', 0.68356776992801049), ('pca,tsvd,nmf', 0.68352377920860341), ('pca,tsvd,fag', 0.68279271098255034), ('pca,grp,srp', 0.67966645954138882), ('pca,grp,nmf', 0.67943469252666477), ('pca,grp,fag', 0.67866040661124249), ('pca,srp,nmf', 0.67956276141791694), ('pca,srp,fag', 0.67791893370687739), ('pca,nmf,fag', 0.67810864643697355), ('ica,tsvd,grp', 0.6836705557289231), ('ica,tsvd,srp', 0.68444852137165446), ('ica,tsvd,nmf', 0.68499119061570446), ('ica,tsvd,fag', 0.68291988532496473), ('ica,grp,srp', 0.67826068686261565), ('ica,grp,nmf', 0.6803462107453162), ('ica,grp,fag', 0.67798837067985895), ('ica,srp,nmf', 0.67967578214024238), ('ica,srp,fag', 0.67733790019653739), ('ica,nmf,fag', 0.67949754170543986), ('tsvd,grp,srp', 0.67923008622903458), ('tsvd,grp,nmf', 0.68049437195624363), ('tsvd,grp,fag', 0.67884475754668472), ('tsvd,srp,nmf', 0.68040112239110107), ('tsvd,srp,fag', 0.67760402916832718), ('tsvd,nmf,fag', 0.67878244082676908), ('grp,srp,nmf', 0.67330304619738812), ('grp,srp,fag', 0.66499311514336668), ('grp,nmf,fag', 0.67272305180560688), ('srp,nmf,fag', 0.67060795522667327), ('pca,ica,tsvd,grp', 0.6879912555299923), ('pca,ica,tsvd,srp', 0.68824790746797515), ('pca,ica,tsvd,nmf', 0.6874142163999073), ('pca,ica,tsvd,fag', 0.6874916336682666), ('pca,ica,grp,srp', 0.68495477428381735), ('pca,ica,grp,nmf', 0.68444395334924479), ('pca,ica,grp,fag', 0.68445968450240868), ('pca,ica,srp,nmf', 0.68359817404064549), ('pca,ica,srp,fag', 0.68427438373791882), ('pca,ica,nmf,fag', 0.68372534635518956), ('pca,tsvd,grp,srp', 0.68522627464232233), ('pca,tsvd,grp,nmf', 0.68482997343399277), ('pca,tsvd,grp,fag', 0.68402325359793226), ('pca,tsvd,srp,nmf', 0.68451110170905172), ('pca,tsvd,srp,fag', 0.68376345836481944), ('pca,tsvd,nmf,fag', 0.68398845947727116), ('pca,grp,srp,nmf', 0.68057096050452826), ('pca,grp,srp,fag', 0.67936781899772836), ('pca,grp,nmf,fag', 0.67993008733246818), ('pca,srp,nmf,fag', 0.67880641218391258), ('ica,tsvd,grp,srp', 0.68585503201750986), ('ica,tsvd,grp,nmf', 0.68589078222575661), ('ica,tsvd,grp,fag', 0.68442858274152085), ('ica,tsvd,srp,nmf', 0.68625869472926981), ('ica,tsvd,srp,fag', 0.68459204233889182), ('ica,tsvd,nmf,fag', 0.68543928703685419), ('ica,grp,srp,nmf', 0.68184531802094139), ('ica,grp,srp,fag', 0.67948113256494302), ('ica,grp,nmf,fag', 0.68125384869666428), ('ica,srp,nmf,fag', 0.68044986028224808), ('tsvd,grp,srp,nmf', 0.68173625535126525), ('tsvd,grp,srp,fag', 0.67963365320087199), ('tsvd,grp,nmf,fag', 0.68106208115398559), ('tsvd,srp,nmf,fag', 0.68015617202501455), ('grp,srp,nmf,fag', 0.67436036079206474), ('pca,ica,tsvd,grp,srp', 0.68874171502676662), ('pca,ica,tsvd,grp,nmf', 0.68836418911595743), ('pca,ica,tsvd,grp,fag', 0.68823671222257321), ('pca,ica,tsvd,srp,nmf', 0.68718360137081413), ('pca,ica,tsvd,srp,fag', 0.68784143657029118), ('pca,ica,tsvd,nmf,fag', 0.68702839094409329), ('pca,ica,grp,srp,nmf', 0.68542880395930061), ('pca,ica,grp,srp,fag', 0.68580831435591105), ('pca,ica,grp,nmf,fag', 0.68520397140448863), ('pca,ica,srp,nmf,fag', 0.6838153499053613), ('pca,tsvd,grp,srp,nmf', 0.68475418776952801), ('pca,tsvd,grp,srp,fag', 0.68416888261697117), ('pca,tsvd,grp,nmf,fag', 0.68439534926539514), ('pca,tsvd,srp,nmf,fag', 0.68369054844962107), ('pca,grp,srp,nmf,fag', 0.68109487520163592), ('ica,tsvd,grp,srp,nmf', 0.68703175972715047), ('ica,tsvd,grp,srp,fag', 0.68605627429688421), ('ica,tsvd,grp,nmf,fag', 0.68625025013109198), ('ica,tsvd,srp,nmf,fag', 0.68508823305152089), ('ica,grp,srp,nmf,fag', 0.6818608839534277), ('tsvd,grp,srp,nmf,fag', 0.68121711681246844), ('pca,ica,tsvd,grp,srp,nmf', 0.68899654938766397), ('pca,ica,tsvd,grp,srp,fag', 0.68892201689977894), ('pca,ica,tsvd,grp,nmf,fag', 0.68839400442292953), ('pca,ica,tsvd,srp,nmf,fag', 0.68827193462597602), ('pca,ica,grp,srp,nmf,fag', 0.6851006771786381), ('pca,tsvd,grp,srp,nmf,fag', 0.68488975768813187), ('ica,tsvd,grp,srp,nmf,fag', 0.68648750730778907), ('pca,ica,tsvd,grp,srp,nmf,fag', 0.68823319136312078)]"
   ]
  },
  {
   "cell_type": "code",
   "execution_count": 5,
   "metadata": {},
   "outputs": [
    {
     "data": {
      "text/plain": [
       "('pca,ica,tsvd,grp,srp,nmf', 0.688996549387664)"
      ]
     },
     "execution_count": 5,
     "metadata": {},
     "output_type": "execute_result"
    }
   ],
   "source": [
    "max(xgb_dr_scores, key = lambda item:item[1])"
   ]
  }
 ],
 "metadata": {
  "kernelspec": {
   "display_name": "Python 3",
   "language": "python",
   "name": "python3"
  },
  "language_info": {
   "codemirror_mode": {
    "name": "ipython",
    "version": 3
   },
   "file_extension": ".py",
   "mimetype": "text/x-python",
   "name": "python",
   "nbconvert_exporter": "python",
   "pygments_lexer": "ipython3",
   "version": "3.5.2"
  }
 },
 "nbformat": 4,
 "nbformat_minor": 2
}
