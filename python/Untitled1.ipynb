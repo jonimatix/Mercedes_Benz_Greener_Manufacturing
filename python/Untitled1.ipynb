{
 "cells": [
  {
   "cell_type": "code",
   "execution_count": 1,
   "metadata": {
    "collapsed": true
   },
   "outputs": [],
   "source": [
    "import numpy as np # linear algebra\n",
    "import pandas as pd # data processing, CSV file I/O (e.g. pd.read_csv)\n",
    "from sklearn.preprocessing import LabelEncoder, MinMaxScaler\n",
    "from sklearn.random_projection import GaussianRandomProjection\n",
    "from sklearn.random_projection import SparseRandomProjection\n",
    "##Add decomposed components: PCA / ICA etc.\n",
    "from sklearn.decomposition import PCA, FastICA, FactorAnalysis\n",
    "from sklearn.decomposition import TruncatedSVD\n",
    "import xgboost as xgb\n",
    "from sklearn.metrics import r2_score, make_scorer\n",
    "from sklearn.model_selection import StratifiedKFold, KFold\n",
    "import matplotlib.pyplot as plt\n",
    "from sklearn.model_selection import GridSearchCV, RandomizedSearchCV"
   ]
  },
  {
   "cell_type": "markdown",
   "metadata": {},
   "source": [
    "## 1. Load"
   ]
  },
  {
   "cell_type": "code",
   "execution_count": 2,
   "metadata": {
    "collapsed": true
   },
   "outputs": [],
   "source": [
    "# load data\n",
    "train = pd.read_csv(\"../../data/Mercedes_Benz_Greener_Manufacturing/raw/train.csv\")\n",
    "test = pd.read_csv(\"../../data/Mercedes_Benz_Greener_Manufacturing/raw/test.csv\")"
   ]
  },
  {
   "cell_type": "code",
   "execution_count": 3,
   "metadata": {},
   "outputs": [
    {
     "name": "stdout",
     "output_type": "stream",
     "text": [
      "(4209, 378) (4209, 377)\n"
     ]
    }
   ],
   "source": [
    "print(train.shape, test.shape)"
   ]
  },
  {
   "cell_type": "markdown",
   "metadata": {},
   "source": [
    "## 2. TargetMean"
   ]
  },
  {
   "cell_type": "code",
   "execution_count": 4,
   "metadata": {},
   "outputs": [],
   "source": [
    "cols_cat = train.select_dtypes(include = ['object']).columns.values"
   ]
  },
  {
   "cell_type": "code",
   "execution_count": 5,
   "metadata": {
    "collapsed": true
   },
   "outputs": [],
   "source": [
    "for c in cols_cat:\n",
    "    x = train.groupby([c])[\"y\"].mean()\n",
    "    dt_targetMean_c = pd.DataFrame({c: x.index\n",
    "                                   , \"TargetMean_\" + c: x.values})\n",
    "    train = pd.merge(dt_targetMean_c, train, on = c)\n",
    "#     test = pd.merge(dt_targetMean_c, test, on = c)\n",
    "    test = pd.merge(dt_targetMean_c, test, on = c, how = \"right\")\n",
    "    test = test.fillna(np.mean(train.y))"
   ]
  },
  {
   "cell_type": "code",
   "execution_count": 6,
   "metadata": {},
   "outputs": [
    {
     "data": {
      "text/html": [
       "<div>\n",
       "<style>\n",
       "    .dataframe thead tr:only-child th {\n",
       "        text-align: right;\n",
       "    }\n",
       "\n",
       "    .dataframe thead th {\n",
       "        text-align: left;\n",
       "    }\n",
       "\n",
       "    .dataframe tbody tr th {\n",
       "        vertical-align: top;\n",
       "    }\n",
       "</style>\n",
       "<table border=\"1\" class=\"dataframe\">\n",
       "  <thead>\n",
       "    <tr style=\"text-align: right;\">\n",
       "      <th></th>\n",
       "      <th>TargetMean_X8</th>\n",
       "      <th>X8</th>\n",
       "      <th>TargetMean_X6</th>\n",
       "      <th>X6</th>\n",
       "      <th>TargetMean_X5</th>\n",
       "      <th>X5</th>\n",
       "      <th>TargetMean_X4</th>\n",
       "      <th>X4</th>\n",
       "      <th>TargetMean_X3</th>\n",
       "      <th>X3</th>\n",
       "      <th>TargetMean_X2</th>\n",
       "      <th>X2</th>\n",
       "      <th>TargetMean_X1</th>\n",
       "      <th>X1</th>\n",
       "      <th>TargetMean_X0</th>\n",
       "      <th>X0</th>\n",
       "      <th>ID</th>\n",
       "      <th>y</th>\n",
       "      <th>X10</th>\n",
       "      <th>X11</th>\n",
       "    </tr>\n",
       "  </thead>\n",
       "  <tbody>\n",
       "    <tr>\n",
       "      <th>0</th>\n",
       "      <td>100.259</td>\n",
       "      <td>a</td>\n",
       "      <td>97.802524</td>\n",
       "      <td>a</td>\n",
       "      <td>98.672500</td>\n",
       "      <td>aa</td>\n",
       "      <td>100.658293</td>\n",
       "      <td>d</td>\n",
       "      <td>101.959269</td>\n",
       "      <td>c</td>\n",
       "      <td>97.463569</td>\n",
       "      <td>ae</td>\n",
       "      <td>99.837365</td>\n",
       "      <td>b</td>\n",
       "      <td>93.724575</td>\n",
       "      <td>t</td>\n",
       "      <td>8210</td>\n",
       "      <td>90.13</td>\n",
       "      <td>0</td>\n",
       "      <td>0</td>\n",
       "    </tr>\n",
       "    <tr>\n",
       "      <th>1</th>\n",
       "      <td>100.259</td>\n",
       "      <td>a</td>\n",
       "      <td>97.802524</td>\n",
       "      <td>a</td>\n",
       "      <td>102.503655</td>\n",
       "      <td>ab</td>\n",
       "      <td>100.658293</td>\n",
       "      <td>d</td>\n",
       "      <td>101.959269</td>\n",
       "      <td>c</td>\n",
       "      <td>96.815967</td>\n",
       "      <td>m</td>\n",
       "      <td>99.837365</td>\n",
       "      <td>b</td>\n",
       "      <td>93.724575</td>\n",
       "      <td>t</td>\n",
       "      <td>2368</td>\n",
       "      <td>88.29</td>\n",
       "      <td>0</td>\n",
       "      <td>0</td>\n",
       "    </tr>\n",
       "    <tr>\n",
       "      <th>2</th>\n",
       "      <td>100.259</td>\n",
       "      <td>a</td>\n",
       "      <td>97.802524</td>\n",
       "      <td>a</td>\n",
       "      <td>99.901800</td>\n",
       "      <td>ac</td>\n",
       "      <td>100.658293</td>\n",
       "      <td>d</td>\n",
       "      <td>101.959269</td>\n",
       "      <td>c</td>\n",
       "      <td>99.959925</td>\n",
       "      <td>ak</td>\n",
       "      <td>93.723226</td>\n",
       "      <td>t</td>\n",
       "      <td>103.815000</td>\n",
       "      <td>aw</td>\n",
       "      <td>2722</td>\n",
       "      <td>98.57</td>\n",
       "      <td>0</td>\n",
       "      <td>0</td>\n",
       "    </tr>\n",
       "    <tr>\n",
       "      <th>3</th>\n",
       "      <td>100.259</td>\n",
       "      <td>a</td>\n",
       "      <td>97.802524</td>\n",
       "      <td>a</td>\n",
       "      <td>99.901800</td>\n",
       "      <td>ac</td>\n",
       "      <td>100.658293</td>\n",
       "      <td>d</td>\n",
       "      <td>96.564507</td>\n",
       "      <td>f</td>\n",
       "      <td>99.959925</td>\n",
       "      <td>ak</td>\n",
       "      <td>100.725237</td>\n",
       "      <td>l</td>\n",
       "      <td>94.618699</td>\n",
       "      <td>o</td>\n",
       "      <td>2651</td>\n",
       "      <td>88.57</td>\n",
       "      <td>0</td>\n",
       "      <td>0</td>\n",
       "    </tr>\n",
       "    <tr>\n",
       "      <th>4</th>\n",
       "      <td>100.259</td>\n",
       "      <td>a</td>\n",
       "      <td>97.802524</td>\n",
       "      <td>a</td>\n",
       "      <td>100.878341</td>\n",
       "      <td>ae</td>\n",
       "      <td>100.658293</td>\n",
       "      <td>d</td>\n",
       "      <td>105.114414</td>\n",
       "      <td>d</td>\n",
       "      <td>103.732453</td>\n",
       "      <td>as</td>\n",
       "      <td>101.868462</td>\n",
       "      <td>s</td>\n",
       "      <td>94.618699</td>\n",
       "      <td>o</td>\n",
       "      <td>3702</td>\n",
       "      <td>85.83</td>\n",
       "      <td>0</td>\n",
       "      <td>0</td>\n",
       "    </tr>\n",
       "  </tbody>\n",
       "</table>\n",
       "</div>"
      ],
      "text/plain": [
       "   TargetMean_X8 X8  TargetMean_X6 X6  TargetMean_X5  X5  TargetMean_X4 X4  \\\n",
       "0        100.259  a      97.802524  a      98.672500  aa     100.658293  d   \n",
       "1        100.259  a      97.802524  a     102.503655  ab     100.658293  d   \n",
       "2        100.259  a      97.802524  a      99.901800  ac     100.658293  d   \n",
       "3        100.259  a      97.802524  a      99.901800  ac     100.658293  d   \n",
       "4        100.259  a      97.802524  a     100.878341  ae     100.658293  d   \n",
       "\n",
       "   TargetMean_X3 X3  TargetMean_X2  X2  TargetMean_X1 X1  TargetMean_X0  X0  \\\n",
       "0     101.959269  c      97.463569  ae      99.837365  b      93.724575   t   \n",
       "1     101.959269  c      96.815967   m      99.837365  b      93.724575   t   \n",
       "2     101.959269  c      99.959925  ak      93.723226  t     103.815000  aw   \n",
       "3      96.564507  f      99.959925  ak     100.725237  l      94.618699   o   \n",
       "4     105.114414  d     103.732453  as     101.868462  s      94.618699   o   \n",
       "\n",
       "     ID      y  X10  X11  \n",
       "0  8210  90.13    0    0  \n",
       "1  2368  88.29    0    0  \n",
       "2  2722  98.57    0    0  \n",
       "3  2651  88.57    0    0  \n",
       "4  3702  85.83    0    0  "
      ]
     },
     "execution_count": 6,
     "metadata": {},
     "output_type": "execute_result"
    }
   ],
   "source": [
    "train.iloc[:5, :20]"
   ]
  },
  {
   "cell_type": "code",
   "execution_count": 7,
   "metadata": {},
   "outputs": [
    {
     "data": {
      "text/html": [
       "<div>\n",
       "<style>\n",
       "    .dataframe thead tr:only-child th {\n",
       "        text-align: right;\n",
       "    }\n",
       "\n",
       "    .dataframe thead th {\n",
       "        text-align: left;\n",
       "    }\n",
       "\n",
       "    .dataframe tbody tr th {\n",
       "        vertical-align: top;\n",
       "    }\n",
       "</style>\n",
       "<table border=\"1\" class=\"dataframe\">\n",
       "  <thead>\n",
       "    <tr style=\"text-align: right;\">\n",
       "      <th></th>\n",
       "      <th>TargetMean_X8</th>\n",
       "      <th>X8</th>\n",
       "      <th>TargetMean_X6</th>\n",
       "      <th>X6</th>\n",
       "      <th>TargetMean_X5</th>\n",
       "      <th>X5</th>\n",
       "      <th>TargetMean_X4</th>\n",
       "      <th>X4</th>\n",
       "      <th>TargetMean_X3</th>\n",
       "      <th>X3</th>\n",
       "    </tr>\n",
       "  </thead>\n",
       "  <tbody>\n",
       "    <tr>\n",
       "      <th>0</th>\n",
       "      <td>100.259</td>\n",
       "      <td>a</td>\n",
       "      <td>97.802524</td>\n",
       "      <td>a</td>\n",
       "      <td>102.343130</td>\n",
       "      <td>c</td>\n",
       "      <td>100.658293</td>\n",
       "      <td>d</td>\n",
       "      <td>101.959269</td>\n",
       "      <td>c</td>\n",
       "    </tr>\n",
       "    <tr>\n",
       "      <th>1</th>\n",
       "      <td>100.259</td>\n",
       "      <td>a</td>\n",
       "      <td>97.802524</td>\n",
       "      <td>a</td>\n",
       "      <td>100.082373</td>\n",
       "      <td>k</td>\n",
       "      <td>100.658293</td>\n",
       "      <td>d</td>\n",
       "      <td>102.507477</td>\n",
       "      <td>a</td>\n",
       "    </tr>\n",
       "    <tr>\n",
       "      <th>2</th>\n",
       "      <td>100.259</td>\n",
       "      <td>a</td>\n",
       "      <td>97.802524</td>\n",
       "      <td>a</td>\n",
       "      <td>101.768317</td>\n",
       "      <td>m</td>\n",
       "      <td>100.658293</td>\n",
       "      <td>d</td>\n",
       "      <td>101.959269</td>\n",
       "      <td>c</td>\n",
       "    </tr>\n",
       "    <tr>\n",
       "      <th>3</th>\n",
       "      <td>100.259</td>\n",
       "      <td>a</td>\n",
       "      <td>97.802524</td>\n",
       "      <td>a</td>\n",
       "      <td>100.285888</td>\n",
       "      <td>s</td>\n",
       "      <td>100.658293</td>\n",
       "      <td>d</td>\n",
       "      <td>100.428672</td>\n",
       "      <td>g</td>\n",
       "    </tr>\n",
       "    <tr>\n",
       "      <th>4</th>\n",
       "      <td>100.259</td>\n",
       "      <td>a</td>\n",
       "      <td>103.728421</td>\n",
       "      <td>c</td>\n",
       "      <td>99.782987</td>\n",
       "      <td>v</td>\n",
       "      <td>100.658293</td>\n",
       "      <td>d</td>\n",
       "      <td>102.507477</td>\n",
       "      <td>a</td>\n",
       "    </tr>\n",
       "  </tbody>\n",
       "</table>\n",
       "</div>"
      ],
      "text/plain": [
       "   TargetMean_X8 X8  TargetMean_X6 X6  TargetMean_X5 X5  TargetMean_X4 X4  \\\n",
       "0        100.259  a      97.802524  a     102.343130  c     100.658293  d   \n",
       "1        100.259  a      97.802524  a     100.082373  k     100.658293  d   \n",
       "2        100.259  a      97.802524  a     101.768317  m     100.658293  d   \n",
       "3        100.259  a      97.802524  a     100.285888  s     100.658293  d   \n",
       "4        100.259  a     103.728421  c      99.782987  v     100.658293  d   \n",
       "\n",
       "   TargetMean_X3 X3  \n",
       "0     101.959269  c  \n",
       "1     102.507477  a  \n",
       "2     101.959269  c  \n",
       "3     100.428672  g  \n",
       "4     102.507477  a  "
      ]
     },
     "execution_count": 7,
     "metadata": {},
     "output_type": "execute_result"
    }
   ],
   "source": [
    "test.iloc[:5, :10]"
   ]
  },
  {
   "cell_type": "code",
   "execution_count": 8,
   "metadata": {
    "collapsed": true
   },
   "outputs": [],
   "source": [
    "col_targetMean = train.filter(regex = \"TargetMean_\").columns.values"
   ]
  },
  {
   "cell_type": "markdown",
   "metadata": {},
   "source": [
    "## 3. Encode"
   ]
  },
  {
   "cell_type": "markdown",
   "metadata": {},
   "source": [
    "### 3.1 Ordered Label"
   ]
  },
  {
   "cell_type": "code",
   "execution_count": 9,
   "metadata": {
    "collapsed": true
   },
   "outputs": [],
   "source": [
    "dt_cat_train_y = train[cols_cat].join(train.y)\n",
    "dt_cat_test = train[cols_cat].join(train.y)"
   ]
  },
  {
   "cell_type": "code",
   "execution_count": 10,
   "metadata": {
    "collapsed": true
   },
   "outputs": [],
   "source": [
    "for c in cols_cat:\n",
    "    x = list(set(list(train[c].values) + list(test[c].values))) \n",
    "    x.sort()\n",
    "    x.sort(key = len)\n",
    "    dt_labelEncode_c = pd.DataFrame({\"Encode_Label_\" + c: [i for i in range(1, (len(x) + 1))]\n",
    "                                     , c: x})\n",
    "\n",
    "    train = pd.merge(train, dt_labelEncode_c, on = c)\n",
    "    test = pd.merge(test, dt_labelEncode_c, on = c)"
   ]
  },
  {
   "cell_type": "code",
   "execution_count": 11,
   "metadata": {},
   "outputs": [
    {
     "data": {
      "text/html": [
       "<div>\n",
       "<style>\n",
       "    .dataframe thead tr:only-child th {\n",
       "        text-align: right;\n",
       "    }\n",
       "\n",
       "    .dataframe thead th {\n",
       "        text-align: left;\n",
       "    }\n",
       "\n",
       "    .dataframe tbody tr th {\n",
       "        vertical-align: top;\n",
       "    }\n",
       "</style>\n",
       "<table border=\"1\" class=\"dataframe\">\n",
       "  <thead>\n",
       "    <tr style=\"text-align: right;\">\n",
       "      <th></th>\n",
       "      <th>TargetMean_X8</th>\n",
       "      <th>X8</th>\n",
       "      <th>TargetMean_X6</th>\n",
       "      <th>X6</th>\n",
       "      <th>TargetMean_X5</th>\n",
       "      <th>X5</th>\n",
       "      <th>TargetMean_X4</th>\n",
       "      <th>X4</th>\n",
       "      <th>TargetMean_X3</th>\n",
       "      <th>X3</th>\n",
       "      <th>TargetMean_X2</th>\n",
       "      <th>X2</th>\n",
       "      <th>TargetMean_X1</th>\n",
       "      <th>X1</th>\n",
       "      <th>TargetMean_X0</th>\n",
       "      <th>X0</th>\n",
       "      <th>ID</th>\n",
       "      <th>y</th>\n",
       "      <th>X10</th>\n",
       "      <th>X11</th>\n",
       "    </tr>\n",
       "  </thead>\n",
       "  <tbody>\n",
       "    <tr>\n",
       "      <th>0</th>\n",
       "      <td>100.259</td>\n",
       "      <td>a</td>\n",
       "      <td>97.802524</td>\n",
       "      <td>a</td>\n",
       "      <td>98.672500</td>\n",
       "      <td>aa</td>\n",
       "      <td>100.658293</td>\n",
       "      <td>d</td>\n",
       "      <td>101.959269</td>\n",
       "      <td>c</td>\n",
       "      <td>97.463569</td>\n",
       "      <td>ae</td>\n",
       "      <td>99.837365</td>\n",
       "      <td>b</td>\n",
       "      <td>93.724575</td>\n",
       "      <td>t</td>\n",
       "      <td>8210</td>\n",
       "      <td>90.13</td>\n",
       "      <td>0</td>\n",
       "      <td>0</td>\n",
       "    </tr>\n",
       "    <tr>\n",
       "      <th>1</th>\n",
       "      <td>100.259</td>\n",
       "      <td>a</td>\n",
       "      <td>97.802524</td>\n",
       "      <td>a</td>\n",
       "      <td>99.901800</td>\n",
       "      <td>ac</td>\n",
       "      <td>100.658293</td>\n",
       "      <td>d</td>\n",
       "      <td>101.959269</td>\n",
       "      <td>c</td>\n",
       "      <td>99.959925</td>\n",
       "      <td>ak</td>\n",
       "      <td>93.723226</td>\n",
       "      <td>t</td>\n",
       "      <td>103.815000</td>\n",
       "      <td>aw</td>\n",
       "      <td>2722</td>\n",
       "      <td>98.57</td>\n",
       "      <td>0</td>\n",
       "      <td>0</td>\n",
       "    </tr>\n",
       "    <tr>\n",
       "      <th>2</th>\n",
       "      <td>100.259</td>\n",
       "      <td>a</td>\n",
       "      <td>97.802524</td>\n",
       "      <td>a</td>\n",
       "      <td>99.901800</td>\n",
       "      <td>ac</td>\n",
       "      <td>100.658293</td>\n",
       "      <td>d</td>\n",
       "      <td>96.564507</td>\n",
       "      <td>f</td>\n",
       "      <td>99.959925</td>\n",
       "      <td>ak</td>\n",
       "      <td>100.725237</td>\n",
       "      <td>l</td>\n",
       "      <td>94.618699</td>\n",
       "      <td>o</td>\n",
       "      <td>2651</td>\n",
       "      <td>88.57</td>\n",
       "      <td>0</td>\n",
       "      <td>0</td>\n",
       "    </tr>\n",
       "    <tr>\n",
       "      <th>3</th>\n",
       "      <td>100.259</td>\n",
       "      <td>a</td>\n",
       "      <td>97.802524</td>\n",
       "      <td>a</td>\n",
       "      <td>100.878341</td>\n",
       "      <td>ae</td>\n",
       "      <td>100.658293</td>\n",
       "      <td>d</td>\n",
       "      <td>105.114414</td>\n",
       "      <td>d</td>\n",
       "      <td>103.732453</td>\n",
       "      <td>as</td>\n",
       "      <td>101.868462</td>\n",
       "      <td>s</td>\n",
       "      <td>94.618699</td>\n",
       "      <td>o</td>\n",
       "      <td>3702</td>\n",
       "      <td>85.83</td>\n",
       "      <td>0</td>\n",
       "      <td>0</td>\n",
       "    </tr>\n",
       "    <tr>\n",
       "      <th>4</th>\n",
       "      <td>100.259</td>\n",
       "      <td>a</td>\n",
       "      <td>97.802524</td>\n",
       "      <td>a</td>\n",
       "      <td>102.920147</td>\n",
       "      <td>ag</td>\n",
       "      <td>100.658293</td>\n",
       "      <td>d</td>\n",
       "      <td>101.959269</td>\n",
       "      <td>c</td>\n",
       "      <td>93.803678</td>\n",
       "      <td>f</td>\n",
       "      <td>104.522609</td>\n",
       "      <td>f</td>\n",
       "      <td>95.810588</td>\n",
       "      <td>ai</td>\n",
       "      <td>1919</td>\n",
       "      <td>90.35</td>\n",
       "      <td>0</td>\n",
       "      <td>0</td>\n",
       "    </tr>\n",
       "  </tbody>\n",
       "</table>\n",
       "</div>"
      ],
      "text/plain": [
       "   TargetMean_X8 X8  TargetMean_X6 X6  TargetMean_X5  X5  TargetMean_X4 X4  \\\n",
       "0        100.259  a      97.802524  a      98.672500  aa     100.658293  d   \n",
       "1        100.259  a      97.802524  a      99.901800  ac     100.658293  d   \n",
       "2        100.259  a      97.802524  a      99.901800  ac     100.658293  d   \n",
       "3        100.259  a      97.802524  a     100.878341  ae     100.658293  d   \n",
       "4        100.259  a      97.802524  a     102.920147  ag     100.658293  d   \n",
       "\n",
       "   TargetMean_X3 X3  TargetMean_X2  X2  TargetMean_X1 X1  TargetMean_X0  X0  \\\n",
       "0     101.959269  c      97.463569  ae      99.837365  b      93.724575   t   \n",
       "1     101.959269  c      99.959925  ak      93.723226  t     103.815000  aw   \n",
       "2      96.564507  f      99.959925  ak     100.725237  l      94.618699   o   \n",
       "3     105.114414  d     103.732453  as     101.868462  s      94.618699   o   \n",
       "4     101.959269  c      93.803678   f     104.522609  f      95.810588  ai   \n",
       "\n",
       "     ID      y  X10  X11  \n",
       "0  8210  90.13    0    0  \n",
       "1  2722  98.57    0    0  \n",
       "2  2651  88.57    0    0  \n",
       "3  3702  85.83    0    0  \n",
       "4  1919  90.35    0    0  "
      ]
     },
     "execution_count": 11,
     "metadata": {},
     "output_type": "execute_result"
    }
   ],
   "source": [
    "train.iloc[:5, 0:20]"
   ]
  },
  {
   "cell_type": "code",
   "execution_count": 12,
   "metadata": {
    "collapsed": true
   },
   "outputs": [],
   "source": [
    "cols_encodeLabel = train.filter(regex = \"EncodeLabel_\").columns.values"
   ]
  },
  {
   "cell_type": "code",
   "execution_count": 13,
   "metadata": {
    "collapsed": true
   },
   "outputs": [],
   "source": [
    "train = train.drop(cols_cat, axis = 1)\n",
    "test = test.drop(cols_cat, axis = 1)"
   ]
  },
  {
   "cell_type": "code",
   "execution_count": 14,
   "metadata": {},
   "outputs": [
    {
     "name": "stdout",
     "output_type": "stream",
     "text": [
      "(4209, 386) (4209, 385)\n"
     ]
    }
   ],
   "source": [
    "print(train.shape, test.shape)"
   ]
  },
  {
   "cell_type": "markdown",
   "metadata": {},
   "source": [
    "## 3. Decomposition"
   ]
  },
  {
   "cell_type": "code",
   "execution_count": 15,
   "metadata": {},
   "outputs": [],
   "source": [
    "n_comp = 15\n",
    "\n",
    "# tSVD\n",
    "tsvd = TruncatedSVD(n_components=n_comp, random_state=420)\n",
    "tsvd_results_train = tsvd.fit_transform(train.drop([\"y\"], axis=1))\n",
    "tsvd_results_test = tsvd.transform(test)\n",
    "\n",
    "# PCA\n",
    "pca = PCA(n_components=n_comp, random_state=420)\n",
    "pca2_results_train = pca.fit_transform(train.drop([\"y\"], axis=1))\n",
    "pca2_results_test = pca.transform(test)\n",
    "\n",
    "# ICA\n",
    "ica = FastICA(n_components=n_comp, random_state=420)\n",
    "ica2_results_train = ica.fit_transform(train.drop([\"y\"], axis=1))\n",
    "ica2_results_test = ica.transform(test)\n",
    "\n",
    "# GRP\n",
    "grp = GaussianRandomProjection(n_components=n_comp, eps=0.1, random_state=420)\n",
    "grp_results_train = grp.fit_transform(train.drop(cols_encodeLabel.tolist() + [\"y\"], axis=1))\n",
    "grp_results_test = grp.transform(test)\n",
    "\n",
    "# SRP\n",
    "srp = SparseRandomProjection(n_components=n_comp, dense_output=True, random_state=420)\n",
    "srp_results_train = srp.fit_transform(train.drop([\"y\"], axis=1))\n",
    "srp_results_test = srp.transform(test)\n",
    "\n",
    "# FA\n",
    "fa = FactorAnalysis(n_components=n_comp, random_state=420)\n",
    "fa_results_train = fa.fit_transform(train.drop(cols_encodeLabel.tolist() + [\"y\"], axis=1))\n",
    "fa_results_test = fa.transform(test.drop(cols_encodeLabel, axis = 1))"
   ]
  },
  {
   "cell_type": "code",
   "execution_count": 16,
   "metadata": {
    "collapsed": true
   },
   "outputs": [],
   "source": [
    "#save columns list before adding the decomposition components\n",
    "\n",
    "usable_columns = list(set(train.columns) - set(['y']))\n",
    "\n",
    "# Append decomposition components to datasets\n",
    "for i in range(1, n_comp + 1):\n",
    "    train['pca_' + str(i)] = pca2_results_train[:, i - 1]\n",
    "    test['pca_' + str(i)] = pca2_results_test[:, i - 1]\n",
    "\n",
    "    train['ica_' + str(i)] = ica2_results_train[:, i - 1]\n",
    "    test['ica_' + str(i)] = ica2_results_test[:, i - 1]\n",
    "\n",
    "    train['tsvd_' + str(i)] = tsvd_results_train[:, i - 1]\n",
    "    test['tsvd_' + str(i)] = tsvd_results_test[:, i - 1]\n",
    "\n",
    "    train['grp_' + str(i)] = grp_results_train[:, i - 1]\n",
    "    test['grp_' + str(i)] = grp_results_test[:, i - 1]\n",
    "\n",
    "    train['srp_' + str(i)] = srp_results_train[:, i - 1]\n",
    "    test['srp_' + str(i)] = srp_results_test[:, i - 1]\n",
    "    \n",
    "    train['fa_' + str(i)] = fa_results_train[:, i - 1]\n",
    "    test['fa_' + str(i)] = fa_results_test[:, i - 1]"
   ]
  },
  {
   "cell_type": "code",
   "execution_count": 17,
   "metadata": {},
   "outputs": [
    {
     "data": {
      "text/plain": [
       "(4209, 476)"
      ]
     },
     "execution_count": 17,
     "metadata": {},
     "output_type": "execute_result"
    }
   ],
   "source": [
    "train.shape"
   ]
  },
  {
   "cell_type": "markdown",
   "metadata": {},
   "source": [
    "## 4. Feature Engineering"
   ]
  },
  {
   "cell_type": "markdown",
   "metadata": {},
   "source": [
    "### 4.1 Outlier Maker"
   ]
  },
  {
   "cell_type": "code",
   "execution_count": 18,
   "metadata": {
    "collapsed": true
   },
   "outputs": [],
   "source": [
    "dt_featEng = pd.read_csv(\"../../data/Mercedes_Benz_Greener_Manufacturing/data/dt_all_eng.csv\")"
   ]
  },
  {
   "cell_type": "code",
   "execution_count": 19,
   "metadata": {
    "collapsed": true
   },
   "outputs": [],
   "source": [
    "# train = pd.merge(train, dt_featEng.filter(regex = \"Outlier|ID\").iloc[:train.shape[0]], on = \"ID\")\n",
    "# test = pd.merge(test, dt_featEng.filter(regex = \"Outlier|ID\").iloc[:train.shape[0]], on = \"ID\")"
   ]
  },
  {
   "cell_type": "code",
   "execution_count": 20,
   "metadata": {},
   "outputs": [
    {
     "data": {
      "text/html": [
       "<div>\n",
       "<style>\n",
       "    .dataframe thead tr:only-child th {\n",
       "        text-align: right;\n",
       "    }\n",
       "\n",
       "    .dataframe thead th {\n",
       "        text-align: left;\n",
       "    }\n",
       "\n",
       "    .dataframe tbody tr th {\n",
       "        vertical-align: top;\n",
       "    }\n",
       "</style>\n",
       "<table border=\"1\" class=\"dataframe\">\n",
       "  <thead>\n",
       "    <tr style=\"text-align: right;\">\n",
       "      <th></th>\n",
       "      <th>TargetMean_X8</th>\n",
       "      <th>TargetMean_X6</th>\n",
       "      <th>TargetMean_X5</th>\n",
       "      <th>TargetMean_X4</th>\n",
       "      <th>TargetMean_X3</th>\n",
       "      <th>TargetMean_X2</th>\n",
       "      <th>TargetMean_X1</th>\n",
       "      <th>TargetMean_X0</th>\n",
       "      <th>ID</th>\n",
       "      <th>y</th>\n",
       "      <th>...</th>\n",
       "      <th>tsvd_14</th>\n",
       "      <th>grp_14</th>\n",
       "      <th>srp_14</th>\n",
       "      <th>fa_14</th>\n",
       "      <th>pca_15</th>\n",
       "      <th>ica_15</th>\n",
       "      <th>tsvd_15</th>\n",
       "      <th>grp_15</th>\n",
       "      <th>srp_15</th>\n",
       "      <th>fa_15</th>\n",
       "    </tr>\n",
       "  </thead>\n",
       "  <tbody>\n",
       "    <tr>\n",
       "      <th>0</th>\n",
       "      <td>100.259</td>\n",
       "      <td>97.802524</td>\n",
       "      <td>98.672500</td>\n",
       "      <td>100.658293</td>\n",
       "      <td>101.959269</td>\n",
       "      <td>97.463569</td>\n",
       "      <td>99.837365</td>\n",
       "      <td>93.724575</td>\n",
       "      <td>8210</td>\n",
       "      <td>90.13</td>\n",
       "      <td>...</td>\n",
       "      <td>-1.089070</td>\n",
       "      <td>-2035.705758</td>\n",
       "      <td>3.431159</td>\n",
       "      <td>-0.737114</td>\n",
       "      <td>1.327597</td>\n",
       "      <td>0.021382</td>\n",
       "      <td>0.409447</td>\n",
       "      <td>-439.498850</td>\n",
       "      <td>-5.718598</td>\n",
       "      <td>-0.069534</td>\n",
       "    </tr>\n",
       "    <tr>\n",
       "      <th>1</th>\n",
       "      <td>100.259</td>\n",
       "      <td>97.802524</td>\n",
       "      <td>99.901800</td>\n",
       "      <td>100.658293</td>\n",
       "      <td>101.959269</td>\n",
       "      <td>99.959925</td>\n",
       "      <td>93.723226</td>\n",
       "      <td>103.815000</td>\n",
       "      <td>2722</td>\n",
       "      <td>98.57</td>\n",
       "      <td>...</td>\n",
       "      <td>0.313065</td>\n",
       "      <td>-672.313868</td>\n",
       "      <td>0.000000</td>\n",
       "      <td>-1.043055</td>\n",
       "      <td>2.925605</td>\n",
       "      <td>0.021647</td>\n",
       "      <td>1.628252</td>\n",
       "      <td>-145.290627</td>\n",
       "      <td>-4.574878</td>\n",
       "      <td>-0.961380</td>\n",
       "    </tr>\n",
       "    <tr>\n",
       "      <th>2</th>\n",
       "      <td>100.259</td>\n",
       "      <td>97.802524</td>\n",
       "      <td>99.901800</td>\n",
       "      <td>100.658293</td>\n",
       "      <td>96.564507</td>\n",
       "      <td>99.959925</td>\n",
       "      <td>100.725237</td>\n",
       "      <td>94.618699</td>\n",
       "      <td>2651</td>\n",
       "      <td>88.57</td>\n",
       "      <td>...</td>\n",
       "      <td>-0.500457</td>\n",
       "      <td>-665.279472</td>\n",
       "      <td>0.000000</td>\n",
       "      <td>-1.118690</td>\n",
       "      <td>1.682266</td>\n",
       "      <td>0.020633</td>\n",
       "      <td>0.651891</td>\n",
       "      <td>-135.383987</td>\n",
       "      <td>-3.431159</td>\n",
       "      <td>1.383610</td>\n",
       "    </tr>\n",
       "    <tr>\n",
       "      <th>3</th>\n",
       "      <td>100.259</td>\n",
       "      <td>97.802524</td>\n",
       "      <td>100.878341</td>\n",
       "      <td>100.658293</td>\n",
       "      <td>105.114414</td>\n",
       "      <td>103.732453</td>\n",
       "      <td>101.868462</td>\n",
       "      <td>94.618699</td>\n",
       "      <td>3702</td>\n",
       "      <td>85.83</td>\n",
       "      <td>...</td>\n",
       "      <td>0.055219</td>\n",
       "      <td>-923.287466</td>\n",
       "      <td>1.143720</td>\n",
       "      <td>-1.262133</td>\n",
       "      <td>2.164055</td>\n",
       "      <td>0.018419</td>\n",
       "      <td>1.316317</td>\n",
       "      <td>-190.226807</td>\n",
       "      <td>-3.431159</td>\n",
       "      <td>-0.815756</td>\n",
       "    </tr>\n",
       "    <tr>\n",
       "      <th>4</th>\n",
       "      <td>100.259</td>\n",
       "      <td>97.802524</td>\n",
       "      <td>102.920147</td>\n",
       "      <td>100.658293</td>\n",
       "      <td>101.959269</td>\n",
       "      <td>93.803678</td>\n",
       "      <td>104.522609</td>\n",
       "      <td>95.810588</td>\n",
       "      <td>1919</td>\n",
       "      <td>90.35</td>\n",
       "      <td>...</td>\n",
       "      <td>-2.618604</td>\n",
       "      <td>-488.177756</td>\n",
       "      <td>-1.143720</td>\n",
       "      <td>-1.535628</td>\n",
       "      <td>1.643704</td>\n",
       "      <td>0.026339</td>\n",
       "      <td>1.674312</td>\n",
       "      <td>-104.007413</td>\n",
       "      <td>-5.718598</td>\n",
       "      <td>-0.005228</td>\n",
       "    </tr>\n",
       "  </tbody>\n",
       "</table>\n",
       "<p>5 rows × 476 columns</p>\n",
       "</div>"
      ],
      "text/plain": [
       "   TargetMean_X8  TargetMean_X6  TargetMean_X5  TargetMean_X4  TargetMean_X3  \\\n",
       "0        100.259      97.802524      98.672500     100.658293     101.959269   \n",
       "1        100.259      97.802524      99.901800     100.658293     101.959269   \n",
       "2        100.259      97.802524      99.901800     100.658293      96.564507   \n",
       "3        100.259      97.802524     100.878341     100.658293     105.114414   \n",
       "4        100.259      97.802524     102.920147     100.658293     101.959269   \n",
       "\n",
       "   TargetMean_X2  TargetMean_X1  TargetMean_X0    ID      y    ...     \\\n",
       "0      97.463569      99.837365      93.724575  8210  90.13    ...      \n",
       "1      99.959925      93.723226     103.815000  2722  98.57    ...      \n",
       "2      99.959925     100.725237      94.618699  2651  88.57    ...      \n",
       "3     103.732453     101.868462      94.618699  3702  85.83    ...      \n",
       "4      93.803678     104.522609      95.810588  1919  90.35    ...      \n",
       "\n",
       "    tsvd_14       grp_14    srp_14     fa_14    pca_15    ica_15   tsvd_15  \\\n",
       "0 -1.089070 -2035.705758  3.431159 -0.737114  1.327597  0.021382  0.409447   \n",
       "1  0.313065  -672.313868  0.000000 -1.043055  2.925605  0.021647  1.628252   \n",
       "2 -0.500457  -665.279472  0.000000 -1.118690  1.682266  0.020633  0.651891   \n",
       "3  0.055219  -923.287466  1.143720 -1.262133  2.164055  0.018419  1.316317   \n",
       "4 -2.618604  -488.177756 -1.143720 -1.535628  1.643704  0.026339  1.674312   \n",
       "\n",
       "       grp_15    srp_15     fa_15  \n",
       "0 -439.498850 -5.718598 -0.069534  \n",
       "1 -145.290627 -4.574878 -0.961380  \n",
       "2 -135.383987 -3.431159  1.383610  \n",
       "3 -190.226807 -3.431159 -0.815756  \n",
       "4 -104.007413 -5.718598 -0.005228  \n",
       "\n",
       "[5 rows x 476 columns]"
      ]
     },
     "execution_count": 20,
     "metadata": {},
     "output_type": "execute_result"
    }
   ],
   "source": [
    "train.head()"
   ]
  },
  {
   "cell_type": "markdown",
   "metadata": {},
   "source": [
    "### 4.2 Feature Interaction"
   ]
  },
  {
   "cell_type": "code",
   "execution_count": 21,
   "metadata": {
    "collapsed": true
   },
   "outputs": [],
   "source": [
    "# train = pd.merge(train, dt_featEng.filter(regex = \"FeatEng_FI|ID\").iloc[:train.shape[0]], on = \"ID\")\n",
    "# test = pd.merge(test, dt_featEng.filter(regex = \"FeatEng_FI|ID\").iloc[:train.shape[0]], on = \"ID\")"
   ]
  },
  {
   "cell_type": "code",
   "execution_count": 22,
   "metadata": {},
   "outputs": [
    {
     "data": {
      "text/html": [
       "<div>\n",
       "<style>\n",
       "    .dataframe thead tr:only-child th {\n",
       "        text-align: right;\n",
       "    }\n",
       "\n",
       "    .dataframe thead th {\n",
       "        text-align: left;\n",
       "    }\n",
       "\n",
       "    .dataframe tbody tr th {\n",
       "        vertical-align: top;\n",
       "    }\n",
       "</style>\n",
       "<table border=\"1\" class=\"dataframe\">\n",
       "  <thead>\n",
       "    <tr style=\"text-align: right;\">\n",
       "      <th></th>\n",
       "      <th>TargetMean_X8</th>\n",
       "      <th>TargetMean_X6</th>\n",
       "      <th>TargetMean_X5</th>\n",
       "      <th>TargetMean_X4</th>\n",
       "      <th>TargetMean_X3</th>\n",
       "      <th>TargetMean_X2</th>\n",
       "      <th>TargetMean_X1</th>\n",
       "      <th>TargetMean_X0</th>\n",
       "      <th>ID</th>\n",
       "      <th>y</th>\n",
       "      <th>...</th>\n",
       "      <th>tsvd_14</th>\n",
       "      <th>grp_14</th>\n",
       "      <th>srp_14</th>\n",
       "      <th>fa_14</th>\n",
       "      <th>pca_15</th>\n",
       "      <th>ica_15</th>\n",
       "      <th>tsvd_15</th>\n",
       "      <th>grp_15</th>\n",
       "      <th>srp_15</th>\n",
       "      <th>fa_15</th>\n",
       "    </tr>\n",
       "  </thead>\n",
       "  <tbody>\n",
       "    <tr>\n",
       "      <th>0</th>\n",
       "      <td>100.259</td>\n",
       "      <td>97.802524</td>\n",
       "      <td>98.672500</td>\n",
       "      <td>100.658293</td>\n",
       "      <td>101.959269</td>\n",
       "      <td>97.463569</td>\n",
       "      <td>99.837365</td>\n",
       "      <td>93.724575</td>\n",
       "      <td>8210</td>\n",
       "      <td>90.13</td>\n",
       "      <td>...</td>\n",
       "      <td>-1.089070</td>\n",
       "      <td>-2035.705758</td>\n",
       "      <td>3.431159</td>\n",
       "      <td>-0.737114</td>\n",
       "      <td>1.327597</td>\n",
       "      <td>0.021382</td>\n",
       "      <td>0.409447</td>\n",
       "      <td>-439.498850</td>\n",
       "      <td>-5.718598</td>\n",
       "      <td>-0.069534</td>\n",
       "    </tr>\n",
       "    <tr>\n",
       "      <th>1</th>\n",
       "      <td>100.259</td>\n",
       "      <td>97.802524</td>\n",
       "      <td>99.901800</td>\n",
       "      <td>100.658293</td>\n",
       "      <td>101.959269</td>\n",
       "      <td>99.959925</td>\n",
       "      <td>93.723226</td>\n",
       "      <td>103.815000</td>\n",
       "      <td>2722</td>\n",
       "      <td>98.57</td>\n",
       "      <td>...</td>\n",
       "      <td>0.313065</td>\n",
       "      <td>-672.313868</td>\n",
       "      <td>0.000000</td>\n",
       "      <td>-1.043055</td>\n",
       "      <td>2.925605</td>\n",
       "      <td>0.021647</td>\n",
       "      <td>1.628252</td>\n",
       "      <td>-145.290627</td>\n",
       "      <td>-4.574878</td>\n",
       "      <td>-0.961380</td>\n",
       "    </tr>\n",
       "    <tr>\n",
       "      <th>2</th>\n",
       "      <td>100.259</td>\n",
       "      <td>97.802524</td>\n",
       "      <td>99.901800</td>\n",
       "      <td>100.658293</td>\n",
       "      <td>96.564507</td>\n",
       "      <td>99.959925</td>\n",
       "      <td>100.725237</td>\n",
       "      <td>94.618699</td>\n",
       "      <td>2651</td>\n",
       "      <td>88.57</td>\n",
       "      <td>...</td>\n",
       "      <td>-0.500457</td>\n",
       "      <td>-665.279472</td>\n",
       "      <td>0.000000</td>\n",
       "      <td>-1.118690</td>\n",
       "      <td>1.682266</td>\n",
       "      <td>0.020633</td>\n",
       "      <td>0.651891</td>\n",
       "      <td>-135.383987</td>\n",
       "      <td>-3.431159</td>\n",
       "      <td>1.383610</td>\n",
       "    </tr>\n",
       "    <tr>\n",
       "      <th>3</th>\n",
       "      <td>100.259</td>\n",
       "      <td>97.802524</td>\n",
       "      <td>100.878341</td>\n",
       "      <td>100.658293</td>\n",
       "      <td>105.114414</td>\n",
       "      <td>103.732453</td>\n",
       "      <td>101.868462</td>\n",
       "      <td>94.618699</td>\n",
       "      <td>3702</td>\n",
       "      <td>85.83</td>\n",
       "      <td>...</td>\n",
       "      <td>0.055219</td>\n",
       "      <td>-923.287466</td>\n",
       "      <td>1.143720</td>\n",
       "      <td>-1.262133</td>\n",
       "      <td>2.164055</td>\n",
       "      <td>0.018419</td>\n",
       "      <td>1.316317</td>\n",
       "      <td>-190.226807</td>\n",
       "      <td>-3.431159</td>\n",
       "      <td>-0.815756</td>\n",
       "    </tr>\n",
       "    <tr>\n",
       "      <th>4</th>\n",
       "      <td>100.259</td>\n",
       "      <td>97.802524</td>\n",
       "      <td>102.920147</td>\n",
       "      <td>100.658293</td>\n",
       "      <td>101.959269</td>\n",
       "      <td>93.803678</td>\n",
       "      <td>104.522609</td>\n",
       "      <td>95.810588</td>\n",
       "      <td>1919</td>\n",
       "      <td>90.35</td>\n",
       "      <td>...</td>\n",
       "      <td>-2.618604</td>\n",
       "      <td>-488.177756</td>\n",
       "      <td>-1.143720</td>\n",
       "      <td>-1.535628</td>\n",
       "      <td>1.643704</td>\n",
       "      <td>0.026339</td>\n",
       "      <td>1.674312</td>\n",
       "      <td>-104.007413</td>\n",
       "      <td>-5.718598</td>\n",
       "      <td>-0.005228</td>\n",
       "    </tr>\n",
       "  </tbody>\n",
       "</table>\n",
       "<p>5 rows × 476 columns</p>\n",
       "</div>"
      ],
      "text/plain": [
       "   TargetMean_X8  TargetMean_X6  TargetMean_X5  TargetMean_X4  TargetMean_X3  \\\n",
       "0        100.259      97.802524      98.672500     100.658293     101.959269   \n",
       "1        100.259      97.802524      99.901800     100.658293     101.959269   \n",
       "2        100.259      97.802524      99.901800     100.658293      96.564507   \n",
       "3        100.259      97.802524     100.878341     100.658293     105.114414   \n",
       "4        100.259      97.802524     102.920147     100.658293     101.959269   \n",
       "\n",
       "   TargetMean_X2  TargetMean_X1  TargetMean_X0    ID      y    ...     \\\n",
       "0      97.463569      99.837365      93.724575  8210  90.13    ...      \n",
       "1      99.959925      93.723226     103.815000  2722  98.57    ...      \n",
       "2      99.959925     100.725237      94.618699  2651  88.57    ...      \n",
       "3     103.732453     101.868462      94.618699  3702  85.83    ...      \n",
       "4      93.803678     104.522609      95.810588  1919  90.35    ...      \n",
       "\n",
       "    tsvd_14       grp_14    srp_14     fa_14    pca_15    ica_15   tsvd_15  \\\n",
       "0 -1.089070 -2035.705758  3.431159 -0.737114  1.327597  0.021382  0.409447   \n",
       "1  0.313065  -672.313868  0.000000 -1.043055  2.925605  0.021647  1.628252   \n",
       "2 -0.500457  -665.279472  0.000000 -1.118690  1.682266  0.020633  0.651891   \n",
       "3  0.055219  -923.287466  1.143720 -1.262133  2.164055  0.018419  1.316317   \n",
       "4 -2.618604  -488.177756 -1.143720 -1.535628  1.643704  0.026339  1.674312   \n",
       "\n",
       "       grp_15    srp_15     fa_15  \n",
       "0 -439.498850 -5.718598 -0.069534  \n",
       "1 -145.290627 -4.574878 -0.961380  \n",
       "2 -135.383987 -3.431159  1.383610  \n",
       "3 -190.226807 -3.431159 -0.815756  \n",
       "4 -104.007413 -5.718598 -0.005228  \n",
       "\n",
       "[5 rows x 476 columns]"
      ]
     },
     "execution_count": 22,
     "metadata": {},
     "output_type": "execute_result"
    }
   ],
   "source": [
    "train.head()"
   ]
  },
  {
   "cell_type": "markdown",
   "metadata": {},
   "source": [
    "### 4.3 Sum Binary"
   ]
  },
  {
   "cell_type": "code",
   "execution_count": 23,
   "metadata": {
    "collapsed": true
   },
   "outputs": [],
   "source": [
    "# train = pd.merge(train, dt_featEng.filter(regex = \"FeatEng_SumBin|ID\").iloc[:train.shape[0]], on = \"ID\")\n",
    "# test = pd.merge(test, dt_featEng.filter(regex = \"FeatEng_SumBin|ID\").iloc[:train.shape[0]], on = \"ID\")"
   ]
  },
  {
   "cell_type": "markdown",
   "metadata": {},
   "source": [
    "## 5. xgboost"
   ]
  },
  {
   "cell_type": "code",
   "execution_count": 24,
   "metadata": {
    "collapsed": true
   },
   "outputs": [],
   "source": [
    "# r_2 for xgboost\n",
    "def r_2(preds, dtrain):\n",
    "    labels = dtrain.get_label()\n",
    "    return 'score', r2_score(labels, preds)\n",
    "\n",
    "# make scorer_r2\n",
    "scorer_r2 = make_scorer(r2_score)"
   ]
  },
  {
   "cell_type": "code",
   "execution_count": 25,
   "metadata": {
    "collapsed": true
   },
   "outputs": [],
   "source": [
    "y_train = train['y'].values\n",
    "y_mean = np.mean(y_train)"
   ]
  },
  {
   "cell_type": "code",
   "execution_count": 26,
   "metadata": {
    "collapsed": true
   },
   "outputs": [],
   "source": [
    "params_xgb = {\n",
    "    'n_trees': 5000,\n",
    "    'eta': 0.005,\n",
    "    'max_depth': 2,\n",
    "    'min_child_weight': 0,\n",
    "    'subsample': 0.98,\n",
    "    'objective': 'reg:linear',\n",
    "    'booster': 'gbtree',\n",
    "    'eval_metric': 'rmse',\n",
    "    'base_score': y_mean, # base prediction = mean(target)\n",
    "    'silent': 1,\n",
    "}"
   ]
  },
  {
   "cell_type": "code",
   "execution_count": 27,
   "metadata": {},
   "outputs": [],
   "source": [
    "# xgbDmatrix\n",
    "dtrain = xgb.DMatrix(train.drop('y', axis=1), y_train)\n",
    "dtest = xgb.DMatrix(test)"
   ]
  },
  {
   "cell_type": "code",
   "execution_count": 28,
   "metadata": {
    "collapsed": true
   },
   "outputs": [],
   "source": [
    "ID_test = test.ID"
   ]
  },
  {
   "cell_type": "code",
   "execution_count": 29,
   "metadata": {
    "scrolled": true
   },
   "outputs": [
    {
     "name": "stdout",
     "output_type": "stream",
     "text": [
      "[0]\ttrain-rmse:12.6442+0.0862853\ttrain-score:0.0056044+0.000127198\ttest-rmse:12.6226+0.744104\ttest-score:0.0045045+0.00143798\n",
      "[50]\ttrain-rmse:11.1571+0.106765\ttrain-score:0.225775+0.00487139\ttest-rmse:11.1259+0.874843\ttest-score:0.227859+0.0315014\n",
      "[100]\ttrain-rmse:10.149+0.124854\ttrain-score:0.359366+0.00774275\ttest-rmse:10.1071+0.991236\ttest-score:0.363307+0.0513027\n",
      "[150]\ttrain-rmse:9.48516+0.138779\ttrain-score:0.440427+0.00945935\ttest-rmse:9.43341+1.08367\ttest-score:0.445392+0.0638625\n",
      "[200]\ttrain-rmse:9.05739+0.148859\ttrain-score:0.489754+0.010502\ttest-rmse:8.99874+1.15208\ttest-score:0.495148+0.0719252\n",
      "[250]\ttrain-rmse:8.78403+0.155277\ttrain-score:0.520081+0.0110987\ttest-rmse:8.72877+1.19846\ttest-score:0.524752+0.0770362\n",
      "[300]\ttrain-rmse:8.60551+0.159302\ttrain-score:0.539384+0.0114558\ttest-rmse:8.56359+1.23002\ttest-score:0.542356+0.0804187\n",
      "[350]\ttrain-rmse:8.48365+0.16231\ttrain-score:0.552332+0.0117177\ttest-rmse:8.45789+1.2508\ttest-score:0.553429+0.0825585\n",
      "[400]\ttrain-rmse:8.39601+0.164259\ttrain-score:0.561531+0.0118709\ttest-rmse:8.38438+1.2662\ttest-score:0.561028+0.0841501\n",
      "[450]\ttrain-rmse:8.3296+0.165608\ttrain-score:0.568437+0.011966\ttest-rmse:8.33444+1.27541\ttest-score:0.566157+0.0850658\n",
      "[500]\ttrain-rmse:8.27631+0.166553\ttrain-score:0.573939+0.0120256\ttest-rmse:8.29996+1.28098\ttest-score:0.569687+0.0855789\n",
      "[550]\ttrain-rmse:8.2319+0.167272\ttrain-score:0.578498+0.0120689\ttest-rmse:8.27314+1.28522\ttest-score:0.572427+0.0859646\n",
      "[600]\ttrain-rmse:8.19435+0.167432\ttrain-score:0.582333+0.0120664\ttest-rmse:8.25029+1.28803\ttest-score:0.574762+0.0862101\n",
      "[650]\ttrain-rmse:8.16214+0.16728\ttrain-score:0.58561+0.0120184\ttest-rmse:8.23173+1.2908\ttest-score:0.576646+0.0864639\n",
      "[700]\ttrain-rmse:8.13396+0.167176\ttrain-score:0.588465+0.0119814\ttest-rmse:8.21696+1.29223\ttest-score:0.578143+0.0865923\n",
      "[750]\ttrain-rmse:8.10888+0.166838\ttrain-score:0.591+0.0119283\ttest-rmse:8.20688+1.29428\ttest-score:0.579155+0.0868029\n",
      "[800]\ttrain-rmse:8.08637+0.16673\ttrain-score:0.593267+0.0118972\ttest-rmse:8.1988+1.29479\ttest-score:0.579968+0.086872\n",
      "[850]\ttrain-rmse:8.0655+0.166667\ttrain-score:0.595363+0.0118751\ttest-rmse:8.19363+1.29562\ttest-score:0.580489+0.0869603\n",
      "[900]\ttrain-rmse:8.04573+0.166491\ttrain-score:0.597344+0.0118499\ttest-rmse:8.18942+1.29602\ttest-score:0.580909+0.087007\n",
      "[950]\ttrain-rmse:8.02682+0.165915\ttrain-score:0.599234+0.0117822\ttest-rmse:8.18654+1.29626\ttest-score:0.581202+0.0870385\n",
      "[1000]\ttrain-rmse:8.0083+0.165597\ttrain-score:0.601081+0.0117395\ttest-rmse:8.18543+1.29624\ttest-score:0.581317+0.0870391\n",
      "[1050]\ttrain-rmse:7.99061+0.164518\ttrain-score:0.602843+0.0116155\ttest-rmse:8.18392+1.29595\ttest-score:0.581469+0.0870325\n",
      "[1100]\ttrain-rmse:7.97309+0.163781\ttrain-score:0.604582+0.0115399\ttest-rmse:8.18348+1.29723\ttest-score:0.581503+0.0872051\n",
      "[1150]\ttrain-rmse:7.95662+0.163197\ttrain-score:0.606214+0.0114651\ttest-rmse:8.18285+1.29781\ttest-score:0.58156+0.0872992\n",
      "[1200]\ttrain-rmse:7.93994+0.162647\ttrain-score:0.607864+0.01139\ttest-rmse:8.18284+1.29818\ttest-score:0.581555+0.087363\n"
     ]
    }
   ],
   "source": [
    "# cv\n",
    "cv_xgb = xgb.cv(params_xgb, dtrain\n",
    "                , num_boost_round = 5000\n",
    "                , nfold = 10\n",
    "                , feval = r_2, maximize = True, early_stopping_rounds = 50\n",
    "                , show_stdv = True, verbose_eval = 50, seed = 888)"
   ]
  },
  {
   "cell_type": "code",
   "execution_count": 30,
   "metadata": {
    "collapsed": true
   },
   "outputs": [],
   "source": [
    "# train\n",
    "model_xgb = xgb.train(params_xgb, dtrain, num_boost_round = cv_xgb.shape[0])"
   ]
  },
  {
   "cell_type": "code",
   "execution_count": 31,
   "metadata": {
    "scrolled": true
   },
   "outputs": [
    {
     "data": {
      "image/png": "[encoded data removed]",
      "text/plain": [
       "<matplotlib.figure.Figure at 0x7fc55e116048>"
      ]
     },
     "metadata": {},
     "output_type": "display_data"
    }
   ],
   "source": [
    "# importance\n",
    "fig, ax = plt.subplots(figsize = (12,18))\n",
    "xgb.plot_importance(model_xgb, max_num_features = 50, height = 0.8, ax = ax)\n",
    "plt.show()"
   ]
  },
  {
   "cell_type": "code",
   "execution_count": 32,
   "metadata": {},
   "outputs": [
    {
     "data": {
      "text/plain": [
       "array([  95.02761078,  103.83172607,  104.51657104,   93.99796295,\n",
       "         95.38863373,   93.84233856,   94.45899963,  112.33719635,\n",
       "         95.56144714,  111.0843811 ], dtype=float32)"
      ]
     },
     "execution_count": 32,
     "metadata": {},
     "output_type": "execute_result"
    }
   ],
   "source": [
    "# predict\n",
    "y_test = model_xgb.predict(dtest)\n",
    "y_test[:10]"
   ]
  },
  {
   "cell_type": "code",
   "execution_count": 33,
   "metadata": {},
   "outputs": [
    {
     "data": {
      "text/html": [
       "<div>\n",
       "<style>\n",
       "    .dataframe thead tr:only-child th {\n",
       "        text-align: right;\n",
       "    }\n",
       "\n",
       "    .dataframe thead th {\n",
       "        text-align: left;\n",
       "    }\n",
       "\n",
       "    .dataframe tbody tr th {\n",
       "        vertical-align: top;\n",
       "    }\n",
       "</style>\n",
       "<table border=\"1\" class=\"dataframe\">\n",
       "  <thead>\n",
       "    <tr style=\"text-align: right;\">\n",
       "      <th></th>\n",
       "      <th>ID</th>\n",
       "      <th>y</th>\n",
       "    </tr>\n",
       "  </thead>\n",
       "  <tbody>\n",
       "    <tr>\n",
       "      <th>0</th>\n",
       "      <td>1228</td>\n",
       "      <td>95.027611</td>\n",
       "    </tr>\n",
       "    <tr>\n",
       "      <th>1</th>\n",
       "      <td>4342</td>\n",
       "      <td>103.831726</td>\n",
       "    </tr>\n",
       "    <tr>\n",
       "      <th>2</th>\n",
       "      <td>5299</td>\n",
       "      <td>104.516571</td>\n",
       "    </tr>\n",
       "    <tr>\n",
       "      <th>3</th>\n",
       "      <td>6774</td>\n",
       "      <td>93.997963</td>\n",
       "    </tr>\n",
       "    <tr>\n",
       "      <th>4</th>\n",
       "      <td>1260</td>\n",
       "      <td>95.388634</td>\n",
       "    </tr>\n",
       "  </tbody>\n",
       "</table>\n",
       "</div>"
      ],
      "text/plain": [
       "     ID           y\n",
       "0  1228   95.027611\n",
       "1  4342  103.831726\n",
       "2  5299  104.516571\n",
       "3  6774   93.997963\n",
       "4  1260   95.388634"
      ]
     },
     "execution_count": 33,
     "metadata": {},
     "output_type": "execute_result"
    }
   ],
   "source": [
    "# submit\n",
    "dt_submit = pd.DataFrame({\"ID\": ID_test, \"y\": y_test})\n",
    "dt_submit.head()"
   ]
  },
  {
   "cell_type": "code",
   "execution_count": 35,
   "metadata": {},
   "outputs": [
    {
     "data": {
      "text/plain": [
       "(4209, 2)"
      ]
     },
     "execution_count": 35,
     "metadata": {},
     "output_type": "execute_result"
    }
   ],
   "source": [
    "dt_submit.shape"
   ]
  },
  {
   "cell_type": "code",
   "execution_count": 34,
   "metadata": {
    "collapsed": true
   },
   "outputs": [],
   "source": [
    "dt_submit.to_csv(\"../../data/Mercedes_Benz_Greener_Manufacturing/submission/18_targetMean_full_add_to_kernel.csv\", index = False)"
   ]
  }
 ],
 "metadata": {
  "kernelspec": {
   "display_name": "Python 3",
   "language": "python",
   "name": "python3"
  },
  "language_info": {
   "codemirror_mode": {
    "name": "ipython",
    "version": 3
   },
   "file_extension": ".py",
   "mimetype": "text/x-python",
   "name": "python",
   "nbconvert_exporter": "python",
   "pygments_lexer": "ipython3",
   "version": "3.5.2"
  }
 },
 "nbformat": 4,
 "nbformat_minor": 2
}
